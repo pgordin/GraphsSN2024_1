{
  "nbformat": 4,
  "nbformat_minor": 0,
  "metadata": {
    "colab": {
      "provenance": []
    },
    "kernelspec": {
      "name": "python3",
      "display_name": "Python 3"
    },
    "language_info": {
      "name": "python"
    }
  },
  "cells": [
    {
      "cell_type": "markdown",
      "source": [
        "# **Fleury's Algorithm**\n",
        "\n",
        "Description\n",
        "\n",
        "\n",
        "Fleury's algorithm is a straightforward method to find an Eulerian tour in a graph. It starts from a vertex and builds the tour step-by-step, ensuring that bridges (edges whose removal would disconnect the graph) are only crossed when absolutely necessary.\n",
        "\n",
        "\n",
        "Implementation Steps\n",
        "\n",
        "Check if the graph is Eulerian (all vertices have even degrees and the graph is connected).\n",
        "\n",
        "Start from any vertex with a non-zero degree.\n",
        "\n",
        "For each edge, check if it is a bridge. If it is, avoid it unless no alternative exists.\n",
        "\n",
        "Remove the edge from the graph and repeat until all edges are traversed.\n",
        "\n",
        "\n",
        "\n",
        "Fleury's algorithm is intuitive and easy to follow, making it ideal for understanding the principles of Eulerian tours. The focus on avoiding bridges minimizes the risk of prematurely disconnecting the graph, ensuring a complete traversal.\n",
        "\n",
        "\n",
        "\n",
        "Example\n",
        "\n",
        "Graph: A rectangle (4 vertices, 4 edges forming a closed loop).\n",
        "\n",
        "Start at any vertex (e.g., A).\n",
        "\n",
        "Follow an edge to an adjacent vertex (e.g., A → B).\n",
        "\n",
        "Continue to another vertex (e.g., B → C, C → D).\n",
        "\n",
        "Complete the traversal by returning to the starting vertex (e.g., D → A).\n",
        "\n",
        "The traversal forms the Eulerian tour: A → B → C → D → A."
      ],
      "metadata": {
        "id": "w2w8wDm_eGaU"
      }
    },
    {
      "cell_type": "code",
      "source": [
        "import networkx as nx\n",
        "import matplotlib.pyplot as plt\n",
        "from collections import defaultdict"
      ],
      "metadata": {
        "id": "6usGOQY5R-TU"
      },
      "execution_count": 1,
      "outputs": []
    },
    {
      "cell_type": "code",
      "source": [
        "# checking if an edge is valid for the Eulerian circuit\n",
        "def is_valid_next_edge(graph, u, v):\n",
        "    if len(graph[u]) == 1:  # if its the only one edge left, it must be valid\n",
        "        return True\n",
        "\n",
        "    # counting how many reachable nodes (vertices) there are before removing the edge\n",
        "    visited = set()\n",
        "    dfs(graph, u, visited)\n",
        "    count_before = len(visited)\n",
        "\n",
        "    # temporarily removing the edge\n",
        "    graph[u].remove(v)\n",
        "    graph[v].remove(u)\n",
        "\n",
        "    # count how many reachable nodes there are left after removing the edge\n",
        "    visited = set()\n",
        "    dfs(graph, u, visited)\n",
        "    count_after = len(visited)\n",
        "\n",
        "    # restoring the edge\n",
        "    graph[u].append(v)\n",
        "    graph[v].append(u)\n",
        "\n",
        "    # the edge is valid if removing it does not break connectivity\n",
        "    return count_before == count_after\n"
      ],
      "metadata": {
        "id": "L4V7GOqzR_ID"
      },
      "execution_count": 2,
      "outputs": []
    },
    {
      "cell_type": "code",
      "source": [
        "# performing a depth-first search (DFS) to count reachable nodes\n",
        "def dfs(graph, node, visited):\n",
        "    visited.add(node)\n",
        "    for neighbor in graph[node]:\n",
        "        if neighbor not in visited:\n",
        "            dfs(graph, neighbor, visited)\n"
      ],
      "metadata": {
        "id": "m8F9pi4ISB1w"
      },
      "execution_count": 3,
      "outputs": []
    },
    {
      "cell_type": "code",
      "source": [
        "# creating Eulerian circuit using Fleury's Algorithm\n",
        "def fleury_algorithm(graph, start):\n",
        "    circuit = []\n",
        "    current = start\n",
        "    while any(graph.values()):  # while there are edges still left in the graph\n",
        "        for neighbor in graph[current]:\n",
        "            if is_valid_next_edge(graph, current, neighbor):\n",
        "                circuit.append((current, neighbor))  # adding edge to circuit\n",
        "                graph[current].remove(neighbor)  # removing edge from the graph\n",
        "                graph[neighbor].remove(current)\n",
        "                current = neighbor  # moving to the next vertex\n",
        "                break\n",
        "    return circuit\n"
      ],
      "metadata": {
        "id": "gxrEB_UkSJQQ"
      },
      "execution_count": 4,
      "outputs": []
    },
    {
      "cell_type": "code",
      "source": [
        "# visualizing the graph and the Eulerian circuit\n",
        "def visualize_graph(edges, circuit):\n",
        "    G = nx.Graph()  # creating an undirected graph for edges\n",
        "    G.add_edges_from(edges)\n",
        "\n",
        "    circuit_graph = nx.Graph()  # creating a graph for the circuit\n",
        "    circuit_graph.add_edges_from(circuit)\n",
        "\n",
        "    pos = nx.spring_layout(G)  # computing the positions of the nodes for visualization\n",
        "    plt.figure(figsize=(4, 3))\n",
        "    nx.draw(G, pos, with_labels=True, node_color='lightblue', edge_color='gray', node_size=700)\n",
        "    nx.draw_networkx_edges(circuit_graph, pos, edgelist=circuit, edge_color='red', width=2, arrows=True)\n",
        "    plt.title(\"Eulerian Circuit (Fleury's)\")\n",
        "    plt.show()\n"
      ],
      "metadata": {
        "id": "VJ5caTXzSJ31"
      },
      "execution_count": 5,
      "outputs": []
    },
    {
      "cell_type": "code",
      "source": [
        "# defining the graph and compute Eulerian circuit\n",
        "if __name__ == \"__main__\":\n",
        "    # defining the edges of the graph\n",
        "    edges = [\n",
        "        (0, 1), (1, 2), (2, 3), (3, 4), (4, 5), (5, 0),\n",
        "        (0, 2), (2, 4), (4, 0), (1, 3), (3, 5), (5, 1)\n",
        "    ]\n",
        "\n",
        "    # building the graph as an adjacency list\n",
        "    graph = defaultdict(list)\n",
        "    for u, v in edges:\n",
        "        graph[u].append(v)\n",
        "        graph[v].append(u)\n",
        "\n",
        "    # ensuring all vertices have even degrees by adding edges if necessary\n",
        "    odd_vertices = [v for v in graph if len(graph[v]) % 2 != 0]\n",
        "    while len(odd_vertices) > 1:\n",
        "        u = odd_vertices.pop()\n",
        "        v = odd_vertices.pop()\n",
        "        graph[u].append(v)\n",
        "        graph[v].append(u)\n",
        "\n",
        "    # Eulerian circuit using Fleury's algorithm\n",
        "    eulerian_circuit = fleury_algorithm(graph, start=0)\n",
        "    print(\"Eulerian Circuit:\", eulerian_circuit)\n",
        "\n",
        "    # visualizing the graph and the Eulerian circuit\n",
        "    visualize_graph(edges, eulerian_circuit)\n"
      ],
      "metadata": {
        "colab": {
          "base_uri": "https://localhost:8080/",
          "height": 376
        },
        "id": "8ybI91gMSNn1",
        "outputId": "ec46da52-6aae-4e26-a5f1-a658ee87f7d0"
      },
      "execution_count": 6,
      "outputs": [
        {
          "output_type": "stream",
          "name": "stdout",
          "text": [
            "Eulerian Circuit: [(0, 1), (1, 2), (2, 3), (3, 4), (4, 5), (5, 1), (1, 3), (3, 5), (5, 0), (0, 2), (2, 4), (4, 0)]\n"
          ]
        },
        {
          "output_type": "display_data",
          "data": {
            "text/plain": [
              "<Figure size 400x300 with 1 Axes>"
            ],
            "image/png": "[encoded data removed]"
          },
          "metadata": {}
        }
      ]
    },
    {
      "cell_type": "markdown",
      "source": [
        "# **Depth-First Search (DFS) Approach**\n",
        "\n",
        "Description\n",
        "\n",
        "The DFS approach is a recursive or stack-based method that traverses the graph while constructing the Eulerian tour. It ensures all edges are visited exactly once and is particularly efficient when implemented correctly.\n",
        "\n",
        "Implementation Steps\n",
        "\n",
        "Check if the graph is Eulerian (all vertices have even degrees and the graph is connected).\n",
        "\n",
        "Start from any vertex with a non-zero degree.\n",
        "\n",
        "Use a recursive DFS to traverse edges.\n",
        "\n",
        "Remove each edge as it is visited.\n",
        "\n",
        "Backtrack when no more edges are available from the current vertex.\n",
        "\n",
        "\n",
        "The DFS method is computationally efficient, especially for dense graphs. It systematically explores paths and naturally handles cycles by backtracking, making it well-suited for programmatic implementation.\n",
        "\n",
        "Example\n",
        "\n",
        "Graph: Same as above. (a rectangle)\n",
        "\n",
        "Start at vertex A.\n",
        "\n",
        "Recursively traverse edges (e.g., A → B → C → D).\n",
        "\n",
        "Backtrack to explore remaining edges if needed.\n",
        "\n",
        "Complete the traversal (e.g., D → A).\n",
        "\n",
        "Collect the tour in reverse order during backtracking (D → C → B → A)."
      ],
      "metadata": {
        "id": "r1j0QxWwhVCs"
      }
    },
    {
      "cell_type": "code",
      "source": [
        "# DFS-based Eulerian circuit traversal\n",
        "def find_eulerian_tour(graph, start_node):\n",
        "\n",
        "    tour = []  # storing the Eulerian tour\n",
        "    stack = [start_node]\n",
        "    local_graph = nx.Graph(graph)  # copy the graph for traversal\n",
        "\n",
        "    while stack:\n",
        "        current = stack[-1]\n",
        "        if local_graph.degree[current] > 0:\n",
        "            # traversing the first available edge\n",
        "            neighbor = next(iter(local_graph.neighbors(current)))\n",
        "            stack.append(neighbor)\n",
        "            local_graph.remove_edge(current, neighbor)\n",
        "        else:\n",
        "            # backtracking and record the node in the tour\n",
        "            tour.append(stack.pop())\n",
        "    return tour\n"
      ],
      "metadata": {
        "id": "aMgiQDSvV5Qq"
      },
      "execution_count": 40,
      "outputs": []
    },
    {
      "cell_type": "code",
      "source": [
        "# creating an Eulerian graph\n",
        "G = nx.Graph()\n",
        "\n",
        "# adding edges to form an Eulerian graph\n",
        "edges = [\n",
        "    (0, 1), (1, 2), (2, 3), (3, 4), (4, 5), (5, 0),  # cycle\n",
        "    (1, 3), (3, 5), (5, 0), (0, 2), (2, 4), (4, 0), (1, 5)  # additional edges\n",
        "]\n",
        "G.add_edges_from(edges)\n"
      ],
      "metadata": {
        "id": "Mt6L_tobWWSP"
      },
      "execution_count": 41,
      "outputs": []
    },
    {
      "cell_type": "code",
      "source": [
        "# Eulerian circuit using DFS\n",
        "start_node = 0  # starting vertex for the Eulerian circuit\n",
        "dfs_eulerian_tour = find_eulerian_tour(G, start_node)\n",
        "\n",
        "# creating the edge representation of the circuit\n",
        "eulerian_circuit = [(dfs_eulerian_tour[i], dfs_eulerian_tour[i + 1]) for i in range(len(dfs_eulerian_tour) - 1)]\n"
      ],
      "metadata": {
        "id": "NNySoqpwYjrr"
      },
      "execution_count": 42,
      "outputs": []
    },
    {
      "cell_type": "code",
      "source": [
        "# visualization of the Eulerian circuit\n",
        "pos = nx.circular_layout(G)  # arranging nodes in a circle for clarity\n",
        "plt.figure(figsize=(4, 3))\n",
        "\n",
        "# drawing all edges and nodes\n",
        "nx.draw(G, pos, with_labels=True, node_color='lightblue', node_size=1000, edge_color='gray', font_size=10, font_weight='bold')\n",
        "\n",
        "# highlighting the Eulerian circuit\n",
        "nx.draw_networkx_edges(\n",
        "    G, pos, edgelist=eulerian_circuit, edge_color='red', width=2.5\n",
        ")\n",
        "\n",
        "print(f\"Eulerian Circuit: {eulerian_circuit}\")\n",
        "\n",
        "plt.title(\"Eulerian Circuit (DFS)\", fontsize=18)\n",
        "plt.show()\n"
      ],
      "metadata": {
        "colab": {
          "base_uri": "https://localhost:8080/",
          "height": 381
        },
        "id": "YBhg1yNYWbei",
        "outputId": "c380aec0-aa72-418b-9c93-27864e57e4d8"
      },
      "execution_count": 43,
      "outputs": [
        {
          "output_type": "stream",
          "name": "stdout",
          "text": [
            "Eulerian Circuit: [(0, 4), (4, 5), (5, 3), (3, 4), (4, 2), (2, 3), (3, 1), (1, 5), (5, 0), (0, 2), (2, 1), (1, 0)]\n"
          ]
        },
        {
          "output_type": "display_data",
          "data": {
            "text/plain": [
              "<Figure size 400x300 with 1 Axes>"
            ],
            "image/png": "[encoded data removed]"
          },
          "metadata": {}
        }
      ]
    }
  ]
}
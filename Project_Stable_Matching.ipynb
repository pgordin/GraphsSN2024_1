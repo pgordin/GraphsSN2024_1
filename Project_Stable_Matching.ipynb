{
  "nbformat": 4,
  "nbformat_minor": 0,
  "metadata": {
    "colab": {
      "provenance": []
    },
    "kernelspec": {
      "name": "python3",
      "display_name": "Python 3"
    },
    "language_info": {
      "name": "python"
    }
  },
  "cells": [
    {
      "cell_type": "code",
      "execution_count": null,
      "metadata": {
        "colab": {
          "base_uri": "https://localhost:8080/"
        },
        "id": "_yBPJo4oL7uQ",
        "outputId": "d44ecf33-7d4f-4648-d9e7-75e80f7da85e"
      },
      "outputs": [
        {
          "output_type": "stream",
          "name": "stdout",
          "text": [
            "Stable matchings:\n",
            "Man1 → Woman1\n",
            "Man2 → Woman2\n",
            "Man3 → Woman3\n"
          ]
        }
      ],
      "source": [
        "'''\n",
        "### Introduction to Stable Matching\n",
        "\n",
        "The **Stable Matching Problem** involves finding a stable way to pair members of two groups (e.g., men and women) based on their preferences. Stability means there are no two individuals who would prefer each other over their current partners, avoiding so-called **blocking pairs**.\n",
        "\n",
        "This problem is often modeled using a bipartite graph, where edges represent preferences between the two groups. A solution ensures that everyone is matched in a way that satisfies stability.\n",
        "\n",
        "#### Gale-Shapley Algorithm\n",
        "The **Gale-Shapley algorithm** solves this problem efficiently:\n",
        "1. One group (e.g., men) proposes to their most preferred partner.\n",
        "2. The other group (e.g., women) tentatively accepts the best proposal while rejecting less preferred ones.\n",
        "3. The process continues until no unmatched individuals remain.\n",
        "\n",
        "This algorithm guarantees a **stable matching**, is efficient (\\(O(n^2)\\)), and is widely used in practical applications like university admissions and job markets.\n",
        "'''\n",
        "### Implementation of the Gale-Shapley algorithm for stable matching\n",
        "\n",
        "def stable_matching(men_preferences, women_preferences):\n",
        "    \"\"\"\n",
        "    Implements the Gale-Shapley algorithm to solve the stable matching problem.\n",
        "\n",
        "    Args:\n",
        "        men_preferences (dict): A dictionary where the keys are men and the values are preference lists.\n",
        "        women_preferences (dict): A dictionary where the keys are women and the values are preference lists.\n",
        "\n",
        "    Returns:\n",
        "        dict: A dictionary with the man-woman matchings.\n",
        "    \"\"\"\n",
        "    # Initialize all men as single\n",
        "    free_men = list(men_preferences.keys())\n",
        "    # Dictionary to track the proposals made by each man\n",
        "    proposals = {man: [] for man in men_preferences}\n",
        "    # Dictionary to store the current matchings\n",
        "    matches = {}\n",
        "\n",
        "    # Create an inverse dictionary for women's preferences\n",
        "    '''\n",
        "    women_preferences.items() iterates over each woman and her preference list. Example: \"Woman1\": [\"Man3\", \"Man1\", \"Man2\"].\n",
        "    For each woman, enumerate(preferences) assigns an index to each man in the preference list. Result of enumerate: [(\"Man3\", 0), (\"Man1\", 1), (\"Man2\", 2)].\n",
        "    A dictionary is constructed where the key is the man and the value is his index.\n",
        "    All this is stored in a general dictionary women_rank, which contains the inverted preferences for all women.\n",
        "    '''\n",
        "    women_rank = {\n",
        "        woman: {man: rank for rank, man in enumerate(preferences)}\n",
        "        for woman, preferences in women_preferences.items()\n",
        "    }\n",
        "\n",
        "    while free_men:\n",
        "        man = free_men.pop(0)  # Select a free man\n",
        "        # Look for the most preferred woman he hasn't proposed to yet\n",
        "        for woman in men_preferences[man]:\n",
        "            if woman not in proposals[man]:\n",
        "                proposals[man].append(woman)  # Record the proposal\n",
        "                # If the woman is free, pair them\n",
        "                if woman not in matches:\n",
        "                    matches[woman] = man\n",
        "                else:\n",
        "                    # If she is paired, check if she prefers the new man\n",
        "                    current_partner = matches[woman]\n",
        "                    if women_rank[woman][man] < women_rank[woman][current_partner]:\n",
        "                        matches[woman] = man  # Change partner\n",
        "                        free_men.append(current_partner)  # The previous partner becomes free\n",
        "                    else:\n",
        "                        free_men.append(man)  # The man remains free\n",
        "                break\n",
        "\n",
        "    # Return the matchings in man-woman format\n",
        "    return {man: woman for woman, man in matches.items()}\n",
        "\n",
        "# Practical example\n",
        "men_preferences = {\n",
        "    \"Man1\": [\"Woman1\", \"Woman2\", \"Woman3\"],\n",
        "    \"Man2\": [\"Woman2\", \"Woman3\", \"Woman1\"],\n",
        "    \"Man3\": [\"Woman3\", \"Woman1\", \"Woman2\"],\n",
        "}\n",
        "\n",
        "women_preferences = {\n",
        "    \"Woman1\": [\"Man3\", \"Man1\", \"Man2\"],\n",
        "    \"Woman2\": [\"Man1\", \"Man2\", \"Man3\"],\n",
        "    \"Woman3\": [\"Man2\", \"Man3\", \"Man1\"],\n",
        "}\n",
        "\n",
        "# Stable matching\n",
        "result = stable_matching(men_preferences, women_preferences)\n",
        "\n",
        "print(\"Stable matchings:\")\n",
        "for man, woman in result.items():\n",
        "    print(f\"{man} → {woman}\")"
      ]
    }
  ]
}
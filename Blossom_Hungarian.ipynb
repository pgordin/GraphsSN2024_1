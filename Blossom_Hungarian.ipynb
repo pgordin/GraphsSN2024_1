{
  "nbformat": 4,
  "nbformat_minor": 0,
  "metadata": {
    "colab": {
      "provenance": []
    },
    "kernelspec": {
      "name": "python3",
      "display_name": "Python 3"
    },
    "language_info": {
      "name": "python"
    }
  },
  "cells": [
    {
      "cell_type": "code",
      "execution_count": null,
      "metadata": {
        "id": "ElyKhJeRviJ6"
      },
      "outputs": [],
      "source": [
        "import numpy as np\n",
        "from collections import deque"
      ]
    },
    {
      "cell_type": "markdown",
      "source": [
        "# Hungarian Algorithm"
      ],
      "metadata": {
        "id": "XD3y7erpG6CE"
      }
    },
    {
      "cell_type": "code",
      "source": [
        "class HungarianAlgorithmGraph:\n",
        "    def __init__(self, cost_matrix):\n",
        "        \"\"\"\n",
        "        Initialize the HungarianAlgorithmGraph with a cost matrix.\n",
        "        param cost_matrix: A square matrix where cost_matrix[u][v] represents the cost of assigning u to v.\n",
        "        \"\"\"\n",
        "        self.cost_matrix = cost_matrix  # The cost matrix for the assignment problem\n",
        "        self.n = len(cost_matrix)  # Number of nodes in each set (U and V)\n",
        "        self.U = set(range(self.n))  # Set of nodes in U\n",
        "        self.V = set(range(self.n))  # Set of nodes in V\n",
        "        self.matching = {}  # Dictionary to store the current matching\n",
        "        self.labels_u = [0] * self.n  # Labels for nodes in U\n",
        "        self.labels_v = [0] * self.n  # Labels for nodes in V\n",
        "        self.slack = [float('inf')] * self.n  # Slack values for nodes in V\n",
        "\n",
        "    def initialize_labels(self):\n",
        "        \"\"\"\n",
        "        Initialize labels for U and V.\n",
        "        Labels for U are set to the maximum cost in each row of the cost matrix,\n",
        "        and labels for V are initialized to 0.\n",
        "        \"\"\"\n",
        "        for u in range(self.n):\n",
        "            self.labels_u[u] = max(self.cost_matrix[u])  # Max weight in row u for label_u[u]\n",
        "\n",
        "    def find_augmenting_path(self, u, visited_u, visited_v, parent):\n",
        "        \"\"\"\n",
        "        Attempt to find an augmenting path starting from node u in U.\n",
        "        -param u: Current node in U\n",
        "        -param visited_u: List tracking visited nodes in U\n",
        "        -param visited_v: List tracking visited nodes in V\n",
        "        -param parent: Parent array to reconstruct paths        \"\"\"\n",
        "        visited_u[u] = True  # Mark the current node in U as visited\n",
        "        for v in range(self.n):  # Iterate over nodes in V\n",
        "            if visited_v[v]:  # Skip if node v is already visited\n",
        "                continue\n",
        "            # Compute the reduced cost for edge (u, v)\n",
        "            delta = self.labels_u[u] + self.labels_v[v] - self.cost_matrix[u][v]\n",
        "            if delta == 0:  # If edge (u, v) is in the equality graph\n",
        "                visited_v[v] = True  # Mark v as visited\n",
        "                # If v is unmatched or we can find an augmenting path from its match\n",
        "                if v not in self.matching or self.find_augmenting_path(self.matching[v], visited_u, visited_v, parent):\n",
        "                    self.matching[v] = u  # Match u with v\n",
        "                    return True\n",
        "            else:\n",
        "                # Update the slack for node v\n",
        "                self.slack[v] = min(self.slack[v], delta)\n",
        "        return False  # No augmenting path found\n",
        "\n",
        "    def update_labels(self, visited_u, visited_v):\n",
        "        \"\"\"\n",
        "        Update labels for U and V to reduce slack and maintain feasibility.\n",
        "        -param visited_u: List tracking visited nodes in U\n",
        "        -param visited_v: List tracking visited nodes in V\n",
        "        \"\"\"\n",
        "        # Compute the smallest slack value\n",
        "        delta = min(self.slack[v] for v in range(self.n) if not visited_v[v])\n",
        "        # Update labels for visited nodes in U and V\n",
        "        for u in range(self.n):\n",
        "            if visited_u[u]:\n",
        "                self.labels_u[u] -= delta\n",
        "        for v in range(self.n):\n",
        "            if visited_v[v]:\n",
        "                self.labels_v[v] += delta\n",
        "            else:\n",
        "                self.slack[v] -= delta\n",
        "\n",
        "    def augment(self):\n",
        "        \"\"\"\n",
        "        Perform augmentation for each node in U to construct the optimal matching.\n",
        "        \"\"\"\n",
        "        for u in range(self.n):  # Iterate over all nodes in U\n",
        "            visited_u = [False] * self.n  # Reset visited for U\n",
        "            visited_v = [False] * self.n  # Reset visited for V\n",
        "            self.slack = [float('inf')] * self.n  # Reset slack values\n",
        "            # Repeat until an augmenting path is found for u\n",
        "            while not self.find_augmenting_path(u, visited_u, visited_v, {}):\n",
        "                self.update_labels(visited_u, visited_v)  # Update labels if no path is found\n",
        "                visited_u = [False] * self.n  # Reset visited for U\n",
        "                visited_v = [False] * self.n  # Reset visited for V\n",
        "\n",
        "    def solve(self):\n",
        "        \"\"\"\n",
        "        Solve the assignment problem using the Hungarian algorithm.\n",
        "        return: A list of optimal assignments and the total cost.\n",
        "        \"\"\"\n",
        "        self.initialize_labels()  # Step 1: Initialize labels\n",
        "        self.augment()  # Step 2: Find optimal matching through augmentation\n",
        "        # Extract the resulting matching\n",
        "        result = [(self.matching[v], v) for v in self.matching]\n",
        "        # Compute the total cost of the matching\n",
        "        optimal_cost = sum(self.cost_matrix[u][v] for u, v in result)\n",
        "        return result, optimal_cost"
      ],
      "metadata": {
        "id": "GUCbyfOvvjoV"
      },
      "execution_count": null,
      "outputs": []
    },
    {
      "cell_type": "code",
      "source": [
        "cost_matrix = np.array([\n",
        "    [4, 2, 8],  # Costs for assignments of u_0\n",
        "    [2, 3, 7],  # Costs for assignments of u_1\n",
        "    [3, 1, 6]   # Costs for assignments of u_2\n",
        "])\n",
        "\n",
        "# Instantiate the HungarianAlgorithmGraph class\n",
        "hungarian = HungarianAlgorithmGraph(cost_matrix)\n",
        "assignment, cost = hungarian.solve()\n",
        "\n",
        "# Output the results\n",
        "print(\"Optimal Assignment:\", assignment)  # Matching pairs (u, v)\n",
        "print(\"Optimal Cost:\", cost)  # Total cost of the optimal matching"
      ],
      "metadata": {
        "colab": {
          "base_uri": "https://localhost:8080/"
        },
        "id": "UPzmGXcJvk_0",
        "outputId": "3ab6c11d-992b-4c1f-f59b-145b6f3210c3"
      },
      "execution_count": null,
      "outputs": [
        {
          "output_type": "stream",
          "name": "stdout",
          "text": [
            "Optimal Assignment: [(0, 2), (1, 1), (2, 0)]\n",
            "Optimal Cost: 14\n"
          ]
        }
      ]
    },
    {
      "cell_type": "markdown",
      "source": [
        "# Blossom Algorithm"
      ],
      "metadata": {
        "id": "tAwmo8p7G2PS"
      }
    },
    {
      "cell_type": "code",
      "source": [
        "class BlossomAlgorithmWithHungarian:\n",
        "    def __init__(self, cost_matrix):\n",
        "        self.cost_matrix = np.array(cost_matrix)\n",
        "        self.n = len(cost_matrix)\n",
        "        self.matching = [-1] * self.n\n",
        "        self.labels = [-1] * self.n\n",
        "        self.parent = [-1] * self.n\n",
        "        self.base = list(range(self.n))\n",
        "\n",
        "    def find_lowest_common_ancestor(self, u, v):\n",
        "        visited = [False] * self.n\n",
        "        while True:\n",
        "            u = self.base[u]\n",
        "            visited[u] = True\n",
        "            if self.matching[u] == -1:\n",
        "                break\n",
        "            u = self.parent[self.matching[u]]\n",
        "        while True:\n",
        "            v = self.base[v]\n",
        "            if visited[v]:\n",
        "                return v\n",
        "            v = self.parent[self.matching[v]]\n",
        "\n",
        "    def mark_blossom(self, u, v, lca):\n",
        "        while self.base[u] != lca:\n",
        "            self.parent[u] = v\n",
        "            v = self.matching[u]\n",
        "            if self.labels[v] == 1:\n",
        "                self.labels[v] = 0\n",
        "                self.parent[v] = u\n",
        "            self.base[u] = self.base[v] = lca\n",
        "            u = self.parent[self.matching[v]]\n",
        "\n",
        "    def bfs(self, start):\n",
        "        \"\"\"\n",
        "        Perform BFS to find an augmenting path starting from the node `start`.\n",
        "        \"\"\"\n",
        "        queue = deque([start])\n",
        "        self.labels = [-1] * self.n  # Reset labels: -1 means unvisited\n",
        "        self.parent = [-1] * self.n  # Reset parent: -1 means no parent\n",
        "        self.base = list(range(self.n))  # Each node is its own base initially\n",
        "        self.labels[start] = 0  # Mark start node with label 0 (even)\n",
        "\n",
        "        while queue:\n",
        "            u = queue.popleft()\n",
        "\n",
        "            # Explore all neighbors of u\n",
        "            for v in range(self.n):\n",
        "                if self.cost_matrix[u][v] > 0 and self.labels[v] == -1:\n",
        "                    # If v is unmatched and we find an augmenting path\n",
        "                    if self.matching[v] == -1:\n",
        "                        self.parent[v] = u\n",
        "                        self.augment_path(v)\n",
        "                        return True\n",
        "                    # If v is matched and the match is unvisited, continue exploring\n",
        "                    elif self.labels[self.matching[v]] == -1:\n",
        "                        self.labels[v] = 1  # Mark v with label 1 (odd)\n",
        "                        self.parent[v] = u\n",
        "                        queue.append(self.matching[v])\n",
        "                        self.labels[self.matching[v]] = 0  # Mark the matched node with label 0 (even)\n",
        "                    # If u and v are in different alternating trees, check for a blossom\n",
        "                    elif self.base[u] != self.base[v]:\n",
        "                        # Find the least common ancestor of u and v\n",
        "                        lca = self.find_lowest_common_ancestor(u, v)\n",
        "                        # Mark both u and v as part of the blossom\n",
        "                        self.mark_blossom(u, v, lca)\n",
        "                        self.mark_blossom(v, u, lca)\n",
        "\n",
        "        return False  # No augmenting path found\n",
        "\n",
        "    def augment_path(self, u):\n",
        "        \"\"\"\n",
        "        Augment the matching along the alternating path ending at u.\n",
        "        This is the part where the matching is flipped (augmented).\n",
        "        \"\"\"\n",
        "        while u != -1:\n",
        "            v = self.parent[u]\n",
        "            w = self.matching[v]\n",
        "            self.matching[u] = v\n",
        "            self.matching[v] = u\n",
        "            u = w\n",
        "\n",
        "    def solve_bipartite(self):\n",
        "        hungarian_solver = HungarianAlgorithmGraph(self.cost_matrix)\n",
        "        matching, _ = hungarian_solver.solve()\n",
        "        print(f\"Hungarian Algorithm Matching: {matching}\")\n",
        "        for u, v in matching:\n",
        "            self.matching[u] = v\n",
        "            self.matching[v] = u\n",
        "\n",
        "    def solve_general(self):\n",
        "        for u in range(self.n):\n",
        "            if self.matching[u] == -1:\n",
        "                if self.bfs(u):\n",
        "                    print(f\"Augmenting path found starting from node {u}\")\n",
        "                else:\n",
        "                    print(f\"No augmenting path found starting from node {u}\")\n",
        "\n",
        "    def solve(self, bipartite=True):\n",
        "        if bipartite:\n",
        "            self.solve_bipartite()\n",
        "        else:\n",
        "            self.solve_general()\n",
        "        return [(u, v) for u, v in enumerate(self.matching) if u < v and self.matching[u] != -1]\n"
      ],
      "metadata": {
        "id": "cxRvf1ktvn__"
      },
      "execution_count": null,
      "outputs": []
    },
    {
      "cell_type": "code",
      "source": [
        "cost_matrix = np.array([\n",
        "    [4, 2, 8],\n",
        "    [2, 3, 7],\n",
        "    [3, 1, 6]\n",
        "])\n",
        "\n",
        "blossom_solver = BlossomAlgorithmWithHungarian(cost_matrix)\n",
        "max_matching = blossom_solver.solve(bipartite=True)\n",
        "print(\"Maximum Matching:\", max_matching)"
      ],
      "metadata": {
        "colab": {
          "base_uri": "https://localhost:8080/"
        },
        "id": "svSOSWy7vor7",
        "outputId": "ebb88565-809d-49e8-c78e-d910e37aee43"
      },
      "execution_count": null,
      "outputs": [
        {
          "output_type": "stream",
          "name": "stdout",
          "text": [
            "Hungarian Algorithm Matching: [(0, 2), (1, 1), (2, 0)]\n",
            "Maximum Matching: [(0, 2)]\n"
          ]
        }
      ]
    },
    {
      "cell_type": "code",
      "source": [
        "cost_matrix = np.array([\n",
        "    [0, 1, 1, 0, 0],  # Node 0 connected to 1 and 2\n",
        "    [1, 0, 1, 1, 0],  # Node 1 connected to 0, 2, and 3\n",
        "    [1, 1, 0, 0, 0],  # Node 2 connected to 0, 1\n",
        "    [0, 1, 0, 0, 1],  # Node 3 connected to 1 and 4\n",
        "    [0, 0, 0, 1, 0]   # Node 4 connected to 3\n",
        "])\n",
        "\n",
        "blossom_solver = BlossomAlgorithmWithHungarian(cost_matrix)\n",
        "max_matching = blossom_solver.solve(bipartite=False)\n",
        "print(\"Maximum Matching:\", max_matching)"
      ],
      "metadata": {
        "colab": {
          "base_uri": "https://localhost:8080/"
        },
        "id": "fEcNMB6hLJqr",
        "outputId": "05c9e5f0-1d2a-4d12-e118-a51762ff810c"
      },
      "execution_count": null,
      "outputs": [
        {
          "output_type": "stream",
          "name": "stdout",
          "text": [
            "Augmenting path found starting from node 0\n",
            "Augmenting path found starting from node 2\n",
            "No augmenting path found starting from node 4\n",
            "Maximum Matching: [(0, 2), (1, 3)]\n"
          ]
        }
      ]
    },
    {
      "cell_type": "code",
      "source": [
        "cost_matrix = np.array([\n",
        "    [0, 1, 0, 0, 0, 0, 0, 0, 0, 0, 0, 0, 0, 0], # 0\n",
        "    [1, 0, 1, 0, 0, 0, 0, 0, 0, 0, 0, 0, 0, 0],\n",
        "    [0, 1, 0, 1, 1, 0, 0, 0, 0, 0, 0, 0, 0, 0], # 2\n",
        "    [0, 0, 1, 0, 1, 0, 0, 0, 0, 0, 0, 0, 0, 0],\n",
        "    [0, 0, 1, 1, 0, 1, 0, 0, 0, 0, 0, 0, 0, 0], # 4\n",
        "    [0, 0, 0, 0, 1, 0, 1, 1, 1, 0, 0, 0, 0, 0],\n",
        "    [0, 0, 0, 0, 0, 1, 0, 0, 0, 0, 0, 0, 0, 0], # 6\n",
        "    [0, 0, 0, 0, 0, 1, 0, 0, 0, 0, 0, 0, 0, 0],\n",
        "    [0, 0, 0, 0, 0, 1, 0, 0, 0, 1, 1, 1, 0, 0], # 8\n",
        "    [0, 0, 0, 0, 0, 0, 0, 0, 1, 0, 1, 0, 0, 0],\n",
        "    [0, 0, 0, 0, 0, 0, 0, 0, 1, 1, 0, 0, 0, 0], # 10\n",
        "    [0, 0, 0, 0, 0, 0, 0, 0, 1, 0, 0, 0, 1, 1],\n",
        "    [0, 0, 0, 0, 0, 0, 0, 0, 0, 0, 0, 1, 0, 0], # 12\n",
        "    [0, 0, 0, 0, 0, 0, 0, 0, 0, 0, 0, 1, 0, 0]])\n",
        "\n",
        "blossom_solver = BlossomAlgorithmWithHungarian(cost_matrix)\n",
        "max_matching = blossom_solver.solve(bipartite=False)\n",
        "print(\"Maximum Matching:\", max_matching)"
      ],
      "metadata": {
        "colab": {
          "base_uri": "https://localhost:8080/"
        },
        "id": "d6d6TWsqLkUz",
        "outputId": "95f75140-0611-4fda-dc81-39d0cf60f03f"
      },
      "execution_count": null,
      "outputs": [
        {
          "output_type": "stream",
          "name": "stdout",
          "text": [
            "Augmenting path found starting from node 0\n",
            "Augmenting path found starting from node 2\n",
            "Augmenting path found starting from node 4\n",
            "No augmenting path found starting from node 6\n",
            "No augmenting path found starting from node 7\n",
            "Augmenting path found starting from node 8\n",
            "No augmenting path found starting from node 10\n",
            "Augmenting path found starting from node 11\n",
            "No augmenting path found starting from node 13\n",
            "Maximum Matching: [(0, 1), (2, 3), (4, 5), (8, 9), (11, 12)]\n"
          ]
        }
      ]
    }
  ]
}
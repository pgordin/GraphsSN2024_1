{
  "nbformat": 4,
  "nbformat_minor": 0,
  "metadata": {
    "colab": {
      "provenance": []
    },
    "kernelspec": {
      "name": "python3",
      "display_name": "Python 3"
    },
    "language_info": {
      "name": "python"
    }
  },
  "cells": [
    {
      "cell_type": "markdown",
      "source": [
        "#Graphs & Social Networks &mdash; lab material\n",
        "This notebook contains a definition of a python class *Graph*, containing functions described during labs."
      ],
      "metadata": {
        "id": "noHa1UnB6dTl"
      }
    },
    {
      "cell_type": "markdown",
      "source": [
        "Package import."
      ],
      "metadata": {
        "id": "o6cctVaGKn9n"
      }
    },
    {
      "cell_type": "code",
      "execution_count": 1,
      "metadata": {
        "id": "OAkHMz2jKTzm"
      },
      "outputs": [],
      "source": [
        "import numpy as np\n",
        "from random import random, seed\n",
        "from copy import deepcopy"
      ]
    },
    {
      "cell_type": "markdown",
      "source": [
        "## Simple functions from the first classes\n",
        "This is left just as an example (to compare the behaviour)."
      ],
      "metadata": {
        "id": "r_QpZWdZCdkX"
      }
    },
    {
      "cell_type": "code",
      "source": [
        "def print_matrix(vertices, matrix):\n",
        "  \"\"\"\n",
        "  Printing a graph given by adjacency matrix\n",
        "  \"\"\"\n",
        "  n = len(matrix)\n",
        "  if (vertices is not None) and (len(vertices) == n):\n",
        "    vv = vertices\n",
        "  else:\n",
        "    vv = range(1, n+1)\n",
        "  for i in range(n):\n",
        "    print(vv[i], \":\", end=\"\")\n",
        "    for j in range(n):\n",
        "      if matrix[i, j]:\n",
        "        print(\" \", vv[j], end=\"\")\n",
        "    print(\"\")\n",
        "\n",
        "def print_dict(graph):\n",
        "  \"\"\"\n",
        "  Printing of a graph (given as a dictionary/neighbouring list)\n",
        "  \"\"\"\n",
        "  for v in graph:\n",
        "    print(v, \":\", end=\"\")\n",
        "    for u in graph[v]:\n",
        "      print(\" \", u, end=\"\")\n",
        "    print(\"\")"
      ],
      "metadata": {
        "id": "a5x2lBIQK70Y"
      },
      "execution_count": 2,
      "outputs": []
    },
    {
      "cell_type": "markdown",
      "source": [
        "## Class *Graph*"
      ],
      "metadata": {
        "id": "2WMNx_ldK23O"
      }
    },
    {
      "cell_type": "code",
      "source": [
        "class Graph:\n",
        "    def __init__(self, graph=None):\n",
        "        if graph is None:\n",
        "            graph = {}\n",
        "        self.graph = graph\n",
        "\n",
        "    # dict initializer\n",
        "    @classmethod\n",
        "    def from_dict(cls, graph):\n",
        "        return cls(graph)\n",
        "\n",
        "    # array initializer\n",
        "    @classmethod\n",
        "    def from_matrix(cls, matrix, vertices = None):\n",
        "        if (vertices is None) or (len(vertices) != len(matrix)):\n",
        "            vertices = [*range(1, len(matrix) + 1)]\n",
        "        return cls.from_dict(cls._matrix_to_dict(matrix, vertices))\n",
        "\n",
        "    # two private methods matrix <-> dictionaries\n",
        "    def _matrix_to_dict(matrix, vertices: list) -> dict:\n",
        "        \"\"\"\n",
        "        Converts a graph given as an adjacency matrix to a graph in dict form.\n",
        "        \"\"\"\n",
        "        res_dict = {}\n",
        "        for i, v in enumerate(vertices):\n",
        "            neighbours = [vertices[j] for j, edge in enumerate(matrix[i]) if edge]\n",
        "            res_dict[v] = neighbours\n",
        "        return res_dict\n",
        "\n",
        "    def _dict_to_matrix(self, _dict: dict) -> np.array:\n",
        "        \"\"\"\n",
        "        Converts a graph in dict form to its adjacency matrix.\n",
        "        \"\"\"\n",
        "        n = len(_dict)\n",
        "        vertices = [*_dict.keys()]\n",
        "        matrix = np.zeros(shape = (n, n), dtype=int)\n",
        "        for u,v in [\n",
        "            (vertices.index(u), vertices.index(v))\n",
        "            for u, row in _dict.items() for v in row\n",
        "        ]:\n",
        "            matrix[u][v] += 1\n",
        "        return matrix\n",
        "\n",
        "    def vertices(self) -> list:\n",
        "        \"\"\"\n",
        "        Returns list of vertices of the graph.\n",
        "        \"\"\"\n",
        "        return [*self.graph.keys()]\n",
        "\n",
        "    def matrix(self) -> np.array:\n",
        "        \"\"\"\n",
        "        Returns the adjacency matrix of the graph.\n",
        "        \"\"\"\n",
        "        return self._dict_to_matrix(self.graph)\n",
        "\n",
        "    # redefinition of print for objects of class Graph\n",
        "    def __str__(self):\n",
        "        res = \"\"\n",
        "        for v in self.graph:\n",
        "            res += f\"{v}:\"\n",
        "            for u in self.graph[v]:\n",
        "                res += f\" {u}\"\n",
        "            res += \"\\n\"\n",
        "        return res\n",
        "\n",
        "    # The following is for free thanks to the above\n",
        "    def to_neighbourlist(self, filename: str):\n",
        "        \"\"\"\n",
        "        Saves a graphs to a text file as a neighbour dict.\\n\n",
        "        Filename is a file path.\n",
        "        \"\"\"\n",
        "        file = open(filename, \"w\")  # open textfile for writing\n",
        "        file.write(str(self))\n",
        "        file.close()\n",
        "\n",
        "    # Modyfying graphs\n",
        "    def add_vertex(self, vertex):\n",
        "        \"\"\"\n",
        "        Adds a new vertex to the graph.\n",
        "        \"\"\"\n",
        "        if vertex not in self.graph:\n",
        "            self.graph[vertex] = []\n",
        "\n",
        "    def del_vertex(self, vertex):\n",
        "        \"\"\"\n",
        "        Removes a vertex from the graph.\n",
        "        \"\"\"\n",
        "        if vertex in self.graph:\n",
        "            self.graph.pop(vertex)\n",
        "            for u in self.graph:\n",
        "                if vertex in self.graph[u]:\n",
        "                    self.graph[u].remove(vertex)\n",
        "\n",
        "    def add_arc(self, arc):\n",
        "        \"\"\"\n",
        "        Given pair of vertices (arc variable) add an arc to the graph\n",
        "        We consider simple, directed graphs.\n",
        "        \"\"\"\n",
        "        u, v = arc\n",
        "        self.add_vertex(u)\n",
        "        self.add_vertex(v)\n",
        "        if v not in self.graph[u]:\n",
        "            self.graph[u].append(v)\n",
        "\n",
        "    def add_edge(self, edge: list):\n",
        "        \"\"\"\n",
        "        Given pair of vertices (edge variable) add an edge to existing graph.\n",
        "        We consider simple, undirected graphs, as symmetric digraphs without loops.\n",
        "        \"\"\"\n",
        "        u, v = edge\n",
        "        if u == v:\n",
        "            raise ValueError(\"Loops are not allowed!\")\n",
        "        self.add_vertex(u)\n",
        "        self.add_vertex(v)\n",
        "        if v not in self.graph[u]:\n",
        "            self.graph[u].append(v)\n",
        "        if u not in self.graph[v]:\n",
        "            self.graph[v].append(u)\n",
        "\n",
        "    # reading from a file\n",
        "    @staticmethod\n",
        "    def from_edges(filename: str, directed = 0):\n",
        "        \"\"\"\n",
        "        Read the graph from file, that in each line contains either\n",
        "        the description of a vertex (one word) or\n",
        "        the description of an edge/arc (at least 2 words).\n",
        "        The resulting graph is returned as a neighbourhood list.\n",
        "        Variable \"filename\" contains the whole path to the file.\n",
        "        \"\"\"\n",
        "        graph = Graph()\n",
        "        file = open(filename, \"r\")          # open the file to read\n",
        "        for line in file:                   # for each line of the file\n",
        "          words = line.strip().split()      # splits the line into words\n",
        "          if len(words) == 1:               # one word - vertex description\n",
        "            graph.add_vertex(words[0])\n",
        "          elif len(words) >= 2:             # at least two words, first two are the edge description\n",
        "            if directed:\n",
        "              graph.add_arc([words[0], words[1]])\n",
        "            else:\n",
        "              graph.add_edge([words[0], words[1]])\n",
        "        file.close()\n",
        "        return graph\n",
        "\n",
        "    @staticmethod\n",
        "    def random_graph(n: int, p: float):\n",
        "        \"\"\"\n",
        "        Creates a random graph in G(n, p) model.\n",
        "        \"\"\"\n",
        "        rand_graph = Graph()\n",
        "        for i in range(1, n + 1):\n",
        "            rand_graph.add_vertex(i)\n",
        "            for j in range(1, i):\n",
        "                if random() < p:\n",
        "                    rand_graph.add_edge([i, j])\n",
        "        return rand_graph\n",
        "\n",
        "    @staticmethod\n",
        "    def cycle(n: int):\n",
        "        \"\"\"\n",
        "        Creates a cycle C_n on n vertices\n",
        "        \"\"\"\n",
        "        cycle = Graph()\n",
        "        for i in range(n-1):\n",
        "          cycle.add_edge([i+1, i+2])\n",
        "        cycle.add_edge([1, n])\n",
        "        return cycle\n",
        "\n",
        "\n",
        "    def Prufer(self):\n",
        "      \"\"\"\n",
        "      Returns the Prufer code of a tree.\n",
        "      It is necessary that the graph is a tree (it is not checked).\n",
        "      Result is given as a string (empty for trees on 1 or 2 vertices).\n",
        "      \"\"\"\n",
        "      tr = deepcopy(self.graph)   # copy of a tree, as we destroy it\n",
        "      code = \"\"\n",
        "      for i in range(len(self.graph) - 2):\n",
        "        for x in sorted(tr):\n",
        "          if len(tr[x]) == 1:   # least leaf\n",
        "            break\n",
        "        v = tr[x][0]            # the unique neighbour of x\n",
        "        code = code + f\"{v} \"\n",
        "        tr[v].remove(x)         # remove x from neighbours of v\n",
        "        tr.pop(x)               # remove x from the tree\n",
        "      return code.strip()\n",
        "\n",
        "    @staticmethod\n",
        "    def tree_from_Prufer(code: str):\n",
        "        \"\"\"\n",
        "        Creating a tree from a Prufer code.\n",
        "        \"\"\"\n",
        "        tree = Graph()\n",
        "        clist = [int(x) for x in code.strip().split()]   # code as a list of numbers\n",
        "        n = len(clist) + 2                  # number of vertices\n",
        "        vert = [*range(1, n+1)]             # list of numbers 1..n\n",
        "        for v in vert:\n",
        "          tree.add_vertex(v)\n",
        "        for i in range(n-2):\n",
        "          for x in vert:\n",
        "            if not x in clist:    # x - least leaf\n",
        "              break\n",
        "          v = clist.pop(0)    # remove the first element from the code - the neighbour of x\n",
        "          tree.add_edge((x, v))\n",
        "          vert.remove(x)\n",
        "        tree.add_edge(vert)\n",
        "        return tree\n",
        "\n",
        "\n",
        "    def connected_components(self):\n",
        "      \"\"\"\n",
        "      Looks for connected components of undirected graph.\n",
        "      Returns a list of its vertex-sets.\n",
        "      Remark: the first element contains the set of all graph vertices\n",
        "      \"\"\"\n",
        "      def DFS(u):\n",
        "        \"\"\"\n",
        "        Deep first search (as internal method).\n",
        "        \"\"\"\n",
        "        for w in self.graph[u]:\n",
        "          if w not in VT[0]:      # w - not visited yet\n",
        "            VT[0].add(w)          # already visited\n",
        "            VT[-1].add(w)         # w - in the last connected component\n",
        "            DFS(w)\n",
        "\n",
        "      \"\"\"\n",
        "      VT - list of vertex sets VT[i] for i > 0 - is a vertex set of i-th connected component\n",
        "      VT[0] - is a vertex set of the spanning forest (or during the algorithm list of visited vertices).\n",
        "      \"\"\"\n",
        "      VT = [set([])]\n",
        "      for v in self.graph:\n",
        "        if v not in VT[0]:      # v is not visited\n",
        "          VT[0].add(v)\n",
        "          VT.append(set([v]))   # statring point of new conected component\n",
        "          DFS(v)\n",
        "      return VT\n",
        "\n",
        "    def preorder(self, v):\n",
        "\n",
        "        visited = set()     # keep track of visited nodes\n",
        "        stack = [v]         # used to store layers for preorder\n",
        "\n",
        "        while stack:\n",
        "            current = stack.pop()       # get the rightmost item from the stack\n",
        "\n",
        "            # check if the node was visited\n",
        "            if current not in visited:\n",
        "                print(current, end=' ')\n",
        "                visited.add(current)\n",
        "                stack.extend(reversed(self.graph[current]))  # add all neighbours of a vertex and reverse it to have left-side manner\n",
        "        print()\n",
        "\n",
        "    def postorder(self, v):\n",
        "\n",
        "        visited = set()     # keep track of visited nodes\n",
        "        result = []\n",
        "\n",
        "        # perform dfs algorithm as it almost grants us with a solution\n",
        "        def dfs(node):\n",
        "\n",
        "            if node not in visited:\n",
        "                visited.add(node)\n",
        "\n",
        "                for neighbor in self.graph[node]:\n",
        "\n",
        "                    if neighbor not in visited:\n",
        "                        dfs(neighbor)\n",
        "                result.append(node)\n",
        "\n",
        "        dfs(v)\n",
        "        print(\" \".join(map(str, result)))\n",
        "\n",
        "    def connected_components_graphs(self):\n",
        "\n",
        "        components = self.connected_components()[1:]  # list of connected components (vertex sets)\n",
        "\n",
        "        subgraphs = []\n",
        "\n",
        "        for component in components:\n",
        "            subgraph = Graph()      # create a subgraph for each connected component\n",
        "\n",
        "            for vertex in component:\n",
        "                subgraph.add_vertex(vertex)     # add the vertices of the connected component to the subgraph\n",
        "\n",
        "            for vertex in component:\n",
        "\n",
        "                for neighbor in self.graph[vertex]:\n",
        "\n",
        "                    if neighbor in component and vertex < neighbor:     # avoid duplicates\n",
        "                        subgraph.add_edge([vertex, neighbor])           # add the edges between vertices within the connected component\n",
        "\n",
        "            subgraphs.append(subgraph)\n",
        "\n",
        "        return subgraphs\n",
        "\n",
        "    @staticmethod\n",
        "    def random_bipartite_graph(m, n, p):\n",
        "\n",
        "        graph = Graph()     # create an empty graph\n",
        "\n",
        "        set_A = range(1, m+1)       # A: vertices 1 to m\n",
        "        set_B = range(m+1, m+n+1)   # B: vertices m+1 to m+n\n",
        "\n",
        "        # add edges between set A and set B with probability p\n",
        "        for vertex in range(1, m+n+1):\n",
        "            graph.add_vertex(vertex)\n",
        "\n",
        "        for u in set_A:\n",
        "\n",
        "            for v in set_B:\n",
        "\n",
        "                if random() < p:\n",
        "                    graph.add_edge((u, v))\n",
        "\n",
        "        return graph"
      ],
      "metadata": {
        "id": "GpL6rcH371bJ"
      },
      "execution_count": 3,
      "outputs": []
    },
    {
      "cell_type": "markdown",
      "source": [
        "### Variables for task"
      ],
      "metadata": {
        "id": "3HBdaahkBt9c"
      }
    },
    {
      "cell_type": "code",
      "source": [
        "graph_dict = {\n",
        "    1: [2, 3],\n",
        "    2: [1, 4, 5],\n",
        "    3: [1, 6],\n",
        "    4: [2],\n",
        "    5: [2, 7],\n",
        "    6: [3, 8],\n",
        "    7: [5],\n",
        "    8: [6]\n",
        "}\n",
        "\n",
        "graph = Graph(graph_dict)"
      ],
      "metadata": {
        "id": "NBTbcD6OeQhD"
      },
      "execution_count": 4,
      "outputs": []
    },
    {
      "cell_type": "markdown",
      "source": [
        "### Test task 1"
      ],
      "metadata": {
        "id": "yilIshDeuEUY"
      }
    },
    {
      "cell_type": "code",
      "source": [
        "graph.postorder(1)"
      ],
      "metadata": {
        "colab": {
          "base_uri": "https://localhost:8080/"
        },
        "id": "Q0s4bPyFt_g-",
        "outputId": "4ac5aa53-cbb0-4549-aa85-494adfbd7d44"
      },
      "execution_count": 5,
      "outputs": [
        {
          "output_type": "stream",
          "name": "stdout",
          "text": [
            "4 7 5 2 8 6 3 1\n"
          ]
        }
      ]
    },
    {
      "cell_type": "code",
      "source": [
        "graph.preorder(1)"
      ],
      "metadata": {
        "colab": {
          "base_uri": "https://localhost:8080/"
        },
        "id": "Mu_vnCjFxy3U",
        "outputId": "2140297e-cced-4be2-9c44-cd489916d672"
      },
      "execution_count": 6,
      "outputs": [
        {
          "output_type": "stream",
          "name": "stdout",
          "text": [
            "1 2 4 5 7 3 6 8 \n"
          ]
        }
      ]
    },
    {
      "cell_type": "markdown",
      "source": [
        "### Test task 2"
      ],
      "metadata": {
        "id": "Ha7WZiecuG-V"
      }
    },
    {
      "cell_type": "code",
      "source": [
        "for idx, component in enumerate(graph.connected_components_graphs()):\n",
        "    print(f\"Component {idx + 1}:\\n{component}\")"
      ],
      "metadata": {
        "colab": {
          "base_uri": "https://localhost:8080/"
        },
        "id": "HW6a-lWfqt4x",
        "outputId": "0f184fc9-c5c2-45d4-c0fe-eba1bf4f1e73"
      },
      "execution_count": 15,
      "outputs": [
        {
          "output_type": "stream",
          "name": "stdout",
          "text": [
            "Component 1:\n",
            "1: 2 3\n",
            "2: 1 4 5\n",
            "3: 1 6\n",
            "4: 2\n",
            "5: 2 7\n",
            "6: 3 8\n",
            "7: 5\n",
            "8: 6\n",
            "\n"
          ]
        }
      ]
    },
    {
      "cell_type": "markdown",
      "source": [
        "### Test task 3"
      ],
      "metadata": {
        "id": "ymChHD4EuH0h"
      }
    },
    {
      "cell_type": "code",
      "source": [
        "random_bipartite_graph = Graph.random_bipartite_graph(3, 3, 0.9)\n",
        "print(str(random_bipartite_graph))"
      ],
      "metadata": {
        "colab": {
          "base_uri": "https://localhost:8080/"
        },
        "id": "eSHu9c2OyvWZ",
        "outputId": "0d539723-5c2c-4737-e43f-11c8794213b1"
      },
      "execution_count": 14,
      "outputs": [
        {
          "output_type": "stream",
          "name": "stdout",
          "text": [
            "1: 4 5 6\n",
            "2: 4 5 6\n",
            "3: 4\n",
            "4: 1 2 3\n",
            "5: 1 2\n",
            "6: 1 2\n",
            "\n"
          ]
        }
      ]
    }
  ]
}
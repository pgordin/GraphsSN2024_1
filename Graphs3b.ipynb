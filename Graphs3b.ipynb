{
  "nbformat": 4,
  "nbformat_minor": 0,
  "metadata": {
    "colab": {
      "provenance": [],
      "authorship_tag": "ABX9TyONZY2zuDhJ2MwlH7S5RfUU",
      "include_colab_link": true
    },
    "kernelspec": {
      "name": "python3",
      "display_name": "Python 3"
    },
    "language_info": {
      "name": "python"
    }
  },
  "cells": [
    {
      "cell_type": "markdown",
      "metadata": {
        "id": "view-in-github",
        "colab_type": "text"
      },
      "source": [
        "<a href=\"https://colab.research.google.com/github/pgordin/GraphsSN2024_1/blob/main/Graphs3b.ipynb\" target=\"_parent\"><img src=\"https://colab.research.google.com/assets/colab-badge.svg\" alt=\"Open In Colab\"/></a>"
      ]
    },
    {
      "cell_type": "markdown",
      "source": [
        "Package import."
      ],
      "metadata": {
        "id": "o6cctVaGKn9n"
      }
    },
    {
      "cell_type": "code",
      "execution_count": 36,
      "metadata": {
        "id": "OAkHMz2jKTzm"
      },
      "outputs": [],
      "source": [
        "import numpy as np\n",
        "from random import random, seed\n",
        "from copy import deepcopy"
      ]
    },
    {
      "cell_type": "markdown",
      "source": [
        "## Graph functions"
      ],
      "metadata": {
        "id": "2WMNx_ldK23O"
      }
    },
    {
      "cell_type": "code",
      "source": [
        "def print_matrix(vertices, matrix):\n",
        "  \"\"\"\n",
        "  Printing a graph given by adjacency matrix\n",
        "  \"\"\"\n",
        "  n = len(matrix)\n",
        "  if (vertices is not None) and (len(vertices) == n):\n",
        "    vv = vertices\n",
        "  else:\n",
        "    vv = range(1, n+1)\n",
        "  for i in range(n):\n",
        "    print(vv[i], \":\", end=\"\")\n",
        "    for j in range(n):\n",
        "      if matrix[i, j]:\n",
        "        print(\" \", vv[j], end=\"\")\n",
        "    print(\"\")\n",
        "\n",
        "def print_graph(graph):\n",
        "  \"\"\"\n",
        "  Printing of a graph (given as a dictionary/neighbouring list)\n",
        "  \"\"\"\n",
        "  for v in graph:\n",
        "    print(v, \":\", end=\"\")\n",
        "    for u in graph[v]:\n",
        "      print(\" \", u, end=\"\")\n",
        "    print(\"\")"
      ],
      "metadata": {
        "id": "a5x2lBIQK70Y"
      },
      "execution_count": 2,
      "outputs": []
    },
    {
      "cell_type": "markdown",
      "source": [
        "## Making and modyfing graphs"
      ],
      "metadata": {
        "id": "24U-tYGgP1_E"
      }
    },
    {
      "cell_type": "code",
      "source": [
        "def add_vertex(graph, vertex):\n",
        "  \"\"\"\n",
        "  Add a new vertex to an existing graph\n",
        "  \"\"\"\n",
        "  if vertex not in graph:\n",
        "    graph[vertex] = []\n",
        "\n",
        "def add_arc(graph, arc):\n",
        "  \"\"\"\n",
        "  Given pair of vertices (arc variable) add an arc to an existing graph\n",
        "  We consider simple, directed graphs.\n",
        "  \"\"\"\n",
        "  u, v = arc\n",
        "  add_vertex(graph, u)\n",
        "  add_vertex(graph, v)\n",
        "  if v not in graph[u]:\n",
        "    graph[u].append(v)\n",
        "\n",
        "def add_edge(graph, edge):\n",
        "  \"\"\"\n",
        "  Given pair of vertices (edge variable) add an edge to existing graph.\n",
        "  We consider simple, undirected graphs, as symmetric digraphs without loops.\n",
        "  \"\"\"\n",
        "  u, v = edge\n",
        "  add_vertex(graph, u)\n",
        "  add_vertex(graph, v)\n",
        "  if u == v:\n",
        "    raise ValueError(\"Loops are not allowed!\")\n",
        "  if v not in graph[u]:\n",
        "    graph[u].append(v)\n",
        "  if u not in graph[v]:\n",
        "    graph[v].append(u)\n"
      ],
      "metadata": {
        "id": "2bkaB36xP5ZR"
      },
      "execution_count": 3,
      "outputs": []
    },
    {
      "cell_type": "markdown",
      "source": [
        "## Reading and writing graphs from/to files"
      ],
      "metadata": {
        "id": "osAmW-dXgyKz"
      }
    },
    {
      "cell_type": "code",
      "source": [
        "def graph_from_edges(filename, directed = 0):\n",
        "  \"\"\"\n",
        "  Read the graph from file, that in each line contains either\n",
        "  the description of a vertex (one word) or\n",
        "  the description of an edge/arc (at least 2 words).\n",
        "  The resulting graph is returned as a neighbourhood list.\n",
        "  Variable \"filename\" contains the whole path to the file.\n",
        "  \"\"\"\n",
        "  graph = {}\n",
        "  file = open(filename, \"r\")            # open the file to read\n",
        "  for line in file:                     # for each line of the file\n",
        "    words = line.strip().split()        # splits the line into words\n",
        "    if len(words) == 1:                 # one word - vertex description\n",
        "      add_vertex(graph, words[0])\n",
        "    elif len(words) >= 2:               # at least two words, first two are the edge description\n",
        "      if directed:\n",
        "        add_arc(graph, (words[0], words[1]))\n",
        "      else:\n",
        "        add_edge(graph, (words[0], words[1]))\n",
        "  file.close()\n",
        "  return graph\n",
        "\n",
        "\n",
        "def graph_to_neighbourlist(graph, filename):\n",
        "  \"\"\"\n",
        "  Writes a graph (given as a disctionary/neighbouring list) to\n",
        "  a textfile (as a neighbouring list).\n",
        "  \"\"\"\n",
        "  file = open(filename, \"w\")    # open textfile for writing\n",
        "  for v in graph:\n",
        "    neigh_list = f\"{v}:\"\n",
        "    for u in graph[v]:\n",
        "      neigh_list = neigh_list + f\" {u}\"\n",
        "    neigh_list = neigh_list + \"\\n\"\n",
        "    file.write(neigh_list)\n",
        "  file.close()"
      ],
      "metadata": {
        "id": "7FpyWtu5g_6j"
      },
      "execution_count": 4,
      "outputs": []
    },
    {
      "cell_type": "code",
      "source": [
        "def Prufer(tree):\n",
        "  \"\"\"\n",
        "  Produces the Prufer code of a tree. It is necessary to have a tree as an input (it is not checked).\n",
        "  Result is given as a string.\n",
        "  \"\"\"\n",
        "  tr = deepcopy(tree)       # copy of a tree\n",
        "  code = \"\"\n",
        "  for i in range(len(tree)-2):\n",
        "    for x in sorted(tr):\n",
        "      if len(tr[x]) == 1:     # least leaf\n",
        "        break\n",
        "    v = tr[x][0]            # the only neighbour of x\n",
        "    code = code + f\"{v} \"\n",
        "    tr[v].remove(x)         # remove x from neighbours of v\n",
        "    tr.pop(x)               # remove x from a tree\n",
        "  return code.strip()\n",
        "\n",
        "\n",
        "def TreeFromPrufer(code):\n",
        "  \"\"\"\n",
        "  Creating a tree from a Prufer code\n",
        "  \"\"\"\n",
        "  clist = [int(x) for x in code.split()]  # code as a list of numbers\n",
        "  n = len(clist) + 2                  # number of vertices\n",
        "  vert = [v for v in range(1, n+1)]   # list of numbers 1 .. n\n",
        "  tree = {}\n",
        "  for v in vert:\n",
        "    add_vertex(tree, v)\n",
        "  for i in range(n-2):\n",
        "    for x in vert:\n",
        "      if x not in clist:    # x - least leaf\n",
        "        break\n",
        "    v = clist.pop(0)    # remove the first element from the code - neighbour of x\n",
        "    add_edge(tree, (x, v))\n",
        "    vert.remove(x)\n",
        "  add_edge(tree, (vert[0], vert[1]))\n",
        "  return tree"
      ],
      "metadata": {
        "id": "SjpfzzD9sd5o"
      },
      "execution_count": 42,
      "outputs": []
    },
    {
      "cell_type": "markdown",
      "source": [
        "## Use of code"
      ],
      "metadata": {
        "id": "6_YyQKrIMi_C"
      }
    },
    {
      "cell_type": "markdown",
      "source": [
        "### Part 3 (Prufer codes)"
      ],
      "metadata": {
        "id": "_Li4OSBDrp7K"
      }
    },
    {
      "cell_type": "code",
      "source": [
        "%%writefile tree1.txt\n",
        "1 3\n",
        "3 5\n",
        "2 5\n",
        "4 5\n",
        "6 5"
      ],
      "metadata": {
        "colab": {
          "base_uri": "https://localhost:8080/"
        },
        "id": "RFG49rSWryaK",
        "outputId": "424bbb30-d8d6-4de3-8ef7-44f4cd5ab3ac"
      },
      "execution_count": 22,
      "outputs": [
        {
          "output_type": "stream",
          "name": "stdout",
          "text": [
            "Writing tree1.txt\n"
          ]
        }
      ]
    },
    {
      "cell_type": "code",
      "source": [
        "tree1 = graph_from_edges(\"tree1.txt\")"
      ],
      "metadata": {
        "id": "MxM8JOw9sR5_"
      },
      "execution_count": 38,
      "outputs": []
    },
    {
      "cell_type": "code",
      "source": [
        "print_graph(tree1)"
      ],
      "metadata": {
        "colab": {
          "base_uri": "https://localhost:8080/"
        },
        "id": "uFVlsqDesWeX",
        "outputId": "79b90e67-1ce6-4170-9d00-3ca60911c03b"
      },
      "execution_count": 39,
      "outputs": [
        {
          "output_type": "stream",
          "name": "stdout",
          "text": [
            "1 :  3\n",
            "3 :  1  5\n",
            "5 :  3  2  4  6\n",
            "2 :  5\n",
            "4 :  5\n",
            "6 :  5\n"
          ]
        }
      ]
    },
    {
      "cell_type": "code",
      "source": [
        "print(Prufer(tree1))"
      ],
      "metadata": {
        "colab": {
          "base_uri": "https://localhost:8080/"
        },
        "id": "hlcmteDpunm0",
        "outputId": "af3f8596-e9e2-4982-8b9b-3c889386edc4"
      },
      "execution_count": 40,
      "outputs": [
        {
          "output_type": "stream",
          "name": "stdout",
          "text": [
            "3 5 5 5\n"
          ]
        }
      ]
    },
    {
      "cell_type": "code",
      "source": [
        "print_graph(tree1)"
      ],
      "metadata": {
        "colab": {
          "base_uri": "https://localhost:8080/"
        },
        "id": "5hh0BMrLu9zc",
        "outputId": "febc1725-1866-45ec-a9d1-1abac39ffe8b"
      },
      "execution_count": 41,
      "outputs": [
        {
          "output_type": "stream",
          "name": "stdout",
          "text": [
            "1 :  3\n",
            "3 :  1  5\n",
            "5 :  3  2  4  6\n",
            "2 :  5\n",
            "4 :  5\n",
            "6 :  5\n"
          ]
        }
      ]
    },
    {
      "cell_type": "code",
      "source": [
        "print_graph(TreeFromPrufer(\"3 5 5 5\"))"
      ],
      "metadata": {
        "colab": {
          "base_uri": "https://localhost:8080/"
        },
        "id": "W13ncK5-xiqO",
        "outputId": "c717d5eb-93d6-489f-82d3-89266c668496"
      },
      "execution_count": 43,
      "outputs": [
        {
          "output_type": "stream",
          "name": "stdout",
          "text": [
            "1 :  3\n",
            "2 :  5\n",
            "3 :  1  5\n",
            "4 :  5\n",
            "5 :  2  3  4  6\n",
            "6 :  5\n"
          ]
        }
      ]
    },
    {
      "cell_type": "code",
      "source": [
        "print_graph(TreeFromPrufer(\"5 4 3 1\"))"
      ],
      "metadata": {
        "colab": {
          "base_uri": "https://localhost:8080/"
        },
        "id": "TGyO_yEcxpwm",
        "outputId": "17a3b5ef-0eca-4eaf-b873-ae73992ce0c7"
      },
      "execution_count": 45,
      "outputs": [
        {
          "output_type": "stream",
          "name": "stdout",
          "text": [
            "1 :  3  6\n",
            "2 :  5\n",
            "3 :  4  1\n",
            "4 :  5  3\n",
            "5 :  2  4\n",
            "6 :  1\n"
          ]
        }
      ]
    },
    {
      "cell_type": "code",
      "source": [
        "print_graph(TreeFromPrufer(\"1 1 1 2 3\"))"
      ],
      "metadata": {
        "colab": {
          "base_uri": "https://localhost:8080/"
        },
        "id": "kIMXlvKdxzRQ",
        "outputId": "9817149b-29ea-4c23-9199-839076db6222"
      },
      "execution_count": 46,
      "outputs": [
        {
          "output_type": "stream",
          "name": "stdout",
          "text": [
            "1 :  4  5  6  2\n",
            "2 :  1  3\n",
            "3 :  2  7\n",
            "4 :  1\n",
            "5 :  1\n",
            "6 :  1\n",
            "7 :  3\n"
          ]
        }
      ]
    },
    {
      "cell_type": "markdown",
      "source": [
        "### Part2"
      ],
      "metadata": {
        "id": "8zI4hhs8mnCH"
      }
    },
    {
      "cell_type": "code",
      "source": [
        "%%writefile edges.txt\n",
        "a b\n",
        "b c\n",
        "b d\n",
        "d\n",
        "d c\n",
        "e\n",
        "f\n"
      ],
      "metadata": {
        "colab": {
          "base_uri": "https://localhost:8080/"
        },
        "id": "APWxQBCKmoxT",
        "outputId": "43b699ac-04e2-4773-fdf7-4802dbd49aee"
      },
      "execution_count": 21,
      "outputs": [
        {
          "output_type": "stream",
          "name": "stdout",
          "text": [
            "Overwriting edges.txt\n"
          ]
        }
      ]
    },
    {
      "cell_type": "code",
      "source": [
        "%cat edges.txt"
      ],
      "metadata": {
        "colab": {
          "base_uri": "https://localhost:8080/"
        },
        "id": "eR-LAgiBnAPC",
        "outputId": "800bcf2d-47c8-49b0-b0a8-6483112b42f2"
      },
      "execution_count": 6,
      "outputs": [
        {
          "output_type": "stream",
          "name": "stdout",
          "text": [
            "a b\n",
            "b c\n",
            "b d\n",
            "d\n",
            "d c\n",
            "e\n",
            "f\n"
          ]
        }
      ]
    },
    {
      "cell_type": "code",
      "source": [
        "graph1 = graph_from_edges(\"edges.txt\")\n",
        "print_graph(graph1)"
      ],
      "metadata": {
        "colab": {
          "base_uri": "https://localhost:8080/"
        },
        "id": "iMrisHgRnKuO",
        "outputId": "25a4c346-a647-4c12-e575-39f22bdec8a1"
      },
      "execution_count": 7,
      "outputs": [
        {
          "output_type": "stream",
          "name": "stdout",
          "text": [
            "a :  b\n",
            "b :  a  c  d\n",
            "c :  b  d\n",
            "d :  b  c\n",
            "e :\n",
            "f :\n"
          ]
        }
      ]
    },
    {
      "cell_type": "code",
      "source": [
        "graph_to_neighbourlist(graph1, \"neighbourhood.txt\")"
      ],
      "metadata": {
        "id": "r9NGeZi7p1GR"
      },
      "execution_count": 8,
      "outputs": []
    },
    {
      "cell_type": "code",
      "source": [
        "%cat \"neighbourhood.txt\""
      ],
      "metadata": {
        "colab": {
          "base_uri": "https://localhost:8080/"
        },
        "id": "nWT3fLVpqHpo",
        "outputId": "870809d2-8f9a-44d3-e1eb-35339da73b17"
      },
      "execution_count": 9,
      "outputs": [
        {
          "output_type": "stream",
          "name": "stdout",
          "text": [
            "a: b\n",
            "b: a c d\n",
            "c: b d\n",
            "d: b c\n",
            "e:\n",
            "f:\n"
          ]
        }
      ]
    },
    {
      "cell_type": "code",
      "source": [
        "!wget https://github.com/pgordin/GraphsSN2024_1/raw/main/weighted0.txt"
      ],
      "metadata": {
        "id": "OtKrskF-r81d",
        "outputId": "3e9d8c52-2da7-4325-a888-8fd11e5643da",
        "colab": {
          "base_uri": "https://localhost:8080/"
        }
      },
      "execution_count": 10,
      "outputs": [
        {
          "output_type": "stream",
          "name": "stdout",
          "text": [
            "--2024-10-24 13:20:18--  https://github.com/pgordin/GraphsSN2024_1/raw/main/weighted0.txt\n",
            "Resolving github.com (github.com)... 140.82.112.4\n",
            "Connecting to github.com (github.com)|140.82.112.4|:443... connected.\n",
            "HTTP request sent, awaiting response... 302 Found\n",
            "Location: https://raw.githubusercontent.com/pgordin/GraphsSN2024_1/main/weighted0.txt [following]\n",
            "--2024-10-24 13:20:19--  https://raw.githubusercontent.com/pgordin/GraphsSN2024_1/main/weighted0.txt\n",
            "Resolving raw.githubusercontent.com (raw.githubusercontent.com)... 185.199.108.133, 185.199.109.133, 185.199.110.133, ...\n",
            "Connecting to raw.githubusercontent.com (raw.githubusercontent.com)|185.199.108.133|:443... connected.\n",
            "HTTP request sent, awaiting response... 200 OK\n",
            "Length: 99 [text/plain]\n",
            "Saving to: ‘weighted0.txt’\n",
            "\n",
            "weighted0.txt       100%[===================>]      99  --.-KB/s    in 0s      \n",
            "\n",
            "2024-10-24 13:20:19 (4.52 MB/s) - ‘weighted0.txt’ saved [99/99]\n",
            "\n"
          ]
        }
      ]
    },
    {
      "cell_type": "code",
      "source": [
        "graph2 = graph_from_edges(\"weighted0.txt\")\n",
        "print_graph(graph2)"
      ],
      "metadata": {
        "id": "vdKnV3IJsg3U",
        "outputId": "fd460e90-4ed4-4282-c22e-b874c0bd44e4",
        "colab": {
          "base_uri": "https://localhost:8080/"
        }
      },
      "execution_count": 11,
      "outputs": [
        {
          "output_type": "stream",
          "name": "stdout",
          "text": [
            "A :  B  E\n",
            "B :  A  C  D\n",
            "E :  A  D  F  H\n",
            "C :  B  D  F  G\n",
            "D :  B  C  E  F\n",
            "F :  C  D  E  G  H\n",
            "G :  C  F  H  I\n",
            "H :  E  F  G\n",
            "I :  G\n"
          ]
        }
      ]
    },
    {
      "cell_type": "code",
      "source": [
        "!wget https://raw.githubusercontent.com/pgordin/GraphsSN2024_1/refs/heads/main/weighted0.txt"
      ],
      "metadata": {
        "id": "zlrf9llrtDnL",
        "outputId": "8d1363f6-a947-4cd0-c8f9-122bc5e59f87",
        "colab": {
          "base_uri": "https://localhost:8080/"
        }
      },
      "execution_count": 12,
      "outputs": [
        {
          "output_type": "stream",
          "name": "stdout",
          "text": [
            "--2024-10-24 13:20:19--  https://raw.githubusercontent.com/pgordin/GraphsSN2024_1/refs/heads/main/weighted0.txt\n",
            "Resolving raw.githubusercontent.com (raw.githubusercontent.com)... 185.199.108.133, 185.199.109.133, 185.199.110.133, ...\n",
            "Connecting to raw.githubusercontent.com (raw.githubusercontent.com)|185.199.108.133|:443... connected.\n",
            "HTTP request sent, awaiting response... 200 OK\n",
            "Length: 99 [text/plain]\n",
            "Saving to: ‘weighted0.txt.1’\n",
            "\n",
            "weighted0.txt.1     100%[===================>]      99  --.-KB/s    in 0s      \n",
            "\n",
            "2024-10-24 13:20:19 (1.03 MB/s) - ‘weighted0.txt.1’ saved [99/99]\n",
            "\n"
          ]
        }
      ]
    },
    {
      "cell_type": "markdown",
      "source": [
        "### Part1"
      ],
      "metadata": {
        "id": "M0eanmo5mkjf"
      }
    },
    {
      "cell_type": "code",
      "source": [
        "vertices = [\"a\", \"b\", \"c\", \"d\"]\n",
        "matrix = np.array([[0,1,0,0],[1,0,1,0],[0,1,0,1],[0,0,0,1]])\n",
        "print(vertices)\n",
        "print(matrix)\n",
        "print(\"---------------------------\")\n",
        "print_matrix(vertices, matrix)\n",
        "print(\"---------------------------\")\n",
        "print_matrix(None,matrix)"
      ],
      "metadata": {
        "colab": {
          "base_uri": "https://localhost:8080/"
        },
        "id": "fFt6k4_1MkaO",
        "outputId": "d9ce0356-6606-4abe-caea-4243db66d750"
      },
      "execution_count": 13,
      "outputs": [
        {
          "output_type": "stream",
          "name": "stdout",
          "text": [
            "['a', 'b', 'c', 'd']\n",
            "[[0 1 0 0]\n",
            " [1 0 1 0]\n",
            " [0 1 0 1]\n",
            " [0 0 0 1]]\n",
            "---------------------------\n",
            "a :  b\n",
            "b :  a  c\n",
            "c :  b  d\n",
            "d :  d\n",
            "---------------------------\n",
            "1 :  2\n",
            "2 :  1  3\n",
            "3 :  2  4\n",
            "4 :  4\n"
          ]
        }
      ]
    },
    {
      "cell_type": "code",
      "source": [
        "graph = {\n",
        "  \"a\": [\"b\"],\n",
        "  \"b\": [\"a\", \"c\"],\n",
        "  \"c\": [\"b\", \"d\"],\n",
        "  \"d\": [\"c\"]\n",
        "}\n",
        "print(graph)\n",
        "print(\"---------------------------\")\n",
        "print_graph(graph)"
      ],
      "metadata": {
        "colab": {
          "base_uri": "https://localhost:8080/"
        },
        "id": "-WN2GXWRO7a-",
        "outputId": "b3f3b097-1280-4021-d946-547d021f04c9"
      },
      "execution_count": 14,
      "outputs": [
        {
          "output_type": "stream",
          "name": "stdout",
          "text": [
            "{'a': ['b'], 'b': ['a', 'c'], 'c': ['b', 'd'], 'd': ['c']}\n",
            "---------------------------\n",
            "a :  b\n",
            "b :  a  c\n",
            "c :  b  d\n",
            "d :  c\n"
          ]
        }
      ]
    },
    {
      "cell_type": "code",
      "source": [
        "add_vertex(graph, \"e\")\n",
        "print_graph(graph)"
      ],
      "metadata": {
        "colab": {
          "base_uri": "https://localhost:8080/"
        },
        "id": "eSNamb6BTulo",
        "outputId": "3af17d0a-47cc-4a35-ba6e-0c4254525344"
      },
      "execution_count": 15,
      "outputs": [
        {
          "output_type": "stream",
          "name": "stdout",
          "text": [
            "a :  b\n",
            "b :  a  c\n",
            "c :  b  d\n",
            "d :  c\n",
            "e :\n"
          ]
        }
      ]
    },
    {
      "cell_type": "code",
      "source": [
        "add_edge(graph, [\"e\", \"f\"])\n",
        "print_graph(graph)"
      ],
      "metadata": {
        "colab": {
          "base_uri": "https://localhost:8080/"
        },
        "id": "h20fs6XzT1v3",
        "outputId": "e7c3ecff-5834-4e90-f286-ea0998850f82"
      },
      "execution_count": 16,
      "outputs": [
        {
          "output_type": "stream",
          "name": "stdout",
          "text": [
            "a :  b\n",
            "b :  a  c\n",
            "c :  b  d\n",
            "d :  c\n",
            "e :  f\n",
            "f :  e\n"
          ]
        }
      ]
    },
    {
      "cell_type": "code",
      "source": [
        "add_arc(graph, [\"e\", \"a\"]) # breaking the symmetry\n",
        "print_graph(graph)"
      ],
      "metadata": {
        "colab": {
          "base_uri": "https://localhost:8080/"
        },
        "id": "NTRLKliDT9mR",
        "outputId": "8c18bf8d-82db-4af3-e293-b27fce3afd37"
      },
      "execution_count": 17,
      "outputs": [
        {
          "output_type": "stream",
          "name": "stdout",
          "text": [
            "a :  b\n",
            "b :  a  c\n",
            "c :  b  d\n",
            "d :  c\n",
            "e :  f  a\n",
            "f :  e\n"
          ]
        }
      ]
    },
    {
      "cell_type": "code",
      "source": [
        "add_edge(graph, [\"a\", \"e\"]) # restoring the symmetry\n",
        "print_graph(graph)"
      ],
      "metadata": {
        "colab": {
          "base_uri": "https://localhost:8080/"
        },
        "id": "qplimjtMUGPN",
        "outputId": "60e9166d-44e9-4f56-92d5-6359388b7b90"
      },
      "execution_count": 18,
      "outputs": [
        {
          "output_type": "stream",
          "name": "stdout",
          "text": [
            "a :  b  e\n",
            "b :  a  c\n",
            "c :  b  d\n",
            "d :  c\n",
            "e :  f  a\n",
            "f :  e\n"
          ]
        }
      ]
    },
    {
      "cell_type": "code",
      "source": [
        "add_edge(graph, [\"e\", \"f\"]) # do nothing, an edge already exists\n",
        "print_graph(graph)"
      ],
      "metadata": {
        "colab": {
          "base_uri": "https://localhost:8080/"
        },
        "id": "GuEBCTrUUM1V",
        "outputId": "6ccf8618-23fe-484c-cbfc-587d8c5ee437"
      },
      "execution_count": 19,
      "outputs": [
        {
          "output_type": "stream",
          "name": "stdout",
          "text": [
            "a :  b  e\n",
            "b :  a  c\n",
            "c :  b  d\n",
            "d :  c\n",
            "e :  f  a\n",
            "f :  e\n"
          ]
        }
      ]
    },
    {
      "cell_type": "code",
      "source": [
        "add_edge(graph, [\"e\", \"e\"]) # an error"
      ],
      "metadata": {
        "colab": {
          "base_uri": "https://localhost:8080/",
          "height": 283
        },
        "id": "H16ojmt5UWKW",
        "outputId": "6afd0317-b2b5-41dc-f390-9b770f96589f"
      },
      "execution_count": 20,
      "outputs": [
        {
          "output_type": "error",
          "ename": "ValueError",
          "evalue": "Loops are not allowed!",
          "traceback": [
            "\u001b[0;31m---------------------------------------------------------------------------\u001b[0m",
            "\u001b[0;31mValueError\u001b[0m                                Traceback (most recent call last)",
            "\u001b[0;32m<ipython-input-20-7f190627ee01>\u001b[0m in \u001b[0;36m<cell line: 1>\u001b[0;34m()\u001b[0m\n\u001b[0;32m----> 1\u001b[0;31m \u001b[0madd_edge\u001b[0m\u001b[0;34m(\u001b[0m\u001b[0mgraph\u001b[0m\u001b[0;34m,\u001b[0m \u001b[0;34m[\u001b[0m\u001b[0;34m\"e\"\u001b[0m\u001b[0;34m,\u001b[0m \u001b[0;34m\"e\"\u001b[0m\u001b[0;34m]\u001b[0m\u001b[0;34m)\u001b[0m \u001b[0;31m# an error\u001b[0m\u001b[0;34m\u001b[0m\u001b[0;34m\u001b[0m\u001b[0m\n\u001b[0m",
            "\u001b[0;32m<ipython-input-3-f881b29ac00d>\u001b[0m in \u001b[0;36madd_edge\u001b[0;34m(graph, edge)\u001b[0m\n\u001b[1;32m     26\u001b[0m   \u001b[0madd_vertex\u001b[0m\u001b[0;34m(\u001b[0m\u001b[0mgraph\u001b[0m\u001b[0;34m,\u001b[0m \u001b[0mv\u001b[0m\u001b[0;34m)\u001b[0m\u001b[0;34m\u001b[0m\u001b[0;34m\u001b[0m\u001b[0m\n\u001b[1;32m     27\u001b[0m   \u001b[0;32mif\u001b[0m \u001b[0mu\u001b[0m \u001b[0;34m==\u001b[0m \u001b[0mv\u001b[0m\u001b[0;34m:\u001b[0m\u001b[0;34m\u001b[0m\u001b[0;34m\u001b[0m\u001b[0m\n\u001b[0;32m---> 28\u001b[0;31m     \u001b[0;32mraise\u001b[0m \u001b[0mValueError\u001b[0m\u001b[0;34m(\u001b[0m\u001b[0;34m\"Loops are not allowed!\"\u001b[0m\u001b[0;34m)\u001b[0m\u001b[0;34m\u001b[0m\u001b[0;34m\u001b[0m\u001b[0m\n\u001b[0m\u001b[1;32m     29\u001b[0m   \u001b[0;32mif\u001b[0m \u001b[0mv\u001b[0m \u001b[0;32mnot\u001b[0m \u001b[0;32min\u001b[0m \u001b[0mgraph\u001b[0m\u001b[0;34m[\u001b[0m\u001b[0mu\u001b[0m\u001b[0;34m]\u001b[0m\u001b[0;34m:\u001b[0m\u001b[0;34m\u001b[0m\u001b[0;34m\u001b[0m\u001b[0m\n\u001b[1;32m     30\u001b[0m     \u001b[0mgraph\u001b[0m\u001b[0;34m[\u001b[0m\u001b[0mu\u001b[0m\u001b[0;34m]\u001b[0m\u001b[0;34m.\u001b[0m\u001b[0mappend\u001b[0m\u001b[0;34m(\u001b[0m\u001b[0mv\u001b[0m\u001b[0;34m)\u001b[0m\u001b[0;34m\u001b[0m\u001b[0;34m\u001b[0m\u001b[0m\n",
            "\u001b[0;31mValueError\u001b[0m: Loops are not allowed!"
          ]
        }
      ]
    },
    {
      "cell_type": "code",
      "source": [
        "add_arc(graph, [\"e\", \"e\"]) # OK - loops are allowed in digraphs\n",
        "print_graph(graph)"
      ],
      "metadata": {
        "id": "OJsBnowmUdQe"
      },
      "execution_count": null,
      "outputs": []
    },
    {
      "cell_type": "markdown",
      "source": [
        "## Random graphs generator in the $G(n,p)$ model."
      ],
      "metadata": {
        "id": "OCAyaxkxU_S0"
      }
    },
    {
      "cell_type": "code",
      "source": [
        "# for repeatness\n",
        "seed(2024)"
      ],
      "metadata": {
        "id": "9Yb_KmFOUowQ"
      },
      "execution_count": null,
      "outputs": []
    },
    {
      "cell_type": "code",
      "source": [
        "#draw a graph G(10, 1/3)\n",
        "n = 10\n",
        "p = 1/3\n",
        "random_graph = {}\n",
        "for i in range(1, n+1):\n",
        "  add_vertex(random_graph, i)\n",
        "  for j in range(1, i):\n",
        "    if random() < p:\n",
        "      add_edge(random_graph, [i, j])\n",
        "\n",
        "print_graph(random_graph)"
      ],
      "metadata": {
        "id": "grwKrYbiVNe8"
      },
      "execution_count": null,
      "outputs": []
    }
  ]
}
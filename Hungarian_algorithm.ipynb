{
  "cells": [
    {
      "cell_type": "markdown",
      "metadata": {
        "id": "view-in-github",
        "colab_type": "text"
      },
      "source": [
        "<a href=\"https://colab.research.google.com/github/pgordin/GraphsSN2024_1/blob/main/Hungarian_algorithm.ipynb\" target=\"_parent\"><img src=\"https://colab.research.google.com/assets/colab-badge.svg\" alt=\"Open In Colab\"/></a>"
      ]
    },
    {
      "cell_type": "code",
      "execution_count": null,
      "metadata": {
        "id": "LF49yWjJIZfl",
        "outputId": "25dc1453-4ff6-498a-eb7a-c0453b1686d2"
      },
      "outputs": [
        {
          "name": "stdout",
          "output_type": "stream",
          "text": [
            "Optimal Assignment: [(0, 2), (1, 0), (2, 4), (3, 1), (4, 3)]\n",
            "Minimum Cost: -31\n"
          ]
        }
      ],
      "source": [
        "import numpy as np\n",
        "\n",
        "def hungarian_algorithm(cost_matrix):\n",
        "    cost_matrix = np.array(cost_matrix)\n",
        "    original_matrix = cost_matrix.copy()  # we keep a copy of the original matrix for cost calculation\n",
        "    n, m = cost_matrix.shape\n",
        "\n",
        "    # subtract row minimum\n",
        "    #it ensures that every row contains at least one zero simplifying the cost matrix\n",
        "    for i in range(n):\n",
        "        cost_matrix[i] -= cost_matrix[i].min()\n",
        "\n",
        "    # subtract column minimum (the same as we did with rows)\n",
        "    for j in range(m):\n",
        "        cost_matrix[:, j] -= cost_matrix[:, j].min()\n",
        "\n",
        "    # cover all zeros with a minimum number of lines\n",
        "    def cover_zeros(matrix):\n",
        "        covered_rows = set()\n",
        "        covered_columns = set()\n",
        "        zero_positions = list(zip(*np.where(matrix == 0))) #we find all zero positions\n",
        "        while zero_positions:\n",
        "            # count zeros per row and per column\n",
        "            row_counts = np.zeros(n)\n",
        "            col_counts = np.zeros(m)\n",
        "            # counting zeros in each row and column\n",
        "            for r, c in zero_positions:\n",
        "                row_counts[r] += 1\n",
        "                col_counts[c] += 1\n",
        "            # choosing row or column with the most zeros\n",
        "            if row_counts.max() >= col_counts.max():\n",
        "                row = row_counts.argmax()\n",
        "                covered_rows.add(row)\n",
        "                zero_positions = [(r, c) for r, c in zero_positions if r != row] # removing all covered zeros in this row from zero_positions\n",
        "            else:\n",
        "                col = col_counts.argmax()\n",
        "                covered_columns.add(col)\n",
        "                zero_positions = [(r, c) for r, c in zero_positions if c != col] # removing all the covered zeros column from zero_positions\n",
        "\n",
        "        return covered_rows, covered_columns\n",
        "\n",
        "    while True:\n",
        "        covered_rows, covered_columns = cover_zeros(cost_matrix)\n",
        "        total_covered = len(covered_rows) + len(covered_columns) #we check how many lines were used to cover all zeros in the matrix\n",
        "        if total_covered >= n:\n",
        "            break\n",
        "\n",
        "        # adjust the matrix (if the number of lines covering all zeros is less than the matrix size)\n",
        "        uncovered_values = [\n",
        "            cost_matrix[r, c]\n",
        "            for r in range(n)\n",
        "            for c in range(m)\n",
        "            if r not in covered_rows and c not in covered_columns]\n",
        "        min_uncovered = min(uncovered_values)\n",
        "        for r in range(n):\n",
        "            for c in range(m):\n",
        "                if r not in covered_rows and c not in covered_columns: # subtract min value from uncovered values\n",
        "                    cost_matrix[r, c] -= min_uncovered\n",
        "                elif r in covered_rows and c in covered_columns: # add the min value to the zero in the intersection of the lines\n",
        "                    cost_matrix[r, c] += min_uncovered\n",
        "\n",
        "    # find the optimal assignment (this part was changed to consider all of the rows)\n",
        "    row_ind, col_ind = linear_sum_assignment(cost_matrix)\n",
        "    optimal_assignment = list(zip(row_ind, col_ind))\n",
        "\n",
        "    # calculating the minimum cost\n",
        "    minimum_cost = sum(original_matrix[r, c] for r, c in optimal_assignment)\n",
        "    return optimal_assignment, minimum_cost\n",
        "\n",
        "\n",
        "# example\n",
        "original_matrix = [\n",
        "    [-4, -1, -6, -2, -3],\n",
        "    [-5, 0, -3, -7, -6],\n",
        "    [-2, -3, -4, -5, -8],\n",
        "    [-3, -4, -6, -3, -4],\n",
        "    [-4, -6, -5, -8, -6]\n",
        "]\n",
        "\n",
        "assignment, cost = hungarian_algorithm(original_matrix)\n",
        "print(\"Optimal Assignment:\", assignment)\n",
        "print(\"Minimum Cost:\", cost)\n"
      ]
    },
    {
      "cell_type": "markdown",
      "metadata": {
        "id": "x0GMBoBTIZfn"
      },
      "source": [
        "CODE'S CONNECTION WITH GRAPH THEORY:\n",
        "\n",
        "The assignment problem can be modeled as a weighted bipartite graph, where one set of nodes represents workers (rows) and the other set represents tasks (columns).\n",
        "The edges between these sets have weights representing the cost of assigning a worker to a task (values in the cost matrix).\n",
        "\n",
        "Our goal is to find the perfect matching in this bipartite graph with the minimum (or maximum as in this example) total cost.\n",
        "A perfect matching is a subset of edges such that each node is connected to exactly one other node (every worker is assigned to exactly one task)."
      ]
    }
  ],
  "metadata": {
    "kernelspec": {
      "display_name": "Python 3",
      "language": "python",
      "name": "python3"
    },
    "language_info": {
      "codemirror_mode": {
        "name": "ipython",
        "version": 3
      },
      "file_extension": ".py",
      "mimetype": "text/x-python",
      "name": "python",
      "nbconvert_exporter": "python",
      "pygments_lexer": "ipython3",
      "version": "3.9.6"
    },
    "colab": {
      "provenance": [],
      "include_colab_link": true
    }
  },
  "nbformat": 4,
  "nbformat_minor": 0
}
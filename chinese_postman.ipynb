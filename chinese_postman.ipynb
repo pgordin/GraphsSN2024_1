{
  "nbformat": 4,
  "nbformat_minor": 0,
  "metadata": {
    "colab": {
      "provenance": []
    },
    "kernelspec": {
      "name": "python3",
      "display_name": "Python 3"
    },
    "language_info": {
      "name": "python"
    }
  },
  "cells": [
    {
      "cell_type": "markdown",
      "source": [
        "# The undirected version of the Chinese postman problem\n",
        "Alicia Fernández Martínez 905092\n",
        "\n"
      ],
      "metadata": {
        "id": "38HYwEMAMxpm"
      }
    },
    {
      "cell_type": "markdown",
      "source": [
        "In graph theory, the Chinese Postman Problem (CPP) addresses a question:\n",
        "\"Given a weighted graph, what is the shortest closed path that traverses each edge of the graph at least once?\"\n",
        "\n",
        "This problem, named after a Chinese mathematician, Mei-Ko Kwan, models real-world scenarios such as mail delivery routes, garbage collection paths, or street-sweeping plans. However, when the graph is undirected, the solution involves specific adaptations, which makes it a variant called the Undirected Chinese Postman Problem (UCPP).\n"
      ],
      "metadata": {
        "id": "G7A0GtYXM8sz"
      }
    },
    {
      "cell_type": "code",
      "source": [
        "from itertools import combinations  # Import itertools to generate node pairs\n",
        "import heapq  # Import heapq for Dijkstra's algorithm\n",
        "\n",
        "# Function to find an Eulerian tour in a graph\n",
        "def find_eulerian_tour(graph):\n",
        "    # Calculate the degree of each node (number of neighbors)\n",
        "    degree = {node: len(neighbors) for node, neighbors in graph.items()}\n",
        "\n",
        "    # Find nodes with an odd degree\n",
        "    odd_degree_nodes = [node for node, deg in degree.items() if deg % 2 == 1]\n",
        "\n",
        "    # If there are odd-degree nodes, the graph is not Eulerian\n",
        "    if odd_degree_nodes:\n",
        "        raise ValueError(\"Graph is not Eulerian\")  # Raise an error if the graph is not Eulerian\n",
        "\n",
        "    # Initialize the Eulerian tour and the stack\n",
        "    tour = []\n",
        "    stack = [next(iter(graph))]  # Stack for performing the tour (starts with any arbitrary node)\n",
        "\n",
        "    while stack:\n",
        "        node = stack[-1]  # Current node (last in the stack)\n",
        "\n",
        "        # If the current node has unvisited neighbors\n",
        "        if graph[node]:\n",
        "            next_node, _ = graph[node].pop()  # Take a neighbor and remove it from connections\n",
        "            graph[next_node].remove((node, _))  # Remove the reverse edge\n",
        "            stack.append(next_node)  # Push the neighbor onto the stack\n",
        "        else:\n",
        "            tour.append(stack.pop())  # If no neighbors left, add the node to the tour\n",
        "\n",
        "    return tour  # Return the Eulerian tour\n",
        "\n",
        "\n",
        "# Function to solve the Chinese Postman Problem\n",
        "def chinese_postman(graph):\n",
        "    # Calculate the degree of each node\n",
        "    degree = {node: len(neighbors) for node, neighbors in graph.items()}\n",
        "\n",
        "    # Find nodes with an odd degree\n",
        "    odd_degree_nodes = [node for node, deg in degree.items() if deg % 2 == 1]\n",
        "\n",
        "    # If there are no odd-degree nodes, the graph is already Eulerian\n",
        "    if not odd_degree_nodes:\n",
        "        return find_eulerian_tour(graph.copy()), 0  # Find the Eulerian tour and return cost 0\n",
        "\n",
        "    # Generate all possible pairs of odd-degree nodes\n",
        "    pairs = list(combinations(odd_degree_nodes, 2))\n",
        "\n",
        "    # Calculate the distances between each pair of odd-degree nodes using Dijkstra's algorithm\n",
        "    distances = {(u, v): single_source_shortest_paths(graph, u)[v] for u, v in pairs}\n",
        "\n",
        "    match = []  # List to store the matched pairs\n",
        "    used = set()  # Set to track nodes that have already been used\n",
        "\n",
        "    # Match nodes with the smallest distance between them\n",
        "    for u, v in sorted(distances, key=distances.get):\n",
        "        if u not in used and v not in used:  # If both nodes are not already matched\n",
        "            match.append((u, v))  # Match the nodes\n",
        "            used.update({u, v})  # Mark the nodes as used\n",
        "\n",
        "    # Add additional edges to match odd-degree nodes\n",
        "    for u, v in match:\n",
        "        graph[u].append((v, distances[(u, v)]))  # Add the edge to the graph\n",
        "        graph[v].append((u, distances[(u, v)]))  # Add the reverse edge (undirected)\n",
        "\n",
        "    # Find the Eulerian tour in the modified graph\n",
        "    tour = find_eulerian_tour(graph.copy())\n",
        "\n",
        "    # Calculate the additional cost of the added edges\n",
        "    additional_cost = sum(distances[(u, v)] for u, v in match)\n",
        "\n",
        "    return tour, additional_cost\n",
        "\n",
        "\n",
        "# Helper function to create a graph from edges (for the examples)\n",
        "def graph_from_edges(edges, directed=False):\n",
        "    graph = {}\n",
        "    for u, v, weight in edges:\n",
        "        if u not in graph:\n",
        "            graph[u] = []\n",
        "        if v not in graph:\n",
        "            graph[v] = []\n",
        "        graph[u].append((v, weight))  # Add the edge with its weight\n",
        "        if not directed:\n",
        "            graph[v].append((u, weight))  # Add the reverse edge if it's undirected\n",
        "    return graph\n",
        "\n",
        "# Dijkstra's algorithm to calculate shortest paths from a source node to all others\n",
        "def single_source_shortest_paths(graph, start):\n",
        "    distances = {node: float('inf') for node in graph}  # Initialize distances to infinity\n",
        "    distances[start] = 0  # Distance from start node to itself is 0\n",
        "    priority_queue = [(0, start)]  # Priority queue for Dijkstra's algorithm\n",
        "\n",
        "    while priority_queue:\n",
        "        current_distance, current_node = heapq.heappop(priority_queue)  # Pop the closest node\n",
        "        if current_distance > distances[current_node]:  # If current distance is greater than known distance, skip\n",
        "            continue\n",
        "        for neighbor, weight in graph[current_node]:  # Check neighbors of current node\n",
        "            distance = current_distance + weight\n",
        "            if distance < distances[neighbor]:  # If a shorter path is found\n",
        "                distances[neighbor] = distance\n",
        "                heapq.heappush(priority_queue, (distance, neighbor))  # Add the neighbor with its new distance\n",
        "\n",
        "    return distances  # Return a dictionary with the shortest distances from the start node\n"
      ],
      "metadata": {
        "id": "81yWSIKjM4ut"
      },
      "execution_count": 9,
      "outputs": []
    },
    {
      "cell_type": "markdown",
      "source": [
        "# Examples of usage"
      ],
      "metadata": {
        "id": "uRftKju2O1Hb"
      }
    },
    {
      "cell_type": "code",
      "source": [
        "#1\n",
        "graph_weighted = graph_from_edges([(0, 1, 2), (1, 2, 3), (2, 3, 1), (3, 4, 4), (4, 5, 2), (5, 0, 3)], directed=False)\n",
        "postman_tour, added_cost = chinese_postman(graph_weighted)\n",
        "print(\"Chinese Postman Tour:\", postman_tour)\n",
        "print(\"Additional cost:\", added_cost)\n",
        "\n",
        "#2\n",
        "graph_weighted_2 = graph_from_edges([\n",
        "    (0, 1, 4), (1, 2, 6), (2, 3, 5), (3, 4, 7), (4, 0, 3), (1, 3, 2)\n",
        "], directed=False)\n",
        "postman_tour_2, added_cost_2 = chinese_postman(graph_weighted_2)\n",
        "print(\"Chinese Postman Tour:\", postman_tour_2)\n",
        "print(\"Additional cost:\", added_cost_2)\n",
        "\n",
        "#3 (large example)\n",
        "graph_weighted_large = graph_from_edges([\n",
        "    (0, 1, 10), (0, 2, 15), (0, 3, 20),\n",
        "    (1, 2, 35), (1, 4, 25), (1, 5, 30),\n",
        "    (2, 3, 40), (2, 6, 50), (3, 7, 45),\n",
        "    (4, 5, 5), (4, 6, 10), (5, 7, 20),\n",
        "    (6, 7, 25), (6, 8, 30), (7, 8, 35),\n",
        "    (8, 9, 40), (7, 9, 20), (5, 9, 15)\n",
        "], directed=False)\n",
        "\n",
        "postman_tour_large, added_cost_large = chinese_postman(graph_weighted_large)\n",
        "\n",
        "print(\"Chinese Postman Tour (Large Graph):\", postman_tour_large)\n",
        "print(\"Additional cost (Large Graph):\", added_cost_large)"
      ],
      "metadata": {
        "colab": {
          "base_uri": "https://localhost:8080/"
        },
        "id": "OzhP8_3DO245",
        "outputId": "31316ae4-0d76-4039-f924-26f31c629649"
      },
      "execution_count": 10,
      "outputs": [
        {
          "output_type": "stream",
          "name": "stdout",
          "text": [
            "Chinese Postman Tour: [0, 1, 2, 3, 4, 5, 0]\n",
            "Additional cost: 0\n",
            "Chinese Postman Tour: [0, 1, 2, 3, 1, 3, 4, 0]\n",
            "Additional cost: 2\n",
            "Chinese Postman Tour (Large Graph): [0, 1, 4, 5, 1, 2, 3, 7, 5, 9, 7, 6, 4, 9, 8, 7, 8, 6, 2, 0, 3, 0]\n",
            "Additional cost (Large Graph): 75\n"
          ]
        }
      ]
    }
  ]
}
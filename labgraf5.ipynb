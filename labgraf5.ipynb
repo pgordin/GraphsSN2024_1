{
  "nbformat": 4,
  "nbformat_minor": 0,
  "metadata": {
    "colab": {
      "provenance": [],
      "authorship_tag": "ABX9TyMpfpp2U4tCuUTW31pWl8qm",
      "include_colab_link": true
    },
    "kernelspec": {
      "name": "python3",
      "display_name": "Python 3"
    },
    "language_info": {
      "name": "python"
    }
  },
  "cells": [
    {
      "cell_type": "markdown",
      "metadata": {
        "id": "view-in-github",
        "colab_type": "text"
      },
      "source": [
        "<a href=\"https://colab.research.google.com/github/pgordin/GraphsSN2024_1/blob/main/labgraf5.ipynb\" target=\"_parent\"><img src=\"https://colab.research.google.com/assets/colab-badge.svg\" alt=\"Open In Colab\"/></a>"
      ]
    },
    {
      "cell_type": "code",
      "execution_count": null,
      "metadata": {
        "colab": {
          "base_uri": "https://localhost:8080/"
        },
        "id": "Fl1geAhMVtt-",
        "outputId": "1537096b-f002-473c-f0b3-a63227fffb5b"
      },
      "outputs": [
        {
          "output_type": "stream",
          "name": "stdout",
          "text": [
            "[[0, 2, 1], [3, 5, 4]]\n",
            "[[ 0.  4.  1. inf]\n",
            " [inf  0. inf  1.]\n",
            " [inf  2.  0.  5.]\n",
            " [inf inf inf  0.]]\n",
            "defaultdict(<class 'list'>, {0: [(1, 4.0), (2, 1.0)], 1: [(3, 1.0)], 2: [(1, 2.0), (3, 5.0)]})\n",
            "[[ 0.  3.  1.  4.]\n",
            " [inf  0. inf  1.]\n",
            " [inf  2.  0.  3.]\n",
            " [inf inf inf  0.]]\n"
          ]
        }
      ],
      "source": [
        "from collections import defaultdict, deque\n",
        "\n",
        "def StronglyConnectedComponents(graph):\n",
        "    def dfs(v, visited, stack):\n",
        "        visited.add(v)\n",
        "        for neighbor in graph[v]:\n",
        "            if neighbor not in visited:\n",
        "                dfs(neighbor, visited, stack)\n",
        "        stack.append(v)\n",
        "\n",
        "    def reverse_graph(graph):\n",
        "        reversed_graph = defaultdict(list)\n",
        "        for u in graph:\n",
        "            for v in graph[u]:\n",
        "                reversed_graph[v].append(u)\n",
        "        return reversed_graph\n",
        "\n",
        "    def dfs_reverse(v, visited, component, graph):\n",
        "        visited.add(v)\n",
        "        component.append(v)\n",
        "        for neighbor in graph[v]:\n",
        "            if neighbor not in visited:\n",
        "                dfs_reverse(neighbor, visited, component, graph)\n",
        "\n",
        "    stack = []\n",
        "    visited = set()\n",
        "    for vertex in graph:\n",
        "        if vertex not in visited:\n",
        "            dfs(vertex, visited, stack)\n",
        "\n",
        "    reversed_graph = reverse_graph(graph)\n",
        "    visited.clear()\n",
        "    scc = []\n",
        "    while stack:\n",
        "        v = stack.pop()\n",
        "        if v not in visited:\n",
        "            component = []\n",
        "            dfs_reverse(v, visited, component, reversed_graph)\n",
        "            scc.append(component)\n",
        "\n",
        "    return scc\n",
        "#2\n",
        "import numpy as np\n",
        "def graph_to_matrix(graph, num_vertices):\n",
        "    matrix = np.full((num_vertices, num_vertices), float('inf'))\n",
        "    np.fill_diagonal(matrix, 0)\n",
        "    for u in graph:\n",
        "        for v, weight in graph[u]:\n",
        "            matrix[u][v] = weight\n",
        "    return matrix\n",
        "\n",
        "def matrix_to_graph(matrix):\n",
        "    graph = defaultdict(list)\n",
        "    for i in range(len(matrix)):\n",
        "        for j in range(len(matrix)):\n",
        "            if matrix[i][j] != float('inf') and i != j:\n",
        "                graph[i].append((j, matrix[i][j]))\n",
        "    return graph\n",
        "#3\n",
        "def floyd_warshall(matrix):\n",
        "    num_vertices = len(matrix)\n",
        "    dist = np.copy(matrix)\n",
        "    for k in range(num_vertices):\n",
        "        for i in range(num_vertices):\n",
        "            for j in range(num_vertices):\n",
        "                dist[i][j] = min(dist[i][j], dist[i][k] + dist[k][j])\n",
        "    return dist\n",
        "\n",
        "graph = {\n",
        "    0: [1],\n",
        "    1: [2],\n",
        "    2: [0, 3],\n",
        "    3: [4],\n",
        "    4: [5],\n",
        "    5: [3]\n",
        "}\n",
        "print(StronglyConnectedComponents(graph))\n",
        "\n",
        "weighted_graph = {\n",
        "    0: [(1, 4), (2, 1)],\n",
        "    1: [(3, 1)],\n",
        "    2: [(1, 2), (3, 5)],\n",
        "    3: []\n",
        "}\n",
        "matrix = graph_to_matrix(weighted_graph, 4)\n",
        "print(matrix)\n",
        "\n",
        "reconstructed_graph = matrix_to_graph(matrix)\n",
        "print(reconstructed_graph)\n",
        "\n",
        "distance_matrix = floyd_warshall(matrix)\n",
        "print(distance_matrix)\n"
      ]
    },
    {
      "cell_type": "code",
      "source": [
        "graph = {\n",
        "    0: [(1, 3), (2, 8)],\n",
        "    1: [(2, 2), (3, 5)],\n",
        "    2: [(3, 1)],\n",
        "    3: []\n",
        "}\n",
        "matrix = graph_to_matrix(graph, 4)\n",
        "dist_matrix = floyd_warshall(matrix)\n",
        "print(\"Distance matrix:\")\n",
        "print(dist_matrix)"
      ],
      "metadata": {
        "colab": {
          "base_uri": "https://localhost:8080/"
        },
        "id": "-8XJ__dHWThx",
        "outputId": "c6c52a17-ebdd-4427-9139-d268f3b17b73"
      },
      "execution_count": null,
      "outputs": [
        {
          "output_type": "stream",
          "name": "stdout",
          "text": [
            "Distance matrix:\n",
            "[[ 0.  3.  5.  6.]\n",
            " [inf  0.  2.  3.]\n",
            " [inf inf  0.  1.]\n",
            " [inf inf inf  0.]]\n"
          ]
        }
      ]
    }
  ]
}
{
 "cells": [
  {
   "cell_type": "markdown",
   "metadata": {},
   "source": [
    "# Traveling Salesman Problem (TSP)\n",
    "\n",
    "**The Traveling Salesman Problem (TSP)** is a famous optimization problem in computer science and operations research. It involves finding the shortest possible route for a salesman to visit a set of cities exactly once and return to the starting point. The problem is **NP-hard**, meaning that there is no known efficient algorithm to solve it optimally for large instances. This has led to the development of approximation algorithms that provide near-optimal solutions in a reasonable amount of time.\n",
    "\n",
    "Note the difference between **Hamiltonian Cycle and TSP**. The Hamiltonian cycle problem is to find if there exists a tour that visits every city exactly once. Here we know that a Hamiltonian tour exists (because the graph is complete), and in fact, many such tours exist; **the problem is to find a minimum weight Hamiltonian cycle.**\n",
    "\n",
    "For this project, I focus on the **Christofides Algorithm**, which was independently developed by **Nikolai Serdyukov** in 1978. This approximation algorithm is specifically designed for the **metric TSP**, where the triangle inequality holds (i.e., going directly from \\(A\\) to \\(C\\) is never more expensive than going via \\(B\\)). The assumption of metric properties is not just a theoretical convenience but a reflection of many real-world problems, such as road networks, where direct routes are typically shorter or equal in length compared to detours. Metric TSP simplifies the problem structure and allows approximation algorithms like Christofides-Serdyukov to achieve guaranteed performance within **1.5 times the optimal solution**, making it both efficient and reliable for practical applications in logistics, delivery systems, and network design."
   ]
  },
  {
   "cell_type": "code",
   "execution_count": null,
   "metadata": {},
   "outputs": [],
   "source": [
    "#importing necessary libraries\n",
    "import numpy as np\n",
    "import networkx as nx\n",
    "from collections import defaultdict"
   ]
  },
  {
   "cell_type": "markdown",
   "metadata": {},
   "source": [
    "**Class for generating matrices**"
   ]
  },
  {
   "cell_type": "code",
   "execution_count": 781,
   "metadata": {},
   "outputs": [],
   "source": [
    "class DistanceMatrixGenerator:\n",
    "    @staticmethod\n",
    "    def generate_metric_matrix(size, max_coordinate=100, min_distance=1):\n",
    "        \"\"\"\n",
    "        Generate a symmetric distance matrix that satisfies the triangle inequality (metric TSP).\n",
    "        This function will repeatedly generate matrices until one satisfies the conditions.\n",
    "        :param size: Number of cities (vertices).\n",
    "        :param max_coordinate: Maximum coordinate value for the cities.\n",
    "        :param min_distance: Minimum distance between cities.\n",
    "        :return: Symmetric distance matrix with integer weights.\n",
    "        \"\"\"\n",
    "        while True:  # Loop until a valid matrix is generated\n",
    "            coordinates = np.random.randint(0, max_coordinate, size=(size, 2))\n",
    "            matrix = np.zeros((size, size), dtype=int)\n",
    "\n",
    "            # Calculate distances and populate the matrix\n",
    "            for i in range(size):\n",
    "                for j in range(size):\n",
    "                    if i != j:\n",
    "                        distance = np.linalg.norm(coordinates[i] - coordinates[j])\n",
    "                        matrix[i][j] = max(int(round(distance)), min_distance)\n",
    "\n",
    "            if DistanceMatrixGenerator.validate_metric_properties(matrix):\n",
    "                return matrix  # Return the valid matrix\n",
    "\n",
    "    @staticmethod\n",
    "    def validate_metric_properties(matrix):\n",
    "        \"\"\"\n",
    "        Validate that the matrix satisfies the triangle inequality.\n",
    "        :param matrix: Distance matrix.\n",
    "        :return: True if metric properties hold, False otherwise.\n",
    "        \"\"\"\n",
    "        size = len(matrix)\n",
    "        for i in range(size):\n",
    "            for j in range(size):\n",
    "                for k in range(size):\n",
    "                    if i != j and j != k and i != k:\n",
    "                        if matrix[i][k] > matrix[i][j] + matrix[j][k]:\n",
    "                            return False\n",
    "        return True"
   ]
  },
  {
   "cell_type": "markdown",
   "metadata": {},
   "source": [
    "**Class for handling Multigraphs**"
   ]
  },
  {
   "cell_type": "code",
   "execution_count": 774,
   "metadata": {},
   "outputs": [],
   "source": [
    "class MultiGraph:\n",
    "    def __init__(self, num_vertices):\n",
    "        self.graph = defaultdict(lambda: defaultdict(int))\n",
    "        self.num_vertices = num_vertices\n",
    "\n",
    "    def add_edge(self, u, v, weight):\n",
    "        \"\"\"\n",
    "        Add an edge to the multigraph.\n",
    "        \"\"\"\n",
    "        self.graph[u][v] += 1\n",
    "        self.graph[v][u] += 1\n",
    "\n",
    "    def get_degree(self, vertex):\n",
    "        \"\"\"\n",
    "        Get the degree of a vertex, accounting for duplicate edges.\n",
    "        \"\"\"\n",
    "        return sum(self.graph[vertex].values())\n",
    "\n",
    "    def to_adjacency_matrix(self):\n",
    "        \"\"\"\n",
    "        Convert the multigraph to a standard adjacency matrix.\n",
    "        \"\"\"\n",
    "        matrix = np.zeros((self.num_vertices, self.num_vertices), dtype=int)\n",
    "        for u in self.graph:\n",
    "            for v in self.graph[u]:\n",
    "                matrix[u][v] = self.graph[u][v]\n",
    "        return matrix"
   ]
  },
  {
   "cell_type": "markdown",
   "metadata": {},
   "source": [
    "**Class for finding eulerian tour - modified**"
   ]
  },
  {
   "cell_type": "code",
   "execution_count": 787,
   "metadata": {},
   "outputs": [],
   "source": [
    "class GraphDFS:\n",
    "    def __init__(self, adjacency_matrix):\n",
    "        \"\"\"\n",
    "        Initialize the graph with an adjacency matrix.\n",
    "        :param adjacency_matrix: 2D list or numpy array representing the adjacency matrix.\n",
    "        \"\"\"\n",
    "        self.V = len(adjacency_matrix)\n",
    "        self.graph = {i: {} for i in range(self.V)}\n",
    "        self.convert_matrix_to_list(adjacency_matrix)\n",
    "\n",
    "    def convert_matrix_to_list(self, adjacency_matrix):\n",
    "        \"\"\"\n",
    "        Convert the adjacency matrix into an adjacency list.\n",
    "        \"\"\"\n",
    "        for i in range(self.V):\n",
    "            for j in range(self.V):\n",
    "                if adjacency_matrix[i][j] > 0:\n",
    "                    self.graph[i][j] = adjacency_matrix[i][j]\n",
    "\n",
    "    def is_connected(self):\n",
    "        \"\"\"\n",
    "        Check if the graph is connected using DFS.\n",
    "        \"\"\"\n",
    "        visited = [False] * self.V\n",
    "        start = next((i for i in range(self.V) if self.graph[i]), -1)\n",
    "        if start == -1:\n",
    "            return True\n",
    "        self.dfs(start, visited)\n",
    "        return all(visited[i] or not self.graph[i] for i in range(self.V))\n",
    "\n",
    "    def dfs(self, v, visited):\n",
    "        \"\"\"\n",
    "        Perform DFS to mark visited vertices.\n",
    "        \"\"\"\n",
    "        visited[v] = True\n",
    "        for neighbor in self.graph[v]:\n",
    "            if not visited[neighbor]:\n",
    "                self.dfs(neighbor, visited)\n",
    "\n",
    "    def has_all_even_degree(self):\n",
    "        \"\"\"\n",
    "        Check if all vertices have even degrees.\n",
    "        \"\"\"\n",
    "        return all(sum(self.graph[v].values()) % 2 == 0 for v in self.graph)\n",
    "\n",
    "    def dfs_eulerian(self, v, path):\n",
    "        \"\"\"\n",
    "        Perform DFS to construct the Eulerian cycle in a multigraph.\n",
    "        \"\"\"\n",
    "        while self.graph[v]:\n",
    "            neighbor = next(iter(self.graph[v]))\n",
    "            self.graph[v][neighbor] -= 1\n",
    "            self.graph[neighbor][v] -= 1\n",
    "            if self.graph[v][neighbor] == 0:\n",
    "                del self.graph[v][neighbor]\n",
    "            if self.graph[neighbor][v] == 0:\n",
    "                del self.graph[neighbor][v]\n",
    "            self.dfs_eulerian(neighbor, path)\n",
    "        path.append(v)\n",
    "\n",
    "    def euler_tour(self):\n",
    "        \"\"\"\n",
    "        Construct the Eulerian cycle starting from the first vertex.\n",
    "        \"\"\"\n",
    "        if not self.is_connected() or not self.has_all_even_degree():\n",
    "            raise ValueError(\"The graph does not meet the conditions for an Eulerian cycle.\")\n",
    "\n",
    "        path = []\n",
    "        for i in range(self.V):\n",
    "            if self.graph[i]:  # Start from a vertex with edges\n",
    "                self.dfs_eulerian(i, path)\n",
    "                break\n",
    "\n",
    "        path.reverse()\n",
    "        return [(path[i], path[i + 1]) for i in range(len(path) - 1)]"
   ]
  },
  {
   "cell_type": "markdown",
   "metadata": {},
   "source": [
    "**Class with Christofides algorithm**"
   ]
  },
  {
   "cell_type": "code",
   "execution_count": 792,
   "metadata": {},
   "outputs": [],
   "source": [
    "class Christofides:\n",
    "    def __init__(self, adjacency_matrix):\n",
    "        \"\"\"\n",
    "        Initialize the Christofides algorithm with the adjacency matrix.\n",
    "        :param adjacency_matrix: 2D list or numpy array representing the distance matrix.\n",
    "        \"\"\"\n",
    "        self.adjacency_matrix = np.array(adjacency_matrix, dtype=int)\n",
    "        self.num_vertices = len(adjacency_matrix)\n",
    "        self.mst = MultiGraph(self.num_vertices)\n",
    "        self.eulerian_graph = None\n",
    "        self.final_tour = []\n",
    "\n",
    "    def find_mst(self):\n",
    "        \"\"\"\n",
    "        Find the Minimum Spanning Tree (MST) of the graph.\n",
    "        \"\"\"\n",
    "        G = nx.Graph()\n",
    "        for i in range(self.num_vertices):\n",
    "            for j in range(i + 1, self.num_vertices):\n",
    "                if self.adjacency_matrix[i][j] > 0:\n",
    "                    G.add_edge(i, j, weight=self.adjacency_matrix[i][j])\n",
    "        mst_edges = list(nx.minimum_spanning_tree(G).edges(data=True))\n",
    "        for u, v, data in mst_edges:\n",
    "            self.mst.add_edge(u, v, data[\"weight\"])\n",
    "\n",
    "    def find_odd_degree_vertices(self):\n",
    "        \"\"\"\n",
    "        Find vertices with odd degrees in the MST.\n",
    "        \"\"\"\n",
    "        return [i for i in range(self.num_vertices) if self.mst.get_degree(i) % 2 != 0]\n",
    "\n",
    "    def find_min_weight_matching(self, odd_vertices):\n",
    "        \"\"\"\n",
    "        Find a minimum weight perfect matching among odd-degree vertices and add it to the MST.\n",
    "        \"\"\"\n",
    "        G = nx.Graph()\n",
    "        for i in odd_vertices:\n",
    "            for j in odd_vertices:\n",
    "                if i != j:\n",
    "                    G.add_edge(i, j, weight=self.adjacency_matrix[i][j])\n",
    "        matching = nx.algorithms.matching.min_weight_matching(G)\n",
    "        for u, v in matching:\n",
    "            self.mst.add_edge(u, v, self.adjacency_matrix[u][v])\n",
    "\n",
    "    def validate_eulerian_graph(self):\n",
    "        \"\"\"\n",
    "        Validate that the graph has all even degrees after matching.\n",
    "        \"\"\"\n",
    "        degrees = [self.mst.get_degree(i) for i in range(self.num_vertices)]\n",
    "        if not all(degree % 2 == 0 for degree in degrees):\n",
    "            raise ValueError(\"The graph does not have all even degrees after matching.\")\n",
    "\n",
    "    def find_eulerian_cycle(self):\n",
    "        \"\"\"\n",
    "        Construct an Eulerian cycle from the graph.\n",
    "        \"\"\"\n",
    "        self.validate_eulerian_graph()\n",
    "        adj_matrix = self.mst.to_adjacency_matrix()\n",
    "        graph_dfs = GraphDFS(adj_matrix)\n",
    "        eulerian_cycle = graph_dfs.euler_tour()\n",
    "        if not eulerian_cycle:\n",
    "            raise ValueError(\"Eulerian cycle construction failed.\")\n",
    "        return eulerian_cycle\n",
    "\n",
    "    def shortcut_tour(self, eulerian_cycle):\n",
    "        \"\"\"\n",
    "        Construct a Hamiltonian cycle from the Eulerian cycle by visiting each vertex exactly once.\n",
    "        \"\"\"\n",
    "        visited = set()\n",
    "        tour = []\n",
    "        for u, v in eulerian_cycle:\n",
    "            if u not in visited:\n",
    "                tour.append(u)\n",
    "                visited.add(u)\n",
    "        if tour[0] != tour[-1]:\n",
    "            tour.append(tour[0])\n",
    "        self.final_tour = tour\n",
    "\n",
    "    def solve(self):\n",
    "        \"\"\"\n",
    "        Solve the TSP using Christofides' algorithm.\n",
    "        :return: Hamiltonian cycle (final tour).\n",
    "        \"\"\"\n",
    "        self.find_mst()\n",
    "        odd_vertices = self.find_odd_degree_vertices()\n",
    "        self.find_min_weight_matching(odd_vertices)\n",
    "        eulerian_cycle = self.find_eulerian_cycle()\n",
    "        self.shortcut_tour(eulerian_cycle)\n",
    "        return self.final_tour\n",
    "\n",
    "    def calculate_tour_cost(self):\n",
    "        \"\"\"\n",
    "        Calculate the total cost of the TSP tour.\n",
    "        :return: Total cost of the Hamiltonian cycle.\n",
    "        \"\"\"\n",
    "        if not self.final_tour:\n",
    "            raise ValueError(\"No Hamiltonian cycle found.\")\n",
    "        return sum(\n",
    "            self.adjacency_matrix[self.final_tour[i]][self.final_tour[i + 1]]\n",
    "            for i in range(len(self.final_tour) - 1)\n",
    "        )"
   ]
  },
  {
   "cell_type": "markdown",
   "metadata": {},
   "source": [
    "**Example usage**"
   ]
  },
  {
   "cell_type": "code",
   "execution_count": 799,
   "metadata": {},
   "outputs": [
    {
     "name": "stdout",
     "output_type": "stream",
     "text": [
      "Final Tour: [0, 2, 1, 4, 3, 0]\n",
      "Total Cost: 27\n"
     ]
    }
   ],
   "source": [
    "matrix3 = [[ 0, 10,  7,  9, 11],\n",
    "       [10,  0,  5,  2,  2],\n",
    "       [ 7,  5,  0,  5,  5],\n",
    "       [ 9,  2,  5,  0,  4],\n",
    "       [11,  2,  5,  4,  0]]\n",
    "\n",
    "christofides = Christofides(matrix3)\n",
    "try:\n",
    "       solution = christofides.solve()\n",
    "       cost = christofides.calculate_tour_cost()\n",
    "       print(\"Final Tour:\", solution)\n",
    "       print(\"Total Cost:\", cost)\n",
    "except Exception as e:\n",
    "       print(f\"Error: {e}\")"
   ]
  },
  {
   "cell_type": "markdown",
   "metadata": {},
   "source": [
    "**Example usage 2**"
   ]
  },
  {
   "cell_type": "code",
   "execution_count": 800,
   "metadata": {},
   "outputs": [
    {
     "data": {
      "text/plain": [
       "array([[ 0,  4,  5,  7,  7,  9,  2,  9,  1,  8,  9,  5,  1,  8,  4],\n",
       "       [ 4,  0,  2,  6,  4,  5,  2,  6,  3,  6,  7,  4,  4,  5,  1],\n",
       "       [ 5,  2,  0,  4,  2,  4,  3,  5,  5,  4,  5,  6,  5,  3,  2],\n",
       "       [ 7,  6,  4,  0,  3,  6,  5,  8,  7,  1,  2,  9,  7,  4,  6],\n",
       "       [ 7,  4,  2,  3,  0,  3,  5,  5,  7,  3,  3,  8,  7,  1,  4],\n",
       "       [ 9,  5,  4,  6,  3,  0,  7,  2,  8,  6,  6,  7,  9,  3,  5],\n",
       "       [ 2,  2,  3,  5,  5,  7,  0,  8,  2,  6,  7,  5,  2,  6,  2],\n",
       "       [ 9,  6,  5,  8,  5,  2,  8,  0,  9,  8,  8,  7,  9,  5,  6],\n",
       "       [ 1,  3,  5,  7,  7,  8,  2,  9,  0,  8,  9,  4,  1,  8,  3],\n",
       "       [ 8,  6,  4,  1,  3,  6,  6,  8,  8,  0,  1, 10,  8,  3,  6],\n",
       "       [ 9,  7,  5,  2,  3,  6,  7,  8,  9,  1,  0, 11,  9,  3,  7],\n",
       "       [ 5,  4,  6,  9,  8,  7,  5,  7,  4, 10, 11,  0,  5,  9,  4],\n",
       "       [ 1,  4,  5,  7,  7,  9,  2,  9,  1,  8,  9,  5,  0,  8,  4],\n",
       "       [ 8,  5,  3,  4,  1,  3,  6,  5,  8,  3,  3,  9,  8,  0,  5],\n",
       "       [ 4,  1,  2,  6,  4,  5,  2,  6,  3,  6,  7,  4,  4,  5,  0]])"
      ]
     },
     "execution_count": 800,
     "metadata": {},
     "output_type": "execute_result"
    }
   ],
   "source": [
    "sample_matrix = DistanceMatrixGenerator.generate_metric_matrix(size=15, max_coordinate=10)\n",
    "sample_matrix"
   ]
  },
  {
   "cell_type": "code",
   "execution_count": 801,
   "metadata": {},
   "outputs": [
    {
     "name": "stdout",
     "output_type": "stream",
     "text": [
      "Final Tour: [0, 6, 1, 2, 4, 3, 9, 10, 13, 5, 7, 11, 14, 8, 12, 0]\n",
      "Total Cost: 37\n"
     ]
    }
   ],
   "source": [
    "christofides = Christofides(sample_matrix)\n",
    "try:\n",
    "    solution = christofides.solve()\n",
    "    cost = christofides.calculate_tour_cost()\n",
    "    print(\"Final Tour:\", solution)\n",
    "    print(\"Total Cost:\", cost)\n",
    "except Exception as e:\n",
    "    print(f\"Error: {e}\")"
   ]
  }
 ],
 "metadata": {
  "kernelspec": {
   "display_name": "myenv",
   "language": "python",
   "name": "python3"
  },
  "language_info": {
   "codemirror_mode": {
    "name": "ipython",
    "version": 3
   },
   "file_extension": ".py",
   "mimetype": "text/x-python",
   "name": "python",
   "nbconvert_exporter": "python",
   "pygments_lexer": "ipython3",
   "version": "3.11.9"
  }
 },
 "nbformat": 4,
 "nbformat_minor": 2
}

{
  "cells": [
    {
      "cell_type": "markdown",
      "metadata": {
        "id": "view-in-github",
        "colab_type": "text"
      },
      "source": [
        "<a href=\"https://colab.research.google.com/github/pgordin/GraphsSN2024_1/blob/main/Graphs8.ipynb\" target=\"_parent\"><img src=\"https://colab.research.google.com/assets/colab-badge.svg\" alt=\"Open In Colab\"/></a>"
      ]
    },
    {
      "cell_type": "markdown",
      "metadata": {
        "id": "noHa1UnB6dTl"
      },
      "source": [
        "#Graphs & Social Networks &mdash; lab material\n",
        "This notebook contains a definition of a python class *Graph*, containing functions described during labs."
      ]
    },
    {
      "cell_type": "markdown",
      "metadata": {
        "id": "o6cctVaGKn9n"
      },
      "source": [
        "Package import."
      ]
    },
    {
      "cell_type": "code",
      "execution_count": 1,
      "metadata": {
        "id": "OAkHMz2jKTzm"
      },
      "outputs": [],
      "source": [
        "import numpy as np\n",
        "from random import random, seed\n",
        "from copy import deepcopy\n",
        "from queue import PriorityQueue, deque"
      ]
    },
    {
      "cell_type": "markdown",
      "metadata": {
        "id": "r_QpZWdZCdkX"
      },
      "source": [
        "## Simple functions from the first classes\n",
        "This is left just as an example (to compare the behaviour)."
      ]
    },
    {
      "cell_type": "code",
      "execution_count": 2,
      "metadata": {
        "id": "a5x2lBIQK70Y"
      },
      "outputs": [],
      "source": [
        "def print_matrix(vertices, matrix):\n",
        "  \"\"\"\n",
        "  Printing a graph given by adjacency matrix\n",
        "  \"\"\"\n",
        "  n = len(matrix)\n",
        "  if (vertices is not None) and (len(vertices) == n):\n",
        "    vv = vertices\n",
        "  else:\n",
        "    vv = range(1, n+1)\n",
        "  for i in range(n):\n",
        "    print(vv[i], \":\", end=\"\")\n",
        "    for j in range(n):\n",
        "      if matrix[i, j]:\n",
        "        print(\" \", vv[j], end=\"\")\n",
        "    print(\"\")\n",
        "\n",
        "def print_dict(graph):\n",
        "  \"\"\"\n",
        "  Printing of a graph (given as a dictionary/neighbouring list)\n",
        "  \"\"\"\n",
        "  for v in graph:\n",
        "    print(v, \":\", end=\"\")\n",
        "    for u in graph[v]:\n",
        "      print(\" \", u, end=\"\")\n",
        "    print(\"\")"
      ]
    },
    {
      "cell_type": "markdown",
      "metadata": {
        "id": "2WMNx_ldK23O"
      },
      "source": [
        "## Class *Graph*"
      ]
    },
    {
      "cell_type": "code",
      "execution_count": 3,
      "metadata": {
        "id": "GpL6rcH371bJ"
      },
      "outputs": [],
      "source": [
        "class Graph:\n",
        "    def __init__(self, graph=None):\n",
        "        if graph is None:\n",
        "            graph = {}\n",
        "        self.graph = graph\n",
        "\n",
        "    # dict initializer\n",
        "    @classmethod\n",
        "    def from_dict(cls, graph):\n",
        "        return cls(graph)\n",
        "\n",
        "    # array initializer\n",
        "    @classmethod\n",
        "    def from_matrix(cls, matrix, vertices = None):\n",
        "        if (vertices is None) or (len(vertices) != len(matrix)):\n",
        "            vertices = [*range(1, len(matrix) + 1)]\n",
        "        return cls.from_dict(cls._matrix_to_dict(matrix, vertices))\n",
        "\n",
        "    # two private methods matrix <-> dictionaries\n",
        "    def _matrix_to_dict(matrix, vertices: list) -> dict:\n",
        "        \"\"\"\n",
        "        Converts a graph given as an adjacency matrix to a graph in dict form.\n",
        "        \"\"\"\n",
        "        res_dict = {}\n",
        "        for i, v in enumerate(vertices):\n",
        "            neighbours = [vertices[j] for j, edge in enumerate(matrix[i]) if edge]\n",
        "            res_dict[v] = neighbours\n",
        "        return res_dict\n",
        "\n",
        "    def _dict_to_matrix(self, _dict: dict) -> np.array:\n",
        "        \"\"\"\n",
        "        Converts a graph in dict form to its adjacency matrix.\n",
        "        \"\"\"\n",
        "        n = len(_dict)\n",
        "        vertices = [*_dict.keys()]\n",
        "        matrix = np.zeros(shape = (n, n), dtype=int)\n",
        "        for u,v in [\n",
        "            (vertices.index(u), vertices.index(v))\n",
        "            for u, row in _dict.items() for v in row\n",
        "        ]:\n",
        "            matrix[u][v] += 1\n",
        "        return matrix\n",
        "\n",
        "    def vertices(self) -> list:\n",
        "        \"\"\"\n",
        "        Returns list of vertices of the graph.\n",
        "        \"\"\"\n",
        "        return [*self.graph.keys()]\n",
        "\n",
        "    def matrix(self) -> np.array:\n",
        "        \"\"\"\n",
        "        Returns the adjacency matrix of the graph.\n",
        "        \"\"\"\n",
        "        return self._dict_to_matrix(self.graph)\n",
        "\n",
        "    # redefinition of print for objects of class Graph\n",
        "    def __str__(self):\n",
        "        res = \"\"\n",
        "        for v in self.graph:\n",
        "            res += f\"{v}:\"\n",
        "            for u in self.graph[v]:\n",
        "                res += f\" {u}\"\n",
        "            res += \"\\n\"\n",
        "        return res\n",
        "\n",
        "    # The following is for free thanks to the above\n",
        "    def to_neighbourlist(self, filename: str):\n",
        "        \"\"\"\n",
        "        Saves a graphs to a text file as a neighbour dict.\\n\n",
        "        Filename is a file path.\n",
        "        \"\"\"\n",
        "        file = open(filename, \"w\")  # open textfile for writing\n",
        "        file.write(str(self))\n",
        "        file.close()\n",
        "\n",
        "    # Modyfying graphs\n",
        "    def add_vertex(self, vertex):\n",
        "        \"\"\"\n",
        "        Adds a new vertex to the graph.\n",
        "        \"\"\"\n",
        "        if vertex not in self.graph:\n",
        "            self.graph[vertex] = []\n",
        "\n",
        "    def del_vertex(self, vertex):\n",
        "        \"\"\"\n",
        "        Removes a vertex from the graph.\n",
        "        \"\"\"\n",
        "        if vertex in self.graph:\n",
        "            self.graph.pop(vertex)\n",
        "            for u in self.graph:\n",
        "                if vertex in self.graph[u]:\n",
        "                    self.graph[u].remove(vertex)\n",
        "\n",
        "    def add_arc(self, arc):\n",
        "        \"\"\"\n",
        "        Given pair of vertices (arc variable) add an arc to the graph\n",
        "        We consider simple, directed graphs.\n",
        "        \"\"\"\n",
        "        u, v = arc\n",
        "        self.add_vertex(u)\n",
        "        self.add_vertex(v)\n",
        "        if v not in self.graph[u]:\n",
        "            self.graph[u].append(v)\n",
        "\n",
        "    def add_edge(self, edge: list):\n",
        "        \"\"\"\n",
        "        Given pair of vertices (edge variable) add an edge to existing graph.\n",
        "        We consider simple, undirected graphs, as symmetric digraphs without loops.\n",
        "        \"\"\"\n",
        "        u, v = edge\n",
        "        if u == v:\n",
        "            raise ValueError(\"Loops are not allowed!\")\n",
        "        self.add_vertex(u)\n",
        "        self.add_vertex(v)\n",
        "        if v not in self.graph[u]:\n",
        "            self.graph[u].append(v)\n",
        "        if u not in self.graph[v]:\n",
        "            self.graph[v].append(u)\n",
        "\n",
        "    # reading from a file\n",
        "    @staticmethod\n",
        "    def from_edges(filename: str, directed = 0):\n",
        "        \"\"\"\n",
        "        Read the graph from file, that in each line contains either\n",
        "        the description of a vertex (one word) or\n",
        "        the description of an edge/arc (at least 2 words).\n",
        "        The resulting graph is returned as a neighbourhood list.\n",
        "        Variable \"filename\" contains the whole path to the file.\n",
        "        \"\"\"\n",
        "        graph = Graph()\n",
        "        file = open(filename, \"r\")          # open the file to read\n",
        "        for line in file:                   # for each line of the file\n",
        "          words = line.strip().split()      # splits the line into words\n",
        "          if len(words) == 1:               # one word - vertex description\n",
        "            graph.add_vertex(words[0])\n",
        "          elif len(words) >= 2:             # at least two words, first two are the edge description\n",
        "            if directed:\n",
        "              graph.add_arc([words[0], words[1]])\n",
        "            else:\n",
        "              graph.add_edge([words[0], words[1]])\n",
        "        file.close()\n",
        "        return graph\n",
        "\n",
        "    @staticmethod\n",
        "    def random_graph(n: int, p: float):\n",
        "        \"\"\"\n",
        "        Creates a random graph in G(n, p) model.\n",
        "        \"\"\"\n",
        "        rand_graph = Graph()\n",
        "        for i in range(1, n + 1):\n",
        "            rand_graph.add_vertex(i)\n",
        "            for j in range(1, i):\n",
        "                if random() < p:\n",
        "                    rand_graph.add_edge([i, j])\n",
        "        return rand_graph\n",
        "\n",
        "    @staticmethod\n",
        "    def cycle(n: int):\n",
        "        \"\"\"\n",
        "        Creates a cycle C_n on n vertices\n",
        "        \"\"\"\n",
        "        cycle = Graph()\n",
        "        for i in range(n-1):\n",
        "          cycle.add_edge([i+1, i+2])\n",
        "        cycle.add_edge([1, n])\n",
        "        return cycle\n",
        "\n",
        "\n",
        "    def Prufer(self):\n",
        "      \"\"\"\n",
        "      Returns the Prufer code of a tree.\n",
        "      It is necessary that the graph is a tree (it is not checked).\n",
        "      Result is given as a string (empty for trees on 1 or 2 vertices).\n",
        "      \"\"\"\n",
        "      tr = deepcopy(self.graph)   # copy of a tree, as we destroy it\n",
        "      code = \"\"\n",
        "      for i in range(len(self.graph) - 2):\n",
        "        for x in sorted(tr):\n",
        "          if len(tr[x]) == 1:   # least leaf\n",
        "            break\n",
        "        v = tr[x][0]            # the unique neighbour of x\n",
        "        code = code + f\"{v} \"\n",
        "        tr[v].remove(x)         # remove x from neighbours of v\n",
        "        tr.pop(x)               # remove x from the tree\n",
        "      return code.strip()\n",
        "\n",
        "    @staticmethod\n",
        "    def tree_from_Prufer(code: str):\n",
        "        \"\"\"\n",
        "        Creating a tree from a Prufer code.\n",
        "        \"\"\"\n",
        "        tree = Graph()\n",
        "        clist = [int(x) for x in code.strip().split()]   # code as a list of numbers\n",
        "        n = len(clist) + 2                  # number of vertices\n",
        "        vert = [*range(1, n+1)]             # list of numbers 1..n\n",
        "        for v in vert:\n",
        "          tree.add_vertex(v)\n",
        "        for i in range(n-2):\n",
        "          for x in vert:\n",
        "            if not x in clist:    # x - least leaf\n",
        "              break\n",
        "          v = clist.pop(0)    # remove the first element from the code - the neighbour of x\n",
        "          tree.add_edge((x, v))\n",
        "          vert.remove(x)\n",
        "        tree.add_edge(vert)\n",
        "        return tree\n",
        "\n",
        "\n",
        "    def connected_components(self):\n",
        "      \"\"\"\n",
        "      Looks for connected components of undirected graph.\n",
        "      Returns a list of its vertex-sets.\n",
        "      Remark: the first element contains the set of all graph vertices\n",
        "      \"\"\"\n",
        "      def DFS(u):\n",
        "        \"\"\"\n",
        "        Deep first search (as internal method).\n",
        "        \"\"\"\n",
        "        for w in self.graph[u]:\n",
        "          if w not in VT[0]:      # w - not visited yet\n",
        "            VT[0].add(w)          # already visited\n",
        "            VT[-1].add(w)         # w - in the last connected component\n",
        "            DFS(w)\n",
        "\n",
        "      \"\"\"\n",
        "      VT - list of vertex sets VT[i] for i > 0 - is a vertex set of i-th connected component\n",
        "      VT[0] - is a vertex set of the spanning forest (or during the algorithm list of visited vertices).\n",
        "      \"\"\"\n",
        "      VT = [set([])]\n",
        "      for v in self.graph:\n",
        "        if v not in VT[0]:      # v is not visited\n",
        "          VT[0].add(v)\n",
        "          VT.append(set([v]))   # statring point of new conected component\n",
        "          DFS(v)\n",
        "      return VT\n",
        "\n",
        "    def preorder(self, v, visited=None):\n",
        "        # first we print a given vertex, then we traverse the subtree rooted in it\n",
        "        \"\"\"\n",
        "        Prints the vertices of the graph in preorder traversal starting from vertex v.\n",
        "        \"\"\"\n",
        "        if visited is None:\n",
        "            visited = set()\n",
        "\n",
        "        # Visit the current node\n",
        "        visited.add(v)\n",
        "        print(v, end=' ')\n",
        "\n",
        "        # Recursively visit all unvisited neighbors\n",
        "        for neighbor in self.graph[v]:\n",
        "            if neighbor not in visited:\n",
        "                self.preorder(neighbor, visited)\n",
        "\n",
        "\n",
        "    def postorder(self, v, visited=None):\n",
        "        # postorder — first we traverse the subtree rooted a given vertex, then we list the vertex\n",
        "        \"\"\"\n",
        "        Prints the vertices of the graph in postorder traversal starting from vertex v.\n",
        "        \"\"\"\n",
        "        if visited is None:\n",
        "            visited = set()\n",
        "\n",
        "        # Mark the current node as visited\n",
        "        visited.add(v)\n",
        "\n",
        "        # Recursively visit all unvisited neighbors first\n",
        "        for neighbor in self.graph[v]:\n",
        "            if neighbor not in visited:\n",
        "                self.postorder(neighbor, visited)\n",
        "\n",
        "        # Print the current node after visiting its neighbors\n",
        "        print(v, end=' ')\n",
        "\n",
        "\n",
        "    def connected_components_graphs(self):\n",
        "        \"\"\"\n",
        "        Returns a list of Graph objects, each representing a connected component of the original graph.\n",
        "        \"\"\"\n",
        "        components = self.connected_components()  # Get the list of connected components as vertex sets\n",
        "        component_graphs = []\n",
        "\n",
        "        for component in components[1:]:  # Skip the first element as it contains all vertices\n",
        "            subgraph = Graph()            # Create a new Graph instance\n",
        "            for vertex in component:\n",
        "                subgraph.graph[vertex] = self.graph[vertex]\n",
        "#           equivalent\n",
        "#                subgraph.add_vertex(vertex)\n",
        "#                for neighbor in self.graph[vertex]:\n",
        "#                    if neighbor in component:\n",
        "#                        subgraph.add_edge([vertex, neighbor])\n",
        "            component_graphs.append(subgraph)\n",
        "\n",
        "        return component_graphs\n",
        "\n",
        "\n",
        "    def ConnectedComponentsBFS(self):\n",
        "        \"\"\"\n",
        "        Connected components via BFS (homework, improved) - returns list of graphs\n",
        "        \"\"\"\n",
        "        visited = set()  # keep track of visited vertices\n",
        "        components = []  # store connected components\n",
        "\n",
        "        for start_vertex in self.graph:\n",
        "            if start_vertex not in visited:\n",
        "                # if vertex was not visited, create a new component\n",
        "                component = set()\n",
        "                queue = deque([start_vertex])  # BFS queue\n",
        "\n",
        "                while queue:\n",
        "                    vertex = queue.popleft()    # take the vertex from the bottom\n",
        "                    if vertex not in visited:\n",
        "                        visited.add(vertex)\n",
        "                        component.add(vertex)\n",
        "                        # add all unvisited neighbors to the queue\n",
        "                        for neighbor in self.graph[vertex]:\n",
        "                            if neighbor not in visited:\n",
        "                                queue.append(neighbor)\n",
        "                # store the current connected component (as graph)\n",
        "                subgraph = Graph()            # Create a new Graph instance\n",
        "                for vertex in component:\n",
        "                  subgraph.graph[vertex] = self.graph[vertex]\n",
        "                components.append(subgraph)\n",
        "        return components\n",
        "\n",
        "    def ConnectedComponentsGraphs(self):\n",
        "        \"\"\"\n",
        "        Connected components via DFS nonrecursive (homework, corrected) -\n",
        "        returns list connected subgraphs\n",
        "        \"\"\"\n",
        "        con_com = []\n",
        "        visited = set()\n",
        "\n",
        "        def dfs(v, component):\n",
        "            stack = [v]\n",
        "            while stack:\n",
        "                u = stack.pop()\n",
        "                if u not in visited:\n",
        "                    visited.add(u)\n",
        "                    component[u] = [neighbor for neighbor in self.graph[u] ] # correction: if neighbor not in visited]\n",
        "                    stack.extend(component[u])\n",
        "\n",
        "        # back to the main attraction\n",
        "        for vertex in self.graph:\n",
        "            if vertex not in visited:\n",
        "                component = {}                  # creating a new component as an adj list\n",
        "                dfs(vertex, component)          # find all vertices in this component\n",
        "                con_com.append(Graph.from_dict(component))  #converting to Graph object and append\n",
        "\n",
        "        return con_com\n",
        "\n",
        "\n",
        "    @staticmethod\n",
        "    def random_bipartite_graph(m, n, p):\n",
        "        \"\"\"\n",
        "        Generates a random bipartite graph with m + n vertices.\n",
        "        The two sets U and V have m and n vertices respectively.\n",
        "        Each edge between a vertex in U and a vertex in V is included with probability p.\n",
        "        \"\"\"\n",
        "        bipartite_graph = Graph()\n",
        "        U = [f\"U{i}\" for i in range(1, m + 1)]  # Label vertices in set U as U1, U2, ..., Um\n",
        "        V = [f\"V{i}\" for i in range(1, n + 1)]  # Label vertices in set V as V1, V2, ..., Vn\n",
        "\n",
        "        # Add vertices to the graph\n",
        "        for vertex in U + V:\n",
        "            bipartite_graph.add_vertex(vertex)\n",
        "\n",
        "        # Add edges between vertices in U and V with probability p\n",
        "        for u in U:\n",
        "            for v in V:\n",
        "                if random.random() < p:\n",
        "                    bipartite_graph.add_edge([u, v])\n",
        "\n",
        "        return bipartite_graph\n",
        "\n",
        "\n",
        "    def distance(self, v):\n",
        "      \"\"\"\n",
        "      Computes distances from vertex v to each vertex reachable from v.\n",
        "      It uses a BFS approach.\n",
        "      Result is given as a dictionary of distances\n",
        "      \"\"\"\n",
        "      dist = {v:0}    # starting point of a dictionary\n",
        "      queue = [v]\n",
        "      while len(queue) > 0:\n",
        "        u = queue.pop(0)\n",
        "        for w in self.graph[u]:\n",
        "          if not w in dist:\n",
        "            dist[w] = dist[u] + 1\n",
        "            queue.append(w)\n",
        "      return dist\n",
        "\n",
        "    def strong_connected_components(self):\n",
        "        \"\"\"\n",
        "        Finds strongly connected components (SCCs) using Kosaraju's algorithm.\n",
        "        Returns a list of strongly connected components, each component is a set of vertices.\n",
        "        \"\"\"\n",
        "        def dfs(v, visited, stack):\n",
        "            visited.add(v)\n",
        "            for neighbor in self.graph[v]:\n",
        "                if neighbor not in visited:\n",
        "                    dfs(neighbor, visited, stack)\n",
        "            stack.append(v)\n",
        "\n",
        "        def reverse_graph():\n",
        "            reversed_graph = Graph()\n",
        "            for v in self.graph:\n",
        "                for neighbor in self.graph[v]:\n",
        "                    reversed_graph.add_arc([neighbor, v])  # Reverse the direction of the edges\n",
        "            return reversed_graph\n",
        "\n",
        "        def dfs_reverse(v, visited, component):\n",
        "            visited.add(v)\n",
        "            component.add(v)\n",
        "            for neighbor in reversed_graph.graph[v]:\n",
        "                if neighbor not in visited:\n",
        "                    dfs_reverse(neighbor, visited, component)\n",
        "\n",
        "        stack = []\n",
        "        visited = set()\n",
        "\n",
        "        for vertex in self.graph:\n",
        "            if vertex not in visited:\n",
        "                dfs(vertex, visited, stack)\n",
        "\n",
        "        reversed_graph = reverse_graph()\n",
        "\n",
        "        visited.clear()\n",
        "        scc_list = []\n",
        "\n",
        "        while stack:\n",
        "            v = stack.pop()\n",
        "            if v not in visited:\n",
        "                component = set()\n",
        "                dfs_reverse(v, visited, component)\n",
        "                scc_list.append(component)\n",
        "\n",
        "        return scc_list"
      ]
    },
    {
      "cell_type": "markdown",
      "metadata": {
        "id": "-YBRlM-Flaio"
      },
      "source": [
        "## Class *WeightedGraph*"
      ]
    },
    {
      "cell_type": "markdown",
      "metadata": {
        "id": "rUteQ9NoAZuh"
      },
      "source": [
        "This class uses two dictionaries: *graph* and *weights* that\n",
        "should be consisted. The former contains edge weights (indexed by pairs $(u, v)$ of neighbouring vertices).  \n",
        "\n",
        "TODO:\n",
        "*   creating weighted graph from (ordinary) graph\n",
        "*   creating ordinary graph from weighted one\n",
        "*   checking consistency\n",
        "*   making both dictionaries consistent\n"
      ]
    },
    {
      "cell_type": "code",
      "execution_count": 4,
      "metadata": {
        "id": "29mjCR78C6JE"
      },
      "outputs": [],
      "source": [
        "class WeightedGraph(Graph):\n",
        "    def __init__(self, graph=None, weights=None):\n",
        "        if weights is None:\n",
        "            weights = {}\n",
        "        self.weights = weights\n",
        "        super().__init__(graph)\n",
        "\n",
        "    # redefinition of print for objects of class WeightedGraph\n",
        "    def __str__(self):\n",
        "        res = \"\"\n",
        "        for v in self.graph:\n",
        "            res += f\"{v}:\"\n",
        "            for u in self.graph[v]:\n",
        "                res += f\" ({u}, {self.weights[(v, u)]})\"\n",
        "            res += \"\\n\"\n",
        "        return res\n",
        "\n",
        "    # Modyfying graphs\n",
        "    # add_vertex - the inherited one is enough now\n",
        "\n",
        "    def del_vertex(self, vertex):\n",
        "        \"\"\"\n",
        "        Removes a vertex from the graph. Assumes consistency of both dicts\n",
        "        \"\"\"\n",
        "        if vertex in self.graph:\n",
        "            for u in self.graph[vertex]:\n",
        "              self.weights.pop((vertex, u))\n",
        "            self.graph.pop(vertex)\n",
        "            for u in self.graph:\n",
        "                if vertex in self.graph[u]:\n",
        "                    self.graph[u].remove(vertex)\n",
        "                    self.weights.pop((u, vertex))\n",
        "\n",
        "    def add_arc(self, arc, weight = 1):\n",
        "        \"\"\"\n",
        "        Given pair of vertices (arc variable) add an arc to the graph\n",
        "        We consider simple, directed graphs.\n",
        "        If the arc already exists this operation changes its weight to a given one.\n",
        "        \"\"\"\n",
        "        u, v = arc\n",
        "        self.add_vertex(u)\n",
        "        self.add_vertex(v)\n",
        "        if v not in self.graph[u]:\n",
        "            self.graph[u].append(v)\n",
        "        self.weights[(u,v)] = weight\n",
        "\n",
        "    def add_edge(self, edge: list, weight = 1):\n",
        "        \"\"\"\n",
        "        Given pair of vertices (edge variable) add an edge to existing graph.\n",
        "        We consider simple, undirected graphs, as symmetric digraphs without loops.\n",
        "        If the edge (or an arc) already exists this operation changes its weight to a given one.\n",
        "        \"\"\"\n",
        "        u, v = edge\n",
        "        if u == v:\n",
        "            raise ValueError(\"Loops are not allowed!\")\n",
        "        self.add_vertex(u)\n",
        "        self.add_vertex(v)\n",
        "        if v not in self.graph[u]:\n",
        "            self.graph[u].append(v)\n",
        "        self.weights[(u,v)] = weight\n",
        "        if u not in self.graph[v]:\n",
        "            self.graph[v].append(u)\n",
        "        self.weights[(v,u)] = weight\n",
        "\n",
        "    # reading from a file\n",
        "    @staticmethod\n",
        "    def from_edges(filename: str, directed = 0):\n",
        "        \"\"\"\n",
        "        Read the graph from file, that in each line contains either\n",
        "        the description of a vertex (one word) or\n",
        "        the description of an edge/arc (2 words) or\n",
        "        the description of an weighted edge/arc (at least 3 words) or\n",
        "        The resulting graph is returned as a neighbourhood list.\n",
        "        Variable \"filename\" contains the whole path to the file.\n",
        "        \"\"\"\n",
        "        graph = WeightedGraph()\n",
        "        file = open(filename, \"r\")          # open the file to read\n",
        "        for line in file:                   # for each line of the file\n",
        "          words = line.strip().split()      # splits the line into words\n",
        "          if len(words) == 1:               # one word - vertex description\n",
        "            graph.add_vertex(words[0])\n",
        "          elif len(words) == 2:             # two words, the edge description\n",
        "            if directed:\n",
        "              graph.add_arc([words[0], words[1]])\n",
        "            else:\n",
        "              graph.add_edge([words[0], words[1]])\n",
        "          elif len(words) >= 3:             # at least three words, first three are the weighted edge description\n",
        "            if directed:\n",
        "              graph.add_arc([words[0], words[1]], int(words[2]))\n",
        "            else:\n",
        "              graph.add_edge([words[0], words[1]], int(words[2]))\n",
        "\n",
        "        file.close()\n",
        "        return graph\n",
        "\n",
        "    def min_spanning_tree(self):\n",
        "      \"\"\"\n",
        "      Jarnik-Prim algorithm\n",
        "      \"\"\"\n",
        "      for v in self.graph:   # Choose any vertex of a graph\n",
        "        break\n",
        "      wtree = WeightedGraph({v:[]}, {})\n",
        "      total = 0               # total weight\n",
        "      q = PriorityQueue()\n",
        "      for u in self.graph[v]:\n",
        "        q.put((self.weights[(v,u)], v, u))\n",
        "      while not q.empty():\n",
        "        (w, v, u) = q.get()\n",
        "        if u not in wtree.graph:\n",
        "          total += w\n",
        "          wtree.add_edge((v, u), w)\n",
        "          for x in self.graph[u]:\n",
        "            if not x in wtree.graph:\n",
        "              q.put((self.weights[(u,x)], u, x))\n",
        "      if len(wtree.graph) < len(self.graph):\n",
        "        print(\"Graph is not connected. Returned is a tree for some connected component.\")\n",
        "      return total, wtree\n",
        "\n",
        "    def to_matrix(self):\n",
        "        \"\"\"\n",
        "        Converts the weighted graph to an adjacency matrix.\n",
        "        Each element (i, j) in the matrix represents the weight of the edge from vertex i to vertex j.\n",
        "        \"\"\"\n",
        "        vertices = self.vertices()\n",
        "        n = len(vertices)\n",
        "        matrix = np.inf * np.ones((n, n))  # Set all distances to infinity initially\n",
        "        np.fill_diagonal(matrix, 0)  # Set diagonal to 0 (no distance from a vertex to itself)\n",
        "\n",
        "        for u in self.graph:\n",
        "            u_index = vertices.index(u)\n",
        "            for v in self.graph[u]:\n",
        "                v_index = vertices.index(v)\n",
        "                matrix[u_index, v_index] = self.weights[(u,v)]  # Assign the weight to the matrix\n",
        "        return matrix\n",
        "\n",
        "    @staticmethod\n",
        "    def from_matrix(matrix, vertices=None):\n",
        "        \"\"\"\n",
        "        Converts an adjacency matrix back to a weighted graph.\n",
        "        The matrix should have the same structure as returned by `to_matrix`.\n",
        "        \"\"\"\n",
        "        n = len(matrix)\n",
        "        if vertices is None:\n",
        "            vertices = [*range(n)]\n",
        "        wgraph = WeightedGraph()\n",
        "        for i in range(n):\n",
        "            for j in range(n):\n",
        "                if matrix[i, j] != np.inf and i != j:\n",
        "                    wgraph.add_arc([vertices[i], vertices[j]], matrix[i, j])\n",
        "        return wgraph\n",
        "\n",
        "    def floyd_warshall(self):\n",
        "        \"\"\"\n",
        "        Computes the shortest paths between all pairs of vertices using the Floyd-Warshall algorithm.\n",
        "        Returns a distance matrix where dist[i][j] is the shortest distance from vertex i to vertex j.\n",
        "        \"\"\"\n",
        "\n",
        "        dist_matrix = self.to_matrix()\n",
        "        n = len(dist_matrix)\n",
        "\n",
        "        for k in range(n):\n",
        "            for i in range(n):\n",
        "                for j in range(n):\n",
        "                    if dist_matrix[i, j] > dist_matrix[i, k] + dist_matrix[k, j]:\n",
        "                        dist_matrix[i, j] = dist_matrix[i, k] + dist_matrix[k, j]\n",
        "        return dist_matrix\n",
        "\n",
        "\n",
        "    def Dijkstra(self, s):\n",
        "      \"\"\"\n",
        "      Dijkstra ALgorithm - computes shortest paths from s to all other vertices.\n",
        "      Return two dictionaries (of distances and of precessors). \\\n",
        "      \"\"\"\n",
        "      # Init\n",
        "      dist = {}\n",
        "      pred = {}\n",
        "      for v in self.graph:\n",
        "        dist[v] = 2**31   # substitute of intifine\n",
        "        pred[v] = None\n",
        "      dist[s] = 0\n",
        "      q = PriorityQueue()\n",
        "      q.put((0, s))\n",
        "      #V = set()           # set of processed vertices\n",
        "      while not q.empty():\n",
        "        (d, u) = q.get()\n",
        "        if dist[u] >= d:\n",
        "          #V.add(u)\n",
        "          for v in self.graph[u]:    # relax\n",
        "            w = self.weights[(u,v)]\n",
        "            if dist[v] > dist[u] + w:\n",
        "              dist[v] = dist[u] + w\n",
        "              pred[v] = u\n",
        "              q.put((dist[v], v))\n",
        "      return dist, pred\n"
      ]
    },
    {
      "cell_type": "code",
      "source": [],
      "metadata": {
        "id": "3AkiAL-0xnCp"
      },
      "execution_count": 4,
      "outputs": []
    },
    {
      "cell_type": "markdown",
      "metadata": {
        "id": "6_YyQKrIMi_C"
      },
      "source": [
        "## Use of code"
      ]
    },
    {
      "cell_type": "markdown",
      "source": [],
      "metadata": {
        "id": "YT35Lnu-jeO2"
      }
    },
    {
      "cell_type": "markdown",
      "metadata": {
        "id": "_IM7iIVdjTp7"
      },
      "source": [
        "### Part 7"
      ]
    },
    {
      "cell_type": "markdown",
      "source": [
        "Strongly connected components (homework)."
      ],
      "metadata": {
        "id": "4weNbkd5teTr"
      }
    },
    {
      "cell_type": "code",
      "execution_count": 5,
      "metadata": {
        "id": "166Dc6c8jTp7"
      },
      "outputs": [],
      "source": [
        "graph = Graph()\n",
        "graph.add_arc(['a', 'b'])\n",
        "graph.add_arc(['b', 'c'])\n",
        "graph.add_arc(['c', 'd'])\n",
        "graph.add_arc(['d', 'e'])\n",
        "graph.add_arc(['e', 'f'])\n",
        "graph.add_arc(['e', 'c'])"
      ]
    },
    {
      "cell_type": "code",
      "source": [
        "print(graph.strong_connected_components())"
      ],
      "metadata": {
        "id": "UOwfICobkEld",
        "outputId": "6ca1698f-2fa8-41e4-80b7-537813cbaf09",
        "colab": {
          "base_uri": "https://localhost:8080/"
        }
      },
      "execution_count": 6,
      "outputs": [
        {
          "output_type": "stream",
          "name": "stdout",
          "text": [
            "[{'a'}, {'b'}, {'c', 'd', 'e'}, {'f'}]\n"
          ]
        }
      ]
    },
    {
      "cell_type": "code",
      "source": [
        "!wget https://github.com/pgordin/GraphsSN2024_1/raw/main/weighted0.txt"
      ],
      "metadata": {
        "colab": {
          "base_uri": "https://localhost:8080/"
        },
        "id": "ifNFmQEEtiGU",
        "outputId": "3db00013-fba4-4599-db72-f2b84d6aabc7"
      },
      "execution_count": 7,
      "outputs": [
        {
          "output_type": "stream",
          "name": "stdout",
          "text": [
            "--2024-12-05 00:09:08--  https://github.com/pgordin/GraphsSN2024_1/raw/main/weighted0.txt\n",
            "Resolving github.com (github.com)... 140.82.114.3\n",
            "Connecting to github.com (github.com)|140.82.114.3|:443... connected.\n",
            "HTTP request sent, awaiting response... 302 Found\n",
            "Location: https://raw.githubusercontent.com/pgordin/GraphsSN2024_1/main/weighted0.txt [following]\n",
            "--2024-12-05 00:09:09--  https://raw.githubusercontent.com/pgordin/GraphsSN2024_1/main/weighted0.txt\n",
            "Resolving raw.githubusercontent.com (raw.githubusercontent.com)... 185.199.111.133, 185.199.110.133, 185.199.108.133, ...\n",
            "Connecting to raw.githubusercontent.com (raw.githubusercontent.com)|185.199.111.133|:443... connected.\n",
            "HTTP request sent, awaiting response... 200 OK\n",
            "Length: 99 [text/plain]\n",
            "Saving to: ‘weighted0.txt.3’\n",
            "\n",
            "weighted0.txt.3     100%[===================>]      99  --.-KB/s    in 0s      \n",
            "\n",
            "2024-12-05 00:09:09 (5.30 MB/s) - ‘weighted0.txt.3’ saved [99/99]\n",
            "\n"
          ]
        }
      ]
    },
    {
      "cell_type": "code",
      "source": [
        "wgraph = WeightedGraph.from_edges(\"weighted0.txt\")"
      ],
      "metadata": {
        "id": "Y1Cix237toGx"
      },
      "execution_count": 8,
      "outputs": []
    },
    {
      "cell_type": "code",
      "source": [
        "print(wgraph)"
      ],
      "metadata": {
        "colab": {
          "base_uri": "https://localhost:8080/"
        },
        "id": "XIch4btutsyT",
        "outputId": "65651f88-3362-4c53-f956-c47111311b9d"
      },
      "execution_count": 9,
      "outputs": [
        {
          "output_type": "stream",
          "name": "stdout",
          "text": [
            "A: (B, 3) (E, 10)\n",
            "B: (A, 3) (C, 26) (D, 12)\n",
            "E: (A, 10) (D, 7) (F, 8) (H, 4)\n",
            "C: (B, 26) (D, 17) (F, 13) (G, 14)\n",
            "D: (B, 12) (C, 17) (E, 7) (F, 15)\n",
            "F: (C, 13) (D, 15) (E, 8) (G, 9) (H, 6)\n",
            "G: (C, 14) (F, 9) (H, 16) (I, 11)\n",
            "H: (E, 4) (F, 6) (G, 16)\n",
            "I: (G, 11)\n",
            "\n"
          ]
        }
      ]
    },
    {
      "cell_type": "code",
      "source": [
        "dist, pred = wgraph.Dijkstra('A')"
      ],
      "metadata": {
        "id": "VGIXAY9YtxSL"
      },
      "execution_count": 10,
      "outputs": []
    },
    {
      "cell_type": "code",
      "source": [
        "print(dist)\n",
        "print(pred)"
      ],
      "metadata": {
        "colab": {
          "base_uri": "https://localhost:8080/"
        },
        "id": "xZPoNNJGt5YL",
        "outputId": "a445a8f6-979e-4c84-c31f-a40cc7f1c0b7"
      },
      "execution_count": 11,
      "outputs": [
        {
          "output_type": "stream",
          "name": "stdout",
          "text": [
            "{'A': 0, 'B': 3, 'E': 10, 'C': 29, 'D': 15, 'F': 18, 'G': 27, 'H': 14, 'I': 38}\n",
            "{'A': None, 'B': 'A', 'E': 'A', 'C': 'B', 'D': 'B', 'F': 'E', 'G': 'F', 'H': 'E', 'I': 'G'}\n"
          ]
        }
      ]
    },
    {
      "cell_type": "code",
      "source": [
        "!wget https://github.com/pgordin/GraphsSN2024_1/raw/main/weighted1.txt"
      ],
      "metadata": {
        "colab": {
          "base_uri": "https://localhost:8080/"
        },
        "id": "_v98BUp3xp0f",
        "outputId": "7a828c78-0c19-4e81-b0ca-ace15a8f4a18"
      },
      "execution_count": 12,
      "outputs": [
        {
          "output_type": "stream",
          "name": "stdout",
          "text": [
            "--2024-12-05 00:09:09--  https://github.com/pgordin/GraphsSN2024_1/raw/main/weighted1.txt\n",
            "Resolving github.com (github.com)... 140.82.112.4\n",
            "Connecting to github.com (github.com)|140.82.112.4|:443... connected.\n",
            "HTTP request sent, awaiting response... 302 Found\n",
            "Location: https://raw.githubusercontent.com/pgordin/GraphsSN2024_1/main/weighted1.txt [following]\n",
            "--2024-12-05 00:09:09--  https://raw.githubusercontent.com/pgordin/GraphsSN2024_1/main/weighted1.txt\n",
            "Resolving raw.githubusercontent.com (raw.githubusercontent.com)... 185.199.108.133, 185.199.109.133, 185.199.110.133, ...\n",
            "Connecting to raw.githubusercontent.com (raw.githubusercontent.com)|185.199.108.133|:443... connected.\n",
            "HTTP request sent, awaiting response... 200 OK\n",
            "Length: 922 [text/plain]\n",
            "Saving to: ‘weighted1.txt.1’\n",
            "\n",
            "weighted1.txt.1     100%[===================>]     922  --.-KB/s    in 0s      \n",
            "\n",
            "2024-12-05 00:09:09 (42.0 MB/s) - ‘weighted1.txt.1’ saved [922/922]\n",
            "\n"
          ]
        }
      ]
    },
    {
      "cell_type": "markdown",
      "source": [],
      "metadata": {
        "id": "NbGk2mJXx10w"
      }
    },
    {
      "cell_type": "code",
      "source": [
        "wgraph2 = WeightedGraph.from_edges(\"weighted1.txt\")"
      ],
      "metadata": {
        "id": "IVIFQPtZxvTL"
      },
      "execution_count": 13,
      "outputs": []
    },
    {
      "cell_type": "code",
      "source": [
        "print(len(wgraph2.vertices()))"
      ],
      "metadata": {
        "colab": {
          "base_uri": "https://localhost:8080/"
        },
        "id": "MNh0XbEOx3oU",
        "outputId": "07dfe7cc-5ccd-4557-fb9a-4ff4c4ee9cb0"
      },
      "execution_count": 14,
      "outputs": [
        {
          "output_type": "stream",
          "name": "stdout",
          "text": [
            "25\n"
          ]
        }
      ]
    },
    {
      "cell_type": "code",
      "source": [
        "%timeit wgraph2.Dijkstra('1')"
      ],
      "metadata": {
        "colab": {
          "base_uri": "https://localhost:8080/"
        },
        "id": "tiVoQ0fnyBr0",
        "outputId": "3a5ffd48-e521-44d2-a6c2-ce871c2b32a3"
      },
      "execution_count": 67,
      "outputs": [
        {
          "output_type": "stream",
          "name": "stdout",
          "text": [
            "206 µs ± 5.85 µs per loop (mean ± std. dev. of 7 runs, 1000 loops each)\n"
          ]
        }
      ]
    },
    {
      "cell_type": "code",
      "source": [
        "%timeit wgraph2.floyd_warshall()"
      ],
      "metadata": {
        "colab": {
          "base_uri": "https://localhost:8080/"
        },
        "id": "-vfdZLoqyIwQ",
        "outputId": "4e6cc61c-6dc6-4b6a-d485-aaacd6fcafb9"
      },
      "execution_count": 69,
      "outputs": [
        {
          "output_type": "stream",
          "name": "stdout",
          "text": [
            "11.8 ms ± 3.66 ms per loop (mean ± std. dev. of 7 runs, 100 loops each)\n"
          ]
        }
      ]
    },
    {
      "cell_type": "markdown",
      "metadata": {
        "id": "GMZZRbNEmEOZ"
      },
      "source": [
        "### Part 6 (Weigthed graphs)"
      ]
    },
    {
      "cell_type": "code",
      "execution_count": 17,
      "metadata": {
        "colab": {
          "base_uri": "https://localhost:8080/"
        },
        "id": "XhSlxUCGFDqV",
        "outputId": "284c860c-b3c7-4a29-ed72-97ef0030333c"
      },
      "outputs": [
        {
          "output_type": "stream",
          "name": "stdout",
          "text": [
            "a: (b, 2)\n",
            "b: (a, 2)\n",
            "\n"
          ]
        }
      ],
      "source": [
        "wgraph = WeightedGraph()\n",
        "wgraph.add_edge((\"a\", \"b\"), 2)\n",
        "\n",
        "print(wgraph)"
      ]
    },
    {
      "cell_type": "code",
      "execution_count": 18,
      "metadata": {
        "colab": {
          "base_uri": "https://localhost:8080/"
        },
        "id": "jxRvfs0ErMM_",
        "outputId": "92bc8d0a-79d9-4d9c-ca3e-c83517d75efa"
      },
      "outputs": [
        {
          "output_type": "stream",
          "name": "stdout",
          "text": [
            "--2024-12-05 00:09:22--  https://github.com/pgordin/GraphsSN2024_1/raw/main/weighted0.txt\n",
            "Resolving github.com (github.com)... 140.82.114.3\n",
            "Connecting to github.com (github.com)|140.82.114.3|:443... connected.\n",
            "HTTP request sent, awaiting response... 302 Found\n",
            "Location: https://raw.githubusercontent.com/pgordin/GraphsSN2024_1/main/weighted0.txt [following]\n",
            "--2024-12-05 00:09:22--  https://raw.githubusercontent.com/pgordin/GraphsSN2024_1/main/weighted0.txt\n",
            "Resolving raw.githubusercontent.com (raw.githubusercontent.com)... 185.199.108.133, 185.199.109.133, 185.199.110.133, ...\n",
            "Connecting to raw.githubusercontent.com (raw.githubusercontent.com)|185.199.108.133|:443... connected.\n",
            "HTTP request sent, awaiting response... 200 OK\n",
            "Length: 99 [text/plain]\n",
            "Saving to: ‘weighted0.txt.4’\n",
            "\n",
            "\rweighted0.txt.4       0%[                    ]       0  --.-KB/s               \rweighted0.txt.4     100%[===================>]      99  --.-KB/s    in 0s      \n",
            "\n",
            "2024-12-05 00:09:22 (6.51 MB/s) - ‘weighted0.txt.4’ saved [99/99]\n",
            "\n"
          ]
        }
      ],
      "source": [
        "!wget https://github.com/pgordin/GraphsSN2024_1/raw/main/weighted0.txt"
      ]
    },
    {
      "cell_type": "code",
      "execution_count": 19,
      "metadata": {
        "colab": {
          "base_uri": "https://localhost:8080/"
        },
        "id": "sYnSw5QRCt1m",
        "outputId": "89ef788c-2ecb-46a1-f870-feb945ab33de"
      },
      "outputs": [
        {
          "output_type": "stream",
          "name": "stdout",
          "text": [
            "A B 3\n",
            "A E 10\n",
            "B C 26\n",
            "B D 12\n",
            "C D 17\n",
            "C F 13\n",
            "C G 14\n",
            "D E 7\n",
            "D F 15\n",
            "E F 8\n",
            "E H 4\n",
            "F G 9\n",
            "F H 6\n",
            "G H 16\n",
            "G I 11\n"
          ]
        }
      ],
      "source": [
        "%cat weighted0.txt"
      ]
    },
    {
      "cell_type": "code",
      "execution_count": 20,
      "metadata": {
        "colab": {
          "base_uri": "https://localhost:8080/"
        },
        "id": "DyBhb38CIrlX",
        "outputId": "3b071704-a13e-48d9-d349-833866fe3aee"
      },
      "outputs": [
        {
          "output_type": "stream",
          "name": "stdout",
          "text": [
            "A: (B, 3) (E, 10)\n",
            "B: (A, 3) (C, 26) (D, 12)\n",
            "E: (A, 10) (D, 7) (F, 8) (H, 4)\n",
            "C: (B, 26) (D, 17) (F, 13) (G, 14)\n",
            "D: (B, 12) (C, 17) (E, 7) (F, 15)\n",
            "F: (C, 13) (D, 15) (E, 8) (G, 9) (H, 6)\n",
            "G: (C, 14) (F, 9) (H, 16) (I, 11)\n",
            "H: (E, 4) (F, 6) (G, 16)\n",
            "I: (G, 11)\n",
            "\n"
          ]
        }
      ],
      "source": [
        "wgraph = WeightedGraph.from_edges(\"weighted0.txt\")\n",
        "print(wgraph)"
      ]
    },
    {
      "cell_type": "markdown",
      "metadata": {
        "id": "YSdqHYL2_f5h"
      },
      "source": [
        "Example of vertex removal."
      ]
    },
    {
      "cell_type": "code",
      "execution_count": 21,
      "metadata": {
        "colab": {
          "base_uri": "https://localhost:8080/"
        },
        "id": "rqjB6z02-4Hj",
        "outputId": "63858339-cb45-4909-f5d5-5b1dc803aae7"
      },
      "outputs": [
        {
          "output_type": "stream",
          "name": "stdout",
          "text": [
            "A: (B, 3) (E, 10)\n",
            "B: (A, 3) (C, 26) (D, 12)\n",
            "E: (A, 10) (D, 7) (F, 8)\n",
            "C: (B, 26) (D, 17) (F, 13) (G, 14)\n",
            "D: (B, 12) (C, 17) (E, 7) (F, 15)\n",
            "F: (C, 13) (D, 15) (E, 8) (G, 9)\n",
            "G: (C, 14) (F, 9) (I, 11)\n",
            "I: (G, 11)\n",
            "\n"
          ]
        }
      ],
      "source": [
        "wgraph.del_vertex('H')\n",
        "print(wgraph)"
      ]
    },
    {
      "cell_type": "code",
      "execution_count": 22,
      "metadata": {
        "colab": {
          "base_uri": "https://localhost:8080/"
        },
        "id": "_iVRRpiFL4Ji",
        "outputId": "68326030-85b8-4350-d5a1-9d7e3c6646f7"
      },
      "outputs": [
        {
          "output_type": "stream",
          "name": "stdout",
          "text": [
            "61\n",
            "A: (B, 3) (E, 10)\n",
            "B: (A, 3)\n",
            "E: (A, 10) (D, 7) (F, 8)\n",
            "D: (E, 7)\n",
            "F: (E, 8) (G, 9) (C, 13)\n",
            "G: (F, 9) (I, 11)\n",
            "I: (G, 11)\n",
            "C: (F, 13)\n",
            "\n"
          ]
        }
      ],
      "source": [
        "w, wtree = wgraph.min_spanning_tree()\n",
        "print(w)\n",
        "print(wtree)"
      ]
    },
    {
      "cell_type": "markdown",
      "metadata": {
        "id": "XzD1OZWFnSvN"
      },
      "source": [
        "### Part 5 (Distances via BFS)"
      ]
    },
    {
      "cell_type": "code",
      "execution_count": 23,
      "metadata": {
        "colab": {
          "base_uri": "https://localhost:8080/"
        },
        "id": "LkhbKOXtnays",
        "outputId": "0aafddaf-6fc2-4070-de7a-d3ba4333c715"
      },
      "outputs": [
        {
          "output_type": "stream",
          "name": "stdout",
          "text": [
            "Writing edges.txt\n"
          ]
        }
      ],
      "source": [
        "%%writefile edges.txt\n",
        "1 2\n",
        "1 3\n",
        "1 6\n",
        "2 4\n",
        "2 5\n",
        "3 5\n",
        "3 6\n",
        "3 7\n",
        "4 5\n",
        "4 8\n",
        "5 7\n",
        "7 8"
      ]
    },
    {
      "cell_type": "code",
      "execution_count": 24,
      "metadata": {
        "colab": {
          "base_uri": "https://localhost:8080/"
        },
        "id": "luGR6Vk_nztu",
        "outputId": "18660cd2-919d-4fb7-b382-2ab31ab471f8"
      },
      "outputs": [
        {
          "output_type": "stream",
          "name": "stdout",
          "text": [
            "1: 2 3 6\n",
            "2: 1 4 5\n",
            "3: 1 5 6 7\n",
            "6: 1 3\n",
            "4: 2 5 8\n",
            "5: 2 3 4 7\n",
            "7: 3 5 8\n",
            "8: 4 7\n",
            "\n"
          ]
        }
      ],
      "source": [
        "graph1 = Graph.from_edges(\"edges.txt\")\n",
        "print(graph1)"
      ]
    },
    {
      "cell_type": "code",
      "execution_count": 25,
      "metadata": {
        "colab": {
          "base_uri": "https://localhost:8080/"
        },
        "id": "USQkVScqoBlT",
        "outputId": "85d1e304-7862-4945-d464-1e6d38269fe7"
      },
      "outputs": [
        {
          "output_type": "stream",
          "name": "stdout",
          "text": [
            "{'1': 0, '2': 1, '3': 1, '6': 1, '4': 2, '5': 2, '7': 2, '8': 3}\n"
          ]
        }
      ],
      "source": [
        "dist = graph1.distance(\"1\")\n",
        "print(dist)"
      ]
    },
    {
      "cell_type": "markdown",
      "metadata": {
        "id": "bsvgJqGEodrr"
      },
      "source": [
        "#### Milgram's experiment &mdash; Small World Phenomenon\n",
        "\n",
        "We will use graph in $G(n,p)$ (namely $G(2000, 1/300)$) as an illustration."
      ]
    },
    {
      "cell_type": "code",
      "execution_count": 26,
      "metadata": {
        "colab": {
          "base_uri": "https://localhost:8080/"
        },
        "id": "jOOFWpIgoj4U",
        "outputId": "168cc89a-59a1-45fd-f3b2-c2f33db2b5ae"
      },
      "outputs": [
        {
          "output_type": "stream",
          "name": "stdout",
          "text": [
            "1995\n"
          ]
        }
      ],
      "source": [
        "# to obey an issue with recursion depth (provided it happens - for Colab now it does not)\n",
        "import sys\n",
        "\n",
        "n = 2000\n",
        "p = 1/300\n",
        "sys.setrecursionlimit(n+5)\n",
        "\n",
        "rgraph = Graph.random_graph(n, p)\n",
        "graph = rgraph.connected_components_graphs()[0]\n",
        "print(len(graph.vertices()))"
      ]
    },
    {
      "cell_type": "code",
      "execution_count": 27,
      "metadata": {
        "colab": {
          "base_uri": "https://localhost:8080/"
        },
        "id": "cjF1NzzcONcC",
        "outputId": "6fcd841e-ccab-429a-ffae-bdac8066363c"
      },
      "outputs": [
        {
          "output_type": "stream",
          "name": "stdout",
          "text": [
            "3.36 ms ± 786 µs per loop (mean ± std. dev. of 7 runs, 100 loops each)\n"
          ]
        }
      ],
      "source": [
        "%timeit graph = rgraph.connected_components_graphs()[0]"
      ]
    },
    {
      "cell_type": "code",
      "execution_count": 28,
      "metadata": {
        "colab": {
          "base_uri": "https://localhost:8080/"
        },
        "id": "vddOnxpROSrc",
        "outputId": "3cc3e1c3-c5c4-41b3-c18e-53ba0b5a8854"
      },
      "outputs": [
        {
          "output_type": "stream",
          "name": "stdout",
          "text": [
            "4.51 ms ± 574 µs per loop (mean ± std. dev. of 7 runs, 100 loops each)\n",
            "1995\n"
          ]
        }
      ],
      "source": [
        "%timeit graph = rgraph.ConnectedComponentsBFS()[0]\n",
        "print(len(graph.vertices()))"
      ]
    },
    {
      "cell_type": "code",
      "execution_count": 29,
      "metadata": {
        "colab": {
          "base_uri": "https://localhost:8080/"
        },
        "id": "_dDdmGRlOfFE",
        "outputId": "05767474-8ef3-4ce0-e1bb-f298a38210e0"
      },
      "outputs": [
        {
          "output_type": "stream",
          "name": "stdout",
          "text": [
            "3.05 ms ± 96.4 µs per loop (mean ± std. dev. of 7 runs, 100 loops each)\n",
            "1995\n"
          ]
        }
      ],
      "source": [
        "%timeit graph = rgraph.ConnectedComponentsGraphs()[0]\n",
        "print(len(graph.vertices()))"
      ]
    },
    {
      "cell_type": "code",
      "execution_count": 30,
      "metadata": {
        "colab": {
          "base_uri": "https://localhost:8080/"
        },
        "id": "rsHnsv5IrFyN",
        "outputId": "2edf85df-f516-4607-9604-9a4f4f6e2100"
      },
      "outputs": [
        {
          "output_type": "stream",
          "name": "stdout",
          "text": [
            "Radius:  5 Diameter:  8 Average:  4.210614254935578\n"
          ]
        }
      ],
      "source": [
        "md = {}\n",
        "ecc = {}\n",
        "for v in graph.vertices():\n",
        "  dist = graph.distance(v)\n",
        "  ecc[v] = max(dist.values())\n",
        "  md[v] = sum(dist.values())/len(dist.values())\n",
        "print(\"Radius: \", min(ecc.values()), \"Diameter: \", max(ecc.values()), \"Average: \", sum(md.values())/len(md.values()))"
      ]
    },
    {
      "cell_type": "markdown",
      "metadata": {
        "id": "9LtRwurFnrDe"
      },
      "source": [
        "### Part 4 (Connected components via DFS)"
      ]
    },
    {
      "cell_type": "code",
      "execution_count": 31,
      "metadata": {
        "colab": {
          "base_uri": "https://localhost:8080/"
        },
        "id": "XvUw7GUrnyzu",
        "outputId": "1445dcd5-88bb-4906-f7e8-a82cb3422032"
      },
      "outputs": [
        {
          "output_type": "stream",
          "name": "stdout",
          "text": [
            "1: 3\n",
            "2: 3 4 8 9\n",
            "3: 1 2 8 9\n",
            "4: 2 6\n",
            "5:\n",
            "6: 4\n",
            "7: 8 9\n",
            "8: 2 3 7 10\n",
            "9: 2 3 7\n",
            "10: 8\n",
            "\n"
          ]
        }
      ],
      "source": [
        "graph1 = Graph.random_graph(10, 1/5)\n",
        "print(graph1)"
      ]
    },
    {
      "cell_type": "code",
      "execution_count": 32,
      "metadata": {
        "colab": {
          "base_uri": "https://localhost:8080/"
        },
        "id": "JsEasHHsoEYP",
        "outputId": "18f311ab-1c87-4cac-94f0-c716370d3885"
      },
      "outputs": [
        {
          "output_type": "stream",
          "name": "stdout",
          "text": [
            "3\n",
            "[{1, 2, 3, 4, 5, 6, 7, 8, 9, 10}, {1, 2, 3, 4, 6, 7, 8, 9, 10}, {5}]\n"
          ]
        }
      ],
      "source": [
        "print(len(graph1.connected_components()))\n",
        "print(graph1.connected_components())"
      ]
    },
    {
      "cell_type": "code",
      "execution_count": 33,
      "metadata": {
        "colab": {
          "base_uri": "https://localhost:8080/"
        },
        "id": "VaFih_d1joxb",
        "outputId": "c0a22351-a69f-4060-f117-8bccc7cc4a85"
      },
      "outputs": [
        {
          "output_type": "stream",
          "name": "stdout",
          "text": [
            "2\n"
          ]
        }
      ],
      "source": [
        "graphlist = graph1.connected_components_graphs()\n",
        "print(len(graphlist))"
      ]
    },
    {
      "cell_type": "code",
      "execution_count": 34,
      "metadata": {
        "colab": {
          "base_uri": "https://localhost:8080/"
        },
        "id": "0tlFcc9jjzgn",
        "outputId": "a52e441b-e044-4107-ad82-8756f64b30b2"
      },
      "outputs": [
        {
          "output_type": "stream",
          "name": "stdout",
          "text": [
            "1: 3\n",
            "2: 3 4 8 9\n",
            "3: 1 2 8 9\n",
            "4: 2 6\n",
            "6: 4\n",
            "7: 8 9\n",
            "8: 2 3 7 10\n",
            "9: 2 3 7\n",
            "10: 8\n",
            "\n"
          ]
        }
      ],
      "source": [
        "print(graphlist[0])"
      ]
    },
    {
      "cell_type": "code",
      "execution_count": 35,
      "metadata": {
        "colab": {
          "base_uri": "https://localhost:8080/"
        },
        "id": "b3DE41X_L3oV",
        "outputId": "f60b1625-2976-4a6e-bd12-4e42b064f587"
      },
      "outputs": [
        {
          "output_type": "stream",
          "name": "stdout",
          "text": [
            "2\n",
            "1: 3\n",
            "2: 3 4 8 9\n",
            "3: 1 2 8 9\n",
            "4: 2 6\n",
            "6: 4\n",
            "7: 8 9\n",
            "8: 2 3 7 10\n",
            "9: 2 3 7\n",
            "10: 8\n",
            "\n"
          ]
        }
      ],
      "source": [
        "print(len(graph1.ConnectedComponentsBFS()))\n",
        "print(graph1.ConnectedComponentsBFS()[0])"
      ]
    },
    {
      "cell_type": "code",
      "execution_count": 36,
      "metadata": {
        "colab": {
          "base_uri": "https://localhost:8080/"
        },
        "id": "KtaKxW9ZMZpA",
        "outputId": "c7fa415b-6d20-4c29-af24-eb253df06dfa"
      },
      "outputs": [
        {
          "output_type": "stream",
          "name": "stdout",
          "text": [
            "1: 3\n",
            "3: 1 2 8 9\n",
            "9: 2 3 7\n",
            "7: 8 9\n",
            "8: 2 3 7 10\n",
            "10: 8\n",
            "2: 3 4 8 9\n",
            "4: 2 6\n",
            "6: 4\n",
            "\n"
          ]
        }
      ],
      "source": [
        "print(graph1.ConnectedComponentsGraphs()[0])"
      ]
    },
    {
      "cell_type": "markdown",
      "metadata": {
        "id": "_Li4OSBDrp7K"
      },
      "source": [
        "### Part 3 (Prufer codes)"
      ]
    },
    {
      "cell_type": "code",
      "execution_count": 37,
      "metadata": {
        "colab": {
          "base_uri": "https://localhost:8080/"
        },
        "id": "RFG49rSWryaK",
        "outputId": "3d267cde-541d-40dd-a596-610eccbd1994"
      },
      "outputs": [
        {
          "output_type": "stream",
          "name": "stdout",
          "text": [
            "Writing tree1.txt\n"
          ]
        }
      ],
      "source": [
        "%%writefile tree1.txt\n",
        "1 3\n",
        "3 5\n",
        "2 5\n",
        "4 5\n",
        "6 5"
      ]
    },
    {
      "cell_type": "code",
      "execution_count": 38,
      "metadata": {
        "id": "MxM8JOw9sR5_"
      },
      "outputs": [],
      "source": [
        "tree1 = Graph.from_edges(\"tree1.txt\")"
      ]
    },
    {
      "cell_type": "code",
      "execution_count": 39,
      "metadata": {
        "colab": {
          "base_uri": "https://localhost:8080/"
        },
        "id": "uFVlsqDesWeX",
        "outputId": "f12d06f6-799b-4517-c871-f62426fea817"
      },
      "outputs": [
        {
          "output_type": "stream",
          "name": "stdout",
          "text": [
            "1: 3\n",
            "3: 1 5\n",
            "5: 3 2 4 6\n",
            "2: 5\n",
            "4: 5\n",
            "6: 5\n",
            "\n"
          ]
        }
      ],
      "source": [
        "print(tree1)"
      ]
    },
    {
      "cell_type": "code",
      "execution_count": 40,
      "metadata": {
        "colab": {
          "base_uri": "https://localhost:8080/"
        },
        "id": "hlcmteDpunm0",
        "outputId": "d75740ee-70eb-48f6-86f1-1e3fff78ada3"
      },
      "outputs": [
        {
          "output_type": "stream",
          "name": "stdout",
          "text": [
            "3 5 5 5\n"
          ]
        }
      ],
      "source": [
        "print(tree1.Prufer())"
      ]
    },
    {
      "cell_type": "code",
      "execution_count": 41,
      "metadata": {
        "colab": {
          "base_uri": "https://localhost:8080/"
        },
        "id": "W13ncK5-xiqO",
        "outputId": "2cb6e7ee-92f6-4d86-b6a5-4aa9ae3cf9d2"
      },
      "outputs": [
        {
          "output_type": "stream",
          "name": "stdout",
          "text": [
            "1: 3\n",
            "2: 5\n",
            "3: 1 5\n",
            "4: 5\n",
            "5: 2 3 4 6\n",
            "6: 5\n",
            "\n"
          ]
        }
      ],
      "source": [
        "print(Graph.tree_from_Prufer(\"3 5 5 5\"))"
      ]
    },
    {
      "cell_type": "code",
      "execution_count": 42,
      "metadata": {
        "colab": {
          "base_uri": "https://localhost:8080/"
        },
        "id": "TGyO_yEcxpwm",
        "outputId": "763fe490-03ec-4a36-ecbe-2b8195cb265d"
      },
      "outputs": [
        {
          "output_type": "stream",
          "name": "stdout",
          "text": [
            "1: 3 6\n",
            "2: 5\n",
            "3: 4 1\n",
            "4: 5 3\n",
            "5: 2 4\n",
            "6: 1\n",
            "\n"
          ]
        }
      ],
      "source": [
        "print(Graph.tree_from_Prufer(\"5 4 3 1\"))"
      ]
    },
    {
      "cell_type": "code",
      "execution_count": 43,
      "metadata": {
        "colab": {
          "base_uri": "https://localhost:8080/"
        },
        "id": "kIMXlvKdxzRQ",
        "outputId": "86bb7dc8-b4ab-4bea-9972-776d5a3e7fb5"
      },
      "outputs": [
        {
          "output_type": "stream",
          "name": "stdout",
          "text": [
            "1: 4 5 6 2\n",
            "2: 1 3\n",
            "3: 2 7\n",
            "4: 1\n",
            "5: 1\n",
            "6: 1\n",
            "7: 3\n",
            "\n"
          ]
        }
      ],
      "source": [
        "print(Graph.tree_from_Prufer(\"1 1 1 2 3\"))"
      ]
    },
    {
      "cell_type": "markdown",
      "metadata": {
        "id": "8zI4hhs8mnCH"
      },
      "source": [
        "### Part2"
      ]
    },
    {
      "cell_type": "code",
      "execution_count": 44,
      "metadata": {
        "colab": {
          "base_uri": "https://localhost:8080/"
        },
        "id": "APWxQBCKmoxT",
        "outputId": "97d27581-1f03-466d-de09-c2deb261dacc"
      },
      "outputs": [
        {
          "output_type": "stream",
          "name": "stdout",
          "text": [
            "Overwriting edges.txt\n"
          ]
        }
      ],
      "source": [
        "%%writefile edges.txt\n",
        "a b\n",
        "b c\n",
        "b d\n",
        "d\n",
        "d c\n",
        "e\n",
        "f\n"
      ]
    },
    {
      "cell_type": "code",
      "execution_count": 45,
      "metadata": {
        "colab": {
          "base_uri": "https://localhost:8080/"
        },
        "id": "eR-LAgiBnAPC",
        "outputId": "86d11b73-51d7-4b3b-a97c-4113fd48f30b"
      },
      "outputs": [
        {
          "output_type": "stream",
          "name": "stdout",
          "text": [
            "a b\n",
            "b c\n",
            "b d\n",
            "d\n",
            "d c\n",
            "e\n",
            "f\n"
          ]
        }
      ],
      "source": [
        "%cat edges.txt"
      ]
    },
    {
      "cell_type": "code",
      "execution_count": 46,
      "metadata": {
        "colab": {
          "base_uri": "https://localhost:8080/"
        },
        "id": "iMrisHgRnKuO",
        "outputId": "a53697d3-3ffe-41c8-f190-7f023d16b3fd"
      },
      "outputs": [
        {
          "output_type": "stream",
          "name": "stdout",
          "text": [
            "a: b\n",
            "b: a c d\n",
            "c: b d\n",
            "d: b c\n",
            "e:\n",
            "f:\n",
            "\n"
          ]
        }
      ],
      "source": [
        "graph2 = Graph.from_edges(\"edges.txt\")\n",
        "print(graph2)"
      ]
    },
    {
      "cell_type": "code",
      "execution_count": 47,
      "metadata": {
        "id": "r9NGeZi7p1GR"
      },
      "outputs": [],
      "source": [
        "graph2.to_neighbourlist(\"neighbourhood.txt\")"
      ]
    },
    {
      "cell_type": "code",
      "execution_count": 48,
      "metadata": {
        "colab": {
          "base_uri": "https://localhost:8080/"
        },
        "id": "nWT3fLVpqHpo",
        "outputId": "c41959ab-8310-4127-a85f-b75ed4d01528"
      },
      "outputs": [
        {
          "output_type": "stream",
          "name": "stdout",
          "text": [
            "a: b\n",
            "b: a c d\n",
            "c: b d\n",
            "d: b c\n",
            "e:\n",
            "f:\n"
          ]
        }
      ],
      "source": [
        "%cat \"neighbourhood.txt\""
      ]
    },
    {
      "cell_type": "code",
      "execution_count": 49,
      "metadata": {
        "colab": {
          "base_uri": "https://localhost:8080/"
        },
        "id": "OtKrskF-r81d",
        "outputId": "43e02630-d9d2-4b81-b717-b69a0113d8a8"
      },
      "outputs": [
        {
          "output_type": "stream",
          "name": "stdout",
          "text": [
            "--2024-12-05 00:09:36--  https://github.com/pgordin/GraphsSN2024_1/raw/main/weighted0.txt\n",
            "Resolving github.com (github.com)... 140.82.114.4\n",
            "Connecting to github.com (github.com)|140.82.114.4|:443... connected.\n",
            "HTTP request sent, awaiting response... 302 Found\n",
            "Location: https://raw.githubusercontent.com/pgordin/GraphsSN2024_1/main/weighted0.txt [following]\n",
            "--2024-12-05 00:09:36--  https://raw.githubusercontent.com/pgordin/GraphsSN2024_1/main/weighted0.txt\n",
            "Resolving raw.githubusercontent.com (raw.githubusercontent.com)... 185.199.108.133, 185.199.109.133, 185.199.110.133, ...\n",
            "Connecting to raw.githubusercontent.com (raw.githubusercontent.com)|185.199.108.133|:443... connected.\n",
            "HTTP request sent, awaiting response... 200 OK\n",
            "Length: 99 [text/plain]\n",
            "Saving to: ‘weighted0.txt.5’\n",
            "\n",
            "\rweighted0.txt.5       0%[                    ]       0  --.-KB/s               \rweighted0.txt.5     100%[===================>]      99  --.-KB/s    in 0s      \n",
            "\n",
            "2024-12-05 00:09:36 (5.01 MB/s) - ‘weighted0.txt.5’ saved [99/99]\n",
            "\n"
          ]
        }
      ],
      "source": [
        "!wget https://github.com/pgordin/GraphsSN2024_1/raw/main/weighted0.txt"
      ]
    },
    {
      "cell_type": "code",
      "execution_count": 50,
      "metadata": {
        "colab": {
          "base_uri": "https://localhost:8080/"
        },
        "id": "vdKnV3IJsg3U",
        "outputId": "1830aa6e-a4b4-41ac-f989-7a3846dd14ce"
      },
      "outputs": [
        {
          "output_type": "stream",
          "name": "stdout",
          "text": [
            "A: B E\n",
            "B: A C D\n",
            "E: A D F H\n",
            "C: B D F G\n",
            "D: B C E F\n",
            "F: C D E G H\n",
            "G: C F H I\n",
            "H: E F G\n",
            "I: G\n",
            "\n"
          ]
        }
      ],
      "source": [
        "graph3 = Graph.from_edges(\"weighted0.txt\")\n",
        "print(graph3)"
      ]
    },
    {
      "cell_type": "code",
      "execution_count": 51,
      "metadata": {
        "colab": {
          "base_uri": "https://localhost:8080/"
        },
        "id": "zlrf9llrtDnL",
        "outputId": "a36ca58c-8062-4a95-e2ab-096e9a7d2ecb"
      },
      "outputs": [
        {
          "output_type": "stream",
          "name": "stdout",
          "text": [
            "--2024-12-05 00:09:36--  https://raw.githubusercontent.com/pgordin/GraphsSN2024_1/refs/heads/main/weighted0.txt\n",
            "Resolving raw.githubusercontent.com (raw.githubusercontent.com)... 185.199.108.133, 185.199.109.133, 185.199.110.133, ...\n",
            "Connecting to raw.githubusercontent.com (raw.githubusercontent.com)|185.199.108.133|:443... connected.\n",
            "HTTP request sent, awaiting response... 200 OK\n",
            "Length: 99 [text/plain]\n",
            "Saving to: ‘weighted0.txt.6’\n",
            "\n",
            "weighted0.txt.6     100%[===================>]      99  --.-KB/s    in 0s      \n",
            "\n",
            "2024-12-05 00:09:36 (3.25 MB/s) - ‘weighted0.txt.6’ saved [99/99]\n",
            "\n"
          ]
        }
      ],
      "source": [
        "# it works as well\n",
        "!wget https://raw.githubusercontent.com/pgordin/GraphsSN2024_1/refs/heads/main/weighted0.txt"
      ]
    },
    {
      "cell_type": "code",
      "execution_count": 52,
      "metadata": {
        "colab": {
          "base_uri": "https://localhost:8080/"
        },
        "id": "zBiLX0N80Lt-",
        "outputId": "7b3fa78d-b5e4-46db-945b-6021ca6edbd1"
      },
      "outputs": [
        {
          "output_type": "stream",
          "name": "stdout",
          "text": [
            "1: 2 3 4 6 7 8 10\n",
            "2: 1 3 6 8\n",
            "3: 1 2 6 7 8 10\n",
            "4: 1\n",
            "5:\n",
            "6: 1 2 3 8 9\n",
            "7: 1 3 10\n",
            "8: 1 2 3 6 9\n",
            "9: 6 8\n",
            "10: 1 3 7\n",
            "\n"
          ]
        }
      ],
      "source": [
        "graph4 = Graph.random_graph(10, 1/3)\n",
        "print(graph4)"
      ]
    },
    {
      "cell_type": "code",
      "execution_count": 53,
      "metadata": {
        "colab": {
          "base_uri": "https://localhost:8080/"
        },
        "id": "E_3Xuype0TRP",
        "outputId": "0c3eed33-0425-4fe0-90ca-2c92941d040b"
      },
      "outputs": [
        {
          "output_type": "stream",
          "name": "stdout",
          "text": [
            "1: 2 6\n",
            "2: 1 3\n",
            "3: 2 4\n",
            "4: 3 5\n",
            "5: 4 6\n",
            "6: 5 1\n",
            "\n"
          ]
        }
      ],
      "source": [
        "print(Graph.cycle(6))"
      ]
    },
    {
      "cell_type": "markdown",
      "metadata": {
        "id": "M0eanmo5mkjf"
      },
      "source": [
        "### Part1"
      ]
    },
    {
      "cell_type": "code",
      "execution_count": 54,
      "metadata": {
        "colab": {
          "base_uri": "https://localhost:8080/"
        },
        "id": "fFt6k4_1MkaO",
        "outputId": "c082aa6c-2920-4160-cf5e-5ecebf1a9577"
      },
      "outputs": [
        {
          "output_type": "stream",
          "name": "stdout",
          "text": [
            "['a', 'b', 'c', 'd']\n",
            "[[0 1 0 0]\n",
            " [1 0 1 0]\n",
            " [0 1 0 1]\n",
            " [0 0 0 1]]\n",
            "---------------------------\n",
            "a :  b\n",
            "b :  a  c\n",
            "c :  b  d\n",
            "d :  d\n",
            "---------------------------\n",
            "1 :  2\n",
            "2 :  1  3\n",
            "3 :  2  4\n",
            "4 :  4\n"
          ]
        }
      ],
      "source": [
        "vertices = [\"a\", \"b\", \"c\", \"d\"]\n",
        "matrix = np.array([[0,1,0,0],[1,0,1,0],[0,1,0,1],[0,0,0,1]])\n",
        "print(vertices)\n",
        "print(matrix)\n",
        "print(\"---------------------------\")\n",
        "print_matrix(vertices, matrix)\n",
        "print(\"---------------------------\")\n",
        "print_matrix(None,matrix)"
      ]
    },
    {
      "cell_type": "code",
      "execution_count": 55,
      "metadata": {
        "colab": {
          "base_uri": "https://localhost:8080/"
        },
        "id": "-WN2GXWRO7a-",
        "outputId": "4c9ad85e-c9bf-4083-f802-e592e398a2ef"
      },
      "outputs": [
        {
          "output_type": "stream",
          "name": "stdout",
          "text": [
            "{'a': ['b'], 'b': ['a', 'c'], 'c': ['b', 'd'], 'd': ['c']}\n",
            "---------------------------\n",
            "a :  b\n",
            "b :  a  c\n",
            "c :  b  d\n",
            "d :  c\n"
          ]
        }
      ],
      "source": [
        "graph_dict = {\n",
        "  \"a\": [\"b\"],\n",
        "  \"b\": [\"a\", \"c\"],\n",
        "  \"c\": [\"b\", \"d\"],\n",
        "  \"d\": [\"c\"]\n",
        "}\n",
        "print(graph_dict)\n",
        "print(\"---------------------------\")\n",
        "print_dict(graph_dict)"
      ]
    },
    {
      "cell_type": "code",
      "execution_count": 56,
      "metadata": {
        "colab": {
          "base_uri": "https://localhost:8080/"
        },
        "id": "X8U18KAaDJzn",
        "outputId": "87eb6e6c-271b-4f4c-bb34-05f754afa3d8"
      },
      "outputs": [
        {
          "output_type": "stream",
          "name": "stdout",
          "text": [
            "a: b\n",
            "b: a c\n",
            "c: b d\n",
            "d: d\n",
            "\n"
          ]
        }
      ],
      "source": [
        "graph1 = Graph.from_matrix(matrix, vertices)\n",
        "print(graph1)"
      ]
    },
    {
      "cell_type": "code",
      "execution_count": 57,
      "metadata": {
        "colab": {
          "base_uri": "https://localhost:8080/"
        },
        "id": "Diez_R5gJAvq",
        "outputId": "6cac0a36-0ad8-4054-ac12-a705f4a945ae"
      },
      "outputs": [
        {
          "output_type": "stream",
          "name": "stdout",
          "text": [
            "a: b\n",
            "b: a c\n",
            "c: b d\n",
            "d: c\n",
            "\n"
          ]
        }
      ],
      "source": [
        "print(Graph(graph_dict))  # the same result"
      ]
    },
    {
      "cell_type": "code",
      "execution_count": 58,
      "metadata": {
        "colab": {
          "base_uri": "https://localhost:8080/"
        },
        "id": "HFejfq6hP4D6",
        "outputId": "8a85b8ea-5313-49a6-8945-30e748c5eccb"
      },
      "outputs": [
        {
          "output_type": "stream",
          "name": "stdout",
          "text": [
            "['a', 'b', 'c', 'd']\n"
          ]
        }
      ],
      "source": [
        "print(graph1.vertices())"
      ]
    },
    {
      "cell_type": "code",
      "execution_count": 59,
      "metadata": {
        "colab": {
          "base_uri": "https://localhost:8080/"
        },
        "id": "f2Tgny4gQF4O",
        "outputId": "6b48d5fa-c9cf-4047-d3cb-8df2dcf735b1"
      },
      "outputs": [
        {
          "output_type": "stream",
          "name": "stdout",
          "text": [
            "[[0 1 0 0]\n",
            " [1 0 1 0]\n",
            " [0 1 0 1]\n",
            " [0 0 0 1]]\n"
          ]
        }
      ],
      "source": [
        "print(graph1.matrix())"
      ]
    },
    {
      "cell_type": "code",
      "execution_count": 60,
      "metadata": {
        "colab": {
          "base_uri": "https://localhost:8080/"
        },
        "id": "eSNamb6BTulo",
        "outputId": "fe019a14-54a8-4ceb-a70a-e4f1bcdd5a1d"
      },
      "outputs": [
        {
          "output_type": "stream",
          "name": "stdout",
          "text": [
            "a: b\n",
            "b: a c\n",
            "c: b d\n",
            "d: d\n",
            "e:\n",
            "\n"
          ]
        }
      ],
      "source": [
        "graph1.add_vertex(\"e\")\n",
        "print(graph1)"
      ]
    },
    {
      "cell_type": "code",
      "execution_count": 61,
      "metadata": {
        "colab": {
          "base_uri": "https://localhost:8080/"
        },
        "id": "h20fs6XzT1v3",
        "outputId": "776576ef-1879-4380-94a0-9c191f85f567"
      },
      "outputs": [
        {
          "output_type": "stream",
          "name": "stdout",
          "text": [
            "a: b\n",
            "b: a c\n",
            "c: b d\n",
            "d: d\n",
            "e: f\n",
            "f: e\n",
            "\n"
          ]
        }
      ],
      "source": [
        "graph1.add_edge([\"e\", \"f\"])\n",
        "print(graph1)"
      ]
    },
    {
      "cell_type": "code",
      "execution_count": 62,
      "metadata": {
        "colab": {
          "base_uri": "https://localhost:8080/"
        },
        "id": "NTRLKliDT9mR",
        "outputId": "a8d86df2-e8de-4af6-f37b-0d637b5dbd24"
      },
      "outputs": [
        {
          "output_type": "stream",
          "name": "stdout",
          "text": [
            "a: b\n",
            "b: a c\n",
            "c: b d\n",
            "d: d\n",
            "e: f a\n",
            "f: e\n",
            "\n"
          ]
        }
      ],
      "source": [
        "graph1.add_arc([\"e\", \"a\"])  # breaking the symmetry\n",
        "print(graph1)"
      ]
    },
    {
      "cell_type": "code",
      "execution_count": 63,
      "metadata": {
        "colab": {
          "base_uri": "https://localhost:8080/"
        },
        "id": "qplimjtMUGPN",
        "outputId": "681b01e8-3432-46c1-8c8e-e08c232f332d"
      },
      "outputs": [
        {
          "output_type": "stream",
          "name": "stdout",
          "text": [
            "a: b e\n",
            "b: a c\n",
            "c: b d\n",
            "d: d\n",
            "e: f a\n",
            "f: e\n",
            "\n"
          ]
        }
      ],
      "source": [
        "graph1.add_edge([\"e\", \"a\"])  # restoring the symmetry\n",
        "print(graph1)"
      ]
    },
    {
      "cell_type": "code",
      "execution_count": 64,
      "metadata": {
        "colab": {
          "base_uri": "https://localhost:8080/"
        },
        "id": "GuEBCTrUUM1V",
        "outputId": "09752502-6449-4502-c03a-e6801e9535ff"
      },
      "outputs": [
        {
          "output_type": "stream",
          "name": "stdout",
          "text": [
            "a: b e\n",
            "b: a c\n",
            "c: b d\n",
            "d: d\n",
            "e: f a\n",
            "f: e\n",
            "\n"
          ]
        }
      ],
      "source": [
        "graph1.add_edge([\"e\", \"f\"]) # do nothing, an edge already exists\n",
        "print(graph1)"
      ]
    },
    {
      "cell_type": "code",
      "execution_count": 65,
      "metadata": {
        "colab": {
          "base_uri": "https://localhost:8080/"
        },
        "id": "XLQ1qcCAu7ie",
        "outputId": "60ae36cb-d485-45ba-e956-4e19611c11dc"
      },
      "outputs": [
        {
          "output_type": "stream",
          "name": "stdout",
          "text": [
            "a: b e\n",
            "b: a c\n",
            "c: b d\n",
            "d: d\n",
            "e: a\n",
            "\n"
          ]
        }
      ],
      "source": [
        "graph1.del_vertex(\"f\")  # removing a vertex\n",
        "print(graph1)"
      ]
    },
    {
      "cell_type": "code",
      "execution_count": 66,
      "metadata": {
        "colab": {
          "base_uri": "https://localhost:8080/",
          "height": 263
        },
        "id": "H16ojmt5UWKW",
        "outputId": "97e75fdd-3150-48af-812d-f671f3c747bc"
      },
      "outputs": [
        {
          "output_type": "error",
          "ename": "ValueError",
          "evalue": "Loops are not allowed!",
          "traceback": [
            "\u001b[0;31m---------------------------------------------------------------------------\u001b[0m",
            "\u001b[0;31mValueError\u001b[0m                                Traceback (most recent call last)",
            "\u001b[0;32m<ipython-input-66-3a6861681e28>\u001b[0m in \u001b[0;36m<cell line: 1>\u001b[0;34m()\u001b[0m\n\u001b[0;32m----> 1\u001b[0;31m \u001b[0mgraph1\u001b[0m\u001b[0;34m.\u001b[0m\u001b[0madd_edge\u001b[0m\u001b[0;34m(\u001b[0m\u001b[0;34m[\u001b[0m\u001b[0;34m\"e\"\u001b[0m\u001b[0;34m,\u001b[0m \u001b[0;34m\"e\"\u001b[0m\u001b[0;34m]\u001b[0m\u001b[0;34m)\u001b[0m \u001b[0;31m# an error\u001b[0m\u001b[0;34m\u001b[0m\u001b[0;34m\u001b[0m\u001b[0m\n\u001b[0m",
            "\u001b[0;32m<ipython-input-3-3b6b0686541c>\u001b[0m in \u001b[0;36madd_edge\u001b[0;34m(self, edge)\u001b[0m\n\u001b[1;32m    110\u001b[0m         \u001b[0mu\u001b[0m\u001b[0;34m,\u001b[0m \u001b[0mv\u001b[0m \u001b[0;34m=\u001b[0m \u001b[0medge\u001b[0m\u001b[0;34m\u001b[0m\u001b[0;34m\u001b[0m\u001b[0m\n\u001b[1;32m    111\u001b[0m         \u001b[0;32mif\u001b[0m \u001b[0mu\u001b[0m \u001b[0;34m==\u001b[0m \u001b[0mv\u001b[0m\u001b[0;34m:\u001b[0m\u001b[0;34m\u001b[0m\u001b[0;34m\u001b[0m\u001b[0m\n\u001b[0;32m--> 112\u001b[0;31m             \u001b[0;32mraise\u001b[0m \u001b[0mValueError\u001b[0m\u001b[0;34m(\u001b[0m\u001b[0;34m\"Loops are not allowed!\"\u001b[0m\u001b[0;34m)\u001b[0m\u001b[0;34m\u001b[0m\u001b[0;34m\u001b[0m\u001b[0m\n\u001b[0m\u001b[1;32m    113\u001b[0m         \u001b[0mself\u001b[0m\u001b[0;34m.\u001b[0m\u001b[0madd_vertex\u001b[0m\u001b[0;34m(\u001b[0m\u001b[0mu\u001b[0m\u001b[0;34m)\u001b[0m\u001b[0;34m\u001b[0m\u001b[0;34m\u001b[0m\u001b[0m\n\u001b[1;32m    114\u001b[0m         \u001b[0mself\u001b[0m\u001b[0;34m.\u001b[0m\u001b[0madd_vertex\u001b[0m\u001b[0;34m(\u001b[0m\u001b[0mv\u001b[0m\u001b[0;34m)\u001b[0m\u001b[0;34m\u001b[0m\u001b[0;34m\u001b[0m\u001b[0m\n",
            "\u001b[0;31mValueError\u001b[0m: Loops are not allowed!"
          ]
        }
      ],
      "source": [
        "graph1.add_edge([\"e\", \"e\"]) # an error"
      ]
    },
    {
      "cell_type": "code",
      "execution_count": null,
      "metadata": {
        "id": "OJsBnowmUdQe"
      },
      "outputs": [],
      "source": [
        "graph1.add_arc([\"e\", \"e\"]) # OK - loops are allowed in digraphs\n",
        "print(graph1)"
      ]
    },
    {
      "cell_type": "code",
      "execution_count": null,
      "metadata": {
        "id": "sE1ahsXaDUsb"
      },
      "outputs": [],
      "source": [
        "print(Graph.cycle(6))"
      ]
    },
    {
      "cell_type": "code",
      "execution_count": null,
      "metadata": {
        "id": "JWwtyDG7ddQe"
      },
      "outputs": [],
      "source": [
        "#  1. preorder(v) and postorder(v) Functions\n",
        "\n",
        "# In[2]:\n",
        "\n",
        "\n",
        "# In preorder, we visit the current node first, then recursively visit each child node.\n",
        "\n",
        "def preorder(v, tree, visited=None):\n",
        "    if visited is None:\n",
        "        visited = set()\n",
        "    visited.add(v)\n",
        "    print(v, end=' ')\n",
        "    for neighbor in tree[v]:\n",
        "        if neighbor not in visited:\n",
        "            preorder(neighbor, tree, visited)\n",
        "\n",
        "#In postorder, we visit all child nodes before visiting the current node.\n",
        "def postorder(v, tree, visited=None):\n",
        "    if visited is None:\n",
        "        visited = set()\n",
        "    visited.add(v)\n",
        "    for neighbor in tree[v]:\n",
        "        if neighbor not in visited:\n",
        "            postorder(neighbor, tree, visited)\n",
        "    print(v, end=' ')\n",
        "\n",
        "tree = {\n",
        "    1: [2, 3],\n",
        "    2: [4, 5],\n",
        "    3: [],\n",
        "    4: [],\n",
        "    5: []\n",
        "}\n",
        "print(\"Preorder traversal:\")\n",
        "preorder(1, tree)\n",
        "print(\"\\n\")  # Adds a newline for readability\n",
        "\n",
        "print(\"Postorder traversal:\")\n",
        "postorder(1, tree)\n",
        "print(\"\\n\")\n"
      ]
    }
  ],
  "metadata": {
    "colab": {
      "provenance": [],
      "include_colab_link": true
    },
    "kernelspec": {
      "display_name": "mda",
      "language": "python",
      "name": "python3"
    },
    "language_info": {
      "codemirror_mode": {
        "name": "ipython",
        "version": 3
      },
      "file_extension": ".py",
      "mimetype": "text/x-python",
      "name": "python",
      "nbconvert_exporter": "python",
      "pygments_lexer": "ipython3",
      "version": "3.13.0"
    }
  },
  "nbformat": 4,
  "nbformat_minor": 0
}
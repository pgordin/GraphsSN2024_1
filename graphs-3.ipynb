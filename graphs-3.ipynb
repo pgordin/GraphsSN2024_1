{
 "cells": [
  {
   "cell_type": "markdown",
   "metadata": {},
   "source": [
    "1. Write a preorder(v) and postorder(v) function that will print trees (e.g. generated from Prüfer's code) in preorder or (respectively) postorder order, starting from vertex v. "
   ]
  },
  {
   "cell_type": "code",
   "execution_count": null,
   "metadata": {},
   "outputs": [],
   "source": [
    "### the input is an adjacency list\n",
    "\n",
    "def preorder(v, adj_list, checked=None):\n",
    "    if checked is None:\n",
    "        checked = set()  # keeping track of checked nodes\n",
    "\n",
    "    print(v, end=\" \")    # printing the current node (preorder)\n",
    "    checked.add(v)\n",
    "    \n",
    "    for neigh in adj_list[v]:       # visiting in preorder\n",
    "        if neigh not in checked:\n",
    "            preorder(neigh, adj_list, checked)\n",
    "\n",
    "\n",
    "def postorder(v, adj_list, checked=None):\n",
    "    if checked is None:\n",
    "        checked = set()\n",
    "\n",
    "    checked.add(v)\n",
    "\n",
    "    for neigh in adj_list[v]:       # visiting in postorder\n",
    "        if neigh not in checked:\n",
    "            postorder(neigh, adj_list, checked)\n",
    "\n",
    "    print(v, end=\" \")       # print the current node (postorder)\n"
   ]
  },
  {
   "cell_type": "code",
   "execution_count": 2,
   "metadata": {},
   "outputs": [
    {
     "name": "stdout",
     "output_type": "stream",
     "text": [
      "Preorder Traversal:\n",
      "0 1 3 4 2 \n",
      "Postorder Traversal:\n",
      "3 4 1 2 0 "
     ]
    }
   ],
   "source": [
    "# example\n",
    "\n",
    "adj_list = {\n",
    "    0: [1, 2],\n",
    "    1: [0, 3, 4],\n",
    "    2: [0],\n",
    "    3: [1],\n",
    "    4: [1]\n",
    "}\n",
    "\n",
    "print(\"Preorder Traversal:\")\n",
    "preorder(0, adj_list)\n",
    "\n",
    "print(\"\\nPostorder Traversal:\")\n",
    "postorder(0, adj_list)"
   ]
  },
  {
   "cell_type": "markdown",
   "metadata": {},
   "source": [
    "2. The ConnectedComponents function shown during classes returns a list of vertex sets. Write a ConnectedComponentsGraphs() function that returns a list of graphs — connected components of the graph on which is run. One can (worthwhile) use the (ready) ConnectedComponents function. "
   ]
  },
  {
   "cell_type": "code",
   "execution_count": 9,
   "metadata": {},
   "outputs": [],
   "source": [
    "def ConnectedComponentsGraphs(graph):\n",
    "    con_com = []\n",
    "    visited = set()\n",
    "    \n",
    "    def dfs(v, component):\n",
    "        stack = [v]\n",
    "        while stack:\n",
    "            u = stack.pop()\n",
    "            if u not in visited:\n",
    "                visited.add(u)\n",
    "                component[u] = [neighbor for neighbor in graph[u] if neighbor not in visited]\n",
    "                stack.extend(component[u])\n",
    "\n",
    "    # back to the main attraction\n",
    "    for vertex in graph:\n",
    "        if vertex not in visited:\n",
    "            component = {}                  # creating a new component as an adj list\n",
    "            dfs(vertex, component)          #find all vertices in this component\n",
    "            con_com.append(component)\n",
    "    \n",
    "    return con_com\n"
   ]
  },
  {
   "cell_type": "code",
   "execution_count": 10,
   "metadata": {},
   "outputs": [
    {
     "name": "stdout",
     "output_type": "stream",
     "text": [
      "Component 1: {0: [1, 2], 2: [], 1: []}\n",
      "Component 2: {3: [4], 4: []}\n",
      "Component 3: {5: []}\n"
     ]
    }
   ],
   "source": [
    "graph = {\n",
    "    0: [1, 2],\n",
    "    1: [0],\n",
    "    2: [0],\n",
    "    3: [4],\n",
    "    4: [3],\n",
    "    5: []\n",
    "}\n",
    "\n",
    "components = ConnectedComponentsGraphs(graph)\n",
    "\n",
    "for i, component in enumerate(components, 1):\n",
    "    print(f\"Component {i}: {component}\")"
   ]
  },
  {
   "cell_type": "markdown",
   "metadata": {},
   "source": [
    "3. Write a random_bipartite_graph(m,n, p)  function that will generate a bipartite random graph with m+n vertices (a subgraph of the graph K(m,n)) in which each possible pair of vertices is connected by an edge independently, with probability p."
   ]
  },
  {
   "cell_type": "code",
   "execution_count": 3,
   "metadata": {},
   "outputs": [],
   "source": [
    "import random\n",
    "\n",
    "def random_bipartite_graph(m, n, p):\n",
    "    A = range(m)                                # set a has vertices 0 through m-1\n",
    "    B = range(m, m + n)                         # set b has vertices m through m+n-1\n",
    "    adj_list = {i: [] for i in range(m + n)}\n",
    "    \n",
    "    for u in A:\n",
    "        for v in B:                             # for each possible edge between A and B, add it with probability p\n",
    "            if random.random() < p:\n",
    "                adj_list[u].append(v)\n",
    "                adj_list[v].append(u)\n",
    "    \n",
    "    return adj_list\n"
   ]
  },
  {
   "cell_type": "code",
   "execution_count": 4,
   "metadata": {},
   "outputs": [
    {
     "name": "stdout",
     "output_type": "stream",
     "text": [
      "0: [3, 5]\n",
      "1: [5, 6]\n",
      "2: [3, 4, 5, 6]\n",
      "3: [0, 2]\n",
      "4: [2]\n",
      "5: [0, 1, 2]\n",
      "6: [1, 2]\n"
     ]
    }
   ],
   "source": [
    "# example\n",
    "\n",
    "m = 3       # set A vertices\n",
    "n = 4       # set B vertices\n",
    "p = 0.5     # probability\n",
    "\n",
    "graph = random_bipartite_graph(m, n, p)\n",
    "\n",
    "for vertex, neighbors in graph.items():\n",
    "    print(f\"{vertex}: {neighbors}\")\n"
   ]
  }
 ],
 "metadata": {
  "kernelspec": {
   "display_name": "Python 3",
   "language": "python",
   "name": "python3"
  },
  "language_info": {
   "codemirror_mode": {
    "name": "ipython",
    "version": 3
   },
   "file_extension": ".py",
   "mimetype": "text/x-python",
   "name": "python",
   "nbconvert_exporter": "python",
   "pygments_lexer": "ipython3",
   "version": "3.12.7"
  }
 },
 "nbformat": 4,
 "nbformat_minor": 2
}

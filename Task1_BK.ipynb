{
  "nbformat": 4,
  "nbformat_minor": 0,
  "metadata": {
    "colab": {
      "provenance": [],
      "include_colab_link": true
    },
    "kernelspec": {
      "name": "python3",
      "display_name": "Python 3"
    },
    "language_info": {
      "name": "python"
    }
  },
  "cells": [
    {
      "cell_type": "markdown",
      "metadata": {
        "id": "view-in-github",
        "colab_type": "text"
      },
      "source": [
        "<a href=\"https://colab.research.google.com/github/pgordin/GraphsSN2024_1/blob/main/Task1_BK.ipynb\" target=\"_parent\"><img src=\"https://colab.research.google.com/assets/colab-badge.svg\" alt=\"Open In Colab\"/></a>"
      ]
    },
    {
      "cell_type": "code",
      "execution_count": 1,
      "metadata": {
        "id": "pTsjgKLjJl8Z"
      },
      "outputs": [],
      "source": [
        "import random\n",
        "import numpy as np\n",
        "\n",
        "def random_graph_matrix(n, p):\n",
        "  M = np.zeros((n, n))\n",
        "  for i in range(n):\n",
        "    for j in range(i+1, n):\n",
        "      if random.random() < p:\n",
        "        M[i, j] = 1\n",
        "        M[j, i] = 1\n",
        "  return M\n",
        "\n",
        "def random_graph_neighbourhood(n, p):\n",
        "  neighbourhood = {}\n",
        "  for i in range(n):\n",
        "    neighbourhood[i] = set()\n",
        "    for j in range(n):\n",
        "      if i != j and random.random() < p:\n",
        "        neighbourhood[i].add(j)\n",
        "  for i in range(n):\n",
        "    for j in range(n):\n",
        "      if i != j and j in neighbourhood[i]:\n",
        "        neighbourhood[j].add(i)\n",
        "  return neighbourhood\n",
        "\n",
        "def neighbourhood_to_matrix(neighbourhood):\n",
        "  n = len(neighbourhood)\n",
        "  M = np.zeros((n, n))\n",
        "  for i in range(n):\n",
        "    for j in neighbourhood[i]:\n",
        "      M[i, j] = 1\n",
        "  return M\n",
        "\n",
        "def matrix_to_neighbourhood(M):\n",
        "  n = M.shape[0]\n",
        "  neighbourhood = {}\n",
        "  for i in range(n):\n",
        "    neighbourhood[i] = set()\n",
        "    for j in range(n):\n",
        "      if M[i, j] == 1:\n",
        "        neighbourhood[i].add(j)\n",
        "  return neighbourhood\n",
        "\n",
        "def cycle(n, directed=True):\n",
        "  M = np.zeros((n, n))\n",
        "  for i in range(n):\n",
        "    M[i, (i+1)%n] = 1\n",
        "    if not directed:\n",
        "      M[(i+1)%n, i] = 1\n",
        "  return matrix_to_neighbourhood(M)"
      ]
    },
    {
      "cell_type": "code",
      "source": [
        "M = random_graph_neighbourhood(5, 0.3)"
      ],
      "metadata": {
        "id": "uNdUYPsKKIUZ"
      },
      "execution_count": null,
      "outputs": []
    },
    {
      "cell_type": "code",
      "source": [
        "M"
      ],
      "metadata": {
        "colab": {
          "base_uri": "https://localhost:8080/"
        },
        "id": "Xqmalp_NKOLP",
        "outputId": "f4795c01-22cc-4bce-a8f5-e2a5a083b10f"
      },
      "execution_count": null,
      "outputs": [
        {
          "output_type": "execute_result",
          "data": {
            "text/plain": [
              "{0: {2, 3, 4}, 1: {2, 4}, 2: {0, 1}, 3: {0}, 4: {0, 1}}"
            ]
          },
          "metadata": {},
          "execution_count": 57
        }
      ]
    },
    {
      "cell_type": "code",
      "source": [
        "neighbourhood_to_matrix(M)"
      ],
      "metadata": {
        "colab": {
          "base_uri": "https://localhost:8080/"
        },
        "id": "hOf-f9QtKWX3",
        "outputId": "042439b6-5d88-4561-f0b3-665f6273e236"
      },
      "execution_count": null,
      "outputs": [
        {
          "output_type": "execute_result",
          "data": {
            "text/plain": [
              "array([[0., 0., 1., 1., 1.],\n",
              "       [0., 0., 1., 0., 1.],\n",
              "       [1., 1., 0., 0., 0.],\n",
              "       [1., 0., 0., 0., 0.],\n",
              "       [1., 1., 0., 0., 0.]])"
            ]
          },
          "metadata": {},
          "execution_count": 58
        }
      ]
    },
    {
      "cell_type": "code",
      "source": [
        "matrix_to_neighbourhood(neighbourhood_to_matrix(M))"
      ],
      "metadata": {
        "colab": {
          "base_uri": "https://localhost:8080/"
        },
        "id": "beplSFdGLYoE",
        "outputId": "0d5d4738-1ab8-444a-b779-5723e026f158"
      },
      "execution_count": null,
      "outputs": [
        {
          "output_type": "execute_result",
          "data": {
            "text/plain": [
              "{0: {2, 3, 4}, 1: {2, 4}, 2: {0, 1}, 3: {0}, 4: {0, 1}}"
            ]
          },
          "metadata": {},
          "execution_count": 59
        }
      ]
    },
    {
      "cell_type": "code",
      "source": [
        "cycle(5, directed=False)"
      ],
      "metadata": {
        "colab": {
          "base_uri": "https://localhost:8080/"
        },
        "id": "CN40fMJpMJ4z",
        "outputId": "bad5a0c4-5fbc-4507-c805-543f7d40e80d"
      },
      "execution_count": null,
      "outputs": [
        {
          "output_type": "execute_result",
          "data": {
            "text/plain": [
              "{0: {1, 4}, 1: {0, 2}, 2: {1, 3}, 3: {2, 4}, 4: {0, 3}}"
            ]
          },
          "metadata": {},
          "execution_count": 63
        }
      ]
    },
    {
      "cell_type": "code",
      "source": [],
      "metadata": {
        "id": "QVdez6ENNERq"
      },
      "execution_count": null,
      "outputs": []
    }
  ]
}
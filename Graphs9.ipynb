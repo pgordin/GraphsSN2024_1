{
  "cells": [
    {
      "cell_type": "markdown",
      "metadata": {
        "id": "view-in-github",
        "colab_type": "text"
      },
      "source": [
        "<a href=\"https://colab.research.google.com/github/pgordin/GraphsSN2024_1/blob/main/Graphs9.ipynb\" target=\"_parent\"><img src=\"https://colab.research.google.com/assets/colab-badge.svg\" alt=\"Open In Colab\"/></a>"
      ]
    },
    {
      "cell_type": "markdown",
      "metadata": {
        "id": "noHa1UnB6dTl"
      },
      "source": [
        "#Graphs & Social Networks &mdash; lab material\n",
        "This notebook contains a definition of a python class *Graph*, containing functions described during labs."
      ]
    },
    {
      "cell_type": "markdown",
      "metadata": {
        "id": "o6cctVaGKn9n"
      },
      "source": [
        "Package import."
      ]
    },
    {
      "cell_type": "code",
      "execution_count": 1,
      "metadata": {
        "id": "OAkHMz2jKTzm"
      },
      "outputs": [],
      "source": [
        "import numpy as np\n",
        "from random import random, seed\n",
        "from copy import deepcopy\n",
        "from queue import PriorityQueue, deque"
      ]
    },
    {
      "cell_type": "markdown",
      "metadata": {
        "id": "r_QpZWdZCdkX"
      },
      "source": [
        "## Simple functions from the first classes\n",
        "This is left just as an example (to compare the behaviour)."
      ]
    },
    {
      "cell_type": "code",
      "execution_count": 2,
      "metadata": {
        "id": "a5x2lBIQK70Y"
      },
      "outputs": [],
      "source": [
        "def print_matrix(vertices, matrix):\n",
        "  \"\"\"\n",
        "  Printing a graph given by adjacency matrix\n",
        "  \"\"\"\n",
        "  n = len(matrix)\n",
        "  if (vertices is not None) and (len(vertices) == n):\n",
        "    vv = vertices\n",
        "  else:\n",
        "    vv = range(1, n+1)\n",
        "  for i in range(n):\n",
        "    print(vv[i], \":\", end=\"\")\n",
        "    for j in range(n):\n",
        "      if matrix[i, j]:\n",
        "        print(\" \", vv[j], end=\"\")\n",
        "    print(\"\")\n",
        "\n",
        "def print_dict(graph):\n",
        "  \"\"\"\n",
        "  Printing of a graph (given as a dictionary/neighbouring list)\n",
        "  \"\"\"\n",
        "  for v in graph:\n",
        "    print(v, \":\", end=\"\")\n",
        "    for u in graph[v]:\n",
        "      print(\" \", u, end=\"\")\n",
        "    print(\"\")"
      ]
    },
    {
      "cell_type": "markdown",
      "metadata": {
        "id": "2WMNx_ldK23O"
      },
      "source": [
        "## Class *Graph*"
      ]
    },
    {
      "cell_type": "code",
      "execution_count": 3,
      "metadata": {
        "id": "GpL6rcH371bJ"
      },
      "outputs": [],
      "source": [
        "class Graph:\n",
        "    def __init__(self, graph=None):\n",
        "        if graph is None:\n",
        "            graph = {}\n",
        "        self.graph = graph\n",
        "\n",
        "    # dict initializer\n",
        "    @classmethod\n",
        "    def from_dict(cls, graph):\n",
        "        return cls(graph)\n",
        "\n",
        "    # array initializer\n",
        "    @classmethod\n",
        "    def from_matrix(cls, matrix, vertices = None):\n",
        "        if (vertices is None) or (len(vertices) != len(matrix)):\n",
        "            vertices = [*range(1, len(matrix) + 1)]\n",
        "        return cls.from_dict(cls._matrix_to_dict(matrix, vertices))\n",
        "\n",
        "    # two private methods matrix <-> dictionaries\n",
        "    def _matrix_to_dict(matrix, vertices: list) -> dict:\n",
        "        \"\"\"\n",
        "        Converts a graph given as an adjacency matrix to a graph in dict form.\n",
        "        \"\"\"\n",
        "        res_dict = {}\n",
        "        for i, v in enumerate(vertices):\n",
        "            neighbours = [vertices[j] for j, edge in enumerate(matrix[i]) if edge]\n",
        "            res_dict[v] = neighbours\n",
        "        return res_dict\n",
        "\n",
        "    def _dict_to_matrix(self, _dict: dict) -> np.array:\n",
        "        \"\"\"\n",
        "        Converts a graph in dict form to its adjacency matrix.\n",
        "        \"\"\"\n",
        "        n = len(_dict)\n",
        "        vertices = [*_dict.keys()]\n",
        "        matrix = np.zeros(shape = (n, n), dtype=int)\n",
        "        for u,v in [\n",
        "            (vertices.index(u), vertices.index(v))\n",
        "            for u, row in _dict.items() for v in row\n",
        "        ]:\n",
        "            matrix[u][v] += 1\n",
        "        return matrix\n",
        "\n",
        "    def vertices(self) -> list:\n",
        "        \"\"\"\n",
        "        Returns list of vertices of the graph.\n",
        "        \"\"\"\n",
        "        return [*self.graph.keys()]\n",
        "\n",
        "    def matrix(self) -> np.array:\n",
        "        \"\"\"\n",
        "        Returns the adjacency matrix of the graph.\n",
        "        \"\"\"\n",
        "        return self._dict_to_matrix(self.graph)\n",
        "\n",
        "    # redefinition of print for objects of class Graph\n",
        "    def __str__(self):\n",
        "        res = \"\"\n",
        "        for v in self.graph:\n",
        "            res += f\"{v}:\"\n",
        "            for u in self.graph[v]:\n",
        "                res += f\" {u}\"\n",
        "            res += \"\\n\"\n",
        "        return res\n",
        "\n",
        "    # The following is for free thanks to the above\n",
        "    def to_neighbourlist(self, filename: str):\n",
        "        \"\"\"\n",
        "        Saves a graphs to a text file as a neighbour dict.\\n\n",
        "        Filename is a file path.\n",
        "        \"\"\"\n",
        "        file = open(filename, \"w\")  # open textfile for writing\n",
        "        file.write(str(self))\n",
        "        file.close()\n",
        "\n",
        "    # Modyfying graphs\n",
        "    def add_vertex(self, vertex):\n",
        "        \"\"\"\n",
        "        Adds a new vertex to the graph.\n",
        "        \"\"\"\n",
        "        if vertex not in self.graph:\n",
        "            self.graph[vertex] = []\n",
        "\n",
        "    def del_vertex(self, vertex):\n",
        "        \"\"\"\n",
        "        Removes a vertex from the graph.\n",
        "        \"\"\"\n",
        "        if vertex in self.graph:\n",
        "            self.graph.pop(vertex)\n",
        "            for u in self.graph:\n",
        "                if vertex in self.graph[u]:\n",
        "                    self.graph[u].remove(vertex)\n",
        "\n",
        "    def add_arc(self, arc):\n",
        "        \"\"\"\n",
        "        Given pair of vertices (arc variable) add an arc to the graph\n",
        "        We consider simple, directed graphs.\n",
        "        \"\"\"\n",
        "        u, v = arc\n",
        "        self.add_vertex(u)\n",
        "        self.add_vertex(v)\n",
        "        if v not in self.graph[u]:\n",
        "            self.graph[u].append(v)\n",
        "\n",
        "    def add_edge(self, edge: list):\n",
        "        \"\"\"\n",
        "        Given pair of vertices (edge variable) add an edge to existing graph.\n",
        "        We consider simple, undirected graphs, as symmetric digraphs without loops.\n",
        "        \"\"\"\n",
        "        u, v = edge\n",
        "        if u == v:\n",
        "            raise ValueError(\"Loops are not allowed!\")\n",
        "        self.add_vertex(u)\n",
        "        self.add_vertex(v)\n",
        "        if v not in self.graph[u]:\n",
        "            self.graph[u].append(v)\n",
        "        if u not in self.graph[v]:\n",
        "            self.graph[v].append(u)\n",
        "\n",
        "    # reading from a file\n",
        "    @staticmethod\n",
        "    def from_edges(filename: str, directed = 0):\n",
        "        \"\"\"\n",
        "        Read the graph from file, that in each line contains either\n",
        "        the description of a vertex (one word) or\n",
        "        the description of an edge/arc (at least 2 words).\n",
        "        The resulting graph is returned as a neighbourhood list.\n",
        "        Variable \"filename\" contains the whole path to the file.\n",
        "        \"\"\"\n",
        "        graph = Graph()\n",
        "        file = open(filename, \"r\")          # open the file to read\n",
        "        for line in file:                   # for each line of the file\n",
        "          words = line.strip().split()      # splits the line into words\n",
        "          if len(words) == 1:               # one word - vertex description\n",
        "            graph.add_vertex(words[0])\n",
        "          elif len(words) >= 2:             # at least two words, first two are the edge description\n",
        "            if directed:\n",
        "              graph.add_arc([words[0], words[1]])\n",
        "            else:\n",
        "              graph.add_edge([words[0], words[1]])\n",
        "        file.close()\n",
        "        return graph\n",
        "\n",
        "    @staticmethod\n",
        "    def random_graph(n: int, p: float):\n",
        "        \"\"\"\n",
        "        Creates a random graph in G(n, p) model.\n",
        "        \"\"\"\n",
        "        rand_graph = Graph()\n",
        "        for i in range(1, n + 1):\n",
        "            rand_graph.add_vertex(i)\n",
        "            for j in range(1, i):\n",
        "                if random() < p:\n",
        "                    rand_graph.add_edge([i, j])\n",
        "        return rand_graph\n",
        "\n",
        "    @staticmethod\n",
        "    def cycle(n: int):\n",
        "        \"\"\"\n",
        "        Creates a cycle C_n on n vertices\n",
        "        \"\"\"\n",
        "        cycle = Graph()\n",
        "        for i in range(n-1):\n",
        "          cycle.add_edge([i+1, i+2])\n",
        "        cycle.add_edge([1, n])\n",
        "        return cycle\n",
        "\n",
        "\n",
        "    def Prufer(self):\n",
        "      \"\"\"\n",
        "      Returns the Prufer code of a tree.\n",
        "      It is necessary that the graph is a tree (it is not checked).\n",
        "      Result is given as a string (empty for trees on 1 or 2 vertices).\n",
        "      \"\"\"\n",
        "      tr = deepcopy(self.graph)   # copy of a tree, as we destroy it\n",
        "      code = \"\"\n",
        "      for i in range(len(self.graph) - 2):\n",
        "        for x in sorted(tr):\n",
        "          if len(tr[x]) == 1:   # least leaf\n",
        "            break\n",
        "        v = tr[x][0]            # the unique neighbour of x\n",
        "        code = code + f\"{v} \"\n",
        "        tr[v].remove(x)         # remove x from neighbours of v\n",
        "        tr.pop(x)               # remove x from the tree\n",
        "      return code.strip()\n",
        "\n",
        "    @staticmethod\n",
        "    def tree_from_Prufer(code: str):\n",
        "        \"\"\"\n",
        "        Creating a tree from a Prufer code.\n",
        "        \"\"\"\n",
        "        tree = Graph()\n",
        "        clist = [int(x) for x in code.strip().split()]   # code as a list of numbers\n",
        "        n = len(clist) + 2                  # number of vertices\n",
        "        vert = [*range(1, n+1)]             # list of numbers 1..n\n",
        "        for v in vert:\n",
        "          tree.add_vertex(v)\n",
        "        for i in range(n-2):\n",
        "          for x in vert:\n",
        "            if not x in clist:    # x - least leaf\n",
        "              break\n",
        "          v = clist.pop(0)    # remove the first element from the code - the neighbour of x\n",
        "          tree.add_edge((x, v))\n",
        "          vert.remove(x)\n",
        "        tree.add_edge(vert)\n",
        "        return tree\n",
        "\n",
        "\n",
        "    def connected_components(self):\n",
        "      \"\"\"\n",
        "      Looks for connected components of undirected graph.\n",
        "      Returns a list of its vertex-sets.\n",
        "      Remark: the first element contains the set of all graph vertices\n",
        "      \"\"\"\n",
        "      def DFS(u):\n",
        "        \"\"\"\n",
        "        Deep first search (as internal method).\n",
        "        \"\"\"\n",
        "        for w in self.graph[u]:\n",
        "          if w not in VT[0]:      # w - not visited yet\n",
        "            VT[0].add(w)          # already visited\n",
        "            VT[-1].add(w)         # w - in the last connected component\n",
        "            DFS(w)\n",
        "\n",
        "      \"\"\"\n",
        "      VT - list of vertex sets VT[i] for i > 0 - is a vertex set of i-th connected component\n",
        "      VT[0] - is a vertex set of the spanning forest (or during the algorithm list of visited vertices).\n",
        "      \"\"\"\n",
        "      VT = [set([])]\n",
        "      for v in self.graph:\n",
        "        if v not in VT[0]:      # v is not visited\n",
        "          VT[0].add(v)\n",
        "          VT.append(set([v]))   # statring point of new conected component\n",
        "          DFS(v)\n",
        "      return VT\n",
        "\n",
        "    def preorder(self, v, visited=None):\n",
        "        # first we print a given vertex, then we traverse the subtree rooted in it\n",
        "        \"\"\"\n",
        "        Prints the vertices of the graph in preorder traversal starting from vertex v.\n",
        "        \"\"\"\n",
        "        if visited is None:\n",
        "            visited = set()\n",
        "\n",
        "        # Visit the current node\n",
        "        visited.add(v)\n",
        "        print(v, end=' ')\n",
        "\n",
        "        # Recursively visit all unvisited neighbors\n",
        "        for neighbor in self.graph[v]:\n",
        "            if neighbor not in visited:\n",
        "                self.preorder(neighbor, visited)\n",
        "\n",
        "\n",
        "    def postorder(self, v, visited=None):\n",
        "        # postorder — first we traverse the subtree rooted a given vertex, then we list the vertex\n",
        "        \"\"\"\n",
        "        Prints the vertices of the graph in postorder traversal starting from vertex v.\n",
        "        \"\"\"\n",
        "        if visited is None:\n",
        "            visited = set()\n",
        "\n",
        "        # Mark the current node as visited\n",
        "        visited.add(v)\n",
        "\n",
        "        # Recursively visit all unvisited neighbors first\n",
        "        for neighbor in self.graph[v]:\n",
        "            if neighbor not in visited:\n",
        "                self.postorder(neighbor, visited)\n",
        "\n",
        "        # Print the current node after visiting its neighbors\n",
        "        print(v, end=' ')\n",
        "\n",
        "\n",
        "    def connected_components_graphs(self):\n",
        "        \"\"\"\n",
        "        Returns a list of Graph objects, each representing a connected component of the original graph.\n",
        "        \"\"\"\n",
        "        components = self.connected_components()  # Get the list of connected components as vertex sets\n",
        "        component_graphs = []\n",
        "\n",
        "        for component in components[1:]:  # Skip the first element as it contains all vertices\n",
        "            subgraph = Graph()            # Create a new Graph instance\n",
        "            for vertex in component:\n",
        "                subgraph.graph[vertex] = self.graph[vertex]\n",
        "#           equivalent\n",
        "#                subgraph.add_vertex(vertex)\n",
        "#                for neighbor in self.graph[vertex]:\n",
        "#                    if neighbor in component:\n",
        "#                        subgraph.add_edge([vertex, neighbor])\n",
        "            component_graphs.append(subgraph)\n",
        "\n",
        "        return component_graphs\n",
        "\n",
        "\n",
        "    def ConnectedComponentsBFS(self):\n",
        "        \"\"\"\n",
        "        Connected components via BFS (homework, improved) - returns list of graphs\n",
        "        \"\"\"\n",
        "        visited = set()  # keep track of visited vertices\n",
        "        components = []  # store connected components\n",
        "\n",
        "        for start_vertex in self.graph:\n",
        "            if start_vertex not in visited:\n",
        "                # if vertex was not visited, create a new component\n",
        "                component = set()\n",
        "                queue = deque([start_vertex])  # BFS queue\n",
        "\n",
        "                while queue:\n",
        "                    vertex = queue.popleft()    # take the vertex from the bottom\n",
        "                    if vertex not in visited:\n",
        "                        visited.add(vertex)\n",
        "                        component.add(vertex)\n",
        "                        # add all unvisited neighbors to the queue\n",
        "                        for neighbor in self.graph[vertex]:\n",
        "                            if neighbor not in visited:\n",
        "                                queue.append(neighbor)\n",
        "                # store the current connected component (as graph)\n",
        "                subgraph = Graph()            # Create a new Graph instance\n",
        "                for vertex in component:\n",
        "                  subgraph.graph[vertex] = self.graph[vertex]\n",
        "                components.append(subgraph)\n",
        "        return components\n",
        "\n",
        "    def ConnectedComponentsGraphs(self):\n",
        "        \"\"\"\n",
        "        Connected components via DFS nonrecursive (homework, corrected) -\n",
        "        returns list connected subgraphs\n",
        "        \"\"\"\n",
        "        con_com = []\n",
        "        visited = set()\n",
        "\n",
        "        def dfs(v, component):\n",
        "            stack = [v]\n",
        "            while stack:\n",
        "                u = stack.pop()\n",
        "                if u not in visited:\n",
        "                    visited.add(u)\n",
        "                    component[u] = [neighbor for neighbor in self.graph[u] ] # correction: if neighbor not in visited]\n",
        "                    stack.extend(component[u])\n",
        "\n",
        "        # back to the main attraction\n",
        "        for vertex in self.graph:\n",
        "            if vertex not in visited:\n",
        "                component = {}                  # creating a new component as an adj list\n",
        "                dfs(vertex, component)          # find all vertices in this component\n",
        "                con_com.append(Graph.from_dict(component))  #converting to Graph object and append\n",
        "\n",
        "        return con_com\n",
        "\n",
        "\n",
        "    @staticmethod\n",
        "    def random_bipartite_graph(m, n, p):\n",
        "        \"\"\"\n",
        "        Generates a random bipartite graph with m + n vertices.\n",
        "        The two sets U and V have m and n vertices respectively.\n",
        "        Each edge between a vertex in U and a vertex in V is included with probability p.\n",
        "        \"\"\"\n",
        "        bipartite_graph = Graph()\n",
        "        U = [f\"U{i}\" for i in range(1, m + 1)]  # Label vertices in set U as U1, U2, ..., Um\n",
        "        V = [f\"V{i}\" for i in range(1, n + 1)]  # Label vertices in set V as V1, V2, ..., Vn\n",
        "\n",
        "        # Add vertices to the graph\n",
        "        for vertex in U + V:\n",
        "            bipartite_graph.add_vertex(vertex)\n",
        "\n",
        "        # Add edges between vertices in U and V with probability p\n",
        "        for u in U:\n",
        "            for v in V:\n",
        "                if random.random() < p:\n",
        "                    bipartite_graph.add_edge([u, v])\n",
        "\n",
        "        return bipartite_graph\n",
        "\n",
        "\n",
        "    def distance(self, v):\n",
        "      \"\"\"\n",
        "      Computes distances from vertex v to each vertex reachable from v.\n",
        "      It uses a BFS approach.\n",
        "      Result is given as a dictionary of distances\n",
        "      \"\"\"\n",
        "      dist = {v:0}    # starting point of a dictionary\n",
        "      queue = [v]\n",
        "      while len(queue) > 0:\n",
        "        u = queue.pop(0)\n",
        "        for w in self.graph[u]:\n",
        "          if not w in dist:\n",
        "            dist[w] = dist[u] + 1\n",
        "            queue.append(w)\n",
        "      return dist\n",
        "\n",
        "    def strong_connected_components(self):\n",
        "        \"\"\"\n",
        "        Finds strongly connected components (SCCs) using Kosaraju's algorithm.\n",
        "        Returns a list of strongly connected components, each component is a set of vertices.\n",
        "        \"\"\"\n",
        "        def dfs(v, visited, stack):\n",
        "            visited.add(v)\n",
        "            for neighbor in self.graph[v]:\n",
        "                if neighbor not in visited:\n",
        "                    dfs(neighbor, visited, stack)\n",
        "            stack.append(v)\n",
        "\n",
        "        def reverse_graph():\n",
        "            reversed_graph = Graph()\n",
        "            for v in self.graph:\n",
        "                for neighbor in self.graph[v]:\n",
        "                    reversed_graph.add_arc([neighbor, v])  # Reverse the direction of the edges\n",
        "            return reversed_graph\n",
        "\n",
        "        def dfs_reverse(v, visited, component):\n",
        "            visited.add(v)\n",
        "            component.add(v)\n",
        "            for neighbor in reversed_graph.graph[v]:\n",
        "                if neighbor not in visited:\n",
        "                    dfs_reverse(neighbor, visited, component)\n",
        "\n",
        "        stack = []\n",
        "        visited = set()\n",
        "\n",
        "        for vertex in self.graph:\n",
        "            if vertex not in visited:\n",
        "                dfs(vertex, visited, stack)\n",
        "\n",
        "        reversed_graph = reverse_graph()\n",
        "\n",
        "        visited.clear()\n",
        "        scc_list = []\n",
        "\n",
        "        while stack:\n",
        "            v = stack.pop()\n",
        "            if v not in visited:\n",
        "                component = set()\n",
        "                dfs_reverse(v, visited, component)\n",
        "                scc_list.append(component)\n",
        "\n",
        "        return scc_list"
      ]
    },
    {
      "cell_type": "markdown",
      "metadata": {
        "id": "-YBRlM-Flaio"
      },
      "source": [
        "## Class *WeightedGraph*"
      ]
    },
    {
      "cell_type": "markdown",
      "metadata": {
        "id": "rUteQ9NoAZuh"
      },
      "source": [
        "This class uses two dictionaries: *graph* and *weights* that\n",
        "should be consisted. The former contains edge weights (indexed by pairs $(u, v)$ of neighbouring vertices).  \n",
        "\n",
        "TODO:\n",
        "*   creating weighted graph from (ordinary) graph\n",
        "*   creating ordinary graph from weighted one\n",
        "*   checking consistency\n",
        "*   making both dictionaries consistent\n"
      ]
    },
    {
      "cell_type": "code",
      "execution_count": 4,
      "metadata": {
        "id": "29mjCR78C6JE"
      },
      "outputs": [],
      "source": [
        "class WeightedGraph(Graph):\n",
        "    def __init__(self, graph=None, weights=None):\n",
        "        if weights is None:\n",
        "            weights = {}\n",
        "        self.weights = weights\n",
        "        super().__init__(graph)\n",
        "\n",
        "    # redefinition of print for objects of class WeightedGraph\n",
        "    def __str__(self):\n",
        "        res = \"\"\n",
        "        for v in self.graph:\n",
        "            res += f\"{v}:\"\n",
        "            for u in self.graph[v]:\n",
        "                res += f\" ({u}, {self.weights[(v, u)]})\"\n",
        "            res += \"\\n\"\n",
        "        return res\n",
        "\n",
        "    # Modyfying graphs\n",
        "    # add_vertex - the inherited one is enough now\n",
        "\n",
        "    def del_vertex(self, vertex):\n",
        "        \"\"\"\n",
        "        Removes a vertex from the graph. Assumes consistency of both dicts\n",
        "        \"\"\"\n",
        "        if vertex in self.graph:\n",
        "            for u in self.graph[vertex]:\n",
        "              self.weights.pop((vertex, u))\n",
        "            self.graph.pop(vertex)\n",
        "            for u in self.graph:\n",
        "                if vertex in self.graph[u]:\n",
        "                    self.graph[u].remove(vertex)\n",
        "                    self.weights.pop((u, vertex))\n",
        "\n",
        "    def add_arc(self, arc, weight = 1):\n",
        "        \"\"\"\n",
        "        Given pair of vertices (arc variable) add an arc to the graph\n",
        "        We consider simple, directed graphs.\n",
        "        If the arc already exists this operation changes its weight to a given one.\n",
        "        \"\"\"\n",
        "        u, v = arc\n",
        "        super().add_arc(arc)\n",
        "        self.weights[(u,v)] = weight\n",
        "\n",
        "    def add_edge(self, edge: list, weight = 1):\n",
        "        \"\"\"\n",
        "        Given pair of vertices (edge variable) add an edge to existing graph.\n",
        "        We consider simple, undirected graphs, as symmetric digraphs without loops.\n",
        "        If the edge (or an arc) already exists this operation changes its weight to a given one.\n",
        "        \"\"\"\n",
        "        u, v = edge\n",
        "        super().add_edge(edge)\n",
        "        self.weights[(u,v)] = weight\n",
        "        self.weights[(v,u)] = weight\n",
        "\n",
        "    # reading from a file\n",
        "    @staticmethod\n",
        "    def from_edges(filename: str, directed = 0):\n",
        "        \"\"\"\n",
        "        Read the graph from file, that in each line contains either\n",
        "        the description of a vertex (one word) or\n",
        "        the description of an edge/arc (2 words) or\n",
        "        the description of an weighted edge/arc (at least 3 words) or\n",
        "        The resulting graph is returned as a neighbourhood list.\n",
        "        Variable \"filename\" contains the whole path to the file.\n",
        "        \"\"\"\n",
        "        graph = WeightedGraph()\n",
        "        file = open(filename, \"r\")          # open the file to read\n",
        "        for line in file:                   # for each line of the file\n",
        "          words = line.strip().split()      # splits the line into words\n",
        "          if len(words) == 1:               # one word - vertex description\n",
        "            graph.add_vertex(words[0])\n",
        "          elif len(words) == 2:             # two words, the edge description\n",
        "            if directed:\n",
        "              graph.add_arc([words[0], words[1]])\n",
        "            else:\n",
        "              graph.add_edge([words[0], words[1]])\n",
        "          elif len(words) >= 3:             # at least three words, first three are the weighted edge description\n",
        "            if directed:\n",
        "              graph.add_arc([words[0], words[1]], int(words[2]))\n",
        "            else:\n",
        "              graph.add_edge([words[0], words[1]], int(words[2]))\n",
        "\n",
        "        file.close()\n",
        "        return graph\n",
        "\n",
        "    def min_spanning_tree(self):\n",
        "      \"\"\"\n",
        "      Jarnik-Prim algorithm\n",
        "      \"\"\"\n",
        "      for v in self.graph:   # Choose any vertex of a graph\n",
        "        break\n",
        "      wtree = WeightedGraph({v:[]}, {})\n",
        "      total = 0               # total weight\n",
        "      q = PriorityQueue()\n",
        "      for u in self.graph[v]:\n",
        "        q.put((self.weights[(v,u)], v, u))\n",
        "      while not q.empty():\n",
        "        (w, v, u) = q.get()\n",
        "        if u not in wtree.graph:\n",
        "          total += w\n",
        "          wtree.add_edge((v, u), w)\n",
        "          for x in self.graph[u]:\n",
        "            if not x in wtree.graph:\n",
        "              q.put((self.weights[(u,x)], u, x))\n",
        "      if len(wtree.graph) < len(self.graph):\n",
        "        print(\"Graph is not connected. Returned is a tree for some connected component.\")\n",
        "      return total, wtree\n",
        "\n",
        "    def to_matrix(self):\n",
        "        \"\"\"\n",
        "        Converts the weighted graph to an adjacency matrix.\n",
        "        Each element (i, j) in the matrix represents the weight of the edge from vertex i to vertex j.\n",
        "        \"\"\"\n",
        "        vertices = self.vertices()\n",
        "        n = len(vertices)\n",
        "        matrix = np.inf * np.ones((n, n))  # Set all distances to infinity initially\n",
        "        np.fill_diagonal(matrix, 0)  # Set diagonal to 0 (no distance from a vertex to itself)\n",
        "\n",
        "        for u in self.graph:\n",
        "            u_index = vertices.index(u)\n",
        "            for v in self.graph[u]:\n",
        "                v_index = vertices.index(v)\n",
        "                matrix[u_index, v_index] = self.weights[(u,v)]  # Assign the weight to the matrix\n",
        "        return matrix\n",
        "\n",
        "    @staticmethod\n",
        "    def from_matrix(matrix, vertices=None):\n",
        "        \"\"\"\n",
        "        Converts an adjacency matrix back to a weighted graph.\n",
        "        The matrix should have the same structure as returned by `to_matrix`.\n",
        "        \"\"\"\n",
        "        n = len(matrix)\n",
        "        if vertices is None:\n",
        "            vertices = [*range(n)]\n",
        "        wgraph = WeightedGraph()\n",
        "        for i in range(n):\n",
        "            for j in range(n):\n",
        "                if matrix[i, j] != np.inf and i != j:\n",
        "                    wgraph.add_arc([vertices[i], vertices[j]], matrix[i, j])\n",
        "        return wgraph\n",
        "\n",
        "    def floyd_warshall(self):\n",
        "        \"\"\"\n",
        "        Computes the shortest paths between all pairs of vertices using the Floyd-Warshall algorithm.\n",
        "        Returns a distance matrix where dist[i][j] is the shortest distance from vertex i to vertex j.\n",
        "        \"\"\"\n",
        "\n",
        "        dist_matrix = self.to_matrix()\n",
        "        n = len(dist_matrix)\n",
        "\n",
        "        for k in range(n):\n",
        "            for i in range(n):\n",
        "                for j in range(n):\n",
        "                    if dist_matrix[i, j] > dist_matrix[i, k] + dist_matrix[k, j]:\n",
        "                        dist_matrix[i, j] = dist_matrix[i, k] + dist_matrix[k, j]\n",
        "        return dist_matrix\n",
        "\n",
        "\n",
        "    def Dijkstra(self, s):\n",
        "      \"\"\"\n",
        "      Dijkstra ALgorithm - computes shortest paths from s to all other vertices.\n",
        "      Return two dictionaries (of distances and of precessors). \\\n",
        "      \"\"\"\n",
        "      # Init\n",
        "      dist = {}\n",
        "      pred = {}\n",
        "      for v in self.graph:\n",
        "        dist[v] = 2**31   # substitute of intifine\n",
        "        pred[v] = None\n",
        "      dist[s] = 0\n",
        "      q = PriorityQueue()\n",
        "      q.put((0, s))\n",
        "      #V = set()           # set of processed vertices\n",
        "      while not q.empty():\n",
        "        (d, u) = q.get()\n",
        "        if dist[u] >= d:\n",
        "          #V.add(u)\n",
        "          for v in self.graph[u]:    # relax\n",
        "            w = self.weights[(u,v)]\n",
        "            if dist[v] > dist[u] + w:\n",
        "              dist[v] = dist[u] + w\n",
        "              pred[v] = u\n",
        "              q.put((dist[v], v))\n",
        "      return dist, pred\n",
        "\n",
        "    def network_flow(self):\n",
        "      \"\"\"\n",
        "      Returns network_flow (a graph with backward arcs) computed from original graph\n",
        "      \"\"\"\n",
        "      network = WeightedGraph()\n",
        "      for u in self.graph:\n",
        "        for v in self.graph[u]:\n",
        "          network.add_edge([u, v], 0)\n",
        "      for u in self.graph:\n",
        "        for v in self.graph[u]:\n",
        "          network.weights[(u, v)] = self.weights[(u, v)]\n",
        "      return network\n",
        "\n",
        "    def MaxFlow_EK(self, s, t):\n",
        "      \"\"\"\n",
        "      Computes the maximum flow (algorithm of Edmonds-Karp).\n",
        "      Flow is processed as a matrix\n",
        "      \"\"\"\n",
        "      network = self.network_flow()\n",
        "      n = len(network.graph)\n",
        "      flow = np.zeros((n,n))\n",
        "      nodes = [*network.graph.keys()]\n",
        "      # compute bfs augmenting paths\n",
        "      while True:\n",
        "        pred = {s: None}  # dict of predecessors\n",
        "        cap = {s: 2^31}   # dict of capacities\n",
        "        queue = [s]\n",
        "        while len(queue) > 0:\n",
        "          u = queue.pop(0)\n",
        "          for v in network.graph[u]:\n",
        "            if (not v in pred) and network.weights[(u, v)] - flow[nodes.index(u), nodes.index(v)] > 0:\n",
        "              pred[v] = u\n",
        "              cap[v] = min(cap[u], network.weights[(u, v)] - flow[nodes.index(u), nodes.index(v)])\n",
        "              if v == t:\n",
        "                break\n",
        "              else:\n",
        "                queue.append(v)\n",
        "        if not t in pred:\n",
        "          break     # the end - there is no s->t augmenting path\n",
        "        else:\n",
        "          # process augmenting s->t path\n",
        "          u = t\n",
        "          c = cap[t]\n",
        "          while u != s:\n",
        "            v = pred[u]\n",
        "            flow[nodes.index(v), nodes.index(u)] += c\n",
        "            flow[nodes.index(u), nodes.index(v)] -= c\n",
        "            u = v\n",
        "      return nodes, flow\n",
        "\n",
        "    def MaxFlow_EK_sparse(self, s, t):\n",
        "      \"\"\"\n",
        "      Computes the maximum flow (algorithm of Edmonds-Karp).\n",
        "      Flow is processed as a dictionary (as weights)\n",
        "      \"\"\"\n",
        "      network = self.network_flow()\n",
        "      n = len(network.graph)\n",
        "      flow = {xx: 0 for xx in network.weights}\n",
        "      # compute bfs augmenting paths\n",
        "      while True:\n",
        "        pred = {s: None}  # dict of predecessors\n",
        "        cap = {s: 2^31}   # dict of capacities\n",
        "        queue = [s]\n",
        "        while len(queue) > 0:\n",
        "          u = queue.pop(0)\n",
        "          for v in network.graph[u]:\n",
        "            if (not v in pred) and network.weights[(u, v)] - flow[(u, v)] > 0:\n",
        "              pred[v] = u\n",
        "              cap[v] = min(cap[u], network.weights[(u, v)] - flow[(u, v)])\n",
        "              if v == t:\n",
        "                break\n",
        "              else:\n",
        "                queue.append(v)\n",
        "        if not t in pred:\n",
        "          break     # the end - there is no s->t augmenting path\n",
        "        else:\n",
        "          # process augmenting s->t path\n",
        "          u = t\n",
        "          c = cap[t]\n",
        "          while u != s:\n",
        "            v = pred[u]\n",
        "            flow[(v, u)] += c\n",
        "            flow[(u, v)] -= c\n",
        "            u = v\n",
        "      return flow\n"
      ]
    },
    {
      "cell_type": "code",
      "source": [],
      "metadata": {
        "id": "3AkiAL-0xnCp"
      },
      "execution_count": null,
      "outputs": []
    },
    {
      "cell_type": "markdown",
      "metadata": {
        "id": "6_YyQKrIMi_C"
      },
      "source": [
        "## Use of code"
      ]
    },
    {
      "cell_type": "markdown",
      "source": [
        "### Part 9 (Network Flows)"
      ],
      "metadata": {
        "id": "YT35Lnu-jeO2"
      }
    },
    {
      "cell_type": "code",
      "source": [
        "!wget https://github.com/pgordin/GraphsSN2024_1/raw/main/weighted1.txt"
      ],
      "metadata": {
        "colab": {
          "base_uri": "https://localhost:8080/"
        },
        "id": "CwHHlIB0PLlD",
        "outputId": "45006ee6-4267-4a75-afd5-11eb7ae068cf"
      },
      "execution_count": 5,
      "outputs": [
        {
          "output_type": "stream",
          "name": "stdout",
          "text": [
            "--2025-01-08 21:56:19--  https://github.com/pgordin/GraphsSN2024_1/raw/main/weighted1.txt\n",
            "Resolving github.com (github.com)... 140.82.116.3\n",
            "Connecting to github.com (github.com)|140.82.116.3|:443... connected.\n",
            "HTTP request sent, awaiting response... 302 Found\n",
            "Location: https://raw.githubusercontent.com/pgordin/GraphsSN2024_1/main/weighted1.txt [following]\n",
            "--2025-01-08 21:56:19--  https://raw.githubusercontent.com/pgordin/GraphsSN2024_1/main/weighted1.txt\n",
            "Resolving raw.githubusercontent.com (raw.githubusercontent.com)... 185.199.108.133, 185.199.109.133, 185.199.110.133, ...\n",
            "Connecting to raw.githubusercontent.com (raw.githubusercontent.com)|185.199.108.133|:443... connected.\n",
            "HTTP request sent, awaiting response... 200 OK\n",
            "Length: 922 [text/plain]\n",
            "Saving to: ‘weighted1.txt’\n",
            "\n",
            "weighted1.txt       100%[===================>]     922  --.-KB/s    in 0s      \n",
            "\n",
            "2025-01-08 21:56:20 (35.9 MB/s) - ‘weighted1.txt’ saved [922/922]\n",
            "\n"
          ]
        }
      ]
    },
    {
      "cell_type": "code",
      "source": [
        "graph = WeightedGraph.from_edges(\"weighted1.txt\")"
      ],
      "metadata": {
        "id": "qUydQcq3PPLK"
      },
      "execution_count": 6,
      "outputs": []
    },
    {
      "cell_type": "code",
      "source": [
        "print(graph.vertices())"
      ],
      "metadata": {
        "colab": {
          "base_uri": "https://localhost:8080/"
        },
        "id": "kuA927ILPdSq",
        "outputId": "8707c131-4b27-40e7-d881-0f920b7b980a"
      },
      "execution_count": 7,
      "outputs": [
        {
          "output_type": "stream",
          "name": "stdout",
          "text": [
            "['1', '5', '6', '8', '14', '15', '20', '22', '2', '12', '17', '18', '19', '3', '13', '21', '4', '10', '16', '7', '11', '23', '9', '24', '25']\n"
          ]
        }
      ]
    },
    {
      "cell_type": "code",
      "source": [
        "%timeit nodes, flow = graph.MaxFlow_EK('1', '22')"
      ],
      "metadata": {
        "id": "khBbdCQPPW13",
        "colab": {
          "base_uri": "https://localhost:8080/"
        },
        "outputId": "879c5747-5140-4141-970b-4c104165ca27"
      },
      "execution_count": 17,
      "outputs": [
        {
          "output_type": "stream",
          "name": "stdout",
          "text": [
            "7.68 ms ± 2.21 ms per loop (mean ± std. dev. of 7 runs, 100 loops each)\n"
          ]
        }
      ]
    },
    {
      "cell_type": "code",
      "source": [
        "print(nodes)"
      ],
      "metadata": {
        "colab": {
          "base_uri": "https://localhost:8080/"
        },
        "id": "0I2B1D-qP6pJ",
        "outputId": "d7b8aa45-2a20-4643-d9fe-d8cc9faa184b"
      },
      "execution_count": 9,
      "outputs": [
        {
          "output_type": "stream",
          "name": "stdout",
          "text": [
            "['1', '5', '6', '8', '14', '15', '20', '22', '4', '7', '10', '11', '16', '19', '23', '13', '12', '2', '3', '21', '24', '25', '17', '18', '9']\n"
          ]
        }
      ]
    },
    {
      "cell_type": "code",
      "source": [
        "print(sum(flow[::,nodes.index('22')]))"
      ],
      "metadata": {
        "colab": {
          "base_uri": "https://localhost:8080/"
        },
        "id": "oXwTmke9P9xS",
        "outputId": "115d3983-f621-4365-fba1-64af244b0884"
      },
      "execution_count": 10,
      "outputs": [
        {
          "output_type": "stream",
          "name": "stdout",
          "text": [
            "1950.0\n"
          ]
        }
      ]
    },
    {
      "cell_type": "code",
      "source": [
        "%timeit flow = graph.MaxFlow_EK_sparse('1', '22')"
      ],
      "metadata": {
        "id": "nYNKvM34Qzag",
        "colab": {
          "base_uri": "https://localhost:8080/"
        },
        "outputId": "1fac4773-a66e-47c2-8326-be293ccee514"
      },
      "execution_count": 18,
      "outputs": [
        {
          "output_type": "stream",
          "name": "stdout",
          "text": [
            "4.13 ms ± 1 ms per loop (mean ± std. dev. of 7 runs, 100 loops each)\n"
          ]
        }
      ]
    },
    {
      "cell_type": "code",
      "source": [
        "print(flow)"
      ],
      "metadata": {
        "colab": {
          "base_uri": "https://localhost:8080/"
        },
        "id": "tP9qz8dr7T_B",
        "outputId": "fb518f2b-867e-46df-9ab8-4149474d43be"
      },
      "execution_count": 13,
      "outputs": [
        {
          "output_type": "stream",
          "name": "stdout",
          "text": [
            "{('1', '5'): 350, ('5', '1'): -350, ('1', '6'): 300, ('6', '1'): -300, ('1', '8'): 200, ('8', '1'): -200, ('1', '14'): 400, ('14', '1'): -400, ('1', '15'): 100, ('15', '1'): -100, ('1', '20'): 400, ('20', '1'): -400, ('1', '22'): 200, ('22', '1'): -200, ('5', '4'): 0, ('4', '5'): 0, ('5', '7'): 0, ('7', '5'): 0, ('5', '10'): 0, ('10', '5'): 0, ('5', '11'): 0, ('11', '5'): 0, ('5', '14'): -150, ('14', '5'): 150, ('5', '16'): 100, ('16', '5'): -100, ('5', '19'): 0, ('19', '5'): 0, ('5', '22'): 400, ('22', '5'): -400, ('5', '23'): 0, ('23', '5'): 0, ('5', '13'): 0, ('13', '5'): 0, ('6', '8'): 0, ('8', '6'): 0, ('6', '10'): 0, ('10', '6'): 0, ('6', '12'): 200, ('12', '6'): -200, ('6', '13'): 100, ('13', '6'): -100, ('8', '2'): 300, ('2', '8'): -300, ('8', '3'): 0, ('3', '8'): 0, ('8', '4'): 0, ('4', '8'): 0, ('8', '11'): -100, ('11', '8'): 100, ('8', '19'): 0, ('19', '8'): 0, ('14', '7'): 0, ('7', '14'): 0, ('14', '10'): 100, ('10', '14'): -100, ('14', '15'): 50, ('15', '14'): -50, ('14', '21'): 0, ('21', '14'): 0, ('14', '24'): 0, ('24', '14'): 0, ('14', '25'): 0, ('25', '14'): 0, ('14', '17'): 0, ('17', '14'): 0, ('14', '18'): 100, ('18', '14'): -100, ('15', '11'): 0, ('11', '15'): 0, ('15', '10'): 0, ('10', '15'): 0, ('15', '16'): 150, ('16', '15'): -150, ('15', '18'): 0, ('18', '15'): 0, ('15', '21'): 0, ('21', '15'): 0, ('15', '23'): 0, ('23', '15'): 0, ('15', '25'): 0, ('25', '15'): 0, ('15', '19'): 0, ('19', '15'): 0, ('20', '11'): 100, ('11', '20'): -100, ('20', '13'): 100, ('13', '20'): -100, ('20', '18'): 200, ('18', '20'): -200, ('20', '23'): 0, ('23', '20'): 0, ('20', '24'): 0, ('24', '20'): 0, ('22', '2'): -500, ('2', '22'): 500, ('22', '3'): 0, ('3', '22'): 0, ('22', '12'): -200, ('12', '22'): 200, ('22', '13'): -300, ('13', '22'): 300, ('22', '16'): -250, ('16', '22'): 250, ('22', '9'): 0, ('9', '22'): 0, ('22', '18'): -100, ('18', '22'): 100, ('2', '12'): 0, ('12', '2'): 0, ('2', '17'): 0, ('17', '2'): 0, ('2', '18'): -200, ('18', '2'): 200, ('2', '19'): 0, ('19', '2'): 0, ('12', '4'): 0, ('4', '12'): 0, ('12', '11'): 0, ('11', '12'): 0, ('17', '3'): 0, ('3', '17'): 0, ('17', '21'): 0, ('21', '17'): 0, ('17', '23'): 0, ('23', '17'): 0, ('17', '25'): 0, ('25', '17'): 0, ('18', '4'): 0, ('4', '18'): 0, ('19', '3'): 0, ('3', '19'): 0, ('19', '4'): 0, ('4', '19'): 0, ('19', '11'): 0, ('11', '19'): 0, ('19', '16'): 0, ('16', '19'): 0, ('19', '23'): 0, ('23', '19'): 0, ('19', '24'): 0, ('24', '19'): 0, ('19', '25'): 0, ('25', '19'): 0, ('3', '13'): 0, ('13', '3'): 0, ('3', '21'): 0, ('21', '3'): 0, ('13', '4'): 0, ('4', '13'): 0, ('13', '10'): -100, ('10', '13'): 100, ('13', '24'): 0, ('24', '13'): 0, ('21', '23'): 0, ('23', '21'): 0, ('21', '24'): 0, ('24', '21'): 0, ('4', '10'): 0, ('10', '4'): 0, ('4', '16'): 0, ('16', '4'): 0, ('4', '9'): 0, ('9', '4'): 0, ('10', '9'): 0, ('9', '10'): 0, ('10', '24'): 0, ('24', '10'): 0, ('10', '25'): 0, ('25', '10'): 0, ('16', '9'): 0, ('9', '16'): 0, ('16', '23'): 0, ('23', '16'): 0}\n"
          ]
        }
      ]
    },
    {
      "cell_type": "code",
      "source": [
        "print(sum(flow[(x, y)] for (x, y) in flow if y == '22'))"
      ],
      "metadata": {
        "colab": {
          "base_uri": "https://localhost:8080/"
        },
        "id": "sXY-j6Gx7B_x",
        "outputId": "74d778a3-3aa2-4944-9c10-7677ff83333b"
      },
      "execution_count": 16,
      "outputs": [
        {
          "output_type": "stream",
          "name": "stdout",
          "text": [
            "1950\n"
          ]
        }
      ]
    },
    {
      "cell_type": "code",
      "source": [
        "!wget https://github.com/pgordin/OptDisc2024/raw/main/MaxFlow.zip"
      ],
      "metadata": {
        "colab": {
          "base_uri": "https://localhost:8080/"
        },
        "id": "WDTeHPfmQy0M",
        "outputId": "b31989ff-4d07-4d0d-ed7a-24a8f5fc9adf"
      },
      "execution_count": 19,
      "outputs": [
        {
          "output_type": "stream",
          "name": "stdout",
          "text": [
            "--2025-01-08 22:01:48--  https://github.com/pgordin/OptDisc2024/raw/main/MaxFlow.zip\n",
            "Resolving github.com (github.com)... 140.82.116.3\n",
            "Connecting to github.com (github.com)|140.82.116.3|:443... connected.\n",
            "HTTP request sent, awaiting response... 302 Found\n",
            "Location: https://raw.githubusercontent.com/pgordin/OptDisc2024/main/MaxFlow.zip [following]\n",
            "--2025-01-08 22:01:48--  https://raw.githubusercontent.com/pgordin/OptDisc2024/main/MaxFlow.zip\n",
            "Resolving raw.githubusercontent.com (raw.githubusercontent.com)... 185.199.108.133, 185.199.109.133, 185.199.110.133, ...\n",
            "Connecting to raw.githubusercontent.com (raw.githubusercontent.com)|185.199.108.133|:443... connected.\n",
            "HTTP request sent, awaiting response... 200 OK\n",
            "Length: 3867 (3.8K) [application/zip]\n",
            "Saving to: ‘MaxFlow.zip’\n",
            "\n",
            "MaxFlow.zip         100%[===================>]   3.78K  --.-KB/s    in 0s      \n",
            "\n",
            "2025-01-08 22:01:48 (45.5 MB/s) - ‘MaxFlow.zip’ saved [3867/3867]\n",
            "\n"
          ]
        }
      ]
    },
    {
      "cell_type": "code",
      "source": [
        "!unzip MaxFlow.zip"
      ],
      "metadata": {
        "colab": {
          "base_uri": "https://localhost:8080/"
        },
        "id": "JrLD2tdyQ-Mv",
        "outputId": "8c33412d-adfb-4cd6-f8b5-166495b89096"
      },
      "execution_count": 20,
      "outputs": [
        {
          "output_type": "stream",
          "name": "stdout",
          "text": [
            "Archive:  MaxFlow.zip\n",
            "  inflating: 15w5a.txt               \n",
            "  inflating: 20w5b.txt               \n",
            "  inflating: bad10b.txt              \n",
            "  inflating: bad100b.txt             \n",
            "  inflating: bad100c.txt             \n",
            "  inflating: flow1.txt               \n"
          ]
        }
      ]
    },
    {
      "cell_type": "code",
      "source": [
        "graph2 = WeightedGraph.from_edges(\"flow1.txt\", directed=1)"
      ],
      "metadata": {
        "id": "m3XmZoWRREzs"
      },
      "execution_count": 21,
      "outputs": []
    },
    {
      "cell_type": "code",
      "source": [
        "print(graph2)"
      ],
      "metadata": {
        "colab": {
          "base_uri": "https://localhost:8080/"
        },
        "id": "XJHp6OElRK92",
        "outputId": "9f159f2a-9160-4eb9-f011-4744e67f9f6f"
      },
      "execution_count": 22,
      "outputs": [
        {
          "output_type": "stream",
          "name": "stdout",
          "text": [
            "s: (a, 6) (b, 4)\n",
            "a: (b, 5) (c, 2) (d, 3)\n",
            "b: (c, 6)\n",
            "c: (a, 2) (d, 3) (t, 4)\n",
            "d: (t, 6)\n",
            "t:\n",
            "\n"
          ]
        }
      ]
    },
    {
      "cell_type": "code",
      "source": [
        "nodes, flow = graph2.MaxFlow_EK('s', 't')"
      ],
      "metadata": {
        "id": "bvlIvk8BROUS"
      },
      "execution_count": 23,
      "outputs": []
    },
    {
      "cell_type": "code",
      "source": [
        "print(nodes)"
      ],
      "metadata": {
        "colab": {
          "base_uri": "https://localhost:8080/"
        },
        "id": "ITduwGCkRVZV",
        "outputId": "33f2ca89-2fbe-435c-dd1b-f5ad29d5149c"
      },
      "execution_count": 24,
      "outputs": [
        {
          "output_type": "stream",
          "name": "stdout",
          "text": [
            "['s', 'a', 'b', 'c', 'd', 't']\n"
          ]
        }
      ]
    },
    {
      "cell_type": "code",
      "source": [
        "print(flow)"
      ],
      "metadata": {
        "colab": {
          "base_uri": "https://localhost:8080/"
        },
        "id": "mfxT-IK8RXaW",
        "outputId": "a9cd5198-1c42-4f65-f2de-d61c34d1eb78"
      },
      "execution_count": 25,
      "outputs": [
        {
          "output_type": "stream",
          "name": "stdout",
          "text": [
            "[[ 0.  6.  4.  0.  0.  0.]\n",
            " [-6.  0.  1.  2.  3.  0.]\n",
            " [-4. -1.  0.  5.  0.  0.]\n",
            " [ 0. -2. -5.  0.  3.  4.]\n",
            " [ 0. -3.  0. -3.  0.  6.]\n",
            " [ 0.  0.  0. -4. -6.  0.]]\n"
          ]
        }
      ]
    },
    {
      "cell_type": "code",
      "source": [
        "flow = graph2.MaxFlow_EK_sparse('s', 't')"
      ],
      "metadata": {
        "id": "XyUon5Oj8Apq"
      },
      "execution_count": 26,
      "outputs": []
    },
    {
      "cell_type": "code",
      "source": [
        "print(flow)"
      ],
      "metadata": {
        "colab": {
          "base_uri": "https://localhost:8080/"
        },
        "id": "36DD7_rZ8L-z",
        "outputId": "f5ad6f8c-7597-43b9-c398-c28c0ae8b145"
      },
      "execution_count": 27,
      "outputs": [
        {
          "output_type": "stream",
          "name": "stdout",
          "text": [
            "{('s', 'a'): 6, ('a', 's'): -6, ('s', 'b'): 4, ('b', 's'): -4, ('a', 'b'): 1, ('b', 'a'): -1, ('a', 'c'): 2, ('c', 'a'): -2, ('a', 'd'): 3, ('d', 'a'): -3, ('b', 'c'): 5, ('c', 'b'): -5, ('c', 'd'): 3, ('d', 'c'): -3, ('c', 't'): 4, ('t', 'c'): -4, ('d', 't'): 6, ('t', 'd'): -6}\n"
          ]
        }
      ]
    },
    {
      "cell_type": "markdown",
      "metadata": {
        "id": "_IM7iIVdjTp7"
      },
      "source": [
        "### Part 7"
      ]
    },
    {
      "cell_type": "markdown",
      "source": [
        "Strongly connected components (homework)."
      ],
      "metadata": {
        "id": "4weNbkd5teTr"
      }
    },
    {
      "cell_type": "code",
      "execution_count": null,
      "metadata": {
        "id": "166Dc6c8jTp7"
      },
      "outputs": [],
      "source": [
        "graph = Graph()\n",
        "graph.add_arc(['a', 'b'])\n",
        "graph.add_arc(['b', 'c'])\n",
        "graph.add_arc(['c', 'd'])\n",
        "graph.add_arc(['d', 'e'])\n",
        "graph.add_arc(['e', 'f'])\n",
        "graph.add_arc(['e', 'c'])"
      ]
    },
    {
      "cell_type": "code",
      "source": [
        "print(graph.strong_connected_components())"
      ],
      "metadata": {
        "id": "UOwfICobkEld",
        "outputId": "5dd0abc6-dd7a-4588-cec2-2ded25215bf8",
        "colab": {
          "base_uri": "https://localhost:8080/"
        }
      },
      "execution_count": null,
      "outputs": [
        {
          "output_type": "stream",
          "name": "stdout",
          "text": [
            "[{'a'}, {'b'}, {'e', 'd', 'c'}, {'f'}]\n"
          ]
        }
      ]
    },
    {
      "cell_type": "code",
      "source": [
        "!wget https://github.com/pgordin/GraphsSN2024_1/raw/main/weighted0.txt"
      ],
      "metadata": {
        "colab": {
          "base_uri": "https://localhost:8080/"
        },
        "id": "ifNFmQEEtiGU",
        "outputId": "611587a5-da30-4e1e-e66a-14fd9c01f5f6"
      },
      "execution_count": null,
      "outputs": [
        {
          "output_type": "stream",
          "name": "stdout",
          "text": [
            "--2024-12-05 14:23:00--  https://github.com/pgordin/GraphsSN2024_1/raw/main/weighted0.txt\n",
            "Resolving github.com (github.com)... 140.82.114.3\n",
            "Connecting to github.com (github.com)|140.82.114.3|:443... connected.\n",
            "HTTP request sent, awaiting response... 302 Found\n",
            "Location: https://raw.githubusercontent.com/pgordin/GraphsSN2024_1/main/weighted0.txt [following]\n",
            "--2024-12-05 14:23:00--  https://raw.githubusercontent.com/pgordin/GraphsSN2024_1/main/weighted0.txt\n",
            "Resolving raw.githubusercontent.com (raw.githubusercontent.com)... 185.199.108.133, 185.199.109.133, 185.199.110.133, ...\n",
            "Connecting to raw.githubusercontent.com (raw.githubusercontent.com)|185.199.108.133|:443... connected.\n",
            "HTTP request sent, awaiting response... 200 OK\n",
            "Length: 99 [text/plain]\n",
            "Saving to: ‘weighted0.txt.1’\n",
            "\n",
            "weighted0.txt.1     100%[===================>]      99  --.-KB/s    in 0s      \n",
            "\n",
            "2024-12-05 14:23:01 (3.59 MB/s) - ‘weighted0.txt.1’ saved [99/99]\n",
            "\n"
          ]
        }
      ]
    },
    {
      "cell_type": "code",
      "source": [
        "wgraph = WeightedGraph.from_edges(\"weighted0.txt\")"
      ],
      "metadata": {
        "id": "Y1Cix237toGx"
      },
      "execution_count": null,
      "outputs": []
    },
    {
      "cell_type": "code",
      "source": [
        "print(wgraph)"
      ],
      "metadata": {
        "colab": {
          "base_uri": "https://localhost:8080/"
        },
        "id": "XIch4btutsyT",
        "outputId": "c65aea74-5ffe-4415-b8f7-a36b0362c865"
      },
      "execution_count": null,
      "outputs": [
        {
          "output_type": "stream",
          "name": "stdout",
          "text": [
            "A: (B, 3) (E, 10)\n",
            "B: (A, 3) (C, 26) (D, 12)\n",
            "E: (A, 10) (D, 7) (F, 8) (H, 4)\n",
            "C: (B, 26) (D, 17) (F, 13) (G, 14)\n",
            "D: (B, 12) (C, 17) (E, 7) (F, 15)\n",
            "F: (C, 13) (D, 15) (E, 8) (G, 9) (H, 6)\n",
            "G: (C, 14) (F, 9) (H, 16) (I, 11)\n",
            "H: (E, 4) (F, 6) (G, 16)\n",
            "I: (G, 11)\n",
            "\n"
          ]
        }
      ]
    },
    {
      "cell_type": "code",
      "source": [
        "dist, pred = wgraph.Dijkstra('A')"
      ],
      "metadata": {
        "id": "VGIXAY9YtxSL"
      },
      "execution_count": null,
      "outputs": []
    },
    {
      "cell_type": "code",
      "source": [
        "print(dist)\n",
        "print(pred)"
      ],
      "metadata": {
        "colab": {
          "base_uri": "https://localhost:8080/"
        },
        "id": "xZPoNNJGt5YL",
        "outputId": "1d73992a-53f2-4732-e1c3-e56598a0a14e"
      },
      "execution_count": null,
      "outputs": [
        {
          "output_type": "stream",
          "name": "stdout",
          "text": [
            "{'A': 0, 'B': 3, 'E': 10, 'C': 29, 'D': 15, 'F': 18, 'G': 27, 'H': 14, 'I': 38}\n",
            "{'A': None, 'B': 'A', 'E': 'A', 'C': 'B', 'D': 'B', 'F': 'E', 'G': 'F', 'H': 'E', 'I': 'G'}\n"
          ]
        }
      ]
    },
    {
      "cell_type": "code",
      "source": [
        "!wget https://github.com/pgordin/GraphsSN2024_1/raw/main/weighted1.txt"
      ],
      "metadata": {
        "colab": {
          "base_uri": "https://localhost:8080/"
        },
        "id": "_v98BUp3xp0f",
        "outputId": "edc7c147-05bc-4721-b79f-2fb4f4576247"
      },
      "execution_count": null,
      "outputs": [
        {
          "output_type": "stream",
          "name": "stdout",
          "text": [
            "--2024-12-05 14:23:01--  https://github.com/pgordin/GraphsSN2024_1/raw/main/weighted1.txt\n",
            "Resolving github.com (github.com)... 140.82.112.3\n",
            "Connecting to github.com (github.com)|140.82.112.3|:443... connected.\n",
            "HTTP request sent, awaiting response... 302 Found\n",
            "Location: https://raw.githubusercontent.com/pgordin/GraphsSN2024_1/main/weighted1.txt [following]\n",
            "--2024-12-05 14:23:01--  https://raw.githubusercontent.com/pgordin/GraphsSN2024_1/main/weighted1.txt\n",
            "Resolving raw.githubusercontent.com (raw.githubusercontent.com)... 185.199.110.133, 185.199.111.133, 185.199.109.133, ...\n",
            "Connecting to raw.githubusercontent.com (raw.githubusercontent.com)|185.199.110.133|:443... connected.\n",
            "HTTP request sent, awaiting response... 200 OK\n",
            "Length: 922 [text/plain]\n",
            "Saving to: ‘weighted1.txt.1’\n",
            "\n",
            "weighted1.txt.1     100%[===================>]     922  --.-KB/s    in 0s      \n",
            "\n",
            "2024-12-05 14:23:01 (38.0 MB/s) - ‘weighted1.txt.1’ saved [922/922]\n",
            "\n"
          ]
        }
      ]
    },
    {
      "cell_type": "markdown",
      "source": [],
      "metadata": {
        "id": "NbGk2mJXx10w"
      }
    },
    {
      "cell_type": "code",
      "source": [
        "wgraph2 = WeightedGraph.from_edges(\"weighted1.txt\")"
      ],
      "metadata": {
        "id": "IVIFQPtZxvTL"
      },
      "execution_count": null,
      "outputs": []
    },
    {
      "cell_type": "code",
      "source": [
        "print(len(wgraph2.vertices()))"
      ],
      "metadata": {
        "colab": {
          "base_uri": "https://localhost:8080/"
        },
        "id": "MNh0XbEOx3oU",
        "outputId": "921a6cb3-4d24-4d1b-fa8a-bb7a481b63f0"
      },
      "execution_count": null,
      "outputs": [
        {
          "output_type": "stream",
          "name": "stdout",
          "text": [
            "25\n"
          ]
        }
      ]
    },
    {
      "cell_type": "code",
      "source": [
        "%timeit wgraph2.Dijkstra('1')"
      ],
      "metadata": {
        "colab": {
          "base_uri": "https://localhost:8080/"
        },
        "id": "tiVoQ0fnyBr0",
        "outputId": "94e9c7c5-f86e-4dc5-dc3f-daa47352c929"
      },
      "execution_count": null,
      "outputs": [
        {
          "output_type": "stream",
          "name": "stdout",
          "text": [
            "225 µs ± 15.4 µs per loop (mean ± std. dev. of 7 runs, 1000 loops each)\n"
          ]
        }
      ]
    },
    {
      "cell_type": "code",
      "source": [
        "%timeit wgraph2.floyd_warshall()"
      ],
      "metadata": {
        "colab": {
          "base_uri": "https://localhost:8080/"
        },
        "id": "-vfdZLoqyIwQ",
        "outputId": "f1737370-5d5d-475a-9e62-acaf48e86d14"
      },
      "execution_count": null,
      "outputs": [
        {
          "output_type": "stream",
          "name": "stdout",
          "text": [
            "11.7 ms ± 3.15 ms per loop (mean ± std. dev. of 7 runs, 100 loops each)\n"
          ]
        }
      ]
    },
    {
      "cell_type": "markdown",
      "metadata": {
        "id": "GMZZRbNEmEOZ"
      },
      "source": [
        "### Part 6 (Weigthed graphs)"
      ]
    },
    {
      "cell_type": "code",
      "execution_count": null,
      "metadata": {
        "colab": {
          "base_uri": "https://localhost:8080/"
        },
        "id": "XhSlxUCGFDqV",
        "outputId": "25bce352-c27c-4b3f-91d9-d6d85df9886d"
      },
      "outputs": [
        {
          "output_type": "stream",
          "name": "stdout",
          "text": [
            "a: (b, 2)\n",
            "b: (a, 2)\n",
            "\n"
          ]
        }
      ],
      "source": [
        "wgraph = WeightedGraph()\n",
        "wgraph.add_edge((\"a\", \"b\"), 2)\n",
        "\n",
        "print(wgraph)"
      ]
    },
    {
      "cell_type": "code",
      "execution_count": null,
      "metadata": {
        "colab": {
          "base_uri": "https://localhost:8080/"
        },
        "id": "jxRvfs0ErMM_",
        "outputId": "bcb16615-3ae2-4eb8-c9b9-d996664c931d"
      },
      "outputs": [
        {
          "output_type": "stream",
          "name": "stdout",
          "text": [
            "--2024-12-05 14:23:12--  https://github.com/pgordin/GraphsSN2024_1/raw/main/weighted0.txt\n",
            "Resolving github.com (github.com)... 140.82.112.3\n",
            "Connecting to github.com (github.com)|140.82.112.3|:443... connected.\n",
            "HTTP request sent, awaiting response... 302 Found\n",
            "Location: https://raw.githubusercontent.com/pgordin/GraphsSN2024_1/main/weighted0.txt [following]\n",
            "--2024-12-05 14:23:13--  https://raw.githubusercontent.com/pgordin/GraphsSN2024_1/main/weighted0.txt\n",
            "Resolving raw.githubusercontent.com (raw.githubusercontent.com)... 185.199.111.133, 185.199.108.133, 185.199.109.133, ...\n",
            "Connecting to raw.githubusercontent.com (raw.githubusercontent.com)|185.199.111.133|:443... connected.\n",
            "HTTP request sent, awaiting response... 200 OK\n",
            "Length: 99 [text/plain]\n",
            "Saving to: ‘weighted0.txt.2’\n",
            "\n",
            "weighted0.txt.2     100%[===================>]      99  --.-KB/s    in 0s      \n",
            "\n",
            "2024-12-05 14:23:13 (4.17 MB/s) - ‘weighted0.txt.2’ saved [99/99]\n",
            "\n"
          ]
        }
      ],
      "source": [
        "!wget https://github.com/pgordin/GraphsSN2024_1/raw/main/weighted0.txt"
      ]
    },
    {
      "cell_type": "code",
      "execution_count": null,
      "metadata": {
        "colab": {
          "base_uri": "https://localhost:8080/"
        },
        "id": "sYnSw5QRCt1m",
        "outputId": "065b4ad9-b8cb-4e0f-e2d1-999d5c2cdfe0"
      },
      "outputs": [
        {
          "output_type": "stream",
          "name": "stdout",
          "text": [
            "A B 3\n",
            "A E 10\n",
            "B C 26\n",
            "B D 12\n",
            "C D 17\n",
            "C F 13\n",
            "C G 14\n",
            "D E 7\n",
            "D F 15\n",
            "E F 8\n",
            "E H 4\n",
            "F G 9\n",
            "F H 6\n",
            "G H 16\n",
            "G I 11\n"
          ]
        }
      ],
      "source": [
        "%cat weighted0.txt"
      ]
    },
    {
      "cell_type": "code",
      "execution_count": null,
      "metadata": {
        "colab": {
          "base_uri": "https://localhost:8080/"
        },
        "id": "DyBhb38CIrlX",
        "outputId": "a9308635-6c61-4039-f44a-9e0b87a09c52"
      },
      "outputs": [
        {
          "output_type": "stream",
          "name": "stdout",
          "text": [
            "A: (B, 3) (E, 10)\n",
            "B: (A, 3) (C, 26) (D, 12)\n",
            "E: (A, 10) (D, 7) (F, 8) (H, 4)\n",
            "C: (B, 26) (D, 17) (F, 13) (G, 14)\n",
            "D: (B, 12) (C, 17) (E, 7) (F, 15)\n",
            "F: (C, 13) (D, 15) (E, 8) (G, 9) (H, 6)\n",
            "G: (C, 14) (F, 9) (H, 16) (I, 11)\n",
            "H: (E, 4) (F, 6) (G, 16)\n",
            "I: (G, 11)\n",
            "\n"
          ]
        }
      ],
      "source": [
        "wgraph = WeightedGraph.from_edges(\"weighted0.txt\")\n",
        "print(wgraph)"
      ]
    },
    {
      "cell_type": "markdown",
      "metadata": {
        "id": "YSdqHYL2_f5h"
      },
      "source": [
        "Example of vertex removal."
      ]
    },
    {
      "cell_type": "code",
      "execution_count": null,
      "metadata": {
        "colab": {
          "base_uri": "https://localhost:8080/"
        },
        "id": "rqjB6z02-4Hj",
        "outputId": "8940dc82-2e07-4933-a4e6-87e441204143"
      },
      "outputs": [
        {
          "output_type": "stream",
          "name": "stdout",
          "text": [
            "A: (B, 3) (E, 10)\n",
            "B: (A, 3) (C, 26) (D, 12)\n",
            "E: (A, 10) (D, 7) (F, 8)\n",
            "C: (B, 26) (D, 17) (F, 13) (G, 14)\n",
            "D: (B, 12) (C, 17) (E, 7) (F, 15)\n",
            "F: (C, 13) (D, 15) (E, 8) (G, 9)\n",
            "G: (C, 14) (F, 9) (I, 11)\n",
            "I: (G, 11)\n",
            "\n"
          ]
        }
      ],
      "source": [
        "wgraph.del_vertex('H')\n",
        "print(wgraph)"
      ]
    },
    {
      "cell_type": "code",
      "execution_count": null,
      "metadata": {
        "colab": {
          "base_uri": "https://localhost:8080/"
        },
        "id": "_iVRRpiFL4Ji",
        "outputId": "a8428456-b703-431e-880d-2a6bd7ea4615"
      },
      "outputs": [
        {
          "output_type": "stream",
          "name": "stdout",
          "text": [
            "61\n",
            "A: (B, 3) (E, 10)\n",
            "B: (A, 3)\n",
            "E: (A, 10) (D, 7) (F, 8)\n",
            "D: (E, 7)\n",
            "F: (E, 8) (G, 9) (C, 13)\n",
            "G: (F, 9) (I, 11)\n",
            "I: (G, 11)\n",
            "C: (F, 13)\n",
            "\n"
          ]
        }
      ],
      "source": [
        "w, wtree = wgraph.min_spanning_tree()\n",
        "print(w)\n",
        "print(wtree)"
      ]
    },
    {
      "cell_type": "markdown",
      "metadata": {
        "id": "XzD1OZWFnSvN"
      },
      "source": [
        "### Part 5 (Distances via BFS)"
      ]
    },
    {
      "cell_type": "code",
      "execution_count": null,
      "metadata": {
        "colab": {
          "base_uri": "https://localhost:8080/"
        },
        "id": "LkhbKOXtnays",
        "outputId": "3de81e04-8444-4d16-da79-8c2e19fc9da3"
      },
      "outputs": [
        {
          "output_type": "stream",
          "name": "stdout",
          "text": [
            "Writing edges.txt\n"
          ]
        }
      ],
      "source": [
        "%%writefile edges.txt\n",
        "1 2\n",
        "1 3\n",
        "1 6\n",
        "2 4\n",
        "2 5\n",
        "3 5\n",
        "3 6\n",
        "3 7\n",
        "4 5\n",
        "4 8\n",
        "5 7\n",
        "7 8"
      ]
    },
    {
      "cell_type": "code",
      "execution_count": null,
      "metadata": {
        "colab": {
          "base_uri": "https://localhost:8080/"
        },
        "id": "luGR6Vk_nztu",
        "outputId": "4f7a268d-7301-4b44-d08e-40f8f23aa32a"
      },
      "outputs": [
        {
          "output_type": "stream",
          "name": "stdout",
          "text": [
            "1: 2 3 6\n",
            "2: 1 4 5\n",
            "3: 1 5 6 7\n",
            "6: 1 3\n",
            "4: 2 5 8\n",
            "5: 2 3 4 7\n",
            "7: 3 5 8\n",
            "8: 4 7\n",
            "\n"
          ]
        }
      ],
      "source": [
        "graph1 = Graph.from_edges(\"edges.txt\")\n",
        "print(graph1)"
      ]
    },
    {
      "cell_type": "code",
      "execution_count": null,
      "metadata": {
        "colab": {
          "base_uri": "https://localhost:8080/"
        },
        "id": "USQkVScqoBlT",
        "outputId": "63401a1c-6443-4739-8725-812f0d91ae58"
      },
      "outputs": [
        {
          "output_type": "stream",
          "name": "stdout",
          "text": [
            "{'1': 0, '2': 1, '3': 1, '6': 1, '4': 2, '5': 2, '7': 2, '8': 3}\n"
          ]
        }
      ],
      "source": [
        "dist = graph1.distance(\"1\")\n",
        "print(dist)"
      ]
    },
    {
      "cell_type": "markdown",
      "metadata": {
        "id": "bsvgJqGEodrr"
      },
      "source": [
        "#### Milgram's experiment &mdash; Small World Phenomenon\n",
        "\n",
        "We will use graph in $G(n,p)$ (namely $G(2000, 1/300)$) as an illustration."
      ]
    },
    {
      "cell_type": "code",
      "execution_count": null,
      "metadata": {
        "colab": {
          "base_uri": "https://localhost:8080/"
        },
        "id": "jOOFWpIgoj4U",
        "outputId": "b40ed40b-27e6-44fc-ec35-bb78e9393f21"
      },
      "outputs": [
        {
          "output_type": "stream",
          "name": "stdout",
          "text": [
            "1997\n"
          ]
        }
      ],
      "source": [
        "# to obey an issue with recursion depth (provided it happens - for Colab now it does not)\n",
        "import sys\n",
        "\n",
        "n = 2000\n",
        "p = 1/300\n",
        "sys.setrecursionlimit(n+5)\n",
        "\n",
        "rgraph = Graph.random_graph(n, p)\n",
        "graph = rgraph.connected_components_graphs()[0]\n",
        "print(len(graph.vertices()))"
      ]
    },
    {
      "cell_type": "code",
      "execution_count": null,
      "metadata": {
        "colab": {
          "base_uri": "https://localhost:8080/"
        },
        "id": "cjF1NzzcONcC",
        "outputId": "8b1d388b-0bf1-4ce1-a0d6-1d6136ee7358"
      },
      "outputs": [
        {
          "output_type": "stream",
          "name": "stdout",
          "text": [
            "3.58 ms ± 566 µs per loop (mean ± std. dev. of 7 runs, 100 loops each)\n"
          ]
        }
      ],
      "source": [
        "%timeit graph = rgraph.connected_components_graphs()[0]"
      ]
    },
    {
      "cell_type": "code",
      "execution_count": null,
      "metadata": {
        "colab": {
          "base_uri": "https://localhost:8080/"
        },
        "id": "vddOnxpROSrc",
        "outputId": "1a895677-1dd0-4e4c-b8dd-355719ba85c7"
      },
      "outputs": [
        {
          "output_type": "stream",
          "name": "stdout",
          "text": [
            "2.86 ms ± 107 µs per loop (mean ± std. dev. of 7 runs, 100 loops each)\n",
            "1997\n"
          ]
        }
      ],
      "source": [
        "%timeit graph = rgraph.ConnectedComponentsBFS()[0]\n",
        "print(len(graph.vertices()))"
      ]
    },
    {
      "cell_type": "code",
      "execution_count": null,
      "metadata": {
        "colab": {
          "base_uri": "https://localhost:8080/"
        },
        "id": "_dDdmGRlOfFE",
        "outputId": "12d1f224-2f7d-4622-d0c8-e7055c3f6d02"
      },
      "outputs": [
        {
          "output_type": "stream",
          "name": "stdout",
          "text": [
            "3.75 ms ± 556 µs per loop (mean ± std. dev. of 7 runs, 100 loops each)\n",
            "1997\n"
          ]
        }
      ],
      "source": [
        "%timeit graph = rgraph.ConnectedComponentsGraphs()[0]\n",
        "print(len(graph.vertices()))"
      ]
    },
    {
      "cell_type": "code",
      "execution_count": null,
      "metadata": {
        "colab": {
          "base_uri": "https://localhost:8080/"
        },
        "id": "rsHnsv5IrFyN",
        "outputId": "f16349aa-e572-4e34-9b33-8e9be6593674"
      },
      "outputs": [
        {
          "output_type": "stream",
          "name": "stdout",
          "text": [
            "Radius:  5 Diameter:  8 Average:  4.184175110938827\n"
          ]
        }
      ],
      "source": [
        "md = {}\n",
        "ecc = {}\n",
        "for v in graph.vertices():\n",
        "  dist = graph.distance(v)\n",
        "  ecc[v] = max(dist.values())\n",
        "  md[v] = sum(dist.values())/len(dist.values())\n",
        "print(\"Radius: \", min(ecc.values()), \"Diameter: \", max(ecc.values()), \"Average: \", sum(md.values())/len(md.values()))"
      ]
    },
    {
      "cell_type": "markdown",
      "metadata": {
        "id": "9LtRwurFnrDe"
      },
      "source": [
        "### Part 4 (Connected components via DFS)"
      ]
    },
    {
      "cell_type": "code",
      "execution_count": null,
      "metadata": {
        "colab": {
          "base_uri": "https://localhost:8080/"
        },
        "id": "XvUw7GUrnyzu",
        "outputId": "709ab0b1-e064-46c6-c720-6dca6e8f0270"
      },
      "outputs": [
        {
          "output_type": "stream",
          "name": "stdout",
          "text": [
            "1: 5\n",
            "2: 10\n",
            "3: 5\n",
            "4: 5 6\n",
            "5: 1 3 4\n",
            "6: 4\n",
            "7:\n",
            "8:\n",
            "9:\n",
            "10: 2\n",
            "\n"
          ]
        }
      ],
      "source": [
        "graph1 = Graph.random_graph(10, 1/5)\n",
        "print(graph1)"
      ]
    },
    {
      "cell_type": "code",
      "execution_count": null,
      "metadata": {
        "colab": {
          "base_uri": "https://localhost:8080/"
        },
        "id": "JsEasHHsoEYP",
        "outputId": "9a719260-9f00-488d-fa6e-c7bbb30dfaf6"
      },
      "outputs": [
        {
          "output_type": "stream",
          "name": "stdout",
          "text": [
            "6\n",
            "[{1, 2, 3, 4, 5, 6, 7, 8, 9, 10}, {1, 3, 4, 5, 6}, {2, 10}, {7}, {8}, {9}]\n"
          ]
        }
      ],
      "source": [
        "print(len(graph1.connected_components()))\n",
        "print(graph1.connected_components())"
      ]
    },
    {
      "cell_type": "code",
      "execution_count": null,
      "metadata": {
        "colab": {
          "base_uri": "https://localhost:8080/"
        },
        "id": "VaFih_d1joxb",
        "outputId": "72da091e-f97d-4aab-8866-c33b8a30fd8d"
      },
      "outputs": [
        {
          "output_type": "stream",
          "name": "stdout",
          "text": [
            "5\n"
          ]
        }
      ],
      "source": [
        "graphlist = graph1.connected_components_graphs()\n",
        "print(len(graphlist))"
      ]
    },
    {
      "cell_type": "code",
      "execution_count": null,
      "metadata": {
        "colab": {
          "base_uri": "https://localhost:8080/"
        },
        "id": "0tlFcc9jjzgn",
        "outputId": "1edb8834-43fe-4080-8f22-7cb458543ced"
      },
      "outputs": [
        {
          "output_type": "stream",
          "name": "stdout",
          "text": [
            "1: 5\n",
            "3: 5\n",
            "4: 5 6\n",
            "5: 1 3 4\n",
            "6: 4\n",
            "\n"
          ]
        }
      ],
      "source": [
        "print(graphlist[0])"
      ]
    },
    {
      "cell_type": "code",
      "execution_count": null,
      "metadata": {
        "colab": {
          "base_uri": "https://localhost:8080/"
        },
        "id": "b3DE41X_L3oV",
        "outputId": "ab033ece-1e81-4832-ff82-abc244256d45"
      },
      "outputs": [
        {
          "output_type": "stream",
          "name": "stdout",
          "text": [
            "5\n",
            "1: 5\n",
            "3: 5\n",
            "4: 5 6\n",
            "5: 1 3 4\n",
            "6: 4\n",
            "\n"
          ]
        }
      ],
      "source": [
        "print(len(graph1.ConnectedComponentsBFS()))\n",
        "print(graph1.ConnectedComponentsBFS()[0])"
      ]
    },
    {
      "cell_type": "code",
      "execution_count": null,
      "metadata": {
        "colab": {
          "base_uri": "https://localhost:8080/"
        },
        "id": "KtaKxW9ZMZpA",
        "outputId": "357c2691-fd32-4200-9129-abdbfbeae949"
      },
      "outputs": [
        {
          "output_type": "stream",
          "name": "stdout",
          "text": [
            "1: 5\n",
            "5: 1 3 4\n",
            "4: 5 6\n",
            "6: 4\n",
            "3: 5\n",
            "\n"
          ]
        }
      ],
      "source": [
        "print(graph1.ConnectedComponentsGraphs()[0])"
      ]
    },
    {
      "cell_type": "markdown",
      "metadata": {
        "id": "_Li4OSBDrp7K"
      },
      "source": [
        "### Part 3 (Prufer codes)"
      ]
    },
    {
      "cell_type": "code",
      "execution_count": null,
      "metadata": {
        "colab": {
          "base_uri": "https://localhost:8080/"
        },
        "id": "RFG49rSWryaK",
        "outputId": "9890f6e5-3821-49e2-80bb-88dadecd10fd"
      },
      "outputs": [
        {
          "output_type": "stream",
          "name": "stdout",
          "text": [
            "Writing tree1.txt\n"
          ]
        }
      ],
      "source": [
        "%%writefile tree1.txt\n",
        "1 3\n",
        "3 5\n",
        "2 5\n",
        "4 5\n",
        "6 5"
      ]
    },
    {
      "cell_type": "code",
      "execution_count": null,
      "metadata": {
        "id": "MxM8JOw9sR5_"
      },
      "outputs": [],
      "source": [
        "tree1 = Graph.from_edges(\"tree1.txt\")"
      ]
    },
    {
      "cell_type": "code",
      "execution_count": null,
      "metadata": {
        "colab": {
          "base_uri": "https://localhost:8080/"
        },
        "id": "uFVlsqDesWeX",
        "outputId": "86643140-ff47-4fe2-d48b-60ad26d61101"
      },
      "outputs": [
        {
          "output_type": "stream",
          "name": "stdout",
          "text": [
            "1: 3\n",
            "3: 1 5\n",
            "5: 3 2 4 6\n",
            "2: 5\n",
            "4: 5\n",
            "6: 5\n",
            "\n"
          ]
        }
      ],
      "source": [
        "print(tree1)"
      ]
    },
    {
      "cell_type": "code",
      "execution_count": null,
      "metadata": {
        "colab": {
          "base_uri": "https://localhost:8080/"
        },
        "id": "hlcmteDpunm0",
        "outputId": "eb421cde-e06e-4ab9-8aa7-1a39cf5eb812"
      },
      "outputs": [
        {
          "output_type": "stream",
          "name": "stdout",
          "text": [
            "3 5 5 5\n"
          ]
        }
      ],
      "source": [
        "print(tree1.Prufer())"
      ]
    },
    {
      "cell_type": "code",
      "execution_count": null,
      "metadata": {
        "colab": {
          "base_uri": "https://localhost:8080/"
        },
        "id": "W13ncK5-xiqO",
        "outputId": "dfb3c542-0c2f-48fd-849a-97ac95debec9"
      },
      "outputs": [
        {
          "output_type": "stream",
          "name": "stdout",
          "text": [
            "1: 3\n",
            "2: 5\n",
            "3: 1 5\n",
            "4: 5\n",
            "5: 2 3 4 6\n",
            "6: 5\n",
            "\n"
          ]
        }
      ],
      "source": [
        "print(Graph.tree_from_Prufer(\"3 5 5 5\"))"
      ]
    },
    {
      "cell_type": "code",
      "execution_count": null,
      "metadata": {
        "colab": {
          "base_uri": "https://localhost:8080/"
        },
        "id": "TGyO_yEcxpwm",
        "outputId": "d1d9af37-5c7e-4c1d-e498-01db0c5a1767"
      },
      "outputs": [
        {
          "output_type": "stream",
          "name": "stdout",
          "text": [
            "1: 3 6\n",
            "2: 5\n",
            "3: 4 1\n",
            "4: 5 3\n",
            "5: 2 4\n",
            "6: 1\n",
            "\n"
          ]
        }
      ],
      "source": [
        "print(Graph.tree_from_Prufer(\"5 4 3 1\"))"
      ]
    },
    {
      "cell_type": "code",
      "execution_count": null,
      "metadata": {
        "colab": {
          "base_uri": "https://localhost:8080/"
        },
        "id": "kIMXlvKdxzRQ",
        "outputId": "beeaedc3-0e1e-4134-fe61-03efc30d6d46"
      },
      "outputs": [
        {
          "output_type": "stream",
          "name": "stdout",
          "text": [
            "1: 4 5 6 2\n",
            "2: 1 3\n",
            "3: 2 7\n",
            "4: 1\n",
            "5: 1\n",
            "6: 1\n",
            "7: 3\n",
            "\n"
          ]
        }
      ],
      "source": [
        "print(Graph.tree_from_Prufer(\"1 1 1 2 3\"))"
      ]
    },
    {
      "cell_type": "markdown",
      "metadata": {
        "id": "8zI4hhs8mnCH"
      },
      "source": [
        "### Part2"
      ]
    },
    {
      "cell_type": "code",
      "execution_count": null,
      "metadata": {
        "colab": {
          "base_uri": "https://localhost:8080/"
        },
        "id": "APWxQBCKmoxT",
        "outputId": "99d9e21a-cc8b-4bee-a423-9f36c3210d4c"
      },
      "outputs": [
        {
          "output_type": "stream",
          "name": "stdout",
          "text": [
            "Overwriting edges.txt\n"
          ]
        }
      ],
      "source": [
        "%%writefile edges.txt\n",
        "a b\n",
        "b c\n",
        "b d\n",
        "d\n",
        "d c\n",
        "e\n",
        "f\n"
      ]
    },
    {
      "cell_type": "code",
      "execution_count": null,
      "metadata": {
        "colab": {
          "base_uri": "https://localhost:8080/"
        },
        "id": "eR-LAgiBnAPC",
        "outputId": "0581bdab-0197-407a-9091-6a4a08ca12af"
      },
      "outputs": [
        {
          "output_type": "stream",
          "name": "stdout",
          "text": [
            "a b\n",
            "b c\n",
            "b d\n",
            "d\n",
            "d c\n",
            "e\n",
            "f\n"
          ]
        }
      ],
      "source": [
        "%cat edges.txt"
      ]
    },
    {
      "cell_type": "code",
      "execution_count": null,
      "metadata": {
        "colab": {
          "base_uri": "https://localhost:8080/"
        },
        "id": "iMrisHgRnKuO",
        "outputId": "907d6aa5-5ca1-4603-d548-9644a26cc605"
      },
      "outputs": [
        {
          "output_type": "stream",
          "name": "stdout",
          "text": [
            "a: b\n",
            "b: a c d\n",
            "c: b d\n",
            "d: b c\n",
            "e:\n",
            "f:\n",
            "\n"
          ]
        }
      ],
      "source": [
        "graph2 = Graph.from_edges(\"edges.txt\")\n",
        "print(graph2)"
      ]
    },
    {
      "cell_type": "code",
      "execution_count": null,
      "metadata": {
        "id": "r9NGeZi7p1GR"
      },
      "outputs": [],
      "source": [
        "graph2.to_neighbourlist(\"neighbourhood.txt\")"
      ]
    },
    {
      "cell_type": "code",
      "execution_count": null,
      "metadata": {
        "colab": {
          "base_uri": "https://localhost:8080/"
        },
        "id": "nWT3fLVpqHpo",
        "outputId": "971985b6-4d03-4696-839d-fe19d98181c2"
      },
      "outputs": [
        {
          "output_type": "stream",
          "name": "stdout",
          "text": [
            "a: b\n",
            "b: a c d\n",
            "c: b d\n",
            "d: b c\n",
            "e:\n",
            "f:\n"
          ]
        }
      ],
      "source": [
        "%cat \"neighbourhood.txt\""
      ]
    },
    {
      "cell_type": "code",
      "execution_count": null,
      "metadata": {
        "colab": {
          "base_uri": "https://localhost:8080/"
        },
        "id": "OtKrskF-r81d",
        "outputId": "2541fddf-d636-4fb1-a02e-c0a24bcd42dd"
      },
      "outputs": [
        {
          "output_type": "stream",
          "name": "stdout",
          "text": [
            "--2024-12-05 14:23:28--  https://github.com/pgordin/GraphsSN2024_1/raw/main/weighted0.txt\n",
            "Resolving github.com (github.com)... 140.82.113.4\n",
            "Connecting to github.com (github.com)|140.82.113.4|:443... connected.\n",
            "HTTP request sent, awaiting response... 302 Found\n",
            "Location: https://raw.githubusercontent.com/pgordin/GraphsSN2024_1/main/weighted0.txt [following]\n",
            "--2024-12-05 14:23:28--  https://raw.githubusercontent.com/pgordin/GraphsSN2024_1/main/weighted0.txt\n",
            "Resolving raw.githubusercontent.com (raw.githubusercontent.com)... 185.199.110.133, 185.199.108.133, 185.199.111.133, ...\n",
            "Connecting to raw.githubusercontent.com (raw.githubusercontent.com)|185.199.110.133|:443... connected.\n",
            "HTTP request sent, awaiting response... 200 OK\n",
            "Length: 99 [text/plain]\n",
            "Saving to: ‘weighted0.txt.3’\n",
            "\n",
            "weighted0.txt.3     100%[===================>]      99  --.-KB/s    in 0s      \n",
            "\n",
            "2024-12-05 14:23:28 (4.57 MB/s) - ‘weighted0.txt.3’ saved [99/99]\n",
            "\n"
          ]
        }
      ],
      "source": [
        "!wget https://github.com/pgordin/GraphsSN2024_1/raw/main/weighted0.txt"
      ]
    },
    {
      "cell_type": "code",
      "execution_count": null,
      "metadata": {
        "colab": {
          "base_uri": "https://localhost:8080/"
        },
        "id": "vdKnV3IJsg3U",
        "outputId": "08b3fa98-5f50-46e1-d990-909dbb6dc822"
      },
      "outputs": [
        {
          "output_type": "stream",
          "name": "stdout",
          "text": [
            "A: B E\n",
            "B: A C D\n",
            "E: A D F H\n",
            "C: B D F G\n",
            "D: B C E F\n",
            "F: C D E G H\n",
            "G: C F H I\n",
            "H: E F G\n",
            "I: G\n",
            "\n"
          ]
        }
      ],
      "source": [
        "graph3 = Graph.from_edges(\"weighted0.txt\")\n",
        "print(graph3)"
      ]
    },
    {
      "cell_type": "code",
      "execution_count": null,
      "metadata": {
        "colab": {
          "base_uri": "https://localhost:8080/"
        },
        "id": "zlrf9llrtDnL",
        "outputId": "c73635fe-13fc-443c-bebc-34a33cce8eea"
      },
      "outputs": [
        {
          "output_type": "stream",
          "name": "stdout",
          "text": [
            "--2024-12-05 14:23:28--  https://raw.githubusercontent.com/pgordin/GraphsSN2024_1/refs/heads/main/weighted0.txt\n",
            "Resolving raw.githubusercontent.com (raw.githubusercontent.com)... 185.199.108.133, 185.199.109.133, 185.199.110.133, ...\n",
            "Connecting to raw.githubusercontent.com (raw.githubusercontent.com)|185.199.108.133|:443... connected.\n",
            "HTTP request sent, awaiting response... 200 OK\n",
            "Length: 99 [text/plain]\n",
            "Saving to: ‘weighted0.txt.4’\n",
            "\n",
            "weighted0.txt.4     100%[===================>]      99  --.-KB/s    in 0s      \n",
            "\n",
            "2024-12-05 14:23:28 (3.77 MB/s) - ‘weighted0.txt.4’ saved [99/99]\n",
            "\n"
          ]
        }
      ],
      "source": [
        "# it works as well\n",
        "!wget https://raw.githubusercontent.com/pgordin/GraphsSN2024_1/refs/heads/main/weighted0.txt"
      ]
    },
    {
      "cell_type": "code",
      "execution_count": null,
      "metadata": {
        "colab": {
          "base_uri": "https://localhost:8080/"
        },
        "id": "zBiLX0N80Lt-",
        "outputId": "5c44c8aa-e3d1-4da0-c3df-3d62ff51467b"
      },
      "outputs": [
        {
          "output_type": "stream",
          "name": "stdout",
          "text": [
            "1: 4\n",
            "2: 8\n",
            "3: 8\n",
            "4: 1 10\n",
            "5:\n",
            "6: 8\n",
            "7: 8\n",
            "8: 2 3 6 7\n",
            "9: 10\n",
            "10: 4 9\n",
            "\n"
          ]
        }
      ],
      "source": [
        "graph4 = Graph.random_graph(10, 1/3)\n",
        "print(graph4)"
      ]
    },
    {
      "cell_type": "code",
      "execution_count": null,
      "metadata": {
        "colab": {
          "base_uri": "https://localhost:8080/"
        },
        "id": "E_3Xuype0TRP",
        "outputId": "c180d2cf-3a26-4487-86f6-2dcc3fcc5574"
      },
      "outputs": [
        {
          "output_type": "stream",
          "name": "stdout",
          "text": [
            "1: 2 6\n",
            "2: 1 3\n",
            "3: 2 4\n",
            "4: 3 5\n",
            "5: 4 6\n",
            "6: 5 1\n",
            "\n"
          ]
        }
      ],
      "source": [
        "print(Graph.cycle(6))"
      ]
    },
    {
      "cell_type": "markdown",
      "metadata": {
        "id": "M0eanmo5mkjf"
      },
      "source": [
        "### Part1"
      ]
    },
    {
      "cell_type": "code",
      "execution_count": null,
      "metadata": {
        "colab": {
          "base_uri": "https://localhost:8080/"
        },
        "id": "fFt6k4_1MkaO",
        "outputId": "26a86a1e-8ae2-4283-e285-ba2de91d7d3a"
      },
      "outputs": [
        {
          "output_type": "stream",
          "name": "stdout",
          "text": [
            "['a', 'b', 'c', 'd']\n",
            "[[0 1 0 0]\n",
            " [1 0 1 0]\n",
            " [0 1 0 1]\n",
            " [0 0 0 1]]\n",
            "---------------------------\n",
            "a :  b\n",
            "b :  a  c\n",
            "c :  b  d\n",
            "d :  d\n",
            "---------------------------\n",
            "1 :  2\n",
            "2 :  1  3\n",
            "3 :  2  4\n",
            "4 :  4\n"
          ]
        }
      ],
      "source": [
        "vertices = [\"a\", \"b\", \"c\", \"d\"]\n",
        "matrix = np.array([[0,1,0,0],[1,0,1,0],[0,1,0,1],[0,0,0,1]])\n",
        "print(vertices)\n",
        "print(matrix)\n",
        "print(\"---------------------------\")\n",
        "print_matrix(vertices, matrix)\n",
        "print(\"---------------------------\")\n",
        "print_matrix(None,matrix)"
      ]
    },
    {
      "cell_type": "code",
      "execution_count": null,
      "metadata": {
        "colab": {
          "base_uri": "https://localhost:8080/"
        },
        "id": "-WN2GXWRO7a-",
        "outputId": "89af3655-a7b0-4448-c822-df1087621b9d"
      },
      "outputs": [
        {
          "output_type": "stream",
          "name": "stdout",
          "text": [
            "{'a': ['b'], 'b': ['a', 'c'], 'c': ['b', 'd'], 'd': ['c']}\n",
            "---------------------------\n",
            "a :  b\n",
            "b :  a  c\n",
            "c :  b  d\n",
            "d :  c\n"
          ]
        }
      ],
      "source": [
        "graph_dict = {\n",
        "  \"a\": [\"b\"],\n",
        "  \"b\": [\"a\", \"c\"],\n",
        "  \"c\": [\"b\", \"d\"],\n",
        "  \"d\": [\"c\"]\n",
        "}\n",
        "print(graph_dict)\n",
        "print(\"---------------------------\")\n",
        "print_dict(graph_dict)"
      ]
    },
    {
      "cell_type": "code",
      "execution_count": null,
      "metadata": {
        "colab": {
          "base_uri": "https://localhost:8080/"
        },
        "id": "X8U18KAaDJzn",
        "outputId": "0effae57-3c0b-4399-dd23-615e8c412696"
      },
      "outputs": [
        {
          "output_type": "stream",
          "name": "stdout",
          "text": [
            "a: b\n",
            "b: a c\n",
            "c: b d\n",
            "d: d\n",
            "\n"
          ]
        }
      ],
      "source": [
        "graph1 = Graph.from_matrix(matrix, vertices)\n",
        "print(graph1)"
      ]
    },
    {
      "cell_type": "code",
      "execution_count": null,
      "metadata": {
        "colab": {
          "base_uri": "https://localhost:8080/"
        },
        "id": "Diez_R5gJAvq",
        "outputId": "0c3820d0-34a6-4a4e-9def-b8d49b1d8046"
      },
      "outputs": [
        {
          "output_type": "stream",
          "name": "stdout",
          "text": [
            "a: b\n",
            "b: a c\n",
            "c: b d\n",
            "d: c\n",
            "\n"
          ]
        }
      ],
      "source": [
        "print(Graph(graph_dict))  # the same result"
      ]
    },
    {
      "cell_type": "code",
      "execution_count": null,
      "metadata": {
        "colab": {
          "base_uri": "https://localhost:8080/"
        },
        "id": "HFejfq6hP4D6",
        "outputId": "de4d649f-8d27-40e9-9653-189541e7b94b"
      },
      "outputs": [
        {
          "output_type": "stream",
          "name": "stdout",
          "text": [
            "['a', 'b', 'c', 'd']\n"
          ]
        }
      ],
      "source": [
        "print(graph1.vertices())"
      ]
    },
    {
      "cell_type": "code",
      "execution_count": null,
      "metadata": {
        "colab": {
          "base_uri": "https://localhost:8080/"
        },
        "id": "f2Tgny4gQF4O",
        "outputId": "9b317f45-0fd9-4135-a296-45f2ca7643a3"
      },
      "outputs": [
        {
          "output_type": "stream",
          "name": "stdout",
          "text": [
            "[[0 1 0 0]\n",
            " [1 0 1 0]\n",
            " [0 1 0 1]\n",
            " [0 0 0 1]]\n"
          ]
        }
      ],
      "source": [
        "print(graph1.matrix())"
      ]
    },
    {
      "cell_type": "code",
      "execution_count": null,
      "metadata": {
        "colab": {
          "base_uri": "https://localhost:8080/"
        },
        "id": "eSNamb6BTulo",
        "outputId": "3b603afc-78ea-4866-a0b7-72b5b2a78053"
      },
      "outputs": [
        {
          "output_type": "stream",
          "name": "stdout",
          "text": [
            "a: b\n",
            "b: a c\n",
            "c: b d\n",
            "d: d\n",
            "e:\n",
            "\n"
          ]
        }
      ],
      "source": [
        "graph1.add_vertex(\"e\")\n",
        "print(graph1)"
      ]
    },
    {
      "cell_type": "code",
      "execution_count": null,
      "metadata": {
        "colab": {
          "base_uri": "https://localhost:8080/"
        },
        "id": "h20fs6XzT1v3",
        "outputId": "67fada0d-7170-4c93-fdc4-ffbf31e5bbbb"
      },
      "outputs": [
        {
          "output_type": "stream",
          "name": "stdout",
          "text": [
            "a: b\n",
            "b: a c\n",
            "c: b d\n",
            "d: d\n",
            "e: f\n",
            "f: e\n",
            "\n"
          ]
        }
      ],
      "source": [
        "graph1.add_edge([\"e\", \"f\"])\n",
        "print(graph1)"
      ]
    },
    {
      "cell_type": "code",
      "execution_count": null,
      "metadata": {
        "colab": {
          "base_uri": "https://localhost:8080/"
        },
        "id": "NTRLKliDT9mR",
        "outputId": "274a9008-43e2-4033-84d6-31abcc649f79"
      },
      "outputs": [
        {
          "output_type": "stream",
          "name": "stdout",
          "text": [
            "a: b\n",
            "b: a c\n",
            "c: b d\n",
            "d: d\n",
            "e: f a\n",
            "f: e\n",
            "\n"
          ]
        }
      ],
      "source": [
        "graph1.add_arc([\"e\", \"a\"])  # breaking the symmetry\n",
        "print(graph1)"
      ]
    },
    {
      "cell_type": "code",
      "execution_count": null,
      "metadata": {
        "colab": {
          "base_uri": "https://localhost:8080/"
        },
        "id": "qplimjtMUGPN",
        "outputId": "8b38a43f-b6d3-49cd-9ef1-8c79d8ffc6c2"
      },
      "outputs": [
        {
          "output_type": "stream",
          "name": "stdout",
          "text": [
            "a: b e\n",
            "b: a c\n",
            "c: b d\n",
            "d: d\n",
            "e: f a\n",
            "f: e\n",
            "\n"
          ]
        }
      ],
      "source": [
        "graph1.add_edge([\"e\", \"a\"])  # restoring the symmetry\n",
        "print(graph1)"
      ]
    },
    {
      "cell_type": "code",
      "execution_count": null,
      "metadata": {
        "colab": {
          "base_uri": "https://localhost:8080/"
        },
        "id": "GuEBCTrUUM1V",
        "outputId": "43f211c2-51d1-46ec-f613-a8b4cda9fc13"
      },
      "outputs": [
        {
          "output_type": "stream",
          "name": "stdout",
          "text": [
            "a: b e\n",
            "b: a c\n",
            "c: b d\n",
            "d: d\n",
            "e: f a\n",
            "f: e\n",
            "\n"
          ]
        }
      ],
      "source": [
        "graph1.add_edge([\"e\", \"f\"]) # do nothing, an edge already exists\n",
        "print(graph1)"
      ]
    },
    {
      "cell_type": "code",
      "execution_count": null,
      "metadata": {
        "colab": {
          "base_uri": "https://localhost:8080/"
        },
        "id": "XLQ1qcCAu7ie",
        "outputId": "f0b01212-ca1c-4e03-a5ce-3234d7643672"
      },
      "outputs": [
        {
          "output_type": "stream",
          "name": "stdout",
          "text": [
            "a: b e\n",
            "b: a c\n",
            "c: b d\n",
            "d: d\n",
            "e: a\n",
            "\n"
          ]
        }
      ],
      "source": [
        "graph1.del_vertex(\"f\")  # removing a vertex\n",
        "print(graph1)"
      ]
    },
    {
      "cell_type": "code",
      "execution_count": null,
      "metadata": {
        "colab": {
          "base_uri": "https://localhost:8080/",
          "height": 283
        },
        "id": "H16ojmt5UWKW",
        "outputId": "1764e1bb-215b-40be-aebf-8c322f6bfe7d"
      },
      "outputs": [
        {
          "output_type": "error",
          "ename": "ValueError",
          "evalue": "Loops are not allowed!",
          "traceback": [
            "\u001b[0;31m---------------------------------------------------------------------------\u001b[0m",
            "\u001b[0;31mValueError\u001b[0m                                Traceback (most recent call last)",
            "\u001b[0;32m<ipython-input-90-3a6861681e28>\u001b[0m in \u001b[0;36m<cell line: 1>\u001b[0;34m()\u001b[0m\n\u001b[0;32m----> 1\u001b[0;31m \u001b[0mgraph1\u001b[0m\u001b[0;34m.\u001b[0m\u001b[0madd_edge\u001b[0m\u001b[0;34m(\u001b[0m\u001b[0;34m[\u001b[0m\u001b[0;34m\"e\"\u001b[0m\u001b[0;34m,\u001b[0m \u001b[0;34m\"e\"\u001b[0m\u001b[0;34m]\u001b[0m\u001b[0;34m)\u001b[0m \u001b[0;31m# an error\u001b[0m\u001b[0;34m\u001b[0m\u001b[0;34m\u001b[0m\u001b[0m\n\u001b[0m",
            "\u001b[0;32m<ipython-input-27-3b6b0686541c>\u001b[0m in \u001b[0;36madd_edge\u001b[0;34m(self, edge)\u001b[0m\n\u001b[1;32m    110\u001b[0m         \u001b[0mu\u001b[0m\u001b[0;34m,\u001b[0m \u001b[0mv\u001b[0m \u001b[0;34m=\u001b[0m \u001b[0medge\u001b[0m\u001b[0;34m\u001b[0m\u001b[0;34m\u001b[0m\u001b[0m\n\u001b[1;32m    111\u001b[0m         \u001b[0;32mif\u001b[0m \u001b[0mu\u001b[0m \u001b[0;34m==\u001b[0m \u001b[0mv\u001b[0m\u001b[0;34m:\u001b[0m\u001b[0;34m\u001b[0m\u001b[0;34m\u001b[0m\u001b[0m\n\u001b[0;32m--> 112\u001b[0;31m             \u001b[0;32mraise\u001b[0m \u001b[0mValueError\u001b[0m\u001b[0;34m(\u001b[0m\u001b[0;34m\"Loops are not allowed!\"\u001b[0m\u001b[0;34m)\u001b[0m\u001b[0;34m\u001b[0m\u001b[0;34m\u001b[0m\u001b[0m\n\u001b[0m\u001b[1;32m    113\u001b[0m         \u001b[0mself\u001b[0m\u001b[0;34m.\u001b[0m\u001b[0madd_vertex\u001b[0m\u001b[0;34m(\u001b[0m\u001b[0mu\u001b[0m\u001b[0;34m)\u001b[0m\u001b[0;34m\u001b[0m\u001b[0;34m\u001b[0m\u001b[0m\n\u001b[1;32m    114\u001b[0m         \u001b[0mself\u001b[0m\u001b[0;34m.\u001b[0m\u001b[0madd_vertex\u001b[0m\u001b[0;34m(\u001b[0m\u001b[0mv\u001b[0m\u001b[0;34m)\u001b[0m\u001b[0;34m\u001b[0m\u001b[0;34m\u001b[0m\u001b[0m\n",
            "\u001b[0;31mValueError\u001b[0m: Loops are not allowed!"
          ]
        }
      ],
      "source": [
        "graph1.add_edge([\"e\", \"e\"]) # an error"
      ]
    },
    {
      "cell_type": "code",
      "execution_count": null,
      "metadata": {
        "id": "OJsBnowmUdQe",
        "outputId": "50147f2b-c864-4e33-a531-73a0ba07742a",
        "colab": {
          "base_uri": "https://localhost:8080/"
        }
      },
      "outputs": [
        {
          "output_type": "stream",
          "name": "stdout",
          "text": [
            "a: b e\n",
            "b: a c\n",
            "c: b d\n",
            "d: d\n",
            "e: a e\n",
            "\n"
          ]
        }
      ],
      "source": [
        "graph1.add_arc([\"e\", \"e\"]) # OK - loops are allowed in digraphs\n",
        "print(graph1)"
      ]
    },
    {
      "cell_type": "code",
      "execution_count": null,
      "metadata": {
        "id": "sE1ahsXaDUsb",
        "outputId": "87d9629c-8b3e-4261-bf20-d38407da5927",
        "colab": {
          "base_uri": "https://localhost:8080/"
        }
      },
      "outputs": [
        {
          "output_type": "stream",
          "name": "stdout",
          "text": [
            "1: 2 6\n",
            "2: 1 3\n",
            "3: 2 4\n",
            "4: 3 5\n",
            "5: 4 6\n",
            "6: 5 1\n",
            "\n"
          ]
        }
      ],
      "source": [
        "print(Graph.cycle(6))"
      ]
    },
    {
      "cell_type": "code",
      "execution_count": null,
      "metadata": {
        "id": "JWwtyDG7ddQe"
      },
      "outputs": [],
      "source": [
        "#  1. preorder(v) and postorder(v) Functions\n",
        "\n",
        "# In[2]:\n",
        "\n",
        "\n",
        "# In preorder, we visit the current node first, then recursively visit each child node.\n",
        "\n",
        "def preorder(v, tree, visited=None):\n",
        "    if visited is None:\n",
        "        visited = set()\n",
        "    visited.add(v)\n",
        "    print(v, end=' ')\n",
        "    for neighbor in tree[v]:\n",
        "        if neighbor not in visited:\n",
        "            preorder(neighbor, tree, visited)\n",
        "\n",
        "#In postorder, we visit all child nodes before visiting the current node.\n",
        "def postorder(v, tree, visited=None):\n",
        "    if visited is None:\n",
        "        visited = set()\n",
        "    visited.add(v)\n",
        "    for neighbor in tree[v]:\n",
        "        if neighbor not in visited:\n",
        "            postorder(neighbor, tree, visited)\n",
        "    print(v, end=' ')\n",
        "\n",
        "tree = {\n",
        "    1: [2, 3],\n",
        "    2: [4, 5],\n",
        "    3: [],\n",
        "    4: [],\n",
        "    5: []\n",
        "}\n",
        "print(\"Preorder traversal:\")\n",
        "preorder(1, tree)\n",
        "print(\"\\n\")  # Adds a newline for readability\n",
        "\n",
        "print(\"Postorder traversal:\")\n",
        "postorder(1, tree)\n",
        "print(\"\\n\")\n"
      ]
    }
  ],
  "metadata": {
    "colab": {
      "provenance": [],
      "include_colab_link": true
    },
    "kernelspec": {
      "display_name": "mda",
      "language": "python",
      "name": "python3"
    },
    "language_info": {
      "codemirror_mode": {
        "name": "ipython",
        "version": 3
      },
      "file_extension": ".py",
      "mimetype": "text/x-python",
      "name": "python",
      "nbconvert_exporter": "python",
      "pygments_lexer": "ipython3",
      "version": "3.13.0"
    }
  },
  "nbformat": 4,
  "nbformat_minor": 0
}
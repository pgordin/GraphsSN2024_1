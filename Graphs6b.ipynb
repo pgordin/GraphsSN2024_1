{
  "nbformat": 4,
  "nbformat_minor": 0,
  "metadata": {
    "colab": {
      "provenance": [],
      "authorship_tag": "ABX9TyN7mRYhD4e5EpoUmmge6Uxq",
      "include_colab_link": true
    },
    "kernelspec": {
      "name": "python3",
      "display_name": "Python 3"
    },
    "language_info": {
      "name": "python"
    }
  },
  "cells": [
    {
      "cell_type": "markdown",
      "metadata": {
        "id": "view-in-github",
        "colab_type": "text"
      },
      "source": [
        "<a href=\"https://colab.research.google.com/github/pgordin/GraphsSN2024_1/blob/main/Graphs6b.ipynb\" target=\"_parent\"><img src=\"https://colab.research.google.com/assets/colab-badge.svg\" alt=\"Open In Colab\"/></a>"
      ]
    },
    {
      "cell_type": "markdown",
      "source": [
        "#Graphs & Social Networks &mdash; lab material\n",
        "This notebook contains a definition of a python class *Graph*, containing functions described during labs."
      ],
      "metadata": {
        "id": "noHa1UnB6dTl"
      }
    },
    {
      "cell_type": "markdown",
      "source": [
        "Package import."
      ],
      "metadata": {
        "id": "o6cctVaGKn9n"
      }
    },
    {
      "cell_type": "code",
      "execution_count": 47,
      "metadata": {
        "id": "OAkHMz2jKTzm"
      },
      "outputs": [],
      "source": [
        "import numpy as np\n",
        "from random import random, seed\n",
        "from copy import deepcopy\n",
        "from queue import PriorityQueue"
      ]
    },
    {
      "cell_type": "markdown",
      "source": [
        "## Simple functions from the first classes\n",
        "This is left just as an example (to compare the behaviour)."
      ],
      "metadata": {
        "id": "r_QpZWdZCdkX"
      }
    },
    {
      "cell_type": "code",
      "source": [
        "def print_matrix(vertices, matrix):\n",
        "  \"\"\"\n",
        "  Printing a graph given by adjacency matrix\n",
        "  \"\"\"\n",
        "  n = len(matrix)\n",
        "  if (vertices is not None) and (len(vertices) == n):\n",
        "    vv = vertices\n",
        "  else:\n",
        "    vv = range(1, n+1)\n",
        "  for i in range(n):\n",
        "    print(vv[i], \":\", end=\"\")\n",
        "    for j in range(n):\n",
        "      if matrix[i, j]:\n",
        "        print(\" \", vv[j], end=\"\")\n",
        "    print(\"\")\n",
        "\n",
        "def print_dict(graph):\n",
        "  \"\"\"\n",
        "  Printing of a graph (given as a dictionary/neighbouring list)\n",
        "  \"\"\"\n",
        "  for v in graph:\n",
        "    print(v, \":\", end=\"\")\n",
        "    for u in graph[v]:\n",
        "      print(\" \", u, end=\"\")\n",
        "    print(\"\")"
      ],
      "metadata": {
        "id": "a5x2lBIQK70Y"
      },
      "execution_count": null,
      "outputs": []
    },
    {
      "cell_type": "markdown",
      "source": [
        "## Class *Graph*"
      ],
      "metadata": {
        "id": "2WMNx_ldK23O"
      }
    },
    {
      "cell_type": "code",
      "source": [
        "class Graph:\n",
        "    def __init__(self, graph=None):\n",
        "        if graph is None:\n",
        "            graph = {}\n",
        "        self.graph = graph\n",
        "\n",
        "    # dict initializer\n",
        "    @classmethod\n",
        "    def from_dict(cls, graph):\n",
        "        return cls(graph)\n",
        "\n",
        "    # array initializer\n",
        "    @classmethod\n",
        "    def from_matrix(cls, matrix, vertices = None):\n",
        "        if (vertices is None) or (len(vertices) != len(matrix)):\n",
        "            vertices = [*range(1, len(matrix) + 1)]\n",
        "        return cls.from_dict(cls._matrix_to_dict(matrix, vertices))\n",
        "\n",
        "    # two private methods matrix <-> dictionaries\n",
        "    def _matrix_to_dict(matrix, vertices: list) -> dict:\n",
        "        \"\"\"\n",
        "        Converts a graph given as an adjacency matrix to a graph in dict form.\n",
        "        \"\"\"\n",
        "        res_dict = {}\n",
        "        for i, v in enumerate(vertices):\n",
        "            neighbours = [vertices[j] for j, edge in enumerate(matrix[i]) if edge]\n",
        "            res_dict[v] = neighbours\n",
        "        return res_dict\n",
        "\n",
        "    def _dict_to_matrix(self, _dict: dict) -> np.array:\n",
        "        \"\"\"\n",
        "        Converts a graph in dict form to its adjacency matrix.\n",
        "        \"\"\"\n",
        "        n = len(_dict)\n",
        "        vertices = [*_dict.keys()]\n",
        "        matrix = np.zeros(shape = (n, n), dtype=int)\n",
        "        for u,v in [\n",
        "            (vertices.index(u), vertices.index(v))\n",
        "            for u, row in _dict.items() for v in row\n",
        "        ]:\n",
        "            matrix[u][v] += 1\n",
        "        return matrix\n",
        "\n",
        "    def vertices(self) -> list:\n",
        "        \"\"\"\n",
        "        Returns list of vertices of the graph.\n",
        "        \"\"\"\n",
        "        return [*self.graph.keys()]\n",
        "\n",
        "    def matrix(self) -> np.array:\n",
        "        \"\"\"\n",
        "        Returns the adjacency matrix of the graph.\n",
        "        \"\"\"\n",
        "        return self._dict_to_matrix(self.graph)\n",
        "\n",
        "    # redefinition of print for objects of class Graph\n",
        "    def __str__(self):\n",
        "        res = \"\"\n",
        "        for v in self.graph:\n",
        "            res += f\"{v}:\"\n",
        "            for u in self.graph[v]:\n",
        "                res += f\" {u}\"\n",
        "            res += \"\\n\"\n",
        "        return res\n",
        "\n",
        "    # The following is for free thanks to the above\n",
        "    def to_neighbourlist(self, filename: str):\n",
        "        \"\"\"\n",
        "        Saves a graphs to a text file as a neighbour dict.\\n\n",
        "        Filename is a file path.\n",
        "        \"\"\"\n",
        "        file = open(filename, \"w\")  # open textfile for writing\n",
        "        file.write(str(self))\n",
        "        file.close()\n",
        "\n",
        "    # Modyfying graphs\n",
        "    def add_vertex(self, vertex):\n",
        "        \"\"\"\n",
        "        Adds a new vertex to the graph.\n",
        "        \"\"\"\n",
        "        if vertex not in self.graph:\n",
        "            self.graph[vertex] = []\n",
        "\n",
        "    def del_vertex(self, vertex):\n",
        "        \"\"\"\n",
        "        Removes a vertex from the graph.\n",
        "        \"\"\"\n",
        "        if vertex in self.graph:\n",
        "            self.graph.pop(vertex)\n",
        "            for u in self.graph:\n",
        "                if vertex in self.graph[u]:\n",
        "                    self.graph[u].remove(vertex)\n",
        "\n",
        "    def add_arc(self, arc):\n",
        "        \"\"\"\n",
        "        Given pair of vertices (arc variable) add an arc to the graph\n",
        "        We consider simple, directed graphs.\n",
        "        \"\"\"\n",
        "        u, v = arc\n",
        "        self.add_vertex(u)\n",
        "        self.add_vertex(v)\n",
        "        if v not in self.graph[u]:\n",
        "            self.graph[u].append(v)\n",
        "\n",
        "    def add_edge(self, edge: list):\n",
        "        \"\"\"\n",
        "        Given pair of vertices (edge variable) add an edge to existing graph.\n",
        "        We consider simple, undirected graphs, as symmetric digraphs without loops.\n",
        "        \"\"\"\n",
        "        u, v = edge\n",
        "        if u == v:\n",
        "            raise ValueError(\"Loops are not allowed!\")\n",
        "        self.add_vertex(u)\n",
        "        self.add_vertex(v)\n",
        "        if v not in self.graph[u]:\n",
        "            self.graph[u].append(v)\n",
        "        if u not in self.graph[v]:\n",
        "            self.graph[v].append(u)\n",
        "\n",
        "    # reading from a file\n",
        "    @staticmethod\n",
        "    def from_edges(filename: str, directed = 0):\n",
        "        \"\"\"\n",
        "        Read the graph from file, that in each line contains either\n",
        "        the description of a vertex (one word) or\n",
        "        the description of an edge/arc (at least 2 words).\n",
        "        The resulting graph is returned as a neighbourhood list.\n",
        "        Variable \"filename\" contains the whole path to the file.\n",
        "        \"\"\"\n",
        "        graph = Graph()\n",
        "        file = open(filename, \"r\")          # open the file to read\n",
        "        for line in file:                   # for each line of the file\n",
        "          words = line.strip().split()      # splits the line into words\n",
        "          if len(words) == 1:               # one word - vertex description\n",
        "            graph.add_vertex(words[0])\n",
        "          elif len(words) >= 2:             # at least two words, first two are the edge description\n",
        "            if directed:\n",
        "              graph.add_arc([words[0], words[1]])\n",
        "            else:\n",
        "              graph.add_edge([words[0], words[1]])\n",
        "        file.close()\n",
        "        return graph\n",
        "\n",
        "    @staticmethod\n",
        "    def random_graph(n: int, p: float):\n",
        "        \"\"\"\n",
        "        Creates a random graph in G(n, p) model.\n",
        "        \"\"\"\n",
        "        rand_graph = Graph()\n",
        "        for i in range(1, n + 1):\n",
        "            rand_graph.add_vertex(i)\n",
        "            for j in range(1, i):\n",
        "                if random() < p:\n",
        "                    rand_graph.add_edge([i, j])\n",
        "        return rand_graph\n",
        "\n",
        "    @staticmethod\n",
        "    def cycle(n: int):\n",
        "        \"\"\"\n",
        "        Creates a cycle C_n on n vertices\n",
        "        \"\"\"\n",
        "        cycle = Graph()\n",
        "        for i in range(n-1):\n",
        "          cycle.add_edge([i+1, i+2])\n",
        "        cycle.add_edge([1, n])\n",
        "        return cycle\n",
        "\n",
        "\n",
        "    def Prufer(self):\n",
        "      \"\"\"\n",
        "      Returns the Prufer code of a tree.\n",
        "      It is necessary that the graph is a tree (it is not checked).\n",
        "      Result is given as a string (empty for trees on 1 or 2 vertices).\n",
        "      \"\"\"\n",
        "      tr = deepcopy(self.graph)   # copy of a tree, as we destroy it\n",
        "      code = \"\"\n",
        "      for i in range(len(self.graph) - 2):\n",
        "        for x in sorted(tr):\n",
        "          if len(tr[x]) == 1:   # least leaf\n",
        "            break\n",
        "        v = tr[x][0]            # the unique neighbour of x\n",
        "        code = code + f\"{v} \"\n",
        "        tr[v].remove(x)         # remove x from neighbours of v\n",
        "        tr.pop(x)               # remove x from the tree\n",
        "      return code.strip()\n",
        "\n",
        "    @staticmethod\n",
        "    def tree_from_Prufer(code: str):\n",
        "        \"\"\"\n",
        "        Creating a tree from a Prufer code.\n",
        "        \"\"\"\n",
        "        tree = Graph()\n",
        "        clist = [int(x) for x in code.strip().split()]   # code as a list of numbers\n",
        "        n = len(clist) + 2                  # number of vertices\n",
        "        vert = [*range(1, n+1)]             # list of numbers 1..n\n",
        "        for v in vert:\n",
        "          tree.add_vertex(v)\n",
        "        for i in range(n-2):\n",
        "          for x in vert:\n",
        "            if not x in clist:    # x - least leaf\n",
        "              break\n",
        "          v = clist.pop(0)    # remove the first element from the code - the neighbour of x\n",
        "          tree.add_edge((x, v))\n",
        "          vert.remove(x)\n",
        "        tree.add_edge(vert)\n",
        "        return tree\n",
        "\n",
        "\n",
        "    def connected_components(self):\n",
        "      \"\"\"\n",
        "      Looks for connected components of undirected graph.\n",
        "      Returns a list of its vertex-sets.\n",
        "      Remark: the first element contains the set of all graph vertices\n",
        "      \"\"\"\n",
        "      def DFS(u):\n",
        "        \"\"\"\n",
        "        Deep first search (as internal method).\n",
        "        \"\"\"\n",
        "        for w in self.graph[u]:\n",
        "          if w not in VT[0]:      # w - not visited yet\n",
        "            VT[0].add(w)          # already visited\n",
        "            VT[-1].add(w)         # w - in the last connected component\n",
        "            DFS(w)\n",
        "\n",
        "      \"\"\"\n",
        "      VT - list of vertex sets VT[i] for i > 0 - is a vertex set of i-th connected component\n",
        "      VT[0] - is a vertex set of the spanning forest (or during the algorithm list of visited vertices).\n",
        "      \"\"\"\n",
        "      VT = [set([])]\n",
        "      for v in self.graph:\n",
        "        if v not in VT[0]:      # v is not visited\n",
        "          VT[0].add(v)\n",
        "          VT.append(set([v]))   # statring point of new conected component\n",
        "          DFS(v)\n",
        "      return VT\n",
        "\n",
        "    def preorder(self, v, visited=None):\n",
        "        # first we print a given vertex, then we traverse the subtree rooted in it\n",
        "        \"\"\"\n",
        "        Prints the vertices of the graph in preorder traversal starting from vertex v.\n",
        "        \"\"\"\n",
        "        if visited is None:\n",
        "            visited = set()\n",
        "\n",
        "        # Visit the current node\n",
        "        visited.add(v)\n",
        "        print(v, end=' ')\n",
        "\n",
        "        # Recursively visit all unvisited neighbors\n",
        "        for neighbor in self.graph[v]:\n",
        "            if neighbor not in visited:\n",
        "                self.preorder(neighbor, visited)\n",
        "\n",
        "\n",
        "    def postorder(self, v, visited=None):\n",
        "        # postorder — first we traverse the subtree rooted a given vertex, then we list the vertex\n",
        "        \"\"\"\n",
        "        Prints the vertices of the graph in postorder traversal starting from vertex v.\n",
        "        \"\"\"\n",
        "        if visited is None:\n",
        "            visited = set()\n",
        "\n",
        "        # Mark the current node as visited\n",
        "        visited.add(v)\n",
        "\n",
        "        # Recursively visit all unvisited neighbors first\n",
        "        for neighbor in self.graph[v]:\n",
        "            if neighbor not in visited:\n",
        "                self.postorder(neighbor, visited)\n",
        "\n",
        "        # Print the current node after visiting its neighbors\n",
        "        print(v, end=' ')\n",
        "\n",
        "\n",
        "    def connected_components_graphs(self):\n",
        "        \"\"\"\n",
        "        Returns a list of Graph objects, each representing a connected component of the original graph.\n",
        "        \"\"\"\n",
        "        components = self.connected_components()  # Get the list of connected components as vertex sets\n",
        "        component_graphs = []\n",
        "\n",
        "        for component in components[1:]:  # Skip the first element as it contains all vertices\n",
        "            subgraph = Graph()            # Create a new Graph instance\n",
        "            for vertex in component:\n",
        "                subgraph.graph[vertex] = self.graph[vertex]\n",
        "#           equivalent\n",
        "#                subgraph.add_vertex(vertex)\n",
        "#                for neighbor in self.graph[vertex]:\n",
        "#                    if neighbor in component:\n",
        "#                        subgraph.add_edge([vertex, neighbor])\n",
        "            component_graphs.append(subgraph)\n",
        "\n",
        "        return component_graphs\n",
        "\n",
        "\n",
        "    @staticmethod\n",
        "    def random_bipartite_graph(m, n, p):\n",
        "        \"\"\"\n",
        "        Generates a random bipartite graph with m + n vertices.\n",
        "        The two sets U and V have m and n vertices respectively.\n",
        "        Each edge between a vertex in U and a vertex in V is included with probability p.\n",
        "        \"\"\"\n",
        "        bipartite_graph = Graph()\n",
        "        U = [f\"U{i}\" for i in range(1, m + 1)]  # Label vertices in set U as U1, U2, ..., Um\n",
        "        V = [f\"V{i}\" for i in range(1, n + 1)]  # Label vertices in set V as V1, V2, ..., Vn\n",
        "\n",
        "        # Add vertices to the graph\n",
        "        for vertex in U + V:\n",
        "            bipartite_graph.add_vertex(vertex)\n",
        "\n",
        "        # Add edges between vertices in U and V with probability p\n",
        "        for u in U:\n",
        "            for v in V:\n",
        "                if random.random() < p:\n",
        "                    bipartite_graph.add_edge([u, v])\n",
        "\n",
        "        return bipartite_graph\n",
        "\n",
        "\n",
        "    def distance(self, v):\n",
        "      \"\"\"\n",
        "      Computes distances from vertex v to each vertex reachable from v.\n",
        "      It uses a BFS approach.\n",
        "      Result is given as a dictionary of distances\n",
        "      \"\"\"\n",
        "      dist = {v:0}    # starting point of a dictionary\n",
        "      queue = [v]\n",
        "      while len(queue) > 0:\n",
        "        u = queue.pop(0)\n",
        "        for w in self.graph[u]:\n",
        "          if not w in dist:\n",
        "            dist[w] = dist[u] + 1\n",
        "            queue.append(w)\n",
        "      return dist"
      ],
      "metadata": {
        "id": "GpL6rcH371bJ"
      },
      "execution_count": 32,
      "outputs": []
    },
    {
      "cell_type": "markdown",
      "source": [
        "## Class *WeightedGraph*"
      ],
      "metadata": {
        "id": "-YBRlM-Flaio"
      }
    },
    {
      "cell_type": "code",
      "source": [
        "class WeightedGraph(Graph):\n",
        "    def __init__(self, graph=None, wgraph=None):\n",
        "        if wgraph is None:\n",
        "            wgraph = {}\n",
        "        self.wgraph = wgraph\n",
        "        super().__init__(graph)\n",
        "\n",
        "    # redefinition of print for objects of class WeightedGraph\n",
        "    def __str__(self):\n",
        "        res = super().__str__()\n",
        "        res += \"-----------------------\\n\"\n",
        "        for v in self.wgraph:\n",
        "            res += f\"{v}:\"\n",
        "            for u in self.wgraph[v]:\n",
        "                res += f\" {u}\"\n",
        "            res += \"\\n\"\n",
        "        return res\n",
        "\n",
        "    # Modyfying graphs\n",
        "    def add_vertex(self, vertex):\n",
        "        \"\"\"\n",
        "        Adds a new vertex to the graph.\n",
        "        \"\"\"\n",
        "        super().add_vertex(vertex)\n",
        "        if vertex not in self.wgraph:\n",
        "            self.wgraph[vertex] = []\n",
        "\n",
        "    def del_vertex(self, vertex):\n",
        "        \"\"\"\n",
        "        Removes a vertex from the graph.\n",
        "        TODO\n",
        "        \"\"\"\n",
        "        if vertex in self.graph:\n",
        "            self.graph.pop(vertex)\n",
        "            for u in self.graph:\n",
        "                if vertex in self.graph[u]:\n",
        "                    self.graph[u].remove(vertex)\n",
        "\n",
        "    def add_arc(self, arc, weight = 1):\n",
        "        \"\"\"\n",
        "        Given pair of vertices (arc variable) add an arc to the graph\n",
        "        We consider simple, directed graphs.\n",
        "        \"\"\"\n",
        "        u, v = arc\n",
        "        self.add_vertex(u)\n",
        "        self.add_vertex(v)\n",
        "        if v not in self.graph[u]:\n",
        "            self.graph[u].append(v)\n",
        "            self.wgraph[u].append((v, weight))\n",
        "\n",
        "    def add_edge(self, edge: list, weight = 1):\n",
        "        \"\"\"\n",
        "        Given pair of vertices (edge variable) add an edge to existing graph.\n",
        "        We consider simple, undirected graphs, as symmetric digraphs without loops.\n",
        "        \"\"\"\n",
        "        u, v = edge\n",
        "        if u == v:\n",
        "            raise ValueError(\"Loops are not allowed!\")\n",
        "        self.add_vertex(u)\n",
        "        self.add_vertex(v)\n",
        "        if v not in self.graph[u]:\n",
        "            self.graph[u].append(v)\n",
        "            self.wgraph[u].append((v, weight))\n",
        "        if u not in self.graph[v]:\n",
        "            self.graph[v].append(u)\n",
        "            self.wgraph[v].append((u, weight))\n",
        "\n",
        "    # reading from a file\n",
        "    @staticmethod\n",
        "    def from_edges(filename: str, directed = 0):\n",
        "        \"\"\"\n",
        "        Read the graph from file, that in each line contains either\n",
        "        the description of a vertex (one word) or\n",
        "        the description of an edge/arc (2 words) or\n",
        "        the description of an weighted edge/arc (at least 3 words) or\n",
        "        The resulting graph is returned as a neighbourhood list.\n",
        "        Variable \"filename\" contains the whole path to the file.\n",
        "        \"\"\"\n",
        "        graph = WeightedGraph()\n",
        "        file = open(filename, \"r\")          # open the file to read\n",
        "        for line in file:                   # for each line of the file\n",
        "          words = line.strip().split()      # splits the line into words\n",
        "          if len(words) == 1:               # one word - vertex description\n",
        "            graph.add_vertex(words[0])\n",
        "          elif len(words) == 2:             # two words, the edge description\n",
        "            if directed:\n",
        "              graph.add_arc([words[0], words[1]])\n",
        "            else:\n",
        "              graph.add_edge([words[0], words[1]])\n",
        "          elif len(words) >= 3:             # at least three words, first three are the weighted edge description\n",
        "            if directed:\n",
        "              graph.add_arc([words[0], words[1]], int(words[2]))\n",
        "            else:\n",
        "              graph.add_edge([words[0], words[1]], int(words[2]))\n",
        "\n",
        "        file.close()\n",
        "        return graph\n",
        "\n",
        "    def min_spanning_tree(self):\n",
        "      \"\"\"\n",
        "      Jarnik-Prim algorithm\n",
        "      \"\"\"\n",
        "      for v in self.wgraph:   # Choose any vertex of a graph\n",
        "        break\n",
        "      wtree = WeightedGraph({v:[]}, {v:[]})\n",
        "      tweight = 0\n",
        "      q = PriorityQueue()\n",
        "      for (u, w) in self.wgraph[v]:\n",
        "        q.put((w, v, u))\n",
        "      while not q.empty():\n",
        "        (w, v, u) = q.get()\n",
        "        if u not in wtree.graph:\n",
        "          tweight += w\n",
        "          wtree.add_edge((v, u), w)\n",
        "          for (x, w) in self.wgraph[u]:\n",
        "            if not x in wtree.graph:\n",
        "              q.put((w, u, x))\n",
        "      if len(wtree.graph) < len(self.graph):\n",
        "        print(\"Graph is not connected. Returned is a tree for some connected component.\")\n",
        "      return tweight, wtree\n"
      ],
      "metadata": {
        "id": "29mjCR78C6JE"
      },
      "execution_count": 49,
      "outputs": []
    },
    {
      "cell_type": "markdown",
      "source": [
        "## Use of code"
      ],
      "metadata": {
        "id": "6_YyQKrIMi_C"
      }
    },
    {
      "cell_type": "markdown",
      "source": [
        "### Part 6 (Weigthed graphs)"
      ],
      "metadata": {
        "id": "GMZZRbNEmEOZ"
      }
    },
    {
      "cell_type": "code",
      "source": [
        "wgraph = WeightedGraph()\n",
        "wgraph.add_edge((\"a\", \"b\"), 2)\n",
        "\n",
        "print(wgraph)"
      ],
      "metadata": {
        "colab": {
          "base_uri": "https://localhost:8080/"
        },
        "id": "XhSlxUCGFDqV",
        "outputId": "c091a7c8-233e-44e6-9dc6-f75765e6d7ea"
      },
      "execution_count": 45,
      "outputs": [
        {
          "output_type": "stream",
          "name": "stdout",
          "text": [
            "a: b\n",
            "b: a\n",
            "-----------------------\n",
            "a: ('b', 2)\n",
            "b: ('a', 2)\n",
            "\n"
          ]
        }
      ]
    },
    {
      "cell_type": "code",
      "source": [
        "!wget https://github.com/pgordin/GraphsSN2024_1/raw/main/weighted0.txt"
      ],
      "metadata": {
        "colab": {
          "base_uri": "https://localhost:8080/"
        },
        "id": "jxRvfs0ErMM_",
        "outputId": "acd759d7-b139-46f3-abc5-ec1fb08c1b4a"
      },
      "execution_count": 30,
      "outputs": [
        {
          "output_type": "stream",
          "name": "stdout",
          "text": [
            "--2024-11-21 14:05:54--  https://github.com/pgordin/GraphsSN2024_1/raw/main/weighted0.txt\n",
            "Resolving github.com (github.com)... 140.82.112.4\n",
            "Connecting to github.com (github.com)|140.82.112.4|:443... connected.\n",
            "HTTP request sent, awaiting response... 302 Found\n",
            "Location: https://raw.githubusercontent.com/pgordin/GraphsSN2024_1/main/weighted0.txt [following]\n",
            "--2024-11-21 14:05:54--  https://raw.githubusercontent.com/pgordin/GraphsSN2024_1/main/weighted0.txt\n",
            "Resolving raw.githubusercontent.com (raw.githubusercontent.com)... 185.199.108.133, 185.199.110.133, 185.199.109.133, ...\n",
            "Connecting to raw.githubusercontent.com (raw.githubusercontent.com)|185.199.108.133|:443... connected.\n",
            "HTTP request sent, awaiting response... 200 OK\n",
            "Length: 99 [text/plain]\n",
            "Saving to: ‘weighted0.txt.2’\n",
            "\n",
            "weighted0.txt.2     100%[===================>]      99  --.-KB/s    in 0s      \n",
            "\n",
            "2024-11-21 14:05:54 (2.03 MB/s) - ‘weighted0.txt.2’ saved [99/99]\n",
            "\n"
          ]
        }
      ]
    },
    {
      "cell_type": "code",
      "source": [
        "%cat weighted0.txt"
      ],
      "metadata": {
        "colab": {
          "base_uri": "https://localhost:8080/"
        },
        "id": "sYnSw5QRCt1m",
        "outputId": "e3fe4b6d-ef1c-4d76-ef0f-c3abea3a1b97"
      },
      "execution_count": 31,
      "outputs": [
        {
          "output_type": "stream",
          "name": "stdout",
          "text": [
            "A B 3\n",
            "A E 10\n",
            "B C 26\n",
            "B D 12\n",
            "C D 17\n",
            "C F 13\n",
            "C G 14\n",
            "D E 7\n",
            "D F 15\n",
            "E F 8\n",
            "E H 4\n",
            "F G 9\n",
            "F H 6\n",
            "G H 16\n",
            "G I 11\n"
          ]
        }
      ]
    },
    {
      "cell_type": "code",
      "source": [
        "wgraph = WeightedGraph.from_edges(\"weighted0.txt\")\n",
        "print(wgraph)"
      ],
      "metadata": {
        "colab": {
          "base_uri": "https://localhost:8080/"
        },
        "id": "DyBhb38CIrlX",
        "outputId": "c08560b7-89db-4528-96dc-f9a5e8062861"
      },
      "execution_count": 50,
      "outputs": [
        {
          "output_type": "stream",
          "name": "stdout",
          "text": [
            "A: B E\n",
            "B: A C D\n",
            "E: A D F H\n",
            "C: B D F G\n",
            "D: B C E F\n",
            "F: C D E G H\n",
            "G: C F H I\n",
            "H: E F G\n",
            "I: G\n",
            "-----------------------\n",
            "A: ('B', 3) ('E', 10)\n",
            "B: ('A', 3) ('C', 26) ('D', 12)\n",
            "E: ('A', 10) ('D', 7) ('F', 8) ('H', 4)\n",
            "C: ('B', 26) ('D', 17) ('F', 13) ('G', 14)\n",
            "D: ('B', 12) ('C', 17) ('E', 7) ('F', 15)\n",
            "F: ('C', 13) ('D', 15) ('E', 8) ('G', 9) ('H', 6)\n",
            "G: ('C', 14) ('F', 9) ('H', 16) ('I', 11)\n",
            "H: ('E', 4) ('F', 6) ('G', 16)\n",
            "I: ('G', 11)\n",
            "\n"
          ]
        }
      ]
    },
    {
      "cell_type": "code",
      "source": [
        "w, wtree = wgraph.min_spanning_tree()\n",
        "print(w)\n",
        "print(wtree)"
      ],
      "metadata": {
        "colab": {
          "base_uri": "https://localhost:8080/"
        },
        "id": "_iVRRpiFL4Ji",
        "outputId": "94975b27-469d-4514-9204-e96d5cb7af53"
      },
      "execution_count": 51,
      "outputs": [
        {
          "output_type": "stream",
          "name": "stdout",
          "text": [
            "63\n",
            "A: B E\n",
            "B: A\n",
            "E: A H D\n",
            "H: E F\n",
            "F: H G C\n",
            "D: E\n",
            "G: F I\n",
            "I: G\n",
            "C: F\n",
            "-----------------------\n",
            "A: ('B', 3) ('E', 10)\n",
            "B: ('A', 3)\n",
            "E: ('A', 10) ('H', 4) ('D', 7)\n",
            "H: ('E', 4) ('F', 6)\n",
            "F: ('H', 6) ('G', 9) ('C', 13)\n",
            "D: ('E', 7)\n",
            "G: ('F', 9) ('I', 11)\n",
            "I: ('G', 11)\n",
            "C: ('F', 13)\n",
            "\n"
          ]
        }
      ]
    },
    {
      "cell_type": "markdown",
      "source": [
        "### Part 5 (Distances via BFS)"
      ],
      "metadata": {
        "id": "XzD1OZWFnSvN"
      }
    },
    {
      "cell_type": "code",
      "source": [
        "%%writefile edges.txt\n",
        "1 2\n",
        "1 3\n",
        "1 6\n",
        "2 4\n",
        "2 5\n",
        "3 5\n",
        "3 6\n",
        "3 7\n",
        "4 5\n",
        "4 8\n",
        "5 7\n",
        "7 8"
      ],
      "metadata": {
        "colab": {
          "base_uri": "https://localhost:8080/"
        },
        "id": "LkhbKOXtnays",
        "outputId": "97f808a3-71b3-4742-cadf-810216b2b43f"
      },
      "execution_count": null,
      "outputs": [
        {
          "output_type": "stream",
          "name": "stdout",
          "text": [
            "Writing edges.txt\n"
          ]
        }
      ]
    },
    {
      "cell_type": "code",
      "source": [
        "graph1 = Graph.from_edges(\"edges.txt\")\n",
        "print(graph1)"
      ],
      "metadata": {
        "colab": {
          "base_uri": "https://localhost:8080/"
        },
        "id": "luGR6Vk_nztu",
        "outputId": "6bfba953-c6d0-44ce-e588-143a430e64e4"
      },
      "execution_count": null,
      "outputs": [
        {
          "output_type": "stream",
          "name": "stdout",
          "text": [
            "1: 2 3 6\n",
            "2: 1 4 5\n",
            "3: 1 5 6 7\n",
            "6: 1 3\n",
            "4: 2 5 8\n",
            "5: 2 3 4 7\n",
            "7: 3 5 8\n",
            "8: 4 7\n",
            "\n"
          ]
        }
      ]
    },
    {
      "cell_type": "code",
      "source": [
        "dist = graph1.distance(\"1\")\n",
        "print(dist)"
      ],
      "metadata": {
        "colab": {
          "base_uri": "https://localhost:8080/"
        },
        "id": "USQkVScqoBlT",
        "outputId": "79fa96d1-22f1-4877-98d4-8466de88a9b0"
      },
      "execution_count": null,
      "outputs": [
        {
          "output_type": "stream",
          "name": "stdout",
          "text": [
            "{'1': 0, '2': 1, '3': 1, '6': 1, '4': 2, '5': 2, '7': 2, '8': 3}\n"
          ]
        }
      ]
    },
    {
      "cell_type": "markdown",
      "source": [
        "#### Milgram's experiment &mdash; Small World Phenomenon\n",
        "\n",
        "We will use graph in $G(n,p)$ (namely $G(2000, 1/300)$) as an illustration."
      ],
      "metadata": {
        "id": "bsvgJqGEodrr"
      }
    },
    {
      "cell_type": "code",
      "source": [
        "# to obey an issue with recursion depth (provided it happens - for Colab now it does not)\n",
        "import sys\n",
        "\n",
        "n = 2000\n",
        "p = 1/300\n",
        "sys.setrecursionlimit(n+5)\n",
        "\n",
        "rgraph = Graph.random_graph(n, p)\n",
        "graph = rgraph.connected_components_graphs()[0]\n",
        "print(len(graph.vertices()))"
      ],
      "metadata": {
        "colab": {
          "base_uri": "https://localhost:8080/"
        },
        "id": "jOOFWpIgoj4U",
        "outputId": "5567ed84-6999-47a6-9ca0-ba7c4f058db5"
      },
      "execution_count": null,
      "outputs": [
        {
          "output_type": "stream",
          "name": "stdout",
          "text": [
            "1995\n"
          ]
        }
      ]
    },
    {
      "cell_type": "code",
      "source": [
        "md = {}\n",
        "ecc = {}\n",
        "for v in graph.vertices():\n",
        "  dist = graph.distance(v)\n",
        "  ecc[v] = max(dist.values())\n",
        "  md[v] = sum(dist.values())/len(dist.values())\n",
        "print(\"Radius: \", min(ecc.values()), \"Diameter: \", max(ecc.values()), \"Average: \", sum(md.values())/len(md.values()))"
      ],
      "metadata": {
        "colab": {
          "base_uri": "https://localhost:8080/"
        },
        "id": "rsHnsv5IrFyN",
        "outputId": "3dc4c672-f945-4337-a40a-8ddb642ee97b"
      },
      "execution_count": null,
      "outputs": [
        {
          "output_type": "stream",
          "name": "stdout",
          "text": [
            "Radius:  5 Diameter:  8 Average:  4.243721082154009\n"
          ]
        }
      ]
    },
    {
      "cell_type": "markdown",
      "source": [
        "### Part 4 (Connected components via DFS)"
      ],
      "metadata": {
        "id": "9LtRwurFnrDe"
      }
    },
    {
      "cell_type": "code",
      "source": [
        "graph1 = Graph.random_graph(100, 1/25)\n",
        "#print(graph1)"
      ],
      "metadata": {
        "id": "XvUw7GUrnyzu"
      },
      "execution_count": null,
      "outputs": []
    },
    {
      "cell_type": "code",
      "source": [
        "print(len(graph1.connected_components()))\n",
        "print(graph1.connected_components())"
      ],
      "metadata": {
        "colab": {
          "base_uri": "https://localhost:8080/"
        },
        "id": "JsEasHHsoEYP",
        "outputId": "a1fb3961-89a0-45cf-c61c-ef8e091befd4"
      },
      "execution_count": null,
      "outputs": [
        {
          "output_type": "stream",
          "name": "stdout",
          "text": [
            "5\n",
            "[{1, 2, 3, 4, 5, 6, 7, 8, 9, 10, 11, 12, 13, 14, 15, 16, 17, 18, 19, 20, 21, 22, 23, 24, 25, 26, 27, 28, 29, 30, 31, 32, 33, 34, 35, 36, 37, 38, 39, 40, 41, 42, 43, 44, 45, 46, 47, 48, 49, 50, 51, 52, 53, 54, 55, 56, 57, 58, 59, 60, 61, 62, 63, 64, 65, 66, 67, 68, 69, 70, 71, 72, 73, 74, 75, 76, 77, 78, 79, 80, 81, 82, 83, 84, 85, 86, 87, 88, 89, 90, 91, 92, 93, 94, 95, 96, 97, 98, 99, 100}, {1, 2, 3, 4, 5, 6, 7, 8, 9, 10, 11, 12, 13, 14, 15, 16, 17, 18, 19, 20, 21, 22, 23, 24, 25, 26, 27, 28, 29, 30, 31, 32, 34, 35, 36, 37, 38, 39, 40, 41, 42, 43, 44, 45, 46, 47, 48, 49, 50, 51, 52, 53, 54, 55, 56, 57, 58, 59, 60, 62, 63, 64, 65, 66, 67, 68, 69, 70, 71, 72, 73, 74, 75, 76, 77, 78, 79, 80, 81, 82, 83, 84, 85, 86, 87, 88, 89, 91, 92, 93, 94, 95, 96, 97, 98, 99, 100}, {33}, {61}, {90}]\n"
          ]
        }
      ]
    },
    {
      "cell_type": "code",
      "source": [
        "graphlist = graph1.connected_components_graphs()\n",
        "print(len(graphlist))"
      ],
      "metadata": {
        "colab": {
          "base_uri": "https://localhost:8080/"
        },
        "id": "VaFih_d1joxb",
        "outputId": "2620e16c-8696-42f0-a503-1d36c39ce49d"
      },
      "execution_count": null,
      "outputs": [
        {
          "output_type": "stream",
          "name": "stdout",
          "text": [
            "4\n"
          ]
        }
      ]
    },
    {
      "cell_type": "code",
      "source": [
        "print(graphlist[0])"
      ],
      "metadata": {
        "colab": {
          "base_uri": "https://localhost:8080/"
        },
        "id": "0tlFcc9jjzgn",
        "outputId": "f2b2d942-d4ec-44b4-f3fe-79fd365ec378"
      },
      "execution_count": null,
      "outputs": [
        {
          "output_type": "stream",
          "name": "stdout",
          "text": [
            "1: 3 28 39\n",
            "2: 14 41 48 52 57 77 85\n",
            "3: 1 4 23 39 89\n",
            "4: 3 10 15 17 25 72 78 92\n",
            "5: 30\n",
            "6: 14 25 34 42 47 74 83\n",
            "7: 25 41 76\n",
            "8: 9 57 94\n",
            "9: 8 28 53 80 83\n",
            "10: 4 19 26 67\n",
            "11: 51\n",
            "12: 15 59 66 70 82\n",
            "13: 25 37 76 83 98\n",
            "14: 2 6 15 28 52 94\n",
            "15: 4 12 14 37 39 67 86\n",
            "16: 28 43 48 63 72\n",
            "17: 4 36 39 45 65 86 94\n",
            "18: 45 75\n",
            "19: 10 20 71\n",
            "20: 19\n",
            "21: 62 72 75 81\n",
            "22: 24 29 40 46 58 80\n",
            "23: 3 78\n",
            "24: 22 31 41\n",
            "25: 4 6 7 13 39 54\n",
            "26: 10 82 84\n",
            "27: 49 70 85\n",
            "28: 1 9 14 16 35\n",
            "29: 22 35 73 77 78 97\n",
            "30: 5 63 67 70\n",
            "31: 24\n",
            "32: 68 97\n",
            "34: 6 54 79\n",
            "35: 28 29 66\n",
            "36: 17\n",
            "37: 13 15 89\n",
            "38: 43\n",
            "39: 1 3 15 17 25 66 98\n",
            "40: 22 55 57\n",
            "41: 2 7 24 60 63 65 77 92 99\n",
            "42: 6 85\n",
            "43: 16 38 75 83 91\n",
            "44: 50 66 74\n",
            "45: 17 18 56\n",
            "46: 22\n",
            "47: 6 53 66\n",
            "48: 2 16 51\n",
            "49: 27 85 96\n",
            "50: 44 84\n",
            "51: 11 48 55 72\n",
            "52: 2 14 100\n",
            "53: 9 47 56 79\n",
            "54: 25 34\n",
            "55: 40 51 69 75\n",
            "56: 45 53 85 86\n",
            "57: 2 8 40 58 71 78 85\n",
            "58: 22 57 76 88\n",
            "59: 12\n",
            "60: 41 68 89\n",
            "62: 21 71 86\n",
            "63: 16 30 41 89\n",
            "64: 77 91\n",
            "65: 17 41 89\n",
            "66: 12 35 39 44 47\n",
            "67: 10 15 30 70\n",
            "68: 32 60 82\n",
            "69: 55\n",
            "70: 12 27 30 67 83\n",
            "71: 19 57 62 75 87\n",
            "72: 4 16 21 51\n",
            "73: 29 78 88\n",
            "74: 6 44 95\n",
            "75: 18 21 43 55 71 82\n",
            "76: 7 13 58\n",
            "77: 2 29 41 64 86\n",
            "78: 4 23 29 57 73 96\n",
            "79: 34 53 84 86\n",
            "80: 9 22 93\n",
            "81: 21 85 98\n",
            "82: 12 26 68 75\n",
            "83: 6 9 13 43 70\n",
            "84: 26 50 79\n",
            "85: 2 27 42 49 56 57 81\n",
            "86: 15 17 56 62 77 79\n",
            "87: 71\n",
            "88: 58 73\n",
            "89: 3 37 60 63 65\n",
            "91: 43 64 97\n",
            "92: 4 41\n",
            "93: 80\n",
            "94: 8 14 17 96\n",
            "95: 74\n",
            "96: 49 78 94\n",
            "97: 29 32 91\n",
            "98: 13 39 81\n",
            "99: 41\n",
            "100: 52\n",
            "\n"
          ]
        }
      ]
    },
    {
      "cell_type": "markdown",
      "source": [
        "### Part 3 (Prufer codes)"
      ],
      "metadata": {
        "id": "_Li4OSBDrp7K"
      }
    },
    {
      "cell_type": "code",
      "source": [
        "%%writefile tree1.txt\n",
        "1 3\n",
        "3 5\n",
        "2 5\n",
        "4 5\n",
        "6 5"
      ],
      "metadata": {
        "colab": {
          "base_uri": "https://localhost:8080/"
        },
        "id": "RFG49rSWryaK",
        "outputId": "9136ba2f-28e1-4190-fba4-b6975fdb5c07"
      },
      "execution_count": null,
      "outputs": [
        {
          "output_type": "stream",
          "name": "stdout",
          "text": [
            "Writing tree1.txt\n"
          ]
        }
      ]
    },
    {
      "cell_type": "code",
      "source": [
        "tree1 = Graph.from_edges(\"tree1.txt\")"
      ],
      "metadata": {
        "id": "MxM8JOw9sR5_"
      },
      "execution_count": null,
      "outputs": []
    },
    {
      "cell_type": "code",
      "source": [
        "print(tree1)"
      ],
      "metadata": {
        "colab": {
          "base_uri": "https://localhost:8080/"
        },
        "id": "uFVlsqDesWeX",
        "outputId": "664eb8df-9333-4403-b9de-1f926079ead0"
      },
      "execution_count": null,
      "outputs": [
        {
          "output_type": "stream",
          "name": "stdout",
          "text": [
            "1: 3\n",
            "3: 1 5\n",
            "5: 3 2 4 6\n",
            "2: 5\n",
            "4: 5\n",
            "6: 5\n",
            "\n"
          ]
        }
      ]
    },
    {
      "cell_type": "code",
      "source": [
        "print(tree1.Prufer())"
      ],
      "metadata": {
        "colab": {
          "base_uri": "https://localhost:8080/"
        },
        "id": "hlcmteDpunm0",
        "outputId": "a10c3054-4cc3-4057-ad20-1a6fe45fa5db"
      },
      "execution_count": null,
      "outputs": [
        {
          "output_type": "stream",
          "name": "stdout",
          "text": [
            "3 5 5 5\n"
          ]
        }
      ]
    },
    {
      "cell_type": "code",
      "source": [
        "print(Graph.tree_from_Prufer(\"3 5 5 5\"))"
      ],
      "metadata": {
        "colab": {
          "base_uri": "https://localhost:8080/"
        },
        "id": "W13ncK5-xiqO",
        "outputId": "466fcd23-08ae-4541-e3dd-7ec5738cb6d5"
      },
      "execution_count": null,
      "outputs": [
        {
          "output_type": "stream",
          "name": "stdout",
          "text": [
            "1: 3\n",
            "2: 5\n",
            "3: 1 5\n",
            "4: 5\n",
            "5: 2 3 4 6\n",
            "6: 5\n",
            "\n"
          ]
        }
      ]
    },
    {
      "cell_type": "code",
      "source": [
        "print(Graph.tree_from_Prufer(\"5 4 3 1\"))"
      ],
      "metadata": {
        "colab": {
          "base_uri": "https://localhost:8080/"
        },
        "id": "TGyO_yEcxpwm",
        "outputId": "497e0f9c-35c7-4592-ce86-758ea0fc4d33"
      },
      "execution_count": null,
      "outputs": [
        {
          "output_type": "stream",
          "name": "stdout",
          "text": [
            "1: 3 6\n",
            "2: 5\n",
            "3: 4 1\n",
            "4: 5 3\n",
            "5: 2 4\n",
            "6: 1\n",
            "\n"
          ]
        }
      ]
    },
    {
      "cell_type": "code",
      "source": [
        "print(Graph.tree_from_Prufer(\"1 1 1 2 3\"))"
      ],
      "metadata": {
        "colab": {
          "base_uri": "https://localhost:8080/"
        },
        "id": "kIMXlvKdxzRQ",
        "outputId": "33337376-6b98-43f8-8b73-cb728af140fb"
      },
      "execution_count": null,
      "outputs": [
        {
          "output_type": "stream",
          "name": "stdout",
          "text": [
            "1: 4 5 6 2\n",
            "2: 1 3\n",
            "3: 2 7\n",
            "4: 1\n",
            "5: 1\n",
            "6: 1\n",
            "7: 3\n",
            "\n"
          ]
        }
      ]
    },
    {
      "cell_type": "markdown",
      "source": [
        "### Part2"
      ],
      "metadata": {
        "id": "8zI4hhs8mnCH"
      }
    },
    {
      "cell_type": "code",
      "source": [
        "%%writefile edges.txt\n",
        "a b\n",
        "b c\n",
        "b d\n",
        "d\n",
        "d c\n",
        "e\n",
        "f\n"
      ],
      "metadata": {
        "colab": {
          "base_uri": "https://localhost:8080/"
        },
        "id": "APWxQBCKmoxT",
        "outputId": "edafb1e5-49ba-4145-85d5-d063350dbb3d"
      },
      "execution_count": null,
      "outputs": [
        {
          "output_type": "stream",
          "name": "stdout",
          "text": [
            "Overwriting edges.txt\n"
          ]
        }
      ]
    },
    {
      "cell_type": "code",
      "source": [
        "%cat edges.txt"
      ],
      "metadata": {
        "colab": {
          "base_uri": "https://localhost:8080/"
        },
        "id": "eR-LAgiBnAPC",
        "outputId": "9193ee15-e8ef-4838-bd40-e51ebfe068b2"
      },
      "execution_count": null,
      "outputs": [
        {
          "output_type": "stream",
          "name": "stdout",
          "text": [
            "a b\n",
            "b c\n",
            "b d\n",
            "d\n",
            "d c\n",
            "e\n",
            "f\n"
          ]
        }
      ]
    },
    {
      "cell_type": "code",
      "source": [
        "graph2 = Graph.from_edges(\"edges.txt\")\n",
        "print(graph2)"
      ],
      "metadata": {
        "colab": {
          "base_uri": "https://localhost:8080/"
        },
        "id": "iMrisHgRnKuO",
        "outputId": "20c3fc4d-e28c-43dc-91bc-f00414dabf9a"
      },
      "execution_count": null,
      "outputs": [
        {
          "output_type": "stream",
          "name": "stdout",
          "text": [
            "a: b\n",
            "b: a c d\n",
            "c: b d\n",
            "d: b c\n",
            "e:\n",
            "f:\n",
            "\n"
          ]
        }
      ]
    },
    {
      "cell_type": "code",
      "source": [
        "graph2.to_neighbourlist(\"neighbourhood.txt\")"
      ],
      "metadata": {
        "id": "r9NGeZi7p1GR"
      },
      "execution_count": null,
      "outputs": []
    },
    {
      "cell_type": "code",
      "source": [
        "%cat \"neighbourhood.txt\""
      ],
      "metadata": {
        "colab": {
          "base_uri": "https://localhost:8080/"
        },
        "id": "nWT3fLVpqHpo",
        "outputId": "93ba03a8-7ac6-40f9-ba40-330c8a625f35"
      },
      "execution_count": null,
      "outputs": [
        {
          "output_type": "stream",
          "name": "stdout",
          "text": [
            "a: b\n",
            "b: a c d\n",
            "c: b d\n",
            "d: b c\n",
            "e:\n",
            "f:\n"
          ]
        }
      ]
    },
    {
      "cell_type": "code",
      "source": [
        "!wget https://github.com/pgordin/GraphsSN2024_1/raw/main/weighted0.txt"
      ],
      "metadata": {
        "id": "OtKrskF-r81d",
        "outputId": "3de2773f-dd24-4d3a-d087-708785283180",
        "colab": {
          "base_uri": "https://localhost:8080/"
        }
      },
      "execution_count": 13,
      "outputs": [
        {
          "output_type": "stream",
          "name": "stdout",
          "text": [
            "--2024-11-21 12:23:07--  https://github.com/pgordin/GraphsSN2024_1/raw/main/weighted0.txt\n",
            "Resolving github.com (github.com)... 140.82.113.4\n",
            "Connecting to github.com (github.com)|140.82.113.4|:443... connected.\n",
            "HTTP request sent, awaiting response... 302 Found\n",
            "Location: https://raw.githubusercontent.com/pgordin/GraphsSN2024_1/main/weighted0.txt [following]\n",
            "--2024-11-21 12:23:07--  https://raw.githubusercontent.com/pgordin/GraphsSN2024_1/main/weighted0.txt\n",
            "Resolving raw.githubusercontent.com (raw.githubusercontent.com)... 185.199.108.133, 185.199.109.133, 185.199.110.133, ...\n",
            "Connecting to raw.githubusercontent.com (raw.githubusercontent.com)|185.199.108.133|:443... connected.\n",
            "HTTP request sent, awaiting response... 200 OK\n",
            "Length: 99 [text/plain]\n",
            "Saving to: ‘weighted0.txt’\n",
            "\n",
            "weighted0.txt       100%[===================>]      99  --.-KB/s    in 0s      \n",
            "\n",
            "2024-11-21 12:23:07 (1.73 MB/s) - ‘weighted0.txt’ saved [99/99]\n",
            "\n"
          ]
        }
      ]
    },
    {
      "cell_type": "code",
      "source": [
        "graph3 = Graph.from_edges(\"weighted0.txt\")\n",
        "print(graph3)"
      ],
      "metadata": {
        "id": "vdKnV3IJsg3U",
        "outputId": "771f8ae7-d315-4672-93dc-04f840dc7300",
        "colab": {
          "base_uri": "https://localhost:8080/"
        }
      },
      "execution_count": null,
      "outputs": [
        {
          "output_type": "stream",
          "name": "stdout",
          "text": [
            "A: B E\n",
            "B: A C D\n",
            "E: A D F H\n",
            "C: B D F G\n",
            "D: B C E F\n",
            "F: C D E G H\n",
            "G: C F H I\n",
            "H: E F G\n",
            "I: G\n",
            "\n"
          ]
        }
      ]
    },
    {
      "cell_type": "code",
      "source": [
        "# it works as well\n",
        "!wget https://raw.githubusercontent.com/pgordin/GraphsSN2024_1/refs/heads/main/weighted0.txt"
      ],
      "metadata": {
        "id": "zlrf9llrtDnL",
        "outputId": "5b4a5279-97ef-4aa9-89c1-b6e376741ac9",
        "colab": {
          "base_uri": "https://localhost:8080/"
        }
      },
      "execution_count": null,
      "outputs": [
        {
          "output_type": "stream",
          "name": "stdout",
          "text": [
            "--2024-11-21 11:31:20--  https://raw.githubusercontent.com/pgordin/GraphsSN2024_1/refs/heads/main/weighted0.txt\n",
            "Resolving raw.githubusercontent.com (raw.githubusercontent.com)... 185.199.109.133, 185.199.110.133, 185.199.108.133, ...\n",
            "Connecting to raw.githubusercontent.com (raw.githubusercontent.com)|185.199.109.133|:443... connected.\n",
            "HTTP request sent, awaiting response... 200 OK\n",
            "Length: 99 [text/plain]\n",
            "Saving to: ‘weighted0.txt.1’\n",
            "\n",
            "weighted0.txt.1     100%[===================>]      99  --.-KB/s    in 0s      \n",
            "\n",
            "2024-11-21 11:31:20 (1.57 MB/s) - ‘weighted0.txt.1’ saved [99/99]\n",
            "\n"
          ]
        }
      ]
    },
    {
      "cell_type": "code",
      "source": [
        "graph4 = Graph.random_graph(10, 1/3)\n",
        "print(graph4)"
      ],
      "metadata": {
        "colab": {
          "base_uri": "https://localhost:8080/"
        },
        "id": "zBiLX0N80Lt-",
        "outputId": "3cddb70c-45d7-4c64-9dad-a6944fb4e3f4"
      },
      "execution_count": null,
      "outputs": [
        {
          "output_type": "stream",
          "name": "stdout",
          "text": [
            "1: 4 8 9\n",
            "2: 3 7 8 9\n",
            "3: 2 5\n",
            "4: 1 6 7 8 10\n",
            "5: 3 7 10\n",
            "6: 4 10\n",
            "7: 2 4 5 8\n",
            "8: 1 2 4 7 10\n",
            "9: 1 2\n",
            "10: 4 5 6 8\n",
            "\n"
          ]
        }
      ]
    },
    {
      "cell_type": "code",
      "source": [
        "print(Graph.cycle(6))"
      ],
      "metadata": {
        "colab": {
          "base_uri": "https://localhost:8080/"
        },
        "id": "E_3Xuype0TRP",
        "outputId": "343becb6-3c74-4451-c4bc-c0f9c68d9c3b"
      },
      "execution_count": null,
      "outputs": [
        {
          "output_type": "stream",
          "name": "stdout",
          "text": [
            "1: 2 6\n",
            "2: 1 3\n",
            "3: 2 4\n",
            "4: 3 5\n",
            "5: 4 6\n",
            "6: 5 1\n",
            "\n"
          ]
        }
      ]
    },
    {
      "cell_type": "markdown",
      "source": [
        "### Part1"
      ],
      "metadata": {
        "id": "M0eanmo5mkjf"
      }
    },
    {
      "cell_type": "code",
      "source": [
        "vertices = [\"a\", \"b\", \"c\", \"d\"]\n",
        "matrix = np.array([[0,1,0,0],[1,0,1,0],[0,1,0,1],[0,0,0,1]])\n",
        "print(vertices)\n",
        "print(matrix)\n",
        "print(\"---------------------------\")\n",
        "print_matrix(vertices, matrix)\n",
        "print(\"---------------------------\")\n",
        "print_matrix(None,matrix)"
      ],
      "metadata": {
        "colab": {
          "base_uri": "https://localhost:8080/"
        },
        "id": "fFt6k4_1MkaO",
        "outputId": "d57e6e2c-f7f8-4d41-8366-eeb4491489c8"
      },
      "execution_count": null,
      "outputs": [
        {
          "output_type": "stream",
          "name": "stdout",
          "text": [
            "['a', 'b', 'c', 'd']\n",
            "[[0 1 0 0]\n",
            " [1 0 1 0]\n",
            " [0 1 0 1]\n",
            " [0 0 0 1]]\n",
            "---------------------------\n",
            "a :  b\n",
            "b :  a  c\n",
            "c :  b  d\n",
            "d :  d\n",
            "---------------------------\n",
            "1 :  2\n",
            "2 :  1  3\n",
            "3 :  2  4\n",
            "4 :  4\n"
          ]
        }
      ]
    },
    {
      "cell_type": "code",
      "source": [
        "graph_dict = {\n",
        "  \"a\": [\"b\"],\n",
        "  \"b\": [\"a\", \"c\"],\n",
        "  \"c\": [\"b\", \"d\"],\n",
        "  \"d\": [\"c\"]\n",
        "}\n",
        "print(graph_dict)\n",
        "print(\"---------------------------\")\n",
        "print_dict(graph_dict)"
      ],
      "metadata": {
        "colab": {
          "base_uri": "https://localhost:8080/"
        },
        "id": "-WN2GXWRO7a-",
        "outputId": "0c7fe679-fa07-4be4-9943-6a301bff1039"
      },
      "execution_count": null,
      "outputs": [
        {
          "output_type": "stream",
          "name": "stdout",
          "text": [
            "{'a': ['b'], 'b': ['a', 'c'], 'c': ['b', 'd'], 'd': ['c']}\n",
            "---------------------------\n",
            "a :  b\n",
            "b :  a  c\n",
            "c :  b  d\n",
            "d :  c\n"
          ]
        }
      ]
    },
    {
      "cell_type": "code",
      "source": [
        "graph1 = Graph.from_matrix(matrix, vertices)\n",
        "print(graph1)"
      ],
      "metadata": {
        "colab": {
          "base_uri": "https://localhost:8080/"
        },
        "id": "X8U18KAaDJzn",
        "outputId": "d7272d9a-14d8-48a5-ee3a-f1085a10a91b"
      },
      "execution_count": null,
      "outputs": [
        {
          "output_type": "stream",
          "name": "stdout",
          "text": [
            "a: b\n",
            "b: a c\n",
            "c: b d\n",
            "d: d\n",
            "\n"
          ]
        }
      ]
    },
    {
      "cell_type": "code",
      "source": [
        "print(Graph(graph_dict))  # the same result"
      ],
      "metadata": {
        "colab": {
          "base_uri": "https://localhost:8080/"
        },
        "id": "Diez_R5gJAvq",
        "outputId": "ce7c6417-d89d-4963-ad5c-94fa9c5e1c3d"
      },
      "execution_count": null,
      "outputs": [
        {
          "output_type": "stream",
          "name": "stdout",
          "text": [
            "a: b\n",
            "b: a c\n",
            "c: b d\n",
            "d: c\n",
            "\n"
          ]
        }
      ]
    },
    {
      "cell_type": "code",
      "source": [
        "print(graph1.vertices())"
      ],
      "metadata": {
        "colab": {
          "base_uri": "https://localhost:8080/"
        },
        "id": "HFejfq6hP4D6",
        "outputId": "c215818c-d321-4999-ea9e-d7dc1e90e55d"
      },
      "execution_count": null,
      "outputs": [
        {
          "output_type": "stream",
          "name": "stdout",
          "text": [
            "['a', 'b', 'c', 'd']\n"
          ]
        }
      ]
    },
    {
      "cell_type": "code",
      "source": [
        "print(graph1.matrix())"
      ],
      "metadata": {
        "colab": {
          "base_uri": "https://localhost:8080/"
        },
        "id": "f2Tgny4gQF4O",
        "outputId": "32faca36-c636-48f8-f9fd-8ee99ebe1249"
      },
      "execution_count": null,
      "outputs": [
        {
          "output_type": "stream",
          "name": "stdout",
          "text": [
            "[[0 1 0 0]\n",
            " [1 0 1 0]\n",
            " [0 1 0 1]\n",
            " [0 0 0 1]]\n"
          ]
        }
      ]
    },
    {
      "cell_type": "code",
      "source": [
        "graph1.add_vertex(\"e\")\n",
        "print(graph1)"
      ],
      "metadata": {
        "colab": {
          "base_uri": "https://localhost:8080/"
        },
        "id": "eSNamb6BTulo",
        "outputId": "44aab9b6-d041-49bd-803f-e199b2941c96"
      },
      "execution_count": null,
      "outputs": [
        {
          "output_type": "stream",
          "name": "stdout",
          "text": [
            "a: b\n",
            "b: a c\n",
            "c: b d\n",
            "d: d\n",
            "e:\n",
            "\n"
          ]
        }
      ]
    },
    {
      "cell_type": "code",
      "source": [
        "graph1.add_edge([\"e\", \"f\"])\n",
        "print(graph1)"
      ],
      "metadata": {
        "colab": {
          "base_uri": "https://localhost:8080/"
        },
        "id": "h20fs6XzT1v3",
        "outputId": "7b2f2c4d-70dc-4a75-b6fd-83954fafa2b9"
      },
      "execution_count": null,
      "outputs": [
        {
          "output_type": "stream",
          "name": "stdout",
          "text": [
            "a: b\n",
            "b: a c\n",
            "c: b d\n",
            "d: d\n",
            "e: f\n",
            "f: e\n",
            "\n"
          ]
        }
      ]
    },
    {
      "cell_type": "code",
      "source": [
        "graph1.add_arc([\"e\", \"a\"])  # breaking the symmetry\n",
        "print(graph1)"
      ],
      "metadata": {
        "colab": {
          "base_uri": "https://localhost:8080/"
        },
        "id": "NTRLKliDT9mR",
        "outputId": "c6488ba9-7379-4494-9a73-8e6015edc7d3"
      },
      "execution_count": null,
      "outputs": [
        {
          "output_type": "stream",
          "name": "stdout",
          "text": [
            "a: b\n",
            "b: a c\n",
            "c: b d\n",
            "d: d\n",
            "e: f a\n",
            "f: e\n",
            "\n"
          ]
        }
      ]
    },
    {
      "cell_type": "code",
      "source": [
        "graph1.add_edge([\"e\", \"a\"])  # restoring the symmetry\n",
        "print(graph1)"
      ],
      "metadata": {
        "colab": {
          "base_uri": "https://localhost:8080/"
        },
        "id": "qplimjtMUGPN",
        "outputId": "3549634d-59a3-48ef-b0ca-9795df93dd4c"
      },
      "execution_count": null,
      "outputs": [
        {
          "output_type": "stream",
          "name": "stdout",
          "text": [
            "a: b e\n",
            "b: a c\n",
            "c: b d\n",
            "d: d\n",
            "e: f a\n",
            "f: e\n",
            "\n"
          ]
        }
      ]
    },
    {
      "cell_type": "code",
      "source": [
        "graph1.add_edge([\"e\", \"f\"]) # do nothing, an edge already exists\n",
        "print(graph1)"
      ],
      "metadata": {
        "colab": {
          "base_uri": "https://localhost:8080/"
        },
        "id": "GuEBCTrUUM1V",
        "outputId": "02841edc-3d94-4a17-fdc4-8fc0d6c216c7"
      },
      "execution_count": null,
      "outputs": [
        {
          "output_type": "stream",
          "name": "stdout",
          "text": [
            "a: b e\n",
            "b: a c\n",
            "c: b d\n",
            "d: d\n",
            "e: f a\n",
            "f: e\n",
            "\n"
          ]
        }
      ]
    },
    {
      "cell_type": "code",
      "source": [
        "graph1.del_vertex(\"f\")  # removing a vertex\n",
        "print(graph1)"
      ],
      "metadata": {
        "colab": {
          "base_uri": "https://localhost:8080/"
        },
        "id": "XLQ1qcCAu7ie",
        "outputId": "b24f43e6-6330-4b6f-b9ae-1af677141c5d"
      },
      "execution_count": null,
      "outputs": [
        {
          "output_type": "stream",
          "name": "stdout",
          "text": [
            "a: b e\n",
            "b: a c\n",
            "c: b d\n",
            "d: d\n",
            "e: a\n",
            "\n"
          ]
        }
      ]
    },
    {
      "cell_type": "code",
      "source": [
        "graph1.add_edge([\"e\", \"e\"]) # an error"
      ],
      "metadata": {
        "colab": {
          "base_uri": "https://localhost:8080/",
          "height": 269
        },
        "id": "H16ojmt5UWKW",
        "outputId": "c5c7e19f-fa08-4056-d2f2-14efa854517f"
      },
      "execution_count": null,
      "outputs": [
        {
          "output_type": "error",
          "ename": "ValueError",
          "evalue": "Loops are not allowed!",
          "traceback": [
            "\u001b[0;31m---------------------------------------------------------------------------\u001b[0m",
            "\u001b[0;31mValueError\u001b[0m                                Traceback (most recent call last)",
            "\u001b[0;32m<ipython-input-42-3a6861681e28>\u001b[0m in \u001b[0;36m<cell line: 1>\u001b[0;34m()\u001b[0m\n\u001b[0;32m----> 1\u001b[0;31m \u001b[0mgraph1\u001b[0m\u001b[0;34m.\u001b[0m\u001b[0madd_edge\u001b[0m\u001b[0;34m(\u001b[0m\u001b[0;34m[\u001b[0m\u001b[0;34m\"e\"\u001b[0m\u001b[0;34m,\u001b[0m \u001b[0;34m\"e\"\u001b[0m\u001b[0;34m]\u001b[0m\u001b[0;34m)\u001b[0m \u001b[0;31m# an error\u001b[0m\u001b[0;34m\u001b[0m\u001b[0;34m\u001b[0m\u001b[0m\n\u001b[0m",
            "\u001b[0;32m<ipython-input-3-4868f59d073b>\u001b[0m in \u001b[0;36madd_edge\u001b[0;34m(self, edge)\u001b[0m\n\u001b[1;32m    110\u001b[0m         \u001b[0mu\u001b[0m\u001b[0;34m,\u001b[0m \u001b[0mv\u001b[0m \u001b[0;34m=\u001b[0m \u001b[0medge\u001b[0m\u001b[0;34m\u001b[0m\u001b[0;34m\u001b[0m\u001b[0m\n\u001b[1;32m    111\u001b[0m         \u001b[0;32mif\u001b[0m \u001b[0mu\u001b[0m \u001b[0;34m==\u001b[0m \u001b[0mv\u001b[0m\u001b[0;34m:\u001b[0m\u001b[0;34m\u001b[0m\u001b[0;34m\u001b[0m\u001b[0m\n\u001b[0;32m--> 112\u001b[0;31m             \u001b[0;32mraise\u001b[0m \u001b[0mValueError\u001b[0m\u001b[0;34m(\u001b[0m\u001b[0;34m\"Loops are not allowed!\"\u001b[0m\u001b[0;34m)\u001b[0m\u001b[0;34m\u001b[0m\u001b[0;34m\u001b[0m\u001b[0m\n\u001b[0m\u001b[1;32m    113\u001b[0m         \u001b[0mself\u001b[0m\u001b[0;34m.\u001b[0m\u001b[0madd_vertex\u001b[0m\u001b[0;34m(\u001b[0m\u001b[0mu\u001b[0m\u001b[0;34m)\u001b[0m\u001b[0;34m\u001b[0m\u001b[0;34m\u001b[0m\u001b[0m\n\u001b[1;32m    114\u001b[0m         \u001b[0mself\u001b[0m\u001b[0;34m.\u001b[0m\u001b[0madd_vertex\u001b[0m\u001b[0;34m(\u001b[0m\u001b[0mv\u001b[0m\u001b[0;34m)\u001b[0m\u001b[0;34m\u001b[0m\u001b[0;34m\u001b[0m\u001b[0m\n",
            "\u001b[0;31mValueError\u001b[0m: Loops are not allowed!"
          ]
        }
      ]
    },
    {
      "cell_type": "code",
      "source": [
        "graph1.add_arc([\"e\", \"e\"]) # OK - loops are allowed in digraphs\n",
        "print(graph1)"
      ],
      "metadata": {
        "id": "OJsBnowmUdQe"
      },
      "execution_count": null,
      "outputs": []
    },
    {
      "cell_type": "code",
      "source": [
        "print(Graph.cycle(6))"
      ],
      "metadata": {
        "id": "sE1ahsXaDUsb"
      },
      "execution_count": null,
      "outputs": []
    },
    {
      "cell_type": "code",
      "source": [
        "#  1. preorder(v) and postorder(v) Functions\n",
        "\n",
        "# In[2]:\n",
        "\n",
        "\n",
        "# In preorder, we visit the current node first, then recursively visit each child node.\n",
        "\n",
        "def preorder(v, tree, visited=None):\n",
        "    if visited is None:\n",
        "        visited = set()\n",
        "    visited.add(v)\n",
        "    print(v, end=' ')\n",
        "    for neighbor in tree[v]:\n",
        "        if neighbor not in visited:\n",
        "            preorder(neighbor, tree, visited)\n",
        "\n",
        "#In postorder, we visit all child nodes before visiting the current node.\n",
        "def postorder(v, tree, visited=None):\n",
        "    if visited is None:\n",
        "        visited = set()\n",
        "    visited.add(v)\n",
        "    for neighbor in tree[v]:\n",
        "        if neighbor not in visited:\n",
        "            postorder(neighbor, tree, visited)\n",
        "    print(v, end=' ')\n",
        "\n",
        "tree = {\n",
        "    1: [2, 3],\n",
        "    2: [4, 5],\n",
        "    3: [],\n",
        "    4: [],\n",
        "    5: []\n",
        "}\n",
        "print(\"Preorder traversal:\")\n",
        "preorder(1, tree)\n",
        "print(\"\\n\")  # Adds a newline for readability\n",
        "\n",
        "print(\"Postorder traversal:\")\n",
        "postorder(1, tree)\n",
        "print(\"\\n\")\n"
      ],
      "metadata": {
        "id": "JWwtyDG7ddQe"
      },
      "execution_count": null,
      "outputs": []
    }
  ]
}
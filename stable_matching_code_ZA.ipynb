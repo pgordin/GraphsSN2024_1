{
  "nbformat": 4,
  "nbformat_minor": 0,
  "metadata": {
    "colab": {
      "provenance": []
    },
    "kernelspec": {
      "name": "python3",
      "display_name": "Python 3"
    },
    "language_info": {
      "name": "python"
    }
  },
  "cells": [
    {
      "cell_type": "code",
      "execution_count": null,
      "metadata": {
        "colab": {
          "base_uri": "https://localhost:8080/"
        },
        "id": "M4xsC5x4FPOG",
        "outputId": "4017d953-e2e3-4cea-9000-5f71643eb65c"
      },
      "outputs": [
        {
          "output_type": "stream",
          "name": "stdout",
          "text": [
            "Stable Matching: {'Student1': 'Promoter1', 'Student2': 'Promoter2', 'Student3': 'Promoter3'}\n"
          ]
        }
      ],
      "source": [
        "def stable_matching(students_preferences, promoters_preferences):\n",
        "    \"\"\"\n",
        "    Implements the Gale-Shapley algorithm to find a stable matching.\n",
        "\n",
        "    Parameters:\n",
        "        students_preferences (dict): A dictionary where keys are students' names and values are lists of promoters' names in preference order.\n",
        "        promoters_preferences (dict): A dictionary where keys are promoters' names and values are lists of students' names in preference order.\n",
        "\n",
        "    Returns:\n",
        "        dict: A dictionary representing the stable matching, where keys are students' names and values are their matched promoters.\n",
        "    \"\"\"\n",
        "    # Free students and their preferences\n",
        "    free_students = list(students_preferences.keys())\n",
        "    proposals = {student: [] for student in students_preferences}  # Track proposals made by each student\n",
        "    matches = {}  # Current matches for promoters\n",
        "\n",
        "    # Reverse preference lists for quick lookup\n",
        "    promoters_rankings = {\n",
        "        promoter: {student: rank for rank, student in enumerate(preferences)}\n",
        "        for promoter, preferences in promoters_preferences.items()\n",
        "    }\n",
        "\n",
        "    while free_students:\n",
        "        student = free_students.pop(0)  # Get the first free student\n",
        "\n",
        "        # Find the highest-ranked promoter to whom they have not yet proposed\n",
        "        promoter = next(\n",
        "            p for p in students_preferences[student] if p not in proposals[student]\n",
        "        )\n",
        "\n",
        "        # Mark that the student has proposed to this promoter\n",
        "        proposals[student].append(promoter)\n",
        "\n",
        "        # Check if the promoter is unmatched\n",
        "        if promoter not in matches:\n",
        "            matches[promoter] = student  # Engage the student and the promoter\n",
        "        else:\n",
        "            # Compare the current match with the new proposal\n",
        "            current_match = matches[promoter]\n",
        "            if promoters_rankings[promoter][student] < promoters_rankings[promoter][current_match]:\n",
        "                # Promoter prefers the new student; update matches\n",
        "                matches[promoter] = student\n",
        "                free_students.append(current_match)  # The current match becomes free\n",
        "            else:\n",
        "                # Promoter prefers their current match; the student remains free\n",
        "                free_students.append(student)\n",
        "\n",
        "    # Convert matches to student-centric format\n",
        "    stable_matching = {student: promoter for promoter, student in matches.items()}\n",
        "    return stable_matching\n",
        "\n",
        "# Example input\n",
        "students_preferences = {\n",
        "    \"Student1\": [\"Promoter1\", \"Promoter2\", \"Promoter3\"],\n",
        "    \"Student2\": [\"Promoter2\", \"Promoter1\", \"Promoter3\"],\n",
        "    \"Student3\": [\"Promoter1\", \"Promoter3\", \"Promoter2\"],\n",
        "}\n",
        "\n",
        "promoters_preferences = {\n",
        "    \"Promoter1\": [\"Student2\", \"Student1\", \"Student3\"],\n",
        "    \"Promoter2\": [\"Student1\", \"Student3\", \"Student2\"],\n",
        "    \"Promoter3\": [\"Student2\", \"Student2\", \"Student2\"],\n",
        "}\n",
        "\n",
        "# Find the stable matching\n",
        "result = stable_matching(students_preferences, promoters_preferences)\n",
        "print(\"Stable Matching:\", result)\n",
        "\n"
      ]
    }
  ]
}
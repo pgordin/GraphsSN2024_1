{
  "nbformat": 4,
  "nbformat_minor": 0,
  "metadata": {
    "colab": {
      "provenance": []
    },
    "kernelspec": {
      "name": "python3",
      "display_name": "Python 3"
    },
    "language_info": {
      "name": "python"
    }
  },
  "cells": [
    {
      "cell_type": "markdown",
      "source": [
        "Package import."
      ],
      "metadata": {
        "id": "o6cctVaGKn9n"
      }
    },
    {
      "cell_type": "code",
      "execution_count": null,
      "metadata": {
        "id": "OAkHMz2jKTzm"
      },
      "outputs": [],
      "source": [
        "import numpy as np\n",
        "from random import random, seed"
      ]
    },
    {
      "cell_type": "markdown",
      "source": [
        "## Graph functions"
      ],
      "metadata": {
        "id": "2WMNx_ldK23O"
      }
    },
    {
      "cell_type": "code",
      "source": [
        "#Esta función se encarga de imprimir un grafo representado por una matriz de adyacencia. Aquí hay un desglose de su funcionamiento\n",
        "def print_matrix(vertices, matrix):\n",
        "  #le damos los vertices(Una lista que representa los nombres o identificadores de los vértices del grafo) y matrix (Una matriz que representa las conexiones entre los vértices. Si matrix[i][j] es True, significa que hay una conexión (arista) entre el vértice i y el vértice j)\n",
        "  \"\"\"\n",
        "  Printing a graph given by adjacency matrix\n",
        "  \"\"\"\n",
        "  n = len(matrix) #con esto obtengo el num de vertices = tamaño matriz (aqui hacemos la comprobacion len(vertices) == n)\n",
        "  if (vertices is not None) and (len(vertices) == n):\n",
        "    vv = vertices\n",
        "  else:\n",
        "    vv = range(1, n+1)\n",
        "  for i in range(n):\n",
        "    #lo de end=\"\" es para que no salte de linea\n",
        "    print(vv[i], \":\", end=\"\")\n",
        "    for j in range(n):\n",
        "      #verificamos si hay conexiones (aristas) a otros vertices\n",
        "      if matrix[i, j]:\n",
        "        print(\" \", vv[j], end=\"\")\n",
        "    print(\"\")\n",
        "\n",
        "#el va a usar la primera\n",
        "def print_graph(graph):\n",
        "  \"\"\"\n",
        "  Printing of a graph (given as a dictionary/neighbouring list)\n",
        "  \"\"\"\n",
        "  for v in graph:\n",
        "    print(v, \":\", end=\"\") #ponemos lo del end para que no salte de linea\n",
        "    for u in graph[v]:\n",
        "      print(\" \", u, end=\"\")\n",
        "    print(\"\")"
      ],
      "metadata": {
        "id": "a5x2lBIQK70Y"
      },
      "execution_count": null,
      "outputs": []
    },
    {
      "cell_type": "markdown",
      "source": [
        "## Making and modyfing graphs"
      ],
      "metadata": {
        "id": "24U-tYGgP1_E"
      }
    },
    {
      "cell_type": "code",
      "source": [
        "def add_vertex(graph, vertex):\n",
        "  \"\"\"\n",
        "  Add a new vertex to an existing graph\n",
        "  \"\"\"\n",
        "  if vertex not in graph:\n",
        "    #Si el vértice no está, se añade al diccionario con graph[vertex] = [], inicializando su lista de conexiones (adyacencias) como vacía.\n",
        "    graph[vertex] = []\n",
        "\n",
        "def add_arc(graph, arc):\n",
        "  #arc: Una tupla que contiene dos vértices, (u, v), donde u es el vértice de origen y v es el vértice de destino\n",
        "  #agrega un arco (una conexión direccional) entre dos vértices en un grafo dirigido\n",
        "  \"\"\"\n",
        "  Given pair of vertices (arc variable) add an arc to an existing graph\n",
        "  We consider simple, directed graphs.\n",
        "  \"\"\"\n",
        "  u, v = arc #descomponemos la tupla arc en los vertices u y v\n",
        "  add_vertex(graph, u)  #nos aseguramos de que ambos vertices existen en el grafo\n",
        "  add_vertex(graph, v)\n",
        "  if v not in graph[u]: #Verifica si v no está ya en la lista de adyacencias de u\n",
        "    graph[u].append(v)\n",
        "\n",
        "def add_edge(graph, edge):\n",
        "  # agrega una arista (una conexión bidireccional) entre dos vértices en un grafo no dirigido.\n",
        "  # edge: Una tupla que contiene dos vértices, (u, v).\n",
        "  \"\"\"\n",
        "  Given pair of vertices (edge variable) add an edge to existing graph.\n",
        "  We consider simple, undirected graphs, as symmetric digraphs without loops.\n",
        "  \"\"\"\n",
        "  u, v = edge\n",
        "  add_vertex(graph, u)\n",
        "  add_vertex(graph, v)\n",
        "  if u == v:\n",
        "    raise ValueError(\"A loop created!\")\n",
        "  if v not in graph[u]:\n",
        "    graph[u].append(v)\n",
        "  if u not in graph[v]:\n",
        "    graph[v].append(u)\n"
      ],
      "metadata": {
        "id": "2bkaB36xP5ZR"
      },
      "execution_count": null,
      "outputs": []
    },
    {
      "cell_type": "markdown",
      "source": [
        "## Use of code"
      ],
      "metadata": {
        "id": "6_YyQKrIMi_C"
      }
    },
    {
      "cell_type": "code",
      "source": [
        "vertices = [\"a\", \"b\", \"c\", \"d\"]\n",
        "matrix = np.array([[0,1,0,0],[1,0,1,0],[0,1,0,1],[0,0,0,1]])\n",
        "print(vertices)\n",
        "print(matrix)\n",
        "print(\"---------------------------\")\n",
        "print_matrix(vertices, matrix)\n",
        "print(\"---------------------------\")\n",
        "print_matrix(None,matrix)"
      ],
      "metadata": {
        "colab": {
          "base_uri": "https://localhost:8080/"
        },
        "id": "fFt6k4_1MkaO",
        "outputId": "1d2bca55-efe8-47fa-dd5c-7f2749a17c7c"
      },
      "execution_count": null,
      "outputs": [
        {
          "output_type": "stream",
          "name": "stdout",
          "text": [
            "['a', 'b', 'c', 'd']\n",
            "[[0 1 0 0]\n",
            " [1 0 1 0]\n",
            " [0 1 0 1]\n",
            " [0 0 0 1]]\n",
            "---------------------------\n",
            "a :  b\n",
            "b :  a  c\n",
            "c :  b  d\n",
            "d :  d\n",
            "---------------------------\n",
            "1 :  2\n",
            "2 :  1  3\n",
            "3 :  2  4\n",
            "4 :  4\n"
          ]
        }
      ]
    },
    {
      "cell_type": "code",
      "source": [
        "graph = {\n",
        "  \"a\": [\"b\"],\n",
        "  \"b\": [\"a\", \"c\"],\n",
        "  \"c\": [\"b\", \"d\"],\n",
        "  \"d\": [\"c\"]\n",
        "}\n",
        "print(graph)\n",
        "print(\"---------------------------\")\n",
        "print_graph(graph)"
      ],
      "metadata": {
        "colab": {
          "base_uri": "https://localhost:8080/"
        },
        "id": "-WN2GXWRO7a-",
        "outputId": "7da55948-b2f1-493b-e6aa-0a2dacb92a4d"
      },
      "execution_count": null,
      "outputs": [
        {
          "output_type": "stream",
          "name": "stdout",
          "text": [
            "{'a': ['b'], 'b': ['a', 'c'], 'c': ['b', 'd'], 'd': ['c']}\n",
            "---------------------------\n",
            "a :  b\n",
            "b :  a  c\n",
            "c :  b  d\n",
            "d :  c\n"
          ]
        }
      ]
    },
    {
      "cell_type": "code",
      "source": [
        "add_vertex(graph, \"e\")\n",
        "print_graph(graph)"
      ],
      "metadata": {
        "colab": {
          "base_uri": "https://localhost:8080/"
        },
        "id": "eSNamb6BTulo",
        "outputId": "18f4f3d3-ae56-4d21-8cb6-841f7d026ba1"
      },
      "execution_count": null,
      "outputs": [
        {
          "output_type": "stream",
          "name": "stdout",
          "text": [
            "a :  b\n",
            "b :  a  c\n",
            "c :  b  d\n",
            "d :  c\n",
            "e :\n"
          ]
        }
      ]
    },
    {
      "cell_type": "code",
      "source": [
        "add_edge(graph, [\"e\", \"f\"])\n",
        "print_graph(graph)"
      ],
      "metadata": {
        "colab": {
          "base_uri": "https://localhost:8080/"
        },
        "id": "h20fs6XzT1v3",
        "outputId": "60b94a6a-8fe3-41ad-88da-39efd9837eef"
      },
      "execution_count": null,
      "outputs": [
        {
          "output_type": "stream",
          "name": "stdout",
          "text": [
            "a :  b\n",
            "b :  a  c\n",
            "c :  b  d\n",
            "d :  c\n",
            "e :  f\n",
            "f :  e\n"
          ]
        }
      ]
    },
    {
      "cell_type": "code",
      "source": [
        "add_arc(graph, [\"e\", \"a\"]) # breaking the symmetry\n",
        "print_graph(graph)"
      ],
      "metadata": {
        "colab": {
          "base_uri": "https://localhost:8080/"
        },
        "id": "NTRLKliDT9mR",
        "outputId": "b05ac723-956b-4e7b-f10d-8d6b092fd280"
      },
      "execution_count": null,
      "outputs": [
        {
          "output_type": "stream",
          "name": "stdout",
          "text": [
            "a :  b\n",
            "b :  a  c\n",
            "c :  b  d\n",
            "d :  c\n",
            "e :  f  a\n",
            "f :  e\n"
          ]
        }
      ]
    },
    {
      "cell_type": "code",
      "source": [
        "add_arc(graph, [\"a\", \"e\"]) # restoring the symmetry\n",
        "print_graph(graph)"
      ],
      "metadata": {
        "colab": {
          "base_uri": "https://localhost:8080/"
        },
        "id": "qplimjtMUGPN",
        "outputId": "1a219f85-dc54-445b-b55b-9ecdc03d911b"
      },
      "execution_count": null,
      "outputs": [
        {
          "output_type": "stream",
          "name": "stdout",
          "text": [
            "a :  b  e\n",
            "b :  a  c\n",
            "c :  b  d\n",
            "d :  c\n",
            "e :  f  a\n",
            "f :  e\n"
          ]
        }
      ]
    },
    {
      "cell_type": "code",
      "source": [
        "add_edge(graph, [\"e\", \"f\"]) # do nothing, an edge already exists\n",
        "print_graph(graph)"
      ],
      "metadata": {
        "colab": {
          "base_uri": "https://localhost:8080/"
        },
        "id": "GuEBCTrUUM1V",
        "outputId": "74041767-6ec4-4020-bcc2-3e663192ebb2"
      },
      "execution_count": null,
      "outputs": [
        {
          "output_type": "stream",
          "name": "stdout",
          "text": [
            "a :  b  e\n",
            "b :  a  c\n",
            "c :  b  d\n",
            "d :  c\n",
            "e :  f  a\n",
            "f :  e\n"
          ]
        }
      ]
    },
    {
      "cell_type": "code",
      "source": [
        "add_edge(graph, [\"e\", \"e\"]) # an error"
      ],
      "metadata": {
        "colab": {
          "base_uri": "https://localhost:8080/",
          "height": 274
        },
        "id": "H16ojmt5UWKW",
        "outputId": "c79af26e-4870-4e33-a94c-38df01ea0e80"
      },
      "execution_count": null,
      "outputs": [
        {
          "output_type": "error",
          "ename": "ValueError",
          "evalue": "A loop created!",
          "traceback": [
            "\u001b[0;31m---------------------------------------------------------------------------\u001b[0m",
            "\u001b[0;31mValueError\u001b[0m                                Traceback (most recent call last)",
            "\u001b[0;32m<ipython-input-34-7f190627ee01>\u001b[0m in \u001b[0;36m<cell line: 1>\u001b[0;34m()\u001b[0m\n\u001b[0;32m----> 1\u001b[0;31m \u001b[0madd_edge\u001b[0m\u001b[0;34m(\u001b[0m\u001b[0mgraph\u001b[0m\u001b[0;34m,\u001b[0m \u001b[0;34m[\u001b[0m\u001b[0;34m\"e\"\u001b[0m\u001b[0;34m,\u001b[0m \u001b[0;34m\"e\"\u001b[0m\u001b[0;34m]\u001b[0m\u001b[0;34m)\u001b[0m \u001b[0;31m# an error\u001b[0m\u001b[0;34m\u001b[0m\u001b[0;34m\u001b[0m\u001b[0m\n\u001b[0m",
            "\u001b[0;32m<ipython-input-26-7223ceea34a4>\u001b[0m in \u001b[0;36madd_edge\u001b[0;34m(graph, edge)\u001b[0m\n\u001b[1;32m     31\u001b[0m   \u001b[0madd_vertex\u001b[0m\u001b[0;34m(\u001b[0m\u001b[0mgraph\u001b[0m\u001b[0;34m,\u001b[0m \u001b[0mv\u001b[0m\u001b[0;34m)\u001b[0m\u001b[0;34m\u001b[0m\u001b[0;34m\u001b[0m\u001b[0m\n\u001b[1;32m     32\u001b[0m   \u001b[0;32mif\u001b[0m \u001b[0mu\u001b[0m \u001b[0;34m==\u001b[0m \u001b[0mv\u001b[0m\u001b[0;34m:\u001b[0m\u001b[0;34m\u001b[0m\u001b[0;34m\u001b[0m\u001b[0m\n\u001b[0;32m---> 33\u001b[0;31m     \u001b[0;32mraise\u001b[0m \u001b[0mValueError\u001b[0m\u001b[0;34m(\u001b[0m\u001b[0;34m\"A loop created!\"\u001b[0m\u001b[0;34m)\u001b[0m\u001b[0;34m\u001b[0m\u001b[0;34m\u001b[0m\u001b[0m\n\u001b[0m\u001b[1;32m     34\u001b[0m   \u001b[0;32mif\u001b[0m \u001b[0mv\u001b[0m \u001b[0;32mnot\u001b[0m \u001b[0;32min\u001b[0m \u001b[0mgraph\u001b[0m\u001b[0;34m[\u001b[0m\u001b[0mu\u001b[0m\u001b[0;34m]\u001b[0m\u001b[0;34m:\u001b[0m\u001b[0;34m\u001b[0m\u001b[0;34m\u001b[0m\u001b[0m\n\u001b[1;32m     35\u001b[0m     \u001b[0mgraph\u001b[0m\u001b[0;34m[\u001b[0m\u001b[0mu\u001b[0m\u001b[0;34m]\u001b[0m\u001b[0;34m.\u001b[0m\u001b[0mappend\u001b[0m\u001b[0;34m(\u001b[0m\u001b[0mv\u001b[0m\u001b[0;34m)\u001b[0m\u001b[0;34m\u001b[0m\u001b[0;34m\u001b[0m\u001b[0m\n",
            "\u001b[0;31mValueError\u001b[0m: A loop created!"
          ]
        }
      ]
    },
    {
      "cell_type": "code",
      "source": [
        "add_arc(graph, [\"e\", \"e\"]) # OK - loops are allowed in digraphs\n",
        "print_graph(graph)"
      ],
      "metadata": {
        "id": "OJsBnowmUdQe",
        "colab": {
          "base_uri": "https://localhost:8080/"
        },
        "outputId": "da243288-fa0b-497f-a361-07821e114be0"
      },
      "execution_count": null,
      "outputs": [
        {
          "output_type": "stream",
          "name": "stdout",
          "text": [
            "a :  b  e\n",
            "b :  a  c\n",
            "c :  b  d\n",
            "d :  c\n",
            "e :  f  a  e\n",
            "f :  e\n"
          ]
        }
      ]
    },
    {
      "cell_type": "markdown",
      "source": [
        "## Random graphs generator in a $G(n,p)$ model."
      ],
      "metadata": {
        "id": "OCAyaxkxU_S0"
      }
    },
    {
      "cell_type": "code",
      "source": [
        "# for repeatness\n",
        "seed(2024)"
      ],
      "metadata": {
        "id": "9Yb_KmFOUowQ"
      },
      "execution_count": null,
      "outputs": []
    },
    {
      "cell_type": "code",
      "source": [
        "#draw a graph G(10, 1/3)\n",
        "n = 10\n",
        "p = 1/3\n",
        "random_graph = {}\n",
        "for i in range(1, n+1):\n",
        "  add_vertex(random_graph, i)\n",
        "  for j in range(1, i):\n",
        "    if random() < p:\n",
        "      add_edge(random_graph, [i, j])\n",
        "\n",
        "print_graph(random_graph)"
      ],
      "metadata": {
        "id": "grwKrYbiVNe8",
        "colab": {
          "base_uri": "https://localhost:8080/"
        },
        "outputId": "551fb651-a23a-4e1e-ef66-a7131977397e"
      },
      "execution_count": null,
      "outputs": [
        {
          "output_type": "stream",
          "name": "stdout",
          "text": [
            "1 :  5  10\n",
            "2 :  3  5  9  10\n",
            "3 :  2  8\n",
            "4 :  6  7  8  10\n",
            "5 :  1  2  10\n",
            "6 :  4  8  10\n",
            "7 :  4  9  10\n",
            "8 :  3  4  6\n",
            "9 :  2  7\n",
            "10 :  1  2  4  5  6  7\n"
          ]
        }
      ]
    },
    {
      "cell_type": "markdown",
      "source": [
        "## Lat task 1 (creating and modifying graphs)"
      ],
      "metadata": {
        "id": "lCjXhibGrlPt"
      }
    },
    {
      "cell_type": "code",
      "source": [
        "#Write a function random_graph(n, p), which returns a random graph in G(n, p) model — n vertices, an existence of each edge is independent and holds with probability p.\n",
        "#Escribe una función random_graph(n, p), que devuelve un grafo aleatorio en el modelo 𝐺(𝑛,𝑝): n vértices, donde la existencia de cada arista es independiente y se mantiene con probabilidad 𝑝\n",
        "def random_graph(n, p):\n",
        "    graph = {}\n",
        "    for i in range(n):\n",
        "      ##Se añade al diccionario con graph[i] = [], inicializando su lista de conexiones (adyacencias) como vacía.\n",
        "        graph[i] = []\n",
        "\n",
        "    for u in range(n):\n",
        "        for v in range(u + 1, n):  # Evitamos el contar doblemente con lo de +1\n",
        "            if random() < p:\n",
        "                graph[u].append(v)\n",
        "                graph[v].append(u)\n",
        "\n",
        "    return graph"
      ],
      "metadata": {
        "id": "hOQSHO3I_c9U"
      },
      "execution_count": null,
      "outputs": []
    },
    {
      "cell_type": "code",
      "source": [
        "#Write a function graph_to_matrix(graph), which converts a graph given by neighbour list into matrix representation and returns a matrix and a sequence of vertices.\n",
        "#Escribe una función graph_to_matrix(graph), que convierte un grafo dado en forma de lista de adyacencia en una representación de matriz y devuelve una matriz y una secuencia de vértices.\n",
        "\n",
        "'''\n",
        "#Function with pure adjacency list\n",
        "def graph_to_matrix(graph):\n",
        "    n = len(graph)\n",
        "    matrix = np.zeros((n, n), dtype=int)\n",
        "\n",
        "    for i in range(n):\n",
        "        for neighbor in graph[i]:\n",
        "            matrix[i][neighbor] = 1  # Ponemos un 1 para marcar\n",
        "\n",
        "    return matrix, list(range(n))\n",
        "\n",
        "#list(range(n)) genera una lista de números enteros que van desde 0 hasta n-1\n",
        "'''\n",
        "\n",
        "#Function with neighbour list (python dictionary)\n",
        "def graph_to_matrix(graph):\n",
        "    vertices = list(graph.keys())\n",
        "    n = len(vertices)\n",
        "    matrix = np.zeros((n, n), dtype=int)\n",
        "\n",
        "    for i in range(n):\n",
        "        for neighbor in graph[vertices[i]]:\n",
        "            matrix[i][neighbor] = 1  #Ponemos un 1 para marcar\n",
        "\n",
        "    return matrix, vertices"
      ],
      "metadata": {
        "id": "mq8Kan8hAZ-f"
      },
      "execution_count": null,
      "outputs": []
    },
    {
      "cell_type": "code",
      "source": [
        "#Write a function matrix_to_graph(vertices, matrix) which converts in the opposite direction — convertiing a matrix (and a sequence of vertex labels) into a form of neighbour list (python dictionary).\n",
        "#Escribe una función matrix_to_graph(vertices, matrix), que convierte en la dirección opuesta: convirtiendo una matriz (y una secuencia de etiquetas de vértices) en una forma de lista de adyacencia (diccionario en Python).\n",
        "\n",
        "def matrix_to_graph(vertices, matrix):\n",
        "    graph = {vertex: [] for vertex in vertices}\n",
        "\n",
        "    n = len(vertices)\n",
        "    for i in range(n):\n",
        "        for j in range(n):\n",
        "          #buscamos una arista\n",
        "            if matrix[i][j] == 1:\n",
        "                graph[vertices[i]].append(vertices[j])\n",
        "\n",
        "    return graph"
      ],
      "metadata": {
        "id": "Tl4vFGDEnrXc"
      },
      "execution_count": null,
      "outputs": []
    },
    {
      "cell_type": "code",
      "source": [
        "#Write a function cycle(n), which return a cycle on n vertices.\n",
        "#Escribe una función cycle(n), que devuelve un ciclo en n vértices\n",
        "def cycle(n):\n",
        "    if n < 3:\n",
        "        raise ValueError(\"To be a cycle we need at least 3 vertices\")\n",
        "\n",
        "    graph = {i: [] for i in range(n)}\n",
        "\n",
        "    for i in range(n):\n",
        "        #concectamos el vertice i con el i+1\n",
        "        graph[i].append((i + 1) % n)\n",
        "        #concectamos el vertice previo, es decir, el i+1 con i (unidireccional)\n",
        "        graph[(i + 1) % n].append(i)\n",
        "        #hago lo de (i+1) %n pq asi cuando lleguemos al ultimo vertice n-1 se conecte al vertice 0 que es el del principio, ya que si i=n-1, i+1 seria n pero estamos trabajando con vertices. Po eso usamos el %n para que sea n%n y ir al 0\n",
        "\n",
        "    return graph"
      ],
      "metadata": {
        "id": "em7S9kHro7f2"
      },
      "execution_count": null,
      "outputs": []
    },
    {
      "cell_type": "code",
      "source": [
        "##TEST TO PROVE THE FUNCTIONS\n",
        "def test_functions():\n",
        "    # Probamos random_graph con n = 5 y p = 0.5\n",
        "    print(\"---- Random Graph Test ----\")\n",
        "    seed(42)  # Fijamos la semilla para tener resultados reproducibles\n",
        "    g = random_graph(5, 0.5)\n",
        "    print(\"Grafo aleatorio (n=5, p=0.5):\", g)\n",
        "\n",
        "    # Probamos graph_to_matrix y matrix_to_graph\n",
        "    print(\"\\n---- Graph to Matrix and Matrix to Graph Test ----\")\n",
        "    g_matrix, vertices = graph_to_matrix(g)\n",
        "    print(\"Matriz de adyacencia:\\n\", g_matrix)\n",
        "    g_back = matrix_to_graph(vertices, g_matrix)\n",
        "    print(\"Grafo reconstruido desde la matriz:\", g_back)\n",
        "\n",
        "    # Probamos el ciclo con n = 5\n",
        "    print(\"\\n---- Cycle Test ----\")\n",
        "    c = cycle(5)\n",
        "    print(\"Ciclo de 5 vértices:\", c)\n",
        "    c_matrix, vertices = graph_to_matrix(c)\n",
        "    print(\"Matriz del ciclo:\\n\", c_matrix)\n",
        "    c_back = matrix_to_graph(vertices, c_matrix)\n",
        "    print(\"Ciclo reconstruido desde la matriz:\", c_back)\n",
        "\n",
        "# Ejecutamos las pruebas\n",
        "test_functions()"
      ],
      "metadata": {
        "colab": {
          "base_uri": "https://localhost:8080/"
        },
        "id": "UINAWyXqrE4Y",
        "outputId": "d506b0b9-7efe-40d8-f058-4dc5d14b014e"
      },
      "execution_count": null,
      "outputs": [
        {
          "output_type": "stream",
          "name": "stdout",
          "text": [
            "---- Random Graph Test ----\n",
            "Grafo aleatorio (n=5, p=0.5): {0: [2, 3, 4], 1: [], 2: [0, 3, 4], 3: [0, 2, 4], 4: [0, 2, 3]}\n",
            "\n",
            "---- Graph to Matrix and Matrix to Graph Test ----\n",
            "Matriz de adyacencia:\n",
            " [[0 0 1 1 1]\n",
            " [0 0 0 0 0]\n",
            " [1 0 0 1 1]\n",
            " [1 0 1 0 1]\n",
            " [1 0 1 1 0]]\n",
            "Grafo reconstruido desde la matriz: {0: [2, 3, 4], 1: [], 2: [0, 3, 4], 3: [0, 2, 4], 4: [0, 2, 3]}\n",
            "\n",
            "---- Cycle Test ----\n",
            "Ciclo de 5 vértices: {0: [1, 4], 1: [0, 2], 2: [1, 3], 3: [2, 4], 4: [3, 0]}\n",
            "Matriz del ciclo:\n",
            " [[0 1 0 0 1]\n",
            " [1 0 1 0 0]\n",
            " [0 1 0 1 0]\n",
            " [0 0 1 0 1]\n",
            " [1 0 0 1 0]]\n",
            "Ciclo reconstruido desde la matriz: {0: [1, 4], 1: [0, 2], 2: [1, 3], 3: [2, 4], 4: [0, 3]}\n"
          ]
        }
      ]
    }
  ]
}

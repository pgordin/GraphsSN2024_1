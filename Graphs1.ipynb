{
  "nbformat": 4,
  "nbformat_minor": 0,
  "metadata": {
    "colab": {
      "provenance": [],
      "authorship_tag": "ABX9TyOVQnkqhOfGLebc2gU4it5P",
      "include_colab_link": true
    },
    "kernelspec": {
      "name": "python3",
      "display_name": "Python 3"
    },
    "language_info": {
      "name": "python"
    }
  },
  "cells": [
    {
      "cell_type": "markdown",
      "metadata": {
        "id": "view-in-github",
        "colab_type": "text"
      },
      "source": [
        "<a href=\"https://colab.research.google.com/github/pgordin/GraphsSN2024_1/blob/main/Graphs1.ipynb\" target=\"_parent\"><img src=\"https://colab.research.google.com/assets/colab-badge.svg\" alt=\"Open In Colab\"/></a>"
      ]
    },
    {
      "cell_type": "markdown",
      "source": [
        "Package import."
      ],
      "metadata": {
        "id": "o6cctVaGKn9n"
      }
    },
    {
      "cell_type": "code",
      "execution_count": null,
      "metadata": {
        "id": "OAkHMz2jKTzm"
      },
      "outputs": [],
      "source": [
        "import numpy as np\n",
        "from random import random, seed"
      ]
    },
    {
      "cell_type": "markdown",
      "source": [
        "## Graph functions"
      ],
      "metadata": {
        "id": "2WMNx_ldK23O"
      }
    },
    {
      "cell_type": "code",
      "source": [
        "def print_matrix(vertices, matrix):\n",
        "  \"\"\"\n",
        "  Printing a graph given by adjacency matrix\n",
        "  \"\"\"\n",
        "  n = len(matrix)\n",
        "  if (vertices is not None) and (len(vertices) == n):\n",
        "    vv = vertices\n",
        "  else:\n",
        "    vv = range(1, n+1)\n",
        "  for i in range(n):\n",
        "    print(vv[i], \":\", end=\"\")\n",
        "    for j in range(n):\n",
        "      if matrix[i, j]:\n",
        "        print(\" \", vv[j], end=\"\")\n",
        "    print(\"\")\n",
        "\n",
        "def print_graph(graph):\n",
        "  \"\"\"\n",
        "  Printing of a graph (given as a dictionary/neighbouring list)\n",
        "  \"\"\"\n",
        "  for v in graph:\n",
        "    print(v, \":\", end=\"\")\n",
        "    for u in graph[v]:\n",
        "      print(\" \", u, end=\"\")\n",
        "    print(\"\")"
      ],
      "metadata": {
        "id": "a5x2lBIQK70Y"
      },
      "execution_count": null,
      "outputs": []
    },
    {
      "cell_type": "markdown",
      "source": [
        "## Making and modyfing graphs"
      ],
      "metadata": {
        "id": "24U-tYGgP1_E"
      }
    },
    {
      "cell_type": "code",
      "source": [
        "def add_vertex(graph, vertex):\n",
        "  \"\"\"\n",
        "  Add a new vertex to an existing graph\n",
        "  \"\"\"\n",
        "  if vertex not in graph:\n",
        "    graph[vertex] = []\n",
        "\n",
        "def add_arc(graph, arc):\n",
        "  \"\"\"\n",
        "  Given pair of vertices (arc variable) add an arc to an existing graph\n",
        "  We consider simple, directed graphs.\n",
        "  \"\"\"\n",
        "  u, v = arc\n",
        "  add_vertex(graph, u)\n",
        "  add_vertex(graph, v)\n",
        "  if v not in graph[u]:\n",
        "    graph[u].append(v)\n",
        "\n",
        "def add_edge(graph, edge):\n",
        "  \"\"\"\n",
        "  Given pair of vertices (edge variable) add an edge to existing graph.\n",
        "  We consider simple, undirected graphs, as symmetric digraphs without loops.\n",
        "  \"\"\"\n",
        "  u, v = edge\n",
        "  add_vertex(graph, u)\n",
        "  add_vertex(graph, v)\n",
        "  if u == v:\n",
        "    raise ValueError(\"Loops are not allowed!\")\n",
        "  if v not in graph[u]:\n",
        "    graph[u].append(v)\n",
        "  if u not in graph[v]:\n",
        "    graph[v].append(u)\n"
      ],
      "metadata": {
        "id": "2bkaB36xP5ZR"
      },
      "execution_count": null,
      "outputs": []
    },
    {
      "cell_type": "markdown",
      "source": [
        "## Use of code"
      ],
      "metadata": {
        "id": "6_YyQKrIMi_C"
      }
    },
    {
      "cell_type": "code",
      "source": [
        "vertices = [\"a\", \"b\", \"c\", \"d\"]\n",
        "matrix = np.array([[0,1,0,0],[1,0,1,0],[0,1,0,1],[0,0,0,1]])\n",
        "print(vertices)\n",
        "print(matrix)\n",
        "print(\"---------------------------\")\n",
        "print_matrix(vertices, matrix)\n",
        "print(\"---------------------------\")\n",
        "print_matrix(None,matrix)"
      ],
      "metadata": {
        "colab": {
          "base_uri": "https://localhost:8080/"
        },
        "id": "fFt6k4_1MkaO",
        "outputId": "723f11c1-2b1a-43f8-ba6d-7309115a427c"
      },
      "execution_count": null,
      "outputs": [
        {
          "output_type": "stream",
          "name": "stdout",
          "text": [
            "['a', 'b', 'c', 'd']\n",
            "[[0 1 0 0]\n",
            " [1 0 1 0]\n",
            " [0 1 0 1]\n",
            " [0 0 0 1]]\n",
            "---------------------------\n",
            "a :  b\n",
            "b :  a  c\n",
            "c :  b  d\n",
            "d :  d\n",
            "---------------------------\n",
            "1 :  2\n",
            "2 :  1  3\n",
            "3 :  2  4\n",
            "4 :  4\n"
          ]
        }
      ]
    },
    {
      "cell_type": "code",
      "source": [
        "graph = {\n",
        "  \"a\": [\"b\"],\n",
        "  \"b\": [\"a\", \"c\"],\n",
        "  \"c\": [\"b\", \"d\"],\n",
        "  \"d\": [\"c\"]\n",
        "}\n",
        "print(graph)\n",
        "print(\"---------------------------\")\n",
        "print_graph(graph)"
      ],
      "metadata": {
        "colab": {
          "base_uri": "https://localhost:8080/"
        },
        "id": "-WN2GXWRO7a-",
        "outputId": "63049533-cd32-448e-9a1f-d1fc9c2a1ce9"
      },
      "execution_count": null,
      "outputs": [
        {
          "output_type": "stream",
          "name": "stdout",
          "text": [
            "{'a': ['b'], 'b': ['a', 'c'], 'c': ['b', 'd'], 'd': ['c']}\n",
            "---------------------------\n",
            "a :  b\n",
            "b :  a  c\n",
            "c :  b  d\n",
            "d :  c\n"
          ]
        }
      ]
    },
    {
      "cell_type": "code",
      "source": [
        "add_vertex(graph, \"e\")\n",
        "print_graph(graph)"
      ],
      "metadata": {
        "colab": {
          "base_uri": "https://localhost:8080/"
        },
        "id": "eSNamb6BTulo",
        "outputId": "c10080dc-3720-46d0-8dbf-a7f22fad79f7"
      },
      "execution_count": null,
      "outputs": [
        {
          "output_type": "stream",
          "name": "stdout",
          "text": [
            "a :  b\n",
            "b :  a  c\n",
            "c :  b  d\n",
            "d :  c\n",
            "e :\n"
          ]
        }
      ]
    },
    {
      "cell_type": "code",
      "source": [
        "add_edge(graph, [\"e\", \"f\"])\n",
        "print_graph(graph)"
      ],
      "metadata": {
        "colab": {
          "base_uri": "https://localhost:8080/"
        },
        "id": "h20fs6XzT1v3",
        "outputId": "efe28667-131b-4d4f-dbff-3e0e3adc7e33"
      },
      "execution_count": null,
      "outputs": [
        {
          "output_type": "stream",
          "name": "stdout",
          "text": [
            "a :  b\n",
            "b :  a  c\n",
            "c :  b  d\n",
            "d :  c\n",
            "e :  f\n",
            "f :  e\n"
          ]
        }
      ]
    },
    {
      "cell_type": "code",
      "source": [
        "add_arc(graph, [\"e\", \"a\"]) # breaking the symmetry\n",
        "print_graph(graph)"
      ],
      "metadata": {
        "colab": {
          "base_uri": "https://localhost:8080/"
        },
        "id": "NTRLKliDT9mR",
        "outputId": "71c91764-47f7-4f81-c76f-06a665a7698e"
      },
      "execution_count": null,
      "outputs": [
        {
          "output_type": "stream",
          "name": "stdout",
          "text": [
            "a :  b\n",
            "b :  a  c\n",
            "c :  b  d\n",
            "d :  c\n",
            "e :  f  a\n",
            "f :  e\n"
          ]
        }
      ]
    },
    {
      "cell_type": "code",
      "source": [
        "add_edge(graph, [\"a\", \"e\"]) # restoring the symmetry\n",
        "print_graph(graph)"
      ],
      "metadata": {
        "colab": {
          "base_uri": "https://localhost:8080/"
        },
        "id": "qplimjtMUGPN",
        "outputId": "3623ce81-3077-401c-a4ae-699f110c860a"
      },
      "execution_count": null,
      "outputs": [
        {
          "output_type": "stream",
          "name": "stdout",
          "text": [
            "a :  b  e\n",
            "b :  a  c\n",
            "c :  b  d\n",
            "d :  c\n",
            "e :  f  a\n",
            "f :  e\n"
          ]
        }
      ]
    },
    {
      "cell_type": "code",
      "source": [
        "add_edge(graph, [\"e\", \"f\"]) # do nothing, an edge already exists\n",
        "print_graph(graph)"
      ],
      "metadata": {
        "colab": {
          "base_uri": "https://localhost:8080/"
        },
        "id": "GuEBCTrUUM1V",
        "outputId": "5c26b214-91de-4d1a-8c79-35ed06e66e73"
      },
      "execution_count": null,
      "outputs": [
        {
          "output_type": "stream",
          "name": "stdout",
          "text": [
            "a :  b  e\n",
            "b :  a  c\n",
            "c :  b  d\n",
            "d :  c\n",
            "e :  f  a\n",
            "f :  e\n"
          ]
        }
      ]
    },
    {
      "cell_type": "code",
      "source": [
        "add_edge(graph, [\"e\", \"e\"]) # an error"
      ],
      "metadata": {
        "colab": {
          "base_uri": "https://localhost:8080/",
          "height": 267
        },
        "id": "H16ojmt5UWKW",
        "outputId": "45920180-75a0-4029-a130-d308143e63d1"
      },
      "execution_count": null,
      "outputs": [
        {
          "output_type": "error",
          "ename": "ValueError",
          "evalue": "Loops are not allowed!",
          "traceback": [
            "\u001b[0;31m---------------------------------------------------------------------------\u001b[0m",
            "\u001b[0;31mValueError\u001b[0m                                Traceback (most recent call last)",
            "\u001b[0;32m<ipython-input-15-7f190627ee01>\u001b[0m in \u001b[0;36m<cell line: 1>\u001b[0;34m()\u001b[0m\n\u001b[0;32m----> 1\u001b[0;31m \u001b[0madd_edge\u001b[0m\u001b[0;34m(\u001b[0m\u001b[0mgraph\u001b[0m\u001b[0;34m,\u001b[0m \u001b[0;34m[\u001b[0m\u001b[0;34m\"e\"\u001b[0m\u001b[0;34m,\u001b[0m \u001b[0;34m\"e\"\u001b[0m\u001b[0;34m]\u001b[0m\u001b[0;34m)\u001b[0m \u001b[0;31m# an error\u001b[0m\u001b[0;34m\u001b[0m\u001b[0;34m\u001b[0m\u001b[0m\n\u001b[0m",
            "\u001b[0;32m<ipython-input-7-f881b29ac00d>\u001b[0m in \u001b[0;36madd_edge\u001b[0;34m(graph, edge)\u001b[0m\n\u001b[1;32m     26\u001b[0m   \u001b[0madd_vertex\u001b[0m\u001b[0;34m(\u001b[0m\u001b[0mgraph\u001b[0m\u001b[0;34m,\u001b[0m \u001b[0mv\u001b[0m\u001b[0;34m)\u001b[0m\u001b[0;34m\u001b[0m\u001b[0;34m\u001b[0m\u001b[0m\n\u001b[1;32m     27\u001b[0m   \u001b[0;32mif\u001b[0m \u001b[0mu\u001b[0m \u001b[0;34m==\u001b[0m \u001b[0mv\u001b[0m\u001b[0;34m:\u001b[0m\u001b[0;34m\u001b[0m\u001b[0;34m\u001b[0m\u001b[0m\n\u001b[0;32m---> 28\u001b[0;31m     \u001b[0;32mraise\u001b[0m \u001b[0mValueError\u001b[0m\u001b[0;34m(\u001b[0m\u001b[0;34m\"Loops are not allowed!\"\u001b[0m\u001b[0;34m)\u001b[0m\u001b[0;34m\u001b[0m\u001b[0;34m\u001b[0m\u001b[0m\n\u001b[0m\u001b[1;32m     29\u001b[0m   \u001b[0;32mif\u001b[0m \u001b[0mv\u001b[0m \u001b[0;32mnot\u001b[0m \u001b[0;32min\u001b[0m \u001b[0mgraph\u001b[0m\u001b[0;34m[\u001b[0m\u001b[0mu\u001b[0m\u001b[0;34m]\u001b[0m\u001b[0;34m:\u001b[0m\u001b[0;34m\u001b[0m\u001b[0;34m\u001b[0m\u001b[0m\n\u001b[1;32m     30\u001b[0m     \u001b[0mgraph\u001b[0m\u001b[0;34m[\u001b[0m\u001b[0mu\u001b[0m\u001b[0;34m]\u001b[0m\u001b[0;34m.\u001b[0m\u001b[0mappend\u001b[0m\u001b[0;34m(\u001b[0m\u001b[0mv\u001b[0m\u001b[0;34m)\u001b[0m\u001b[0;34m\u001b[0m\u001b[0;34m\u001b[0m\u001b[0m\n",
            "\u001b[0;31mValueError\u001b[0m: Loops are not allowed!"
          ]
        }
      ]
    },
    {
      "cell_type": "code",
      "source": [
        "add_arc(graph, [\"e\", \"e\"]) # OK - loops are allowed in digraphs\n",
        "print_graph(graph)"
      ],
      "metadata": {
        "colab": {
          "base_uri": "https://localhost:8080/"
        },
        "id": "OJsBnowmUdQe",
        "outputId": "566021a8-9143-431c-d1e2-91f63df0d53a"
      },
      "execution_count": null,
      "outputs": [
        {
          "output_type": "stream",
          "name": "stdout",
          "text": [
            "a :  b  e\n",
            "b :  a  c\n",
            "c :  b  d\n",
            "d :  c\n",
            "e :  f  a  e\n",
            "f :  e\n"
          ]
        }
      ]
    },
    {
      "cell_type": "markdown",
      "source": [
        "## Random graphs generator in the $G(n,p)$ model."
      ],
      "metadata": {
        "id": "OCAyaxkxU_S0"
      }
    },
    {
      "cell_type": "code",
      "source": [
        "# for repeatness\n",
        "seed(2024)"
      ],
      "metadata": {
        "id": "9Yb_KmFOUowQ"
      },
      "execution_count": null,
      "outputs": []
    },
    {
      "cell_type": "code",
      "source": [
        "#draw a graph G(10, 1/3)\n",
        "n = 10\n",
        "p = 1/3\n",
        "random_graph = {}\n",
        "for i in range(1, n+1):\n",
        "  add_vertex(random_graph, i)\n",
        "  for j in range(1, i):\n",
        "    if random() < p:\n",
        "      add_edge(random_graph, [i, j])\n",
        "\n",
        "print_graph(random_graph)"
      ],
      "metadata": {
        "colab": {
          "base_uri": "https://localhost:8080/"
        },
        "id": "grwKrYbiVNe8",
        "outputId": "c265a7ca-8bbc-4829-c3b7-6cc5e7eccce4"
      },
      "execution_count": null,
      "outputs": [
        {
          "output_type": "stream",
          "name": "stdout",
          "text": [
            "1 :  5  10\n",
            "2 :  3  5  9  10\n",
            "3 :  2  8\n",
            "4 :  6  7  8  10\n",
            "5 :  1  2  10\n",
            "6 :  4  8  10\n",
            "7 :  4  9  10\n",
            "8 :  3  4  6\n",
            "9 :  2  7\n",
            "10 :  1  2  4  5  6  7\n"
          ]
        }
      ]
    }
  ]
}
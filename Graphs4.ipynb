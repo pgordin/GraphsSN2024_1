{
  "nbformat": 4,
  "nbformat_minor": 0,
  "metadata": {
    "colab": {
      "provenance": [],
      "authorship_tag": "ABX9TyMSJYuhCvBQ+3aWVg+ev4UB",
      "include_colab_link": true
    },
    "kernelspec": {
      "name": "python3",
      "display_name": "Python 3"
    },
    "language_info": {
      "name": "python"
    }
  },
  "cells": [
    {
      "cell_type": "markdown",
      "metadata": {
        "id": "view-in-github",
        "colab_type": "text"
      },
      "source": [
        "<a href=\"https://colab.research.google.com/github/pgordin/GraphsSN2024_1/blob/main/Graphs4.ipynb\" target=\"_parent\"><img src=\"https://colab.research.google.com/assets/colab-badge.svg\" alt=\"Open In Colab\"/></a>"
      ]
    },
    {
      "cell_type": "markdown",
      "source": [
        "#Graphs & Social Networks &mdash; lab material\n",
        "This notebook contains a definition of a python class *Graph*, containing functions described during labs."
      ],
      "metadata": {
        "id": "noHa1UnB6dTl"
      }
    },
    {
      "cell_type": "markdown",
      "source": [
        "Package import."
      ],
      "metadata": {
        "id": "o6cctVaGKn9n"
      }
    },
    {
      "cell_type": "code",
      "execution_count": 1,
      "metadata": {
        "id": "OAkHMz2jKTzm"
      },
      "outputs": [],
      "source": [
        "import numpy as np\n",
        "from random import random, seed\n",
        "from copy import deepcopy"
      ]
    },
    {
      "cell_type": "markdown",
      "source": [
        "## Simple functions from the first classes\n",
        "This is left just as an example (to compare the behaviour)."
      ],
      "metadata": {
        "id": "r_QpZWdZCdkX"
      }
    },
    {
      "cell_type": "code",
      "source": [
        "def print_matrix(vertices, matrix):\n",
        "  \"\"\"\n",
        "  Printing a graph given by adjacency matrix\n",
        "  \"\"\"\n",
        "  n = len(matrix)\n",
        "  if (vertices is not None) and (len(vertices) == n):\n",
        "    vv = vertices\n",
        "  else:\n",
        "    vv = range(1, n+1)\n",
        "  for i in range(n):\n",
        "    print(vv[i], \":\", end=\"\")\n",
        "    for j in range(n):\n",
        "      if matrix[i, j]:\n",
        "        print(\" \", vv[j], end=\"\")\n",
        "    print(\"\")\n",
        "\n",
        "def print_dict(graph):\n",
        "  \"\"\"\n",
        "  Printing of a graph (given as a dictionary/neighbouring list)\n",
        "  \"\"\"\n",
        "  for v in graph:\n",
        "    print(v, \":\", end=\"\")\n",
        "    for u in graph[v]:\n",
        "      print(\" \", u, end=\"\")\n",
        "    print(\"\")"
      ],
      "metadata": {
        "id": "a5x2lBIQK70Y"
      },
      "execution_count": 2,
      "outputs": []
    },
    {
      "cell_type": "markdown",
      "source": [
        "## Class *Graph*"
      ],
      "metadata": {
        "id": "2WMNx_ldK23O"
      }
    },
    {
      "cell_type": "code",
      "source": [
        "class Graph:\n",
        "    def __init__(self, graph=None):\n",
        "        if graph is None:\n",
        "            graph = {}\n",
        "        self.graph = graph\n",
        "\n",
        "    # dict initializer\n",
        "    @classmethod\n",
        "    def from_dict(cls, graph):\n",
        "        return cls(graph)\n",
        "\n",
        "    # array initializer\n",
        "    @classmethod\n",
        "    def from_matrix(cls, matrix, vertices = None):\n",
        "        if (vertices is None) or (len(vertices) != len(matrix)):\n",
        "            vertices = [*range(1, len(graph) + 1)]\n",
        "        return cls.from_dict(cls._matrix_to_dict(matrix, vertices))\n",
        "\n",
        "    # two private methods matrix <-> dictionaries\n",
        "    def _matrix_to_dict(matrix, vertices: list) -> dict:\n",
        "        \"\"\"\n",
        "        Converts a graph given as an adjacency matrix to a graph in dict form.\n",
        "        \"\"\"\n",
        "        res_dict = {}\n",
        "        for i, v in enumerate(vertices):\n",
        "            neighbours = [vertices[j] for j, edge in enumerate(matrix[i]) if edge]\n",
        "            res_dict[v] = neighbours\n",
        "        return res_dict\n",
        "\n",
        "    def _dict_to_matrix(self, _dict: dict) -> np.array:\n",
        "        \"\"\"\n",
        "        Converts a graph in dict form to its adjacency matrix.\n",
        "        \"\"\"\n",
        "        n = len(_dict)\n",
        "        vertices = [*_dict.keys()]\n",
        "        matrix = np.zeros(shape = (n, n), dtype=int)\n",
        "        for u,v in [\n",
        "            (vertices.index(u), vertices.index(v))\n",
        "            for u, row in _dict.items() for v in row\n",
        "        ]:\n",
        "            matrix[u][v] += 1\n",
        "        return matrix\n",
        "\n",
        "    def vertices(self) -> list:\n",
        "        \"\"\"\n",
        "        Returns list of vertices of the graph.\n",
        "        \"\"\"\n",
        "        return [*self.graph.keys()]\n",
        "\n",
        "    def matrix(self) -> np.array:\n",
        "        \"\"\"\n",
        "        Returns the adjacency matrix of the graph.\n",
        "        \"\"\"\n",
        "        return self._dict_to_matrix(self.graph)\n",
        "\n",
        "    # redefinition of print for objects of class Graph\n",
        "    def __str__(self):\n",
        "        res = \"\"\n",
        "        for v in self.graph:\n",
        "            res += f\"{v}:\"\n",
        "            for u in self.graph[v]:\n",
        "                res += f\" {u}\"\n",
        "            res += \"\\n\"\n",
        "        return res\n",
        "\n",
        "    # The following is for free thanks to the above\n",
        "    def to_neighbourlist(self, filename: str):\n",
        "        \"\"\"\n",
        "        Saves a graphs to a text file as a neighbour dict.\\n\n",
        "        Filename is a file path.\n",
        "        \"\"\"\n",
        "        file = open(filename, \"w\")  # open textfile for writing\n",
        "        file.write(str(self))\n",
        "        file.close()\n",
        "\n",
        "    # Modyfying graphs\n",
        "    def add_vertex(self, vertex):\n",
        "        \"\"\"\n",
        "        Adds a new vertex to the graph.\n",
        "        \"\"\"\n",
        "        if vertex not in self.graph:\n",
        "            self.graph[vertex] = []\n",
        "\n",
        "    def del_vertex(self, vertex):\n",
        "        \"\"\"\n",
        "        Removes a vertex from the graph.\n",
        "        \"\"\"\n",
        "        if vertex in self.graph:\n",
        "            self.graph.pop(vertex)\n",
        "            for u in self.graph:\n",
        "                if vertex in self.graph[u]:\n",
        "                    self.graph[u].remove(vertex)\n",
        "\n",
        "    def add_arc(self, arc):\n",
        "        \"\"\"\n",
        "        Given pair of vertices (arc variable) add an arc to the graph\n",
        "        We consider simple, directed graphs.\n",
        "        \"\"\"\n",
        "        u, v = arc\n",
        "        self.add_vertex(u)\n",
        "        self.add_vertex(v)\n",
        "        if v not in self.graph[u]:\n",
        "            self.graph[u].append(v)\n",
        "\n",
        "    def add_edge(self, edge: list):\n",
        "        \"\"\"\n",
        "        Given pair of vertices (edge variable) add an edge to existing graph.\n",
        "        We consider simple, undirected graphs, as symmetric digraphs without loops.\n",
        "        \"\"\"\n",
        "        u, v = edge\n",
        "        if u == v:\n",
        "            raise ValueError(\"Loops are not allowed!\")\n",
        "        self.add_vertex(u)\n",
        "        self.add_vertex(v)\n",
        "        if v not in self.graph[u]:\n",
        "            self.graph[u].append(v)\n",
        "        if u not in self.graph[v]:\n",
        "            self.graph[v].append(u)\n",
        "\n",
        "    # reading from a file\n",
        "    @staticmethod\n",
        "    def from_edges(filename: str, directed = 0):\n",
        "        \"\"\"\n",
        "        Read the graph from file, that in each line contains either\n",
        "        the description of a vertex (one word) or\n",
        "        the description of an edge/arc (at least 2 words).\n",
        "        The resulting graph is returned as a neighbourhood list.\n",
        "        Variable \"filename\" contains the whole path to the file.\n",
        "        \"\"\"\n",
        "        graph = Graph()\n",
        "        file = open(filename, \"r\")          # open the file to read\n",
        "        for line in file:                   # for each line of the file\n",
        "          words = line.strip().split()      # splits the line into words\n",
        "          if len(words) == 1:               # one word - vertex description\n",
        "            graph.add_vertex(words[0])\n",
        "          elif len(words) >= 2:             # at least two words, first two are the edge description\n",
        "            if directed:\n",
        "              graph.add_arc([words[0], words[1]])\n",
        "            else:\n",
        "              graph.add_edge([words[0], words[1]])\n",
        "        file.close()\n",
        "        return graph\n",
        "\n",
        "    @staticmethod\n",
        "    def random_graph(n: int, p: float):\n",
        "        \"\"\"\n",
        "        Creates a random graph in G(n, p) model.\n",
        "        \"\"\"\n",
        "        rand_graph = Graph()\n",
        "        for i in range(1, n + 1):\n",
        "            rand_graph.add_vertex(i)\n",
        "            for j in range(1, i):\n",
        "                if random() < p:\n",
        "                    rand_graph.add_edge([i, j])\n",
        "        return rand_graph\n",
        "\n",
        "    @staticmethod\n",
        "    def cycle(n: int):\n",
        "        \"\"\"\n",
        "        Creates a cycle C_n on n vertices\n",
        "        \"\"\"\n",
        "        cycle = Graph()\n",
        "        for i in range(n-1):\n",
        "          cycle.add_edge([i+1, i+2])\n",
        "        cycle.add_edge([1, n])\n",
        "        return cycle\n",
        "\n",
        "\n",
        "    def Prufer(self):\n",
        "      \"\"\"\n",
        "      Returns the Prufer code of a tree.\n",
        "      It is necessary that the graph is a tree (it is not checked).\n",
        "      Result is given as a string (empty for trees on 1 or 2 vertices).\n",
        "      \"\"\"\n",
        "      tr = deepcopy(self.graph)   # copy of a tree, as we destroy it\n",
        "      code = \"\"\n",
        "      for i in range(len(self.graph) - 2):\n",
        "        for x in sorted(tr):\n",
        "          if len(tr[x]) == 1:   # least leaf\n",
        "            break\n",
        "        v = tr[x][0]            # the unique neighbour of x\n",
        "        code = code + f\"{v} \"\n",
        "        tr[v].remove(x)         # remove x from neighbours of v\n",
        "        tr.pop(x)               # remove x from the tree\n",
        "      return code.strip()\n",
        "\n",
        "    @staticmethod\n",
        "    def tree_from_Prufer(code: str):\n",
        "        \"\"\"\n",
        "        Creating a tree from a Prufer code.\n",
        "        \"\"\"\n",
        "        tree = Graph()\n",
        "        clist = [int(x) for x in code.strip().split()]   # code as a list of numbers\n",
        "        n = len(clist) + 2                  # number of vertices\n",
        "        vert = [*range(1, n+1)]             # list of numbers 1..n\n",
        "        for v in vert:\n",
        "          tree.add_vertex(v)\n",
        "        for i in range(n-2):\n",
        "          for x in vert:\n",
        "            if not x in clist:    # x - least leaf\n",
        "              break\n",
        "          v = clist.pop(0)    # remove the first element from the code - the neighbour of x\n",
        "          tree.add_edge((x, v))\n",
        "          vert.remove(x)\n",
        "        tree.add_edge(vert)\n",
        "        return tree"
      ],
      "metadata": {
        "id": "GpL6rcH371bJ"
      },
      "execution_count": 56,
      "outputs": []
    },
    {
      "cell_type": "code",
      "source": [
        "def Prufer(tree):\n",
        "  tr = deepcopy(tree)\n",
        "  code = \"\"\n",
        "  for i in range(len(tree)-2):\n",
        "    for x in sorted(tr):\n",
        "      if len(tr[x]) == 1:\n",
        "        break\n",
        "    v = tr[x][0]\n",
        "    code = code + f\"{v} \"\n",
        "    tr[v].remove(x)         # remove x from neighbours of v\n",
        "    tr.pop(x)               # remove x from a tree\n",
        "  return code.strip()\n",
        "\n",
        "\n",
        "def TreeFromPrufer(code):\n",
        "  \"\"\"\n",
        "  Creating a tree from a Prufer code\n",
        "  \"\"\"\n",
        "  clist = [int(x) for x in code.split()]  # code as a list of numbers\n",
        "  n = len(clist) + 2                  # number of vertices\n",
        "  vert = [v for v in range(1, n+1)]   # list of numbers 1 .. n\n",
        "  tree = {}\n",
        "  for v in vert:\n",
        "    add_vertex(tree, v)\n",
        "  for i in range(n-2):\n",
        "    for x in vert:\n",
        "      if x not in clist:    # x - least leaf\n",
        "        break\n",
        "    v = clist.pop(0)    # remove the first element from the code - neighbour of x\n",
        "    add_edge(tree, (x, v))\n",
        "    vert.remove(x)\n",
        "  add_edge(tree, (vert[0], vert[1]))\n",
        "  return tree"
      ],
      "metadata": {
        "id": "SjpfzzD9sd5o"
      },
      "execution_count": null,
      "outputs": []
    },
    {
      "cell_type": "markdown",
      "source": [
        "## Use of code"
      ],
      "metadata": {
        "id": "6_YyQKrIMi_C"
      }
    },
    {
      "cell_type": "markdown",
      "source": [
        "### Part 3 (Prufer codes)"
      ],
      "metadata": {
        "id": "_Li4OSBDrp7K"
      }
    },
    {
      "cell_type": "code",
      "source": [
        "%%writefile tree1.txt\n",
        "1 3\n",
        "3 5\n",
        "2 5\n",
        "4 5\n",
        "6 5"
      ],
      "metadata": {
        "colab": {
          "base_uri": "https://localhost:8080/"
        },
        "id": "RFG49rSWryaK",
        "outputId": "5e314d84-52c0-4d99-8839-e9e0b3c7129d"
      },
      "execution_count": 49,
      "outputs": [
        {
          "output_type": "stream",
          "name": "stdout",
          "text": [
            "Writing tree1.txt\n"
          ]
        }
      ]
    },
    {
      "cell_type": "code",
      "source": [
        "tree1 = Graph.from_edges(\"tree1.txt\")"
      ],
      "metadata": {
        "id": "MxM8JOw9sR5_"
      },
      "execution_count": 50,
      "outputs": []
    },
    {
      "cell_type": "code",
      "source": [
        "print(tree1)"
      ],
      "metadata": {
        "colab": {
          "base_uri": "https://localhost:8080/"
        },
        "id": "uFVlsqDesWeX",
        "outputId": "ca35f11f-187c-482c-b0da-ac178a537342"
      },
      "execution_count": 51,
      "outputs": [
        {
          "output_type": "stream",
          "name": "stdout",
          "text": [
            "1: 3\n",
            "3: 1 5\n",
            "5: 3 2 4 6\n",
            "2: 5\n",
            "4: 5\n",
            "6: 5\n",
            "\n"
          ]
        }
      ]
    },
    {
      "cell_type": "code",
      "source": [
        "print(tree1.Prufer())"
      ],
      "metadata": {
        "colab": {
          "base_uri": "https://localhost:8080/"
        },
        "id": "hlcmteDpunm0",
        "outputId": "de1b55b6-e5d9-4df1-daea-caa9f02bfc7f"
      },
      "execution_count": 53,
      "outputs": [
        {
          "output_type": "stream",
          "name": "stdout",
          "text": [
            "3 5 5 5\n"
          ]
        }
      ]
    },
    {
      "cell_type": "code",
      "source": [
        "print(Graph.tree_from_Prufer(\"3 5 5 5\"))"
      ],
      "metadata": {
        "colab": {
          "base_uri": "https://localhost:8080/"
        },
        "id": "W13ncK5-xiqO",
        "outputId": "fa9f8b6a-b52a-411c-97cf-d611f8299233"
      },
      "execution_count": 57,
      "outputs": [
        {
          "output_type": "stream",
          "name": "stdout",
          "text": [
            "1: 3\n",
            "2: 5\n",
            "3: 1 5\n",
            "4: 5\n",
            "5: 2 3 4 6\n",
            "6: 5\n",
            "\n"
          ]
        }
      ]
    },
    {
      "cell_type": "code",
      "source": [
        "print(Graph.tree_from_Prufer(\"5 4 3 1\"))"
      ],
      "metadata": {
        "colab": {
          "base_uri": "https://localhost:8080/"
        },
        "id": "TGyO_yEcxpwm",
        "outputId": "d7a7caa8-82a6-4083-9082-65488877350d"
      },
      "execution_count": 59,
      "outputs": [
        {
          "output_type": "stream",
          "name": "stdout",
          "text": [
            "1: 3 6\n",
            "2: 5\n",
            "3: 4 1\n",
            "4: 5 3\n",
            "5: 2 4\n",
            "6: 1\n",
            "\n"
          ]
        }
      ]
    },
    {
      "cell_type": "code",
      "source": [
        "print(Graph.tree_from_Prufer(\"1 1 1 2 3\"))"
      ],
      "metadata": {
        "colab": {
          "base_uri": "https://localhost:8080/"
        },
        "id": "kIMXlvKdxzRQ",
        "outputId": "b8d57ea6-82a2-4e43-b6fe-c1e1201df24f"
      },
      "execution_count": 60,
      "outputs": [
        {
          "output_type": "stream",
          "name": "stdout",
          "text": [
            "1: 4 5 6 2\n",
            "2: 1 3\n",
            "3: 2 7\n",
            "4: 1\n",
            "5: 1\n",
            "6: 1\n",
            "7: 3\n",
            "\n"
          ]
        }
      ]
    },
    {
      "cell_type": "markdown",
      "source": [
        "### Part2"
      ],
      "metadata": {
        "id": "8zI4hhs8mnCH"
      }
    },
    {
      "cell_type": "code",
      "source": [
        "%%writefile edges.txt\n",
        "a b\n",
        "b c\n",
        "b d\n",
        "d\n",
        "d c\n",
        "e\n",
        "f\n"
      ],
      "metadata": {
        "colab": {
          "base_uri": "https://localhost:8080/"
        },
        "id": "APWxQBCKmoxT",
        "outputId": "6544e594-429b-4376-e8b6-13e52642c46f"
      },
      "execution_count": 24,
      "outputs": [
        {
          "output_type": "stream",
          "name": "stdout",
          "text": [
            "Writing edges.txt\n"
          ]
        }
      ]
    },
    {
      "cell_type": "code",
      "source": [
        "%cat edges.txt"
      ],
      "metadata": {
        "colab": {
          "base_uri": "https://localhost:8080/"
        },
        "id": "eR-LAgiBnAPC",
        "outputId": "af90c736-bc83-441b-87ab-3dfd995afa7b"
      },
      "execution_count": 25,
      "outputs": [
        {
          "output_type": "stream",
          "name": "stdout",
          "text": [
            "a b\n",
            "b c\n",
            "b d\n",
            "d\n",
            "d c\n",
            "e\n",
            "f\n"
          ]
        }
      ]
    },
    {
      "cell_type": "code",
      "source": [
        "graph2 = Graph.from_edges(\"edges.txt\")\n",
        "print(graph2)"
      ],
      "metadata": {
        "colab": {
          "base_uri": "https://localhost:8080/"
        },
        "id": "iMrisHgRnKuO",
        "outputId": "4f1e391e-df77-4a4d-a628-85ffda1fe463"
      },
      "execution_count": 26,
      "outputs": [
        {
          "output_type": "stream",
          "name": "stdout",
          "text": [
            "a: b\n",
            "b: a c d\n",
            "c: b d\n",
            "d: b c\n",
            "e:\n",
            "f:\n",
            "\n"
          ]
        }
      ]
    },
    {
      "cell_type": "code",
      "source": [
        "graph2.to_neighbourlist(\"neighbourhood.txt\")"
      ],
      "metadata": {
        "id": "r9NGeZi7p1GR"
      },
      "execution_count": 27,
      "outputs": []
    },
    {
      "cell_type": "code",
      "source": [
        "%cat \"neighbourhood.txt\""
      ],
      "metadata": {
        "colab": {
          "base_uri": "https://localhost:8080/"
        },
        "id": "nWT3fLVpqHpo",
        "outputId": "cee8375f-5f6b-4477-9984-139252802d55"
      },
      "execution_count": 28,
      "outputs": [
        {
          "output_type": "stream",
          "name": "stdout",
          "text": [
            "a: b\n",
            "b: a c d\n",
            "c: b d\n",
            "d: b c\n",
            "e:\n",
            "f:\n"
          ]
        }
      ]
    },
    {
      "cell_type": "code",
      "source": [
        "!wget https://github.com/pgordin/GraphsSN2024_1/raw/main/weighted0.txt"
      ],
      "metadata": {
        "id": "OtKrskF-r81d",
        "outputId": "e905ff75-2e38-4073-e381-a181240d1961",
        "colab": {
          "base_uri": "https://localhost:8080/"
        }
      },
      "execution_count": 29,
      "outputs": [
        {
          "output_type": "stream",
          "name": "stdout",
          "text": [
            "--2024-11-06 23:29:05--  https://github.com/pgordin/GraphsSN2024_1/raw/main/weighted0.txt\n",
            "Resolving github.com (github.com)... 140.82.114.3\n",
            "Connecting to github.com (github.com)|140.82.114.3|:443... connected.\n",
            "HTTP request sent, awaiting response... 302 Found\n",
            "Location: https://raw.githubusercontent.com/pgordin/GraphsSN2024_1/main/weighted0.txt [following]\n",
            "--2024-11-06 23:29:05--  https://raw.githubusercontent.com/pgordin/GraphsSN2024_1/main/weighted0.txt\n",
            "Resolving raw.githubusercontent.com (raw.githubusercontent.com)... 185.199.111.133, 185.199.108.133, 185.199.110.133, ...\n",
            "Connecting to raw.githubusercontent.com (raw.githubusercontent.com)|185.199.111.133|:443... connected.\n",
            "HTTP request sent, awaiting response... 200 OK\n",
            "Length: 99 [text/plain]\n",
            "Saving to: ‘weighted0.txt’\n",
            "\n",
            "weighted0.txt       100%[===================>]      99  --.-KB/s    in 0s      \n",
            "\n",
            "2024-11-06 23:29:06 (992 KB/s) - ‘weighted0.txt’ saved [99/99]\n",
            "\n"
          ]
        }
      ]
    },
    {
      "cell_type": "code",
      "source": [
        "graph3 = Graph.from_edges(\"weighted0.txt\")\n",
        "print(graph3)"
      ],
      "metadata": {
        "id": "vdKnV3IJsg3U",
        "outputId": "be94948a-2c95-40bc-a98f-693cd88460c9",
        "colab": {
          "base_uri": "https://localhost:8080/"
        }
      },
      "execution_count": 30,
      "outputs": [
        {
          "output_type": "stream",
          "name": "stdout",
          "text": [
            "A: B E\n",
            "B: A C D\n",
            "E: A D F H\n",
            "C: B D F G\n",
            "D: B C E F\n",
            "F: C D E G H\n",
            "G: C F H I\n",
            "H: E F G\n",
            "I: G\n",
            "\n"
          ]
        }
      ]
    },
    {
      "cell_type": "code",
      "source": [
        "# it works as well\n",
        "!wget https://raw.githubusercontent.com/pgordin/GraphsSN2024_1/refs/heads/main/weighted0.txt"
      ],
      "metadata": {
        "id": "zlrf9llrtDnL",
        "outputId": "fc03a784-f941-417c-bba6-faddb04cacfe",
        "colab": {
          "base_uri": "https://localhost:8080/"
        }
      },
      "execution_count": 31,
      "outputs": [
        {
          "output_type": "stream",
          "name": "stdout",
          "text": [
            "--2024-11-06 23:30:16--  https://raw.githubusercontent.com/pgordin/GraphsSN2024_1/refs/heads/main/weighted0.txt\n",
            "Resolving raw.githubusercontent.com (raw.githubusercontent.com)... 185.199.108.133, 185.199.111.133, 185.199.110.133, ...\n",
            "Connecting to raw.githubusercontent.com (raw.githubusercontent.com)|185.199.108.133|:443... connected.\n",
            "HTTP request sent, awaiting response... 200 OK\n",
            "Length: 99 [text/plain]\n",
            "Saving to: ‘weighted0.txt.1’\n",
            "\n",
            "weighted0.txt.1     100%[===================>]      99  --.-KB/s    in 0s      \n",
            "\n",
            "2024-11-06 23:30:16 (1.92 MB/s) - ‘weighted0.txt.1’ saved [99/99]\n",
            "\n"
          ]
        }
      ]
    },
    {
      "cell_type": "code",
      "source": [
        "graph4 = Graph.random_graph(10, 1/3)\n",
        "print(graph4)"
      ],
      "metadata": {
        "colab": {
          "base_uri": "https://localhost:8080/"
        },
        "id": "zBiLX0N80Lt-",
        "outputId": "3f71fe73-36e9-4267-cfe2-7232a7b8db2b"
      },
      "execution_count": 32,
      "outputs": [
        {
          "output_type": "stream",
          "name": "stdout",
          "text": [
            "1: 5 6 7 9\n",
            "2: 6 7 8\n",
            "3: 8 10\n",
            "4: 7 10\n",
            "5: 1 8\n",
            "6: 1 2\n",
            "7: 1 2 4 9\n",
            "8: 2 3 5\n",
            "9: 1 7\n",
            "10: 3 4\n",
            "\n"
          ]
        }
      ]
    },
    {
      "cell_type": "code",
      "source": [
        "print(Graph.cycle(6))"
      ],
      "metadata": {
        "colab": {
          "base_uri": "https://localhost:8080/"
        },
        "id": "E_3Xuype0TRP",
        "outputId": "e845fb3d-589f-433e-f1ab-d2f2f434a77e"
      },
      "execution_count": 33,
      "outputs": [
        {
          "output_type": "stream",
          "name": "stdout",
          "text": [
            "1: 2 6\n",
            "2: 1 3\n",
            "3: 2 4\n",
            "4: 3 5\n",
            "5: 4 6\n",
            "6: 5 1\n",
            "\n"
          ]
        }
      ]
    },
    {
      "cell_type": "markdown",
      "source": [
        "### Part1"
      ],
      "metadata": {
        "id": "M0eanmo5mkjf"
      }
    },
    {
      "cell_type": "code",
      "source": [
        "vertices = [\"a\", \"b\", \"c\", \"d\"]\n",
        "matrix = np.array([[0,1,0,0],[1,0,1,0],[0,1,0,1],[0,0,0,1]])\n",
        "print(vertices)\n",
        "print(matrix)\n",
        "print(\"---------------------------\")\n",
        "print_matrix(vertices, matrix)\n",
        "print(\"---------------------------\")\n",
        "print_matrix(None,matrix)"
      ],
      "metadata": {
        "colab": {
          "base_uri": "https://localhost:8080/"
        },
        "id": "fFt6k4_1MkaO",
        "outputId": "7328781b-f440-4d71-baf9-183816208312"
      },
      "execution_count": 34,
      "outputs": [
        {
          "output_type": "stream",
          "name": "stdout",
          "text": [
            "['a', 'b', 'c', 'd']\n",
            "[[0 1 0 0]\n",
            " [1 0 1 0]\n",
            " [0 1 0 1]\n",
            " [0 0 0 1]]\n",
            "---------------------------\n",
            "a :  b\n",
            "b :  a  c\n",
            "c :  b  d\n",
            "d :  d\n",
            "---------------------------\n",
            "1 :  2\n",
            "2 :  1  3\n",
            "3 :  2  4\n",
            "4 :  4\n"
          ]
        }
      ]
    },
    {
      "cell_type": "code",
      "source": [
        "graph_dict = {\n",
        "  \"a\": [\"b\"],\n",
        "  \"b\": [\"a\", \"c\"],\n",
        "  \"c\": [\"b\", \"d\"],\n",
        "  \"d\": [\"c\"]\n",
        "}\n",
        "print(graph_dict)\n",
        "print(\"---------------------------\")\n",
        "print_dict(graph_dict)"
      ],
      "metadata": {
        "colab": {
          "base_uri": "https://localhost:8080/"
        },
        "id": "-WN2GXWRO7a-",
        "outputId": "0ac7a0f3-76bd-449b-b6d2-d807dc9b374d"
      },
      "execution_count": 35,
      "outputs": [
        {
          "output_type": "stream",
          "name": "stdout",
          "text": [
            "{'a': ['b'], 'b': ['a', 'c'], 'c': ['b', 'd'], 'd': ['c']}\n",
            "---------------------------\n",
            "a :  b\n",
            "b :  a  c\n",
            "c :  b  d\n",
            "d :  c\n"
          ]
        }
      ]
    },
    {
      "cell_type": "code",
      "source": [
        "graph1 = Graph.from_matrix(matrix, vertices)\n",
        "print(graph1)"
      ],
      "metadata": {
        "colab": {
          "base_uri": "https://localhost:8080/"
        },
        "id": "X8U18KAaDJzn",
        "outputId": "fa27e91b-15fb-459a-954f-bd7d8ff45ad4"
      },
      "execution_count": 36,
      "outputs": [
        {
          "output_type": "stream",
          "name": "stdout",
          "text": [
            "a: b\n",
            "b: a c\n",
            "c: b d\n",
            "d: d\n",
            "\n"
          ]
        }
      ]
    },
    {
      "cell_type": "code",
      "source": [
        "print(Graph(graph_dict))  # the same result"
      ],
      "metadata": {
        "colab": {
          "base_uri": "https://localhost:8080/"
        },
        "id": "Diez_R5gJAvq",
        "outputId": "382423d9-2544-489d-c740-dfef70824d69"
      },
      "execution_count": 37,
      "outputs": [
        {
          "output_type": "stream",
          "name": "stdout",
          "text": [
            "a: b\n",
            "b: a c\n",
            "c: b d\n",
            "d: c\n",
            "\n"
          ]
        }
      ]
    },
    {
      "cell_type": "code",
      "source": [
        "print(graph1.vertices())"
      ],
      "metadata": {
        "colab": {
          "base_uri": "https://localhost:8080/"
        },
        "id": "HFejfq6hP4D6",
        "outputId": "9bf58008-e703-421e-8608-608fa27e2eb1"
      },
      "execution_count": 38,
      "outputs": [
        {
          "output_type": "stream",
          "name": "stdout",
          "text": [
            "['a', 'b', 'c', 'd']\n"
          ]
        }
      ]
    },
    {
      "cell_type": "code",
      "source": [
        "print(graph1.matrix())"
      ],
      "metadata": {
        "colab": {
          "base_uri": "https://localhost:8080/"
        },
        "id": "f2Tgny4gQF4O",
        "outputId": "dba6c1d2-57c1-4625-8f35-23c784fcf964"
      },
      "execution_count": 39,
      "outputs": [
        {
          "output_type": "stream",
          "name": "stdout",
          "text": [
            "[[0 1 0 0]\n",
            " [1 0 1 0]\n",
            " [0 1 0 1]\n",
            " [0 0 0 1]]\n"
          ]
        }
      ]
    },
    {
      "cell_type": "code",
      "source": [
        "graph1.add_vertex(\"e\")\n",
        "print(graph1)"
      ],
      "metadata": {
        "colab": {
          "base_uri": "https://localhost:8080/"
        },
        "id": "eSNamb6BTulo",
        "outputId": "35484970-cc18-4f26-9282-62e2fec9a8eb"
      },
      "execution_count": 40,
      "outputs": [
        {
          "output_type": "stream",
          "name": "stdout",
          "text": [
            "a: b\n",
            "b: a c\n",
            "c: b d\n",
            "d: d\n",
            "e:\n",
            "\n"
          ]
        }
      ]
    },
    {
      "cell_type": "code",
      "source": [
        "graph1.add_edge([\"e\", \"f\"])\n",
        "print(graph1)"
      ],
      "metadata": {
        "colab": {
          "base_uri": "https://localhost:8080/"
        },
        "id": "h20fs6XzT1v3",
        "outputId": "37caa964-e7f1-4d23-c105-f87240dd682a"
      },
      "execution_count": 41,
      "outputs": [
        {
          "output_type": "stream",
          "name": "stdout",
          "text": [
            "a: b\n",
            "b: a c\n",
            "c: b d\n",
            "d: d\n",
            "e: f\n",
            "f: e\n",
            "\n"
          ]
        }
      ]
    },
    {
      "cell_type": "code",
      "source": [
        "graph1.add_arc([\"e\", \"a\"])  # breaking the symmetry\n",
        "print(graph1)"
      ],
      "metadata": {
        "colab": {
          "base_uri": "https://localhost:8080/"
        },
        "id": "NTRLKliDT9mR",
        "outputId": "24678bdf-dfc4-479f-bc05-3316b83ce71c"
      },
      "execution_count": 42,
      "outputs": [
        {
          "output_type": "stream",
          "name": "stdout",
          "text": [
            "a: b\n",
            "b: a c\n",
            "c: b d\n",
            "d: d\n",
            "e: f a\n",
            "f: e\n",
            "\n"
          ]
        }
      ]
    },
    {
      "cell_type": "code",
      "source": [
        "graph1.add_edge([\"e\", \"a\"])  # restoring the symmetry\n",
        "print(graph1)"
      ],
      "metadata": {
        "colab": {
          "base_uri": "https://localhost:8080/"
        },
        "id": "qplimjtMUGPN",
        "outputId": "bb31bc41-7f85-4bd7-9c7f-1909432d2505"
      },
      "execution_count": 43,
      "outputs": [
        {
          "output_type": "stream",
          "name": "stdout",
          "text": [
            "a: b e\n",
            "b: a c\n",
            "c: b d\n",
            "d: d\n",
            "e: f a\n",
            "f: e\n",
            "\n"
          ]
        }
      ]
    },
    {
      "cell_type": "code",
      "source": [
        "graph1.add_edge([\"e\", \"f\"]) # do nothing, an edge already exists\n",
        "print(graph1)"
      ],
      "metadata": {
        "colab": {
          "base_uri": "https://localhost:8080/"
        },
        "id": "GuEBCTrUUM1V",
        "outputId": "89199816-8070-4705-b29a-ffbef9b97492"
      },
      "execution_count": 44,
      "outputs": [
        {
          "output_type": "stream",
          "name": "stdout",
          "text": [
            "a: b e\n",
            "b: a c\n",
            "c: b d\n",
            "d: d\n",
            "e: f a\n",
            "f: e\n",
            "\n"
          ]
        }
      ]
    },
    {
      "cell_type": "code",
      "source": [
        "graph1.del_vertex(\"f\")  # removing a vertex\n",
        "print(graph1)"
      ],
      "metadata": {
        "colab": {
          "base_uri": "https://localhost:8080/"
        },
        "id": "XLQ1qcCAu7ie",
        "outputId": "31db2b8c-bc47-485c-9611-fd6376874f4c"
      },
      "execution_count": 45,
      "outputs": [
        {
          "output_type": "stream",
          "name": "stdout",
          "text": [
            "a: b e\n",
            "b: a c\n",
            "c: b d\n",
            "d: d\n",
            "e: a\n",
            "\n"
          ]
        }
      ]
    },
    {
      "cell_type": "code",
      "source": [
        "graph1.add_edge([\"e\", \"e\"]) # an error"
      ],
      "metadata": {
        "colab": {
          "base_uri": "https://localhost:8080/",
          "height": 269
        },
        "id": "H16ojmt5UWKW",
        "outputId": "3af3a2e5-f6bc-4e79-8c74-b1c9f0a36acb"
      },
      "execution_count": 46,
      "outputs": [
        {
          "output_type": "error",
          "ename": "ValueError",
          "evalue": "Loops are not allowed!",
          "traceback": [
            "\u001b[0;31m---------------------------------------------------------------------------\u001b[0m",
            "\u001b[0;31mValueError\u001b[0m                                Traceback (most recent call last)",
            "\u001b[0;32m<ipython-input-46-3a6861681e28>\u001b[0m in \u001b[0;36m<cell line: 1>\u001b[0;34m()\u001b[0m\n\u001b[0;32m----> 1\u001b[0;31m \u001b[0mgraph1\u001b[0m\u001b[0;34m.\u001b[0m\u001b[0madd_edge\u001b[0m\u001b[0;34m(\u001b[0m\u001b[0;34m[\u001b[0m\u001b[0;34m\"e\"\u001b[0m\u001b[0;34m,\u001b[0m \u001b[0;34m\"e\"\u001b[0m\u001b[0;34m]\u001b[0m\u001b[0;34m)\u001b[0m \u001b[0;31m# an error\u001b[0m\u001b[0;34m\u001b[0m\u001b[0;34m\u001b[0m\u001b[0m\n\u001b[0m",
            "\u001b[0;32m<ipython-input-23-e1ea93b2127f>\u001b[0m in \u001b[0;36madd_edge\u001b[0;34m(self, edge)\u001b[0m\n\u001b[1;32m    110\u001b[0m         \u001b[0mu\u001b[0m\u001b[0;34m,\u001b[0m \u001b[0mv\u001b[0m \u001b[0;34m=\u001b[0m \u001b[0medge\u001b[0m\u001b[0;34m\u001b[0m\u001b[0;34m\u001b[0m\u001b[0m\n\u001b[1;32m    111\u001b[0m         \u001b[0;32mif\u001b[0m \u001b[0mu\u001b[0m \u001b[0;34m==\u001b[0m \u001b[0mv\u001b[0m\u001b[0;34m:\u001b[0m\u001b[0;34m\u001b[0m\u001b[0;34m\u001b[0m\u001b[0m\n\u001b[0;32m--> 112\u001b[0;31m             \u001b[0;32mraise\u001b[0m \u001b[0mValueError\u001b[0m\u001b[0;34m(\u001b[0m\u001b[0;34m\"Loops are not allowed!\"\u001b[0m\u001b[0;34m)\u001b[0m\u001b[0;34m\u001b[0m\u001b[0;34m\u001b[0m\u001b[0m\n\u001b[0m\u001b[1;32m    113\u001b[0m         \u001b[0mself\u001b[0m\u001b[0;34m.\u001b[0m\u001b[0madd_vertex\u001b[0m\u001b[0;34m(\u001b[0m\u001b[0mu\u001b[0m\u001b[0;34m)\u001b[0m\u001b[0;34m\u001b[0m\u001b[0;34m\u001b[0m\u001b[0m\n\u001b[1;32m    114\u001b[0m         \u001b[0mself\u001b[0m\u001b[0;34m.\u001b[0m\u001b[0madd_vertex\u001b[0m\u001b[0;34m(\u001b[0m\u001b[0mv\u001b[0m\u001b[0;34m)\u001b[0m\u001b[0;34m\u001b[0m\u001b[0;34m\u001b[0m\u001b[0m\n",
            "\u001b[0;31mValueError\u001b[0m: Loops are not allowed!"
          ]
        }
      ]
    },
    {
      "cell_type": "code",
      "source": [
        "graph1.add_arc([\"e\", \"e\"]) # OK - loops are allowed in digraphs\n",
        "print(graph1)"
      ],
      "metadata": {
        "id": "OJsBnowmUdQe",
        "colab": {
          "base_uri": "https://localhost:8080/"
        },
        "outputId": "cad4b791-590c-4830-da51-8ed02d3c6c77"
      },
      "execution_count": 47,
      "outputs": [
        {
          "output_type": "stream",
          "name": "stdout",
          "text": [
            "a: b e\n",
            "b: a c\n",
            "c: b d\n",
            "d: d\n",
            "e: a e\n",
            "\n"
          ]
        }
      ]
    }
  ]
}
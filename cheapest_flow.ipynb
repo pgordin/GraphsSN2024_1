{
  "nbformat": 4,
  "nbformat_minor": 0,
  "metadata": {
    "colab": {
      "provenance": []
    },
    "kernelspec": {
      "name": "python3",
      "display_name": "Python 3"
    },
    "language_info": {
      "name": "python"
    }
  },
  "cells": [
    {
      "cell_type": "markdown",
      "source": [
        "A minimum cost maximum flow of a network (G= (V, E)) is a maximum flow with the smallest possible cost. This problem combines maximum flow (getting as much flow as possible from the source to the sink) with shortest path (reaching from the source to the sink with minimum cost)."
      ],
      "metadata": {
        "id": "-9GP3p0HzycT"
      }
    },
    {
      "cell_type": "markdown",
      "source": [
        "Note that in this alogrithm the shortest path is defined by edge\n",
        "cost (weights), not edge capacity\n",
        "\n",
        "\n",
        "For the unit capacity graph case, we assume that all arcs have unit capacity and that there are no\n",
        "negative cost arcs. Therefore, the value of any flow in the cycle must be less than or equal to n.\n",
        "Given that each augmenting path increases the value of the flow by 1, at most n augmentation steps\n",
        "will suffice in finding the MCF"
      ],
      "metadata": {
        "id": "WQ7DclMTDJeS"
      }
    },
    {
      "cell_type": "code",
      "source": [
        "import numpy as np\n",
        "from random import random, seed, randint\n",
        "from copy import deepcopy\n",
        "from collections import defaultdict, deque"
      ],
      "metadata": {
        "id": "m1eP3urPxR9N"
      },
      "execution_count": 2,
      "outputs": []
    },
    {
      "cell_type": "code",
      "source": [
        "class MinCost:\n",
        "\n",
        "  def __init__(self, n, graph=None):\n",
        "        if graph is None:\n",
        "            graph = {}\n",
        "        self.graph = graph\n",
        "        self.weight = {}  # Dictionary to store weights for arcs\n",
        "        self.capacity = {}\n",
        "        self.n = n\n",
        "        self.adj = defaultdict(list)\n",
        "\n",
        "  def _dict_to_matrix(self, _dict: dict) -> np.array:\n",
        "        \"\"\"\n",
        "        Converts a graph in dict form to its adjacency matrix.\n",
        "        \"\"\"\n",
        "        n = len(_dict)\n",
        "        vertices = [*_dict.keys()]\n",
        "        matrix = np.zeros(shape = (n, n), dtype=int)\n",
        "        for u,v in [\n",
        "            (vertices.index(u), vertices.index(v))\n",
        "            for u, row in _dict.items() for v in row\n",
        "        ]:\n",
        "            matrix[u][v] += 1\n",
        "        return matrix\n",
        "\n",
        "    # Modyfying graphs\n",
        "  def add_vertex(self, vertex):\n",
        "        \"\"\"\n",
        "        Adds a new vertex to the graph.\n",
        "        \"\"\"\n",
        "        if vertex not in self.graph:\n",
        "            self.graph[vertex] = []\n",
        "\n",
        "  def add_arc_wc(self, u, v, weight=None, capacity=None):\n",
        "        \"\"\"\n",
        "        Adds a directed arc to the graph with optional weight and capacity.\n",
        "        \"\"\"\n",
        "        self.graph.setdefault(u, []).append(v)\n",
        "        self.adj[u].append(v)\n",
        "        self.adj[v]  # Ensure v exists in adj\n",
        "        if weight is not None:\n",
        "            self.weight[(u, v)] = weight\n",
        "        if capacity is not None:\n",
        "            self.capacity[(u, v)] = capacity\n",
        "            self.capacity[(v, u)] = 0  # Backward edge with 0 capacity for residual graph\n",
        "\n",
        "\n",
        "  def bellman_ford(self, source, sink):\n",
        "        \"\"\"\n",
        "        Bellman-Ford algorithm to find the shortest path in terms of weights.\n",
        "        Returns distances and the parent map.\n",
        "        \"\"\"\n",
        "        dist = [float('inf')] * self.n\n",
        "        parent = [-1] * self.n\n",
        "        in_queue = [False] * self.n\n",
        "        dist[source] = 0\n",
        "        queue = deque([source])\n",
        "        in_queue[source] = True\n",
        "\n",
        "        while queue:\n",
        "            u = queue.popleft()\n",
        "            in_queue[u] = False\n",
        "            for v in self.adj[u]:\n",
        "                if self.capacity.get((u, v), 0) > 0 and dist[v] > dist[u] + self.weight.get((u, v), 0):\n",
        "                    dist[v] = dist[u] + self.weight.get((u, v), 0)\n",
        "                    parent[v] = u\n",
        "                    if not in_queue[v]:\n",
        "                        queue.append(v)\n",
        "                        in_queue[v] = True\n",
        "\n",
        "        return dist, parent\n",
        "\n",
        "  def min_cost_max_flow(self, source, sink):\n",
        "        \"\"\"\n",
        "        Finds the minimum cost maximum flow in the graph.\n",
        "        Returns the total flow and cost.\n",
        "        \"\"\"\n",
        "        flow = 0\n",
        "        cost = 0\n",
        "        while True:\n",
        "            dist, parent = self.bellman_ford(source, sink)\n",
        "            if dist[sink] == float('inf'):\n",
        "                break\n",
        "\n",
        "            # Find the maximum flow through the path found.\n",
        "            increment_flow = float('inf')\n",
        "            v = sink\n",
        "            while v != source:\n",
        "                u = parent[v]\n",
        "                increment_flow = min(increment_flow, self.capacity[(u, v)])\n",
        "                v = u\n",
        "\n",
        "            # Update capacities and cost.\n",
        "            v = sink\n",
        "            while v != source:\n",
        "                u = parent[v]\n",
        "                self.capacity[(u, v)] -= increment_flow\n",
        "                self.capacity[(v, u)] += increment_flow\n",
        "                cost += increment_flow * self.weight[(u, v)]\n",
        "                v = u\n",
        "\n",
        "            flow += increment_flow\n",
        "\n",
        "        return flow, cost\n",
        "\n",
        "\n",
        "  def min_cost_flow_given_size(self, source, sink, target_flow):\n",
        "      \"\"\"\n",
        "      Finds the minimum cost for a given flow size in the graph.\n",
        "      If the required flow cannot be achieved, raises an exception.\n",
        "      Returns the total flow achieved and its cost.\n",
        "      \"\"\"\n",
        "      flow = 0\n",
        "      cost = 0\n",
        "\n",
        "      while flow < target_flow:\n",
        "\n",
        "        dist, parent = self.bellman_ford(source, sink)\n",
        "        if dist[sink] == float('inf'):\n",
        "            raise ValueError(\"Target flow cannot be achieved: not enough capacity.\")\n",
        "\n",
        "\n",
        "        increment_flow = target_flow - flow\n",
        "        v = sink\n",
        "        while v != source:\n",
        "            u = parent[v]\n",
        "            increment_flow = min(increment_flow, self.capacity[(u, v)])\n",
        "            v = u\n",
        "\n",
        "\n",
        "        v = sink\n",
        "        while v != source:\n",
        "            u = parent[v]\n",
        "            self.capacity[(u, v)] -= increment_flow\n",
        "            self.capacity[(v, u)] += increment_flow\n",
        "            cost += increment_flow * self.weight[(u, v)]\n",
        "            v = u\n",
        "\n",
        "\n",
        "        flow += increment_flow\n",
        "\n",
        "      return flow, cost"
      ],
      "metadata": {
        "id": "yAtz7NkSv3s2"
      },
      "execution_count": 3,
      "outputs": []
    },
    {
      "cell_type": "markdown",
      "source": [
        "###Example of Minimum Cost Maximum Flow"
      ],
      "metadata": {
        "id": "6ofcDcZJy1sX"
      }
    },
    {
      "cell_type": "code",
      "source": [
        "# Example usage:\n",
        "mcmf = MinCost(5)\n",
        "mcmf.add_vertex(0)\n",
        "mcmf.add_vertex(1)\n",
        "mcmf.add_vertex(2)\n",
        "mcmf.add_vertex(3)\n",
        "mcmf.add_vertex(4)\n",
        "\n",
        "mcmf.add_arc_wc(0,1, 5 ,6)\n",
        "mcmf.add_arc_wc(0, 2, 3, 5)\n",
        "mcmf.add_arc_wc(1,2,3,4)\n",
        "mcmf.add_arc_wc(1,3,5,2)\n",
        "mcmf.add_arc_wc(2,3,6,3)\n",
        "mcmf.add_arc_wc(2,4,4,5)\n",
        "mcmf.add_arc_wc(3,4,1,2)\n",
        "mcmf.add_arc_wc(4,1,3,3)"
      ],
      "metadata": {
        "id": "VMu70hVbworK"
      },
      "execution_count": 4,
      "outputs": []
    },
    {
      "cell_type": "code",
      "source": [
        "flow, cost = mcmf.min_cost_max_flow(0, 4)\n",
        "print(f\"Maximum Flow: {flow}, Minimum Cost: {cost}\")"
      ],
      "metadata": {
        "colab": {
          "base_uri": "https://localhost:8080/"
        },
        "id": "HAyTVv9SxYTC",
        "outputId": "6d4c57cb-e6c0-4470-a91b-5a171806b543"
      },
      "execution_count": 5,
      "outputs": [
        {
          "output_type": "stream",
          "name": "stdout",
          "text": [
            "Maximum Flow: 7, Minimum Cost: 57\n"
          ]
        }
      ]
    },
    {
      "cell_type": "code",
      "source": [
        "print(mcmf.weight)\n",
        "print(mcmf.capacity)"
      ],
      "metadata": {
        "colab": {
          "base_uri": "https://localhost:8080/"
        },
        "id": "5FrqAbEVxXj1",
        "outputId": "48426af7-250f-4154-db4a-74c471ab20b4"
      },
      "execution_count": 137,
      "outputs": [
        {
          "output_type": "stream",
          "name": "stdout",
          "text": [
            "{(0, 1): 5, (0, 2): 3, (1, 2): 3, (1, 3): 5, (2, 3): 6, (2, 4): 4, (3, 4): 1, (4, 1): 3}\n",
            "{(0, 1): 2, (1, 0): 4, (0, 2): 0, (2, 0): 5, (1, 2): 0, (2, 1): 4, (1, 3): 2, (3, 1): 0, (2, 3): 3, (3, 2): 0, (2, 4): 5, (4, 2): 0, (3, 4): 2, (4, 3): 0, (4, 1): 3, (1, 4): 0}\n"
          ]
        }
      ]
    },
    {
      "cell_type": "markdown",
      "source": [
        "###Example of Minimum Cost of a given size"
      ],
      "metadata": {
        "id": "K4b7vYkXzBHm"
      }
    },
    {
      "cell_type": "code",
      "source": [
        "#Given size\n",
        "\n",
        "g = MinCost(4)\n",
        "g.add_arc_wc(0, 1, weight=2, capacity=4)\n",
        "g.add_arc_wc(0, 2, weight=2, capacity=7)\n",
        "g.add_arc_wc(1, 2, weight=1, capacity=6)\n",
        "g.add_arc_wc(1, 3, weight=3, capacity=8)\n",
        "g.add_arc_wc(2, 3, weight=1, capacity=5)\n"
      ],
      "metadata": {
        "id": "nktABD9jxtGG"
      },
      "execution_count": 6,
      "outputs": []
    },
    {
      "cell_type": "code",
      "source": [
        "flow, cost = g.min_cost_flow_given_size(0, 3, target_flow=4)\n",
        "print(f\"Achieved Flow: {flow}, Total Cost: {cost}\")"
      ],
      "metadata": {
        "colab": {
          "base_uri": "https://localhost:8080/"
        },
        "id": "HQrJVzy7xbLb",
        "outputId": "26635dd9-c2b0-45be-89ee-32737ee261b4"
      },
      "execution_count": 8,
      "outputs": [
        {
          "output_type": "stream",
          "name": "stdout",
          "text": [
            "Achieved Flow: 4, Total Cost: 12\n"
          ]
        }
      ]
    }
  ]
}
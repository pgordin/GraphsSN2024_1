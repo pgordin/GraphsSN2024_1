{
 "cells": [
  {
   "cell_type": "markdown",
   "metadata": {},
   "source": [
    "# The Maximum Matching Problem.\n",
    "### via Hopcroft Karp Algorithm Approach for Unweighted, Bipartite Graphs.\n",
    "Julia Sucińska 247074"
   ]
  },
  {
   "cell_type": "markdown",
   "metadata": {},
   "source": [
    "### Algorithm Structure\n",
    "1. $M := \\theta$\n",
    "2. repeat\n",
    "    - Use BFS to build an alternating level graph, rooted at unmatched vertices in set A\n",
    "    - Use DFS to find maximal set of vertex disjoint shortest-length paths\n",
    "    - Augment current matching M with maximal set of vertex disjoint shortest-length paths.\n",
    "3. until $P = \\theta$\n",
    "4. return M"
   ]
  },
  {
   "cell_type": "code",
   "execution_count": 3,
   "metadata": {},
   "outputs": [],
   "source": [
    "from collections import deque\n",
    "\n",
    "\n",
    "def hopcroft_karp(graph, A, B):\n",
    "\n",
    "    # initialize the matching dictionary with all vertices unmatched (None).\n",
    "    matching = {u: None for u in A}\n",
    "    matching.update({v: None for v in B})\n",
    "\n",
    "    # initialize the distance dictionary for vertices in A, setting all distances to infinity.\n",
    "    distance = {u: float(\"inf\") for u in A}\n",
    "\n",
    "    def bfs():\n",
    "\n",
    "        queue = deque()  # queue for BFS traversal.\n",
    "\n",
    "        # enqueue all unmatched vertices in A and set their distances to 0.\n",
    "        for u in A:\n",
    "            if matching[u] is None:  # if u is unmatched\n",
    "                distance[u] = 0\n",
    "                queue.append(u)\n",
    "            else:  # if u is matched, set distance to infinity.\n",
    "                distance[u] = float(\"inf\")\n",
    "\n",
    "        found_augmenting_path = (\n",
    "            False  # flag to indicate if we find any augmenting paths.\n",
    "        )\n",
    "\n",
    "        while queue:\n",
    "            u = queue.popleft()  # dequeue the next vertex for processing.\n",
    "\n",
    "            # only process vertices with finite distance.\n",
    "            if distance[u] < float(\"inf\"):\n",
    "                for v in graph[u]:  # check all neighbors of u.\n",
    "                    next_u = matching[v]  # get the vertex matched to v (if any).\n",
    "\n",
    "                    if next_u is None:  # found an augmenting path.\n",
    "                        found_augmenting_path = True\n",
    "                    elif distance[next_u] == float(\n",
    "                        \"inf\"\n",
    "                    ):  # if next_u hasn't been visited.\n",
    "                        distance[next_u] = distance[u] + 1\n",
    "                        queue.append(next_u)\n",
    "\n",
    "        return found_augmenting_path\n",
    "\n",
    "    def dfs(u):\n",
    "\n",
    "        for v in graph[u]:  # explore all neighbors of u.\n",
    "            next_u = matching[v]  # get the vertex matched to v (if any).\n",
    "\n",
    "            # if v is unmatched, or if we can recursively find an augmenting path.\n",
    "            if next_u is None or (distance[next_u] == distance[u] + 1 and dfs(next_u)):\n",
    "                matching[u] = v  # match u with v.\n",
    "                matching[v] = u  # match v with u.\n",
    "                return True\n",
    "\n",
    "        # reset the distance for u if no augmenting path is found.\n",
    "        distance[u] = float(\"inf\")\n",
    "        return False\n",
    "\n",
    "    # main algorithm loop alternates between BFS and DFS to find and extend augmenting paths.\n",
    "    while bfs():\n",
    "        for u in A:\n",
    "            if matching[u] is None:  # start DFS from unmatched vertices in A.\n",
    "                dfs(u)\n",
    "\n",
    "    # filter out unmatched vertices and return the resulting matching.\n",
    "    return {u: v for u, v in matching.items() if v is not None and u in A}"
   ]
  },
  {
   "cell_type": "markdown",
   "metadata": {},
   "source": [
    "### Time Complexity is $O(E\\sqrt{V})$\n"
   ]
  },
  {
   "cell_type": "code",
   "execution_count": null,
   "metadata": {},
   "outputs": [],
   "source": [
    "graph = {\"A\": [\"1\", \"2\", \"4\"], \"B\": [\"1\"], \"C\": [\"2\"], \"D\": [\"1\", \"2\", \"3\", \"4\"]}\n",
    "\n",
    "A = {\"A\", \"B\", \"C\", \"D\"}\n",
    "B = {\"1\", \"2\", \"3\", \"4\"}\n",
    "\n",
    "max_matching = hopcroft_karp(graph, A, B)\n",
    "print(\"Maximum Matching:\", max_matching)"
   ]
  }
 ],
 "metadata": {
  "kernelspec": {
   "display_name": "Python 3",
   "language": "python",
   "name": "python3"
  },
  "language_info": {
   "codemirror_mode": {
    "name": "ipython",
    "version": 3
   },
   "file_extension": ".py",
   "mimetype": "text/x-python",
   "name": "python",
   "nbconvert_exporter": "python",
   "pygments_lexer": "ipython3",
   "version": "3.12.8"
  }
 },
 "nbformat": 4,
 "nbformat_minor": 2
}

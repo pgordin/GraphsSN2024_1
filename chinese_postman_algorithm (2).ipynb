{
  "nbformat": 4,
  "nbformat_minor": 0,
  "metadata": {
    "colab": {
      "provenance": []
    },
    "kernelspec": {
      "name": "python3",
      "display_name": "Python 3"
    },
    "language_info": {
      "name": "python"
    }
  },
  "cells": [
    {
      "cell_type": "markdown",
      "source": [
        "#Chinese postman algorithm\n",
        "###The Chinese Postman Problem is a mathematical problem in graph theory and combinatorial optimization. The goal is to find the shortest closed path or circuit that visits every edge of a connected, undirected graph at least once.\n",
        "● If the graph has an Eulerian circuit, meaning a closed walk that covers every edge exactly once, then that circuit is the optimal solution.\n",
        "\n",
        "● If the graph does not have an Eulerian circuit, then the problem becomes finding the smallest number of edges to duplicate (or the subset of edges with the minimum total weight) so that the resulting multigraph does have an Eulerian circuit.\n",
        "\n",
        "This problem differs from the Traveling Salesman problem because the postman can repeat visited nodes and must visit every edge, whereas the salesman cannot repeat nodes and does not have to visit every edge. The Chinese Postman Problem can be solved in polynomial time, unlike the Traveling Salesman Problem, which is NP-hard."
      ],
      "metadata": {
        "id": "g7fSL5AovJQA"
      }
    },
    {
      "cell_type": "code",
      "source": [
        "import heapq #usage of this library reduces the computational cost of Dijkstra's algorithm\n",
        "import numpy as np"
      ],
      "metadata": {
        "id": "7rJ5J2ELy24F"
      },
      "execution_count": 1,
      "outputs": []
    },
    {
      "cell_type": "code",
      "source": [
        "#graphs on which we are going to test the algorithm\n",
        "graph =                 [[0.0, 4.0, 0.0, 0.0, 0.0, 0.0, 0.0, 8.0, 0.0],\n",
        "                       [4.0, 0.0, 8.0, 0.0, 0.0, 0.0, 0.0, 11.0, 0.0],\n",
        "                        [0.0, 8.0, 0.0, 7.0, 0.0, 4.0, 0.0, 0.0, 2.0],\n",
        "                        [0.0, 0.0, 7.0, 0.0, 9.0, 14.0, 0.0, 0.0, 0.0],\n",
        "                        [0.0, 0.0, 0.0, 9.0, 0.0, 10.0, 0.0, 0.0, 0.0],\n",
        "                        [0.0, 0.0, 4.0, 0.0, 10.0, 0.0, 2.0, 0.0, 0.0],\n",
        "                        [0.0, 0.0, 0.0, 14.0, 0.0, 2.0, 0.0, 1.0, 6.0],\n",
        "                        [8.0, 11.0, 0.0, 0.0, 0.0, 0.0, 1.0, 0.0, 7.0],\n",
        "                        [0.0, 0.0, 2.0, 0.0, 0.0, 0.0, 6.0, 7.0, 0.0]\n",
        "                    ];\n",
        "\n",
        "graph2 =                [[0.0, 3.0, 1.0, 0.0, 5.0, 0.0],\n",
        "                        [3.0, 0.0, 0.0, 1.0, 0.0, 6.0],\n",
        "                        [1.0, 0.0, 0.0, 0.0, 2.0, 0.0],\n",
        "                        [0.0, 1.0, 0.0, 0.0, 0.0, 1.0],\n",
        "                        [5.0, 0.0, 2.0, 0.0, 0.0, 4.0],\n",
        "                        [0.0, 6.0, 0.0, 1.0, 4.0, 0.0],\n",
        "\n",
        "                    ];\n",
        "\n",
        "graph3 = [[0.0,1.0,1.0,1.0,1.0],\n",
        "          [1.0,0.0,1.0,0.0,0.0],\n",
        "          [1.0,1.0,0.0,0.0,0.0],\n",
        "          [1.0,0.0,0.0,0.0,1.0],\n",
        "          [1.0,0.0,0.0,1.0,0.0]]\n",
        "\n"
      ],
      "metadata": {
        "id": "XANuT9DkvGIA"
      },
      "execution_count": 14,
      "outputs": []
    },
    {
      "cell_type": "code",
      "source": [
        "# Validate the graph for adjacency matrix properties and non-negative weights\n",
        "def validate_graph(graph):\n",
        "    \"\"\"Validate the input graph.\"\"\"\n",
        "    if not all(len(row) == len(graph) for row in graph):\n",
        "        raise ValueError(\"Graph must be a square adjacency matrix.\")\n",
        "    if not all(isinstance(weight, (int, float)) and weight >= 0 for row in graph for weight in row):\n",
        "        raise ValueError(\"Graph must contain only non-negative weights.\")\n",
        "\n",
        "# Calculate the total weight of all edges in the graph\n",
        "def sum_edges(graph):\n",
        "    \"\"\"Calculate the total weight of all edges.\"\"\"\n",
        "    return sum(graph[i][j] for i in range(len(graph)) for j in range(i, len(graph)) if graph[i][j] != float('inf'))\n",
        "\n",
        "# Dijkstra's algorithm for finding shortest paths from a source node\n",
        "def dijkstra(graph, source):\n",
        "    \"\"\"Find shortest paths from a source node to all other nodes using Dijkstra's algorithm.\n",
        "    we need it to find the minimum weight perfect matching for pairs of vertices with odd degree\"\"\"\n",
        "    n = len(graph)\n",
        "    distances = [float('inf')] * n\n",
        "    distances[source] = 0\n",
        "    pq = [(0, source)]  # Priority queue as (distance, node)\n",
        "\n",
        "    while pq:\n",
        "        current_dist, current_node = heapq.heappop(pq) #removes from the queue the shortest distace node at each step\n",
        "        if current_dist > distances[current_node]:\n",
        "            continue\n",
        "        for neighbor, weight in enumerate(graph[current_node]):\n",
        "            if weight > 0 and weight != float('inf'):  # Edge exists\n",
        "                distance = current_dist + weight #store the current best match\n",
        "                if distance < distances[neighbor]:\n",
        "                    distances[neighbor] = distance #if the new distance is smaller than previous, update the distanced variable\n",
        "                    heapq.heappush(pq, (distance, neighbor))\n",
        "    return distances\n",
        "\n",
        "# Find all vertices with odd degree\n",
        "def get_odd_vertices(graph):\n",
        "    \"\"\"Find all vertices with odd degree.\"\"\"\n",
        "    degrees = [sum(1 for weight in row if weight > 0 and weight != float('inf')) for row in graph]\n",
        "    return [i for i, degree in enumerate(degrees) if degree % 2 != 0]\n",
        "\n",
        "# Add edges to the graph to make it Eulerian\n",
        "def add_edge(graph, u, v, weight):\n",
        "    \"\"\"Add an edge to the graph (make it symmetric for undirected graphs).\"\"\"\n",
        "    graph[u][v] += weight\n",
        "    graph[v][u] += weight\n",
        "\n",
        "# Hungarian algorithm for finding the minimum weight perfect matching (find the optimal way to pair odd degree edges)\n",
        "def hungarian_algorithm(cost_matrix):\n",
        "    \"\"\"Solve the assignment problem using the Hungarian algorithm.\"\"\"\n",
        "    from scipy.optimize import linear_sum_assignment\n",
        "    cost_matrix = np.array(cost_matrix) #cost_matrix[i][j] represents the cost of pairing vertex i with vertex j, has to be complete\n",
        "    row_ind, col_ind = linear_sum_assignment(cost_matrix) #this library find the optimal assignment for the cost matrix\n",
        "    optimal_assignment = list(zip(row_ind, col_ind)) #stores the indices of optimal assignment\n",
        "    minimum_cost = sum(cost_matrix[r, c] for r, c in optimal_assignment) #cost is calculated by summing the costs of all assigned pairs\n",
        "    return optimal_assignment, minimum_cost\n",
        "\n",
        "# Solve the Chinese Postman Problem\n",
        "def chinese_postman_problem_with_hungarian(graph):\n",
        "    \"\"\"Solve the Chinese Postman Problem using the Hungarian algorithm.\"\"\"\n",
        "    validate_graph(graph)\n",
        "    print(\"Original graph:\")\n",
        "    for row in graph:\n",
        "        print(row)\n",
        "\n",
        "    total_weight = sum_edges(graph)\n",
        "    odd_vertices = get_odd_vertices(graph)\n",
        "    print(\"\\nOdd-degree vertices:\", odd_vertices)\n",
        "\n",
        "    if not odd_vertices:\n",
        "        print(\"\\nThe graph is already Eulerian.\")\n",
        "        return total_weight\n",
        "\n",
        "    # Prepare the cost matrix for the Hungarian algorithm\n",
        "    num_odd_vertices = len(odd_vertices)\n",
        "    cost_matrix = [[float('inf')] * num_odd_vertices for _ in range(num_odd_vertices)]\n",
        "\n",
        "    for i in range(num_odd_vertices):\n",
        "        for j in range(num_odd_vertices):\n",
        "            if i != j:\n",
        "                # Use Dijkstra's algorithm to calculate shortest path between vertices\n",
        "                distances = dijkstra(graph, odd_vertices[i])\n",
        "                cost_matrix[i][j] = distances[odd_vertices[j]]\n",
        "\n",
        "    # Convert the cost matrix to a numpy array\n",
        "    cost_matrix = np.array(cost_matrix)\n",
        "\n",
        "    # Apply the Hungarian algorithm\n",
        "    assignment, added_weight = hungarian_algorithm(cost_matrix)\n",
        "    print(\"\\nMinimum weight matching:\", [(odd_vertices[i], odd_vertices[j]) for i, j in assignment])\n",
        "    print(\"Added weight:\", added_weight)\n",
        "\n",
        "    # Add the matching edges to make the graph Eulerian\n",
        "    for i, j in assignment:\n",
        "        add_edge(graph, odd_vertices[i], odd_vertices[j], cost_matrix[i][j])\n",
        "\n",
        "    print(\"\\nGraph after adding edges:\")\n",
        "    for row in graph:\n",
        "        print(row)\n",
        "\n",
        "    total_weight += added_weight\n",
        "    print(\"\\nTotal weight of the Chinese Postman Circuit:\", total_weight)\n",
        "    return total_weight\n",
        "\n",
        "\n",
        "# Solve the problem\n",
        "chinese_postman_problem_with_hungarian(graph)\n"
      ],
      "metadata": {
        "colab": {
          "base_uri": "https://localhost:8080/"
        },
        "id": "LG2yLGFwXhoU",
        "outputId": "2fdeccaf-9a99-40d4-a2fb-feb2a3b2c9e6"
      },
      "execution_count": 15,
      "outputs": [
        {
          "output_type": "stream",
          "name": "stdout",
          "text": [
            "Original graph:\n",
            "[0.0, 4.0, 0.0, 0.0, 0.0, 0.0, 0.0, 8.0, 0.0]\n",
            "[4.0, 0.0, 8.0, 0.0, 0.0, 0.0, 0.0, 11.0, 0.0]\n",
            "[0.0, 8.0, 0.0, 7.0, 0.0, 4.0, 0.0, 0.0, 2.0]\n",
            "[0.0, 0.0, 7.0, 0.0, 9.0, 14.0, 0.0, 0.0, 0.0]\n",
            "[0.0, 0.0, 0.0, 9.0, 0.0, 10.0, 0.0, 0.0, 0.0]\n",
            "[0.0, 0.0, 4.0, 0.0, 10.0, 0.0, 2.0, 0.0, 0.0]\n",
            "[0.0, 0.0, 0.0, 14.0, 0.0, 2.0, 0.0, 1.0, 6.0]\n",
            "[8.0, 11.0, 0.0, 0.0, 0.0, 0.0, 1.0, 0.0, 7.0]\n",
            "[0.0, 0.0, 2.0, 0.0, 0.0, 0.0, 6.0, 7.0, 0.0]\n",
            "\n",
            "Odd-degree vertices: [1, 3, 5, 8]\n",
            "\n",
            "Minimum weight matching: [(1, 8), (3, 5), (5, 3), (8, 1)]\n",
            "Added weight: 42.0\n",
            "\n",
            "Graph after adding edges:\n",
            "[0.0, 4.0, 0.0, 0.0, 0.0, 0.0, 0.0, 8.0, 0.0]\n",
            "[4.0, 0.0, 8.0, 0.0, 0.0, 0.0, 0.0, 11.0, 20.0]\n",
            "[0.0, 8.0, 0.0, 7.0, 0.0, 4.0, 0.0, 0.0, 2.0]\n",
            "[0.0, 0.0, 7.0, 0.0, 9.0, 36.0, 0.0, 0.0, 0.0]\n",
            "[0.0, 0.0, 0.0, 9.0, 0.0, 10.0, 0.0, 0.0, 0.0]\n",
            "[0.0, 0.0, 4.0, 22.0, 10.0, 0.0, 2.0, 0.0, 0.0]\n",
            "[0.0, 0.0, 0.0, 14.0, 0.0, 2.0, 0.0, 1.0, 6.0]\n",
            "[8.0, 11.0, 0.0, 0.0, 0.0, 0.0, 1.0, 0.0, 7.0]\n",
            "[0.0, 20.0, 2.0, 0.0, 0.0, 0.0, 6.0, 7.0, 0.0]\n",
            "\n",
            "Total weight of the Chinese Postman Circuit: 135.0\n"
          ]
        },
        {
          "output_type": "execute_result",
          "data": {
            "text/plain": [
              "135.0"
            ]
          },
          "metadata": {},
          "execution_count": 15
        }
      ]
    },
    {
      "cell_type": "code",
      "source": [
        "chinese_postman_problem_with_hungarian(graph2)"
      ],
      "metadata": {
        "colab": {
          "base_uri": "https://localhost:8080/"
        },
        "id": "fe9kvC-D2uEV",
        "outputId": "39592a7a-f35d-42ef-8145-96ffbf3834bc"
      },
      "execution_count": 13,
      "outputs": [
        {
          "output_type": "stream",
          "name": "stdout",
          "text": [
            "Original graph:\n",
            "[0.0, 3.0, 1.0, 0.0, 5.0, 0.0]\n",
            "[3.0, 0.0, 0.0, 1.0, 0.0, 6.0]\n",
            "[1.0, 0.0, 0.0, 0.0, 2.0, 0.0]\n",
            "[0.0, 1.0, 0.0, 0.0, 0.0, 1.0]\n",
            "[5.0, 0.0, 2.0, 0.0, 0.0, 4.0]\n",
            "[0.0, 6.0, 0.0, 1.0, 4.0, 0.0]\n",
            "\n",
            "Odd-degree vertices: [0, 1, 4, 5]\n",
            "\n",
            "Minimum weight matching: [(0, 4), (1, 5), (4, 0), (5, 1)]\n",
            "Added weight: 10.0\n",
            "\n",
            "Graph after adding edges:\n",
            "[0.0, 3.0, 1.0, 0.0, 11.0, 0.0]\n",
            "[3.0, 0.0, 0.0, 1.0, 0.0, 10.0]\n",
            "[1.0, 0.0, 0.0, 0.0, 2.0, 0.0]\n",
            "[0.0, 1.0, 0.0, 0.0, 0.0, 1.0]\n",
            "[11.0, 0.0, 2.0, 0.0, 0.0, 4.0]\n",
            "[0.0, 10.0, 0.0, 1.0, 4.0, 0.0]\n",
            "\n",
            "Total weight of the Chinese Postman Circuit: 33.0\n"
          ]
        },
        {
          "output_type": "execute_result",
          "data": {
            "text/plain": [
              "33.0"
            ]
          },
          "metadata": {},
          "execution_count": 13
        }
      ]
    },
    {
      "cell_type": "code",
      "source": [
        "chinese_postman_problem_with_hungarian(graph3)"
      ],
      "metadata": {
        "colab": {
          "base_uri": "https://localhost:8080/"
        },
        "id": "pVbnnth13XLs",
        "outputId": "e08eab02-aeae-4a10-e925-f83a24b0973f"
      },
      "execution_count": 11,
      "outputs": [
        {
          "output_type": "stream",
          "name": "stdout",
          "text": [
            "Original graph:\n",
            "[0.0, 1.0, 1.0, 1.0, 1.0]\n",
            "[1.0, 0.0, 1.0, 0.0, 0.0]\n",
            "[1.0, 1.0, 0.0, 0.0, 0.0]\n",
            "[1.0, 0.0, 0.0, 0.0, 1.0]\n",
            "[1.0, 0.0, 0.0, 1.0, 0.0]\n",
            "\n",
            "Odd-degree vertices: []\n",
            "\n",
            "The graph is already Eulerian.\n"
          ]
        },
        {
          "output_type": "execute_result",
          "data": {
            "text/plain": [
              "6.0"
            ]
          },
          "metadata": {},
          "execution_count": 11
        }
      ]
    }
  ]
}
{
 "cells": [
  {
   "cell_type": "markdown",
   "metadata": {
    "colab_type": "text",
    "id": "view-in-github"
   },
   "source": [
    "<a href=\"https://colab.research.google.com/github/pgordin/GraphsSN2024_1/blob/main/Graphs7.ipynb\" target=\"_parent\"><img src=\"https://colab.research.google.com/assets/colab-badge.svg\" alt=\"Open In Colab\"/></a>"
   ]
  },
  {
   "cell_type": "markdown",
   "metadata": {
    "id": "noHa1UnB6dTl"
   },
   "source": [
    "#Graphs & Social Networks &mdash; lab material\n",
    "This notebook contains a definition of a python class *Graph*, containing functions described during labs."
   ]
  },
  {
   "cell_type": "markdown",
   "metadata": {
    "id": "o6cctVaGKn9n"
   },
   "source": [
    "Package import."
   ]
  },
  {
   "cell_type": "code",
   "execution_count": 1,
   "metadata": {
    "id": "OAkHMz2jKTzm"
   },
   "outputs": [],
   "source": [
    "import numpy as np\n",
    "from random import random, seed\n",
    "from copy import deepcopy\n",
    "from queue import PriorityQueue, deque"
   ]
  },
  {
   "cell_type": "markdown",
   "metadata": {
    "id": "r_QpZWdZCdkX"
   },
   "source": [
    "## Simple functions from the first classes\n",
    "This is left just as an example (to compare the behaviour)."
   ]
  },
  {
   "cell_type": "code",
   "execution_count": 2,
   "metadata": {
    "id": "a5x2lBIQK70Y"
   },
   "outputs": [],
   "source": [
    "def print_matrix(vertices, matrix):\n",
    "  \"\"\"\n",
    "  Printing a graph given by adjacency matrix\n",
    "  \"\"\"\n",
    "  n = len(matrix)\n",
    "  if (vertices is not None) and (len(vertices) == n):\n",
    "    vv = vertices\n",
    "  else:\n",
    "    vv = range(1, n+1)\n",
    "  for i in range(n):\n",
    "    print(vv[i], \":\", end=\"\")\n",
    "    for j in range(n):\n",
    "      if matrix[i, j]:\n",
    "        print(\" \", vv[j], end=\"\")\n",
    "    print(\"\")\n",
    "\n",
    "def print_dict(graph):\n",
    "  \"\"\"\n",
    "  Printing of a graph (given as a dictionary/neighbouring list)\n",
    "  \"\"\"\n",
    "  for v in graph:\n",
    "    print(v, \":\", end=\"\")\n",
    "    for u in graph[v]:\n",
    "      print(\" \", u, end=\"\")\n",
    "    print(\"\")"
   ]
  },
  {
   "cell_type": "markdown",
   "metadata": {
    "id": "2WMNx_ldK23O"
   },
   "source": [
    "## Class *Graph*"
   ]
  },
  {
   "cell_type": "code",
   "execution_count": null,
   "metadata": {
    "id": "GpL6rcH371bJ"
   },
   "outputs": [],
   "source": [
    "class Graph:\n",
    "    def __init__(self, graph=None):\n",
    "        if graph is None:\n",
    "            graph = {}\n",
    "        self.graph = graph\n",
    "\n",
    "    # dict initializer\n",
    "    @classmethod\n",
    "    def from_dict(cls, graph):\n",
    "        return cls(graph)\n",
    "\n",
    "    # array initializer\n",
    "    @classmethod\n",
    "    def from_matrix(cls, matrix, vertices = None):\n",
    "        if (vertices is None) or (len(vertices) != len(matrix)):\n",
    "            vertices = [*range(1, len(matrix) + 1)]\n",
    "        return cls.from_dict(cls._matrix_to_dict(matrix, vertices))\n",
    "\n",
    "    # two private methods matrix <-> dictionaries\n",
    "    def _matrix_to_dict(matrix, vertices: list) -> dict:\n",
    "        \"\"\"\n",
    "        Converts a graph given as an adjacency matrix to a graph in dict form.\n",
    "        \"\"\"\n",
    "        res_dict = {}\n",
    "        for i, v in enumerate(vertices):\n",
    "            neighbours = [vertices[j] for j, edge in enumerate(matrix[i]) if edge]\n",
    "            res_dict[v] = neighbours\n",
    "        return res_dict\n",
    "\n",
    "    def _dict_to_matrix(self, _dict: dict) -> np.array:\n",
    "        \"\"\"\n",
    "        Converts a graph in dict form to its adjacency matrix.\n",
    "        \"\"\"\n",
    "        n = len(_dict)\n",
    "        vertices = [*_dict.keys()]\n",
    "        matrix = np.zeros(shape = (n, n), dtype=int)\n",
    "        for u,v in [\n",
    "            (vertices.index(u), vertices.index(v))\n",
    "            for u, row in _dict.items() for v in row\n",
    "        ]:\n",
    "            matrix[u][v] += 1\n",
    "        return matrix\n",
    "\n",
    "    def vertices(self) -> list:\n",
    "        \"\"\"\n",
    "        Returns list of vertices of the graph.\n",
    "        \"\"\"\n",
    "        return [*self.graph.keys()]\n",
    "\n",
    "    def matrix(self) -> np.array:\n",
    "        \"\"\"\n",
    "        Returns the adjacency matrix of the graph.\n",
    "        \"\"\"\n",
    "        return self._dict_to_matrix(self.graph)\n",
    "\n",
    "    # redefinition of print for objects of class Graph\n",
    "    def __str__(self):\n",
    "        res = \"\"\n",
    "        for v in self.graph:\n",
    "            res += f\"{v}:\"\n",
    "            for u in self.graph[v]:\n",
    "                res += f\" {u}\"\n",
    "            res += \"\\n\"\n",
    "        return res\n",
    "\n",
    "    # The following is for free thanks to the above\n",
    "    def to_neighbourlist(self, filename: str):\n",
    "        \"\"\"\n",
    "        Saves a graphs to a text file as a neighbour dict.\\n\n",
    "        Filename is a file path.\n",
    "        \"\"\"\n",
    "        file = open(filename, \"w\")  # open textfile for writing\n",
    "        file.write(str(self))\n",
    "        file.close()\n",
    "\n",
    "    # Modyfying graphs\n",
    "    def add_vertex(self, vertex):\n",
    "        \"\"\"\n",
    "        Adds a new vertex to the graph.\n",
    "        \"\"\"\n",
    "        if vertex not in self.graph:\n",
    "            self.graph[vertex] = []\n",
    "\n",
    "    def del_vertex(self, vertex):\n",
    "        \"\"\"\n",
    "        Removes a vertex from the graph.\n",
    "        \"\"\"\n",
    "        if vertex in self.graph:\n",
    "            self.graph.pop(vertex)\n",
    "            for u in self.graph:\n",
    "                if vertex in self.graph[u]:\n",
    "                    self.graph[u].remove(vertex)\n",
    "\n",
    "    def add_arc(self, arc):\n",
    "        \"\"\"\n",
    "        Given pair of vertices (arc variable) add an arc to the graph\n",
    "        We consider simple, directed graphs.\n",
    "        \"\"\"\n",
    "        u, v = arc\n",
    "        self.add_vertex(u)\n",
    "        self.add_vertex(v)\n",
    "        if v not in self.graph[u]:\n",
    "            self.graph[u].append(v)\n",
    "\n",
    "    def add_edge(self, edge: list):\n",
    "        \"\"\"\n",
    "        Given pair of vertices (edge variable) add an edge to existing graph.\n",
    "        We consider simple, undirected graphs, as symmetric digraphs without loops.\n",
    "        \"\"\"\n",
    "        u, v = edge\n",
    "        if u == v:\n",
    "            raise ValueError(\"Loops are not allowed!\")\n",
    "        self.add_vertex(u)\n",
    "        self.add_vertex(v)\n",
    "        if v not in self.graph[u]:\n",
    "            self.graph[u].append(v)\n",
    "        if u not in self.graph[v]:\n",
    "            self.graph[v].append(u)\n",
    "\n",
    "    # reading from a file\n",
    "    @staticmethod\n",
    "    def from_edges(filename: str, directed = 0):\n",
    "        \"\"\"\n",
    "        Read the graph from file, that in each line contains either\n",
    "        the description of a vertex (one word) or\n",
    "        the description of an edge/arc (at least 2 words).\n",
    "        The resulting graph is returned as a neighbourhood list.\n",
    "        Variable \"filename\" contains the whole path to the file.\n",
    "        \"\"\"\n",
    "        graph = Graph()\n",
    "        file = open(filename, \"r\")          # open the file to read\n",
    "        for line in file:                   # for each line of the file\n",
    "          words = line.strip().split()      # splits the line into words\n",
    "          if len(words) == 1:               # one word - vertex description\n",
    "            graph.add_vertex(words[0])\n",
    "          elif len(words) >= 2:             # at least two words, first two are the edge description\n",
    "            if directed:\n",
    "              graph.add_arc([words[0], words[1]])\n",
    "            else:\n",
    "              graph.add_edge([words[0], words[1]])\n",
    "        file.close()\n",
    "        return graph\n",
    "\n",
    "    @staticmethod\n",
    "    def random_graph(n: int, p: float):\n",
    "        \"\"\"\n",
    "        Creates a random graph in G(n, p) model.\n",
    "        \"\"\"\n",
    "        rand_graph = Graph()\n",
    "        for i in range(1, n + 1):\n",
    "            rand_graph.add_vertex(i)\n",
    "            for j in range(1, i):\n",
    "                if random() < p:\n",
    "                    rand_graph.add_edge([i, j])\n",
    "        return rand_graph\n",
    "\n",
    "    @staticmethod\n",
    "    def cycle(n: int):\n",
    "        \"\"\"\n",
    "        Creates a cycle C_n on n vertices\n",
    "        \"\"\"\n",
    "        cycle = Graph()\n",
    "        for i in range(n-1):\n",
    "          cycle.add_edge([i+1, i+2])\n",
    "        cycle.add_edge([1, n])\n",
    "        return cycle\n",
    "\n",
    "\n",
    "    def Prufer(self):\n",
    "      \"\"\"\n",
    "      Returns the Prufer code of a tree.\n",
    "      It is necessary that the graph is a tree (it is not checked).\n",
    "      Result is given as a string (empty for trees on 1 or 2 vertices).\n",
    "      \"\"\"\n",
    "      tr = deepcopy(self.graph)   # copy of a tree, as we destroy it\n",
    "      code = \"\"\n",
    "      for i in range(len(self.graph) - 2):\n",
    "        for x in sorted(tr):\n",
    "          if len(tr[x]) == 1:   # least leaf\n",
    "            break\n",
    "        v = tr[x][0]            # the unique neighbour of x\n",
    "        code = code + f\"{v} \"\n",
    "        tr[v].remove(x)         # remove x from neighbours of v\n",
    "        tr.pop(x)               # remove x from the tree\n",
    "      return code.strip()\n",
    "\n",
    "    @staticmethod\n",
    "    def tree_from_Prufer(code: str):\n",
    "        \"\"\"\n",
    "        Creating a tree from a Prufer code.\n",
    "        \"\"\"\n",
    "        tree = Graph()\n",
    "        clist = [int(x) for x in code.strip().split()]   # code as a list of numbers\n",
    "        n = len(clist) + 2                  # number of vertices\n",
    "        vert = [*range(1, n+1)]             # list of numbers 1..n\n",
    "        for v in vert:\n",
    "          tree.add_vertex(v)\n",
    "        for i in range(n-2):\n",
    "          for x in vert:\n",
    "            if not x in clist:    # x - least leaf\n",
    "              break\n",
    "          v = clist.pop(0)    # remove the first element from the code - the neighbour of x\n",
    "          tree.add_edge((x, v))\n",
    "          vert.remove(x)\n",
    "        tree.add_edge(vert)\n",
    "        return tree\n",
    "\n",
    "\n",
    "    def connected_components(self):\n",
    "      \"\"\"\n",
    "      Looks for connected components of undirected graph.\n",
    "      Returns a list of its vertex-sets.\n",
    "      Remark: the first element contains the set of all graph vertices\n",
    "      \"\"\"\n",
    "      def DFS(u):\n",
    "        \"\"\"\n",
    "        Deep first search (as internal method).\n",
    "        \"\"\"\n",
    "        for w in self.graph[u]:\n",
    "          if w not in VT[0]:      # w - not visited yet\n",
    "            VT[0].add(w)          # already visited\n",
    "            VT[-1].add(w)         # w - in the last connected component\n",
    "            DFS(w)\n",
    "\n",
    "      \"\"\"\n",
    "      VT - list of vertex sets VT[i] for i > 0 - is a vertex set of i-th connected component\n",
    "      VT[0] - is a vertex set of the spanning forest (or during the algorithm list of visited vertices).\n",
    "      \"\"\"\n",
    "      VT = [set([])]\n",
    "      for v in self.graph:\n",
    "        if v not in VT[0]:      # v is not visited\n",
    "          VT[0].add(v)\n",
    "          VT.append(set([v]))   # statring point of new conected component\n",
    "          DFS(v)\n",
    "      return VT\n",
    "\n",
    "    def preorder(self, v, visited=None):\n",
    "        # first we print a given vertex, then we traverse the subtree rooted in it\n",
    "        \"\"\"\n",
    "        Prints the vertices of the graph in preorder traversal starting from vertex v.\n",
    "        \"\"\"\n",
    "        if visited is None:\n",
    "            visited = set()\n",
    "\n",
    "        # Visit the current node\n",
    "        visited.add(v)\n",
    "        print(v, end=' ')\n",
    "\n",
    "        # Recursively visit all unvisited neighbors\n",
    "        for neighbor in self.graph[v]:\n",
    "            if neighbor not in visited:\n",
    "                self.preorder(neighbor, visited)\n",
    "\n",
    "\n",
    "    def postorder(self, v, visited=None):\n",
    "        # postorder — first we traverse the subtree rooted a given vertex, then we list the vertex\n",
    "        \"\"\"\n",
    "        Prints the vertices of the graph in postorder traversal starting from vertex v.\n",
    "        \"\"\"\n",
    "        if visited is None:\n",
    "            visited = set()\n",
    "\n",
    "        # Mark the current node as visited\n",
    "        visited.add(v)\n",
    "\n",
    "        # Recursively visit all unvisited neighbors first\n",
    "        for neighbor in self.graph[v]:\n",
    "            if neighbor not in visited:\n",
    "                self.postorder(neighbor, visited)\n",
    "\n",
    "        # Print the current node after visiting its neighbors\n",
    "        print(v, end=' ')\n",
    "\n",
    "\n",
    "    def connected_components_graphs(self):\n",
    "        \"\"\"\n",
    "        Returns a list of Graph objects, each representing a connected component of the original graph.\n",
    "        \"\"\"\n",
    "        components = self.connected_components()  # Get the list of connected components as vertex sets\n",
    "        component_graphs = []\n",
    "\n",
    "        for component in components[1:]:  # Skip the first element as it contains all vertices\n",
    "            subgraph = Graph()            # Create a new Graph instance\n",
    "            for vertex in component:\n",
    "                subgraph.graph[vertex] = self.graph[vertex]\n",
    "#           equivalent\n",
    "#                subgraph.add_vertex(vertex)\n",
    "#                for neighbor in self.graph[vertex]:\n",
    "#                    if neighbor in component:\n",
    "#                        subgraph.add_edge([vertex, neighbor])\n",
    "            component_graphs.append(subgraph)\n",
    "\n",
    "        return component_graphs\n",
    "\n",
    "\n",
    "    def ConnectedComponentsBFS(self):\n",
    "        \"\"\"\n",
    "        Connected components via BFS (homework, improved) - returns list of graphs\n",
    "        \"\"\"\n",
    "        visited = set()  # keep track of visited vertices\n",
    "        components = []  # store connected components\n",
    "\n",
    "        for start_vertex in self.graph:\n",
    "            if start_vertex not in visited:\n",
    "                # if vertex was not visited, create a new component\n",
    "                component = set()\n",
    "                queue = deque([start_vertex])  # BFS queue\n",
    "\n",
    "                while queue:\n",
    "                    vertex = queue.popleft()    # take the vertex from the bottom\n",
    "                    if vertex not in visited:\n",
    "                        visited.add(vertex)\n",
    "                        component.add(vertex)\n",
    "                        # add all unvisited neighbors to the queue\n",
    "                        for neighbor in self.graph[vertex]:\n",
    "                            if neighbor not in visited:\n",
    "                                queue.append(neighbor)\n",
    "                # store the current connected component (as graph)\n",
    "                subgraph = Graph()            # Create a new Graph instance\n",
    "                for vertex in component:\n",
    "                  subgraph.graph[vertex] = self.graph[vertex]\n",
    "                components.append(subgraph)\n",
    "        return components\n",
    "\n",
    "    def ConnectedComponentsGraphs(self):\n",
    "        \"\"\"\n",
    "        Connected components via DFS nonrecursive (homework, corrected) -\n",
    "        returns list connected subgraphs\n",
    "        TODO: testing\n",
    "        \"\"\"\n",
    "        con_com = []\n",
    "        visited = set()\n",
    "\n",
    "        def dfs(v, component):\n",
    "            stack = [v]\n",
    "            while stack:\n",
    "                u = stack.pop()\n",
    "                if u not in visited:\n",
    "                    visited.add(u)\n",
    "                    component[u] = [neighbor for neighbor in self.graph[u] ] # correction: if neighbor not in visited]\n",
    "                    stack.extend(component[u])\n",
    "\n",
    "        # back to the main attraction\n",
    "        for vertex in self.graph:\n",
    "            if vertex not in visited:\n",
    "                component = {}                  # creating a new component as an adj list\n",
    "                dfs(vertex, component)          # find all vertices in this component\n",
    "                con_com.append(Graph.from_dict(component))  #converting to Graph object and append\n",
    "\n",
    "        return con_com\n",
    "\n",
    "\n",
    "    @staticmethod\n",
    "    def random_bipartite_graph(m, n, p):\n",
    "        \"\"\"\n",
    "        Generates a random bipartite graph with m + n vertices.\n",
    "        The two sets U and V have m and n vertices respectively.\n",
    "        Each edge between a vertex in U and a vertex in V is included with probability p.\n",
    "        \"\"\"\n",
    "        bipartite_graph = Graph()\n",
    "        U = [f\"U{i}\" for i in range(1, m + 1)]  # Label vertices in set U as U1, U2, ..., Um\n",
    "        V = [f\"V{i}\" for i in range(1, n + 1)]  # Label vertices in set V as V1, V2, ..., Vn\n",
    "\n",
    "        # Add vertices to the graph\n",
    "        for vertex in U + V:\n",
    "            bipartite_graph.add_vertex(vertex)\n",
    "\n",
    "        # Add edges between vertices in U and V with probability p\n",
    "        for u in U:\n",
    "            for v in V:\n",
    "                if random.random() < p:\n",
    "                    bipartite_graph.add_edge([u, v])\n",
    "\n",
    "        return bipartite_graph\n",
    "\n",
    "\n",
    "    def distance(self, v):\n",
    "      \"\"\"\n",
    "      Computes distances from vertex v to each vertex reachable from v.\n",
    "      It uses a BFS approach.\n",
    "      Result is given as a dictionary of distances\n",
    "      \"\"\"\n",
    "      dist = {v:0}    # starting point of a dictionary\n",
    "      queue = [v]\n",
    "      while len(queue) > 0:\n",
    "        u = queue.pop(0)\n",
    "        for w in self.graph[u]:\n",
    "          if not w in dist:\n",
    "            dist[w] = dist[u] + 1\n",
    "            queue.append(w)\n",
    "      return dist\n",
    "    \n",
    "    def strong_connected_components(self):\n",
    "        \"\"\"\n",
    "        Finds strongly connected components (SCCs) using Kosaraju's algorithm.\n",
    "        Returns a list of strongly connected components, each component is a set of vertices.\n",
    "        \"\"\"\n",
    "        def dfs(v, visited, stack):\n",
    "            visited.add(v)\n",
    "            for neighbor in self.graph[v]:\n",
    "                if neighbor not in visited:\n",
    "                    dfs(neighbor, visited, stack)\n",
    "            stack.append(v)\n",
    "\n",
    "        def reverse_graph():\n",
    "            reversed_graph = Graph()\n",
    "            for v in self.graph:\n",
    "                for neighbor in self.graph[v]:\n",
    "                    reversed_graph.add_arc([neighbor, v])  # Reverse the direction of the edges\n",
    "            return reversed_graph\n",
    "\n",
    "        def dfs_reverse(v, visited, component):\n",
    "            visited.add(v)\n",
    "            component.add(v)\n",
    "            for neighbor in reversed_graph.graph[v]:\n",
    "                if neighbor not in visited:\n",
    "                    dfs_reverse(neighbor, visited, component)\n",
    "\n",
    "        stack = []\n",
    "        visited = set()\n",
    "\n",
    "        for vertex in self.graph:\n",
    "            if vertex not in visited:\n",
    "                dfs(vertex, visited, stack)\n",
    "\n",
    "        reversed_graph = reverse_graph()\n",
    "\n",
    "        visited.clear()\n",
    "        scc_list = []\n",
    "\n",
    "        while stack:\n",
    "            v = stack.pop()\n",
    "            if v not in visited:\n",
    "                component = set()\n",
    "                dfs_reverse(v, visited, component)\n",
    "                scc_list.append(component)\n",
    "\n",
    "        return scc_list"
   ]
  },
  {
   "cell_type": "markdown",
   "metadata": {
    "id": "-YBRlM-Flaio"
   },
   "source": [
    "## Class *WeightedGraph*"
   ]
  },
  {
   "cell_type": "markdown",
   "metadata": {
    "id": "rUteQ9NoAZuh"
   },
   "source": [
    "This class uses two dictionaries: *graph* and *wgraph* that should be consisted. The former contains edge descriptions as a pair $(v, w)$, where $v$ is a neighbouring vertex and $w$ is an edge weight.  \n",
    "\n",
    "TODO:\n",
    "*   creating weighted graph from (ordinary) graph\n",
    "*   creating ordinary graph from weighted one\n",
    "*   checking consistency\n",
    "*   making both dictionaries consistent\n"
   ]
  },
  {
   "cell_type": "code",
   "execution_count": null,
   "metadata": {
    "id": "29mjCR78C6JE"
   },
   "outputs": [],
   "source": [
    "class WeightedGraph(Graph):\n",
    "    def __init__(self, graph=None, wgraph=None):\n",
    "        if wgraph is None:\n",
    "            wgraph = {}\n",
    "        self.wgraph = wgraph\n",
    "        super().__init__(graph)\n",
    "\n",
    "    # redefinition of print for objects of class WeightedGraph\n",
    "    def __str__(self):\n",
    "        res = super().__str__()\n",
    "        res += \"-----------------------\\n\"\n",
    "        for v in self.wgraph:\n",
    "            res += f\"{v}:\"\n",
    "            for u in self.wgraph[v]:\n",
    "                res += f\" {u}\"\n",
    "            res += \"\\n\"\n",
    "        return res\n",
    "\n",
    "    # Modyfying graphs\n",
    "    def add_vertex(self, vertex):\n",
    "        \"\"\"\n",
    "        Adds a new vertex to the graph.\n",
    "        \"\"\"\n",
    "        super().add_vertex(vertex)\n",
    "        if vertex not in self.wgraph:\n",
    "            self.wgraph[vertex] = []\n",
    "\n",
    "    def del_vertex(self, vertex):\n",
    "        \"\"\"\n",
    "        Removes a vertex from the graph. Assumes consistency of both dicts\n",
    "        \"\"\"\n",
    "        if vertex in self.graph:\n",
    "            self.graph.pop(vertex)\n",
    "            self.wgraph.pop(vertex)\n",
    "            for u in self.graph:\n",
    "                if vertex in self.graph[u]:\n",
    "                    self.graph[u].remove(vertex)\n",
    "                    # for weighted list remove by filtering\n",
    "                    self.wgraph[u] = filter(lambda x: x[0] != vertex, self.wgraph[u])\n",
    "\n",
    "    def add_arc(self, arc, weight = 1):\n",
    "        \"\"\"\n",
    "        Given pair of vertices (arc variable) add an arc to the graph\n",
    "        We consider simple, directed graphs.\n",
    "        \"\"\"\n",
    "        u, v = arc\n",
    "        self.add_vertex(u)\n",
    "        self.add_vertex(v)\n",
    "        if v not in self.graph[u]:\n",
    "            self.graph[u].append(v)\n",
    "            self.wgraph[u].append((v, weight))\n",
    "\n",
    "    def add_edge(self, edge: list, weight = 1):\n",
    "        \"\"\"\n",
    "        Given pair of vertices (edge variable) add an edge to existing graph.\n",
    "        We consider simple, undirected graphs, as symmetric digraphs without loops.\n",
    "        \"\"\"\n",
    "        u, v = edge\n",
    "        if u == v:\n",
    "            raise ValueError(\"Loops are not allowed!\")\n",
    "        self.add_vertex(u)\n",
    "        self.add_vertex(v)\n",
    "        if v not in self.graph[u]:\n",
    "            self.graph[u].append(v)\n",
    "            self.wgraph[u].append((v, weight))\n",
    "        if u not in self.graph[v]:\n",
    "            self.graph[v].append(u)\n",
    "            self.wgraph[v].append((u, weight))\n",
    "\n",
    "    # reading from a file\n",
    "    @staticmethod\n",
    "    def from_edges(filename: str, directed = 0):\n",
    "        \"\"\"\n",
    "        Read the graph from file, that in each line contains either\n",
    "        the description of a vertex (one word) or\n",
    "        the description of an edge/arc (2 words) or\n",
    "        the description of an weighted edge/arc (at least 3 words) or\n",
    "        The resulting graph is returned as a neighbourhood list.\n",
    "        Variable \"filename\" contains the whole path to the file.\n",
    "        \"\"\"\n",
    "        graph = WeightedGraph()\n",
    "        file = open(filename, \"r\")          # open the file to read\n",
    "        for line in file:                   # for each line of the file\n",
    "          words = line.strip().split()      # splits the line into words\n",
    "          if len(words) == 1:               # one word - vertex description\n",
    "            graph.add_vertex(words[0])\n",
    "          elif len(words) == 2:             # two words, the edge description\n",
    "            if directed:\n",
    "              graph.add_arc([words[0], words[1]])\n",
    "            else:\n",
    "              graph.add_edge([words[0], words[1]])\n",
    "          elif len(words) >= 3:             # at least three words, first three are the weighted edge description\n",
    "            if directed:\n",
    "              graph.add_arc([words[0], words[1]], int(words[2]))\n",
    "            else:\n",
    "              graph.add_edge([words[0], words[1]], int(words[2]))\n",
    "\n",
    "        file.close()\n",
    "        return graph\n",
    "\n",
    "    def min_spanning_tree(self):\n",
    "      \"\"\"\n",
    "      Jarnik-Prim algorithm\n",
    "      \"\"\"\n",
    "      for v in self.wgraph:   # Choose any vertex of a graph\n",
    "        break\n",
    "      wtree = WeightedGraph({v:[]}, {v:[]})\n",
    "      tweight = 0\n",
    "      q = PriorityQueue()\n",
    "      for (u, w) in self.wgraph[v]:\n",
    "        q.put((w, v, u))\n",
    "      while not q.empty():\n",
    "        (w, v, u) = q.get()\n",
    "        if u not in wtree.graph:\n",
    "          tweight += w\n",
    "          wtree.add_edge((v, u), w)\n",
    "          for (x, w) in self.wgraph[u]:\n",
    "            if not x in wtree.graph:\n",
    "              q.put((w, u, x))\n",
    "      if len(wtree.graph) < len(self.graph):\n",
    "        print(\"Graph is not connected. Returned is a tree for some connected component.\")\n",
    "      return tweight, wtree\n",
    "    \n",
    "    def to_matrix(self):\n",
    "        \"\"\"\n",
    "        Converts the weighted graph to an adjacency matrix.\n",
    "        Each element (i, j) in the matrix represents the weight of the edge from vertex i to vertex j.\n",
    "        \"\"\"\n",
    "        vertices = self.vertices()\n",
    "        n = len(vertices)\n",
    "        matrix = np.inf * np.ones((n, n))  # Set all distances to infinity initially\n",
    "        np.fill_diagonal(matrix, 0)  # Set diagonal to 0 (no distance from a vertex to itself)\n",
    "\n",
    "        for u in self.graph:\n",
    "            u_index = vertices.index(u)\n",
    "            for v, weight in self.wgraph[u]:\n",
    "                v_index = vertices.index(v)\n",
    "                matrix[u_index, v_index] = weight  # Assign the weight to the matrix\n",
    "\n",
    "        return matrix\n",
    "\n",
    "    @staticmethod\n",
    "    def from_matrix(matrix, vertices=None):\n",
    "        \"\"\"\n",
    "        Converts an adjacency matrix back to a weighted graph.\n",
    "        The matrix should have the same structure as returned by `to_matrix`.\n",
    "        \"\"\"\n",
    "        n = len(matrix)\n",
    "        if vertices is None:\n",
    "            vertices = [*range(n)]\n",
    "\n",
    "        wgraph = WeightedGraph()\n",
    "\n",
    "        for i in range(n):\n",
    "            for j in range(n):\n",
    "                if matrix[i, j] != np.inf and i != j:\n",
    "                    wgraph.add_arc([vertices[i], vertices[j]], matrix[i, j])\n",
    "\n",
    "        return wgraph\n",
    "    \n",
    "    def floyd_warshall(self):\n",
    "        \"\"\"\n",
    "        Computes the shortest paths between all pairs of vertices using the Floyd-Warshall algorithm.\n",
    "        Returns a distance matrix where dist[i][j] is the shortest distance from vertex i to vertex j.\n",
    "        \"\"\"\n",
    "\n",
    "        dist_matrix = self.to_matrix()\n",
    "        n = len(dist_matrix)\n",
    "\n",
    "        for k in range(n):\n",
    "            for i in range(n):\n",
    "                for j in range(n):\n",
    "                    if dist_matrix[i, j] > dist_matrix[i, k] + dist_matrix[k, j]:\n",
    "                        dist_matrix[i, j] = dist_matrix[i, k] + dist_matrix[k, j]\n",
    "\n",
    "        return dist_matrix\n",
    "\n"
   ]
  },
  {
   "cell_type": "markdown",
   "metadata": {
    "id": "6_YyQKrIMi_C"
   },
   "source": [
    "## Use of code"
   ]
  },
  {
   "cell_type": "markdown",
   "metadata": {},
   "source": [
    "### Part 7"
   ]
  },
  {
   "cell_type": "code",
   "execution_count": null,
   "metadata": {},
   "outputs": [],
   "source": []
  },
  {
   "cell_type": "markdown",
   "metadata": {
    "id": "GMZZRbNEmEOZ"
   },
   "source": [
    "### Part 6 (Weigthed graphs)"
   ]
  },
  {
   "cell_type": "code",
   "execution_count": 12,
   "metadata": {
    "colab": {
     "base_uri": "https://localhost:8080/"
    },
    "id": "XhSlxUCGFDqV",
    "outputId": "b72b9878-696d-4bfe-914d-4cf130045d81"
   },
   "outputs": [
    {
     "name": "stdout",
     "output_type": "stream",
     "text": [
      "a: b\n",
      "b: a\n",
      "-----------------------\n",
      "a: ('b', 2)\n",
      "b: ('a', 2)\n",
      "\n"
     ]
    }
   ],
   "source": [
    "wgraph = WeightedGraph()\n",
    "wgraph.add_edge((\"a\", \"b\"), 2)\n",
    "\n",
    "print(wgraph)"
   ]
  },
  {
   "cell_type": "code",
   "execution_count": 7,
   "metadata": {
    "colab": {
     "base_uri": "https://localhost:8080/"
    },
    "id": "jxRvfs0ErMM_",
    "outputId": "192ba4e9-829d-4d45-c4a2-26bc282130fe"
   },
   "outputs": [
    {
     "name": "stdout",
     "output_type": "stream",
     "text": [
      "--2024-11-27 23:35:55--  https://github.com/pgordin/GraphsSN2024_1/raw/main/weighted0.txt\n",
      "Resolving github.com (github.com)... 140.82.114.4\n",
      "Connecting to github.com (github.com)|140.82.114.4|:443... connected.\n",
      "HTTP request sent, awaiting response... 302 Found\n",
      "Location: https://raw.githubusercontent.com/pgordin/GraphsSN2024_1/main/weighted0.txt [following]\n",
      "--2024-11-27 23:35:55--  https://raw.githubusercontent.com/pgordin/GraphsSN2024_1/main/weighted0.txt\n",
      "Resolving raw.githubusercontent.com (raw.githubusercontent.com)... 185.199.108.133, 185.199.109.133, 185.199.110.133, ...\n",
      "Connecting to raw.githubusercontent.com (raw.githubusercontent.com)|185.199.108.133|:443... connected.\n",
      "HTTP request sent, awaiting response... 200 OK\n",
      "Length: 99 [text/plain]\n",
      "Saving to: ‘weighted0.txt’\n",
      "\n",
      "weighted0.txt       100%[===================>]      99  --.-KB/s    in 0s      \n",
      "\n",
      "2024-11-27 23:35:56 (4.66 MB/s) - ‘weighted0.txt’ saved [99/99]\n",
      "\n"
     ]
    }
   ],
   "source": [
    "!wget https://github.com/pgordin/GraphsSN2024_1/raw/main/weighted0.txt"
   ]
  },
  {
   "cell_type": "code",
   "execution_count": 8,
   "metadata": {
    "colab": {
     "base_uri": "https://localhost:8080/"
    },
    "id": "sYnSw5QRCt1m",
    "outputId": "57e3ab65-0bf5-44df-a402-80ca81306d42"
   },
   "outputs": [
    {
     "name": "stdout",
     "output_type": "stream",
     "text": [
      "A B 3\n",
      "A E 10\n",
      "B C 26\n",
      "B D 12\n",
      "C D 17\n",
      "C F 13\n",
      "C G 14\n",
      "D E 7\n",
      "D F 15\n",
      "E F 8\n",
      "E H 4\n",
      "F G 9\n",
      "F H 6\n",
      "G H 16\n",
      "G I 11\n"
     ]
    }
   ],
   "source": [
    "%cat weighted0.txt"
   ]
  },
  {
   "cell_type": "code",
   "execution_count": 13,
   "metadata": {
    "colab": {
     "base_uri": "https://localhost:8080/"
    },
    "id": "DyBhb38CIrlX",
    "outputId": "2a70d618-bcbb-4104-b1c5-7d6b189c87ae"
   },
   "outputs": [
    {
     "name": "stdout",
     "output_type": "stream",
     "text": [
      "A: B E\n",
      "B: A C D\n",
      "E: A D F H\n",
      "C: B D F G\n",
      "D: B C E F\n",
      "F: C D E G H\n",
      "G: C F H I\n",
      "H: E F G\n",
      "I: G\n",
      "-----------------------\n",
      "A: ('B', 3) ('E', 10)\n",
      "B: ('A', 3) ('C', 26) ('D', 12)\n",
      "E: ('A', 10) ('D', 7) ('F', 8) ('H', 4)\n",
      "C: ('B', 26) ('D', 17) ('F', 13) ('G', 14)\n",
      "D: ('B', 12) ('C', 17) ('E', 7) ('F', 15)\n",
      "F: ('C', 13) ('D', 15) ('E', 8) ('G', 9) ('H', 6)\n",
      "G: ('C', 14) ('F', 9) ('H', 16) ('I', 11)\n",
      "H: ('E', 4) ('F', 6) ('G', 16)\n",
      "I: ('G', 11)\n",
      "\n"
     ]
    }
   ],
   "source": [
    "wgraph = WeightedGraph.from_edges(\"weighted0.txt\")\n",
    "print(wgraph)"
   ]
  },
  {
   "cell_type": "markdown",
   "metadata": {
    "id": "YSdqHYL2_f5h"
   },
   "source": [
    "Example of vertex removal."
   ]
  },
  {
   "cell_type": "code",
   "execution_count": 14,
   "metadata": {
    "colab": {
     "base_uri": "https://localhost:8080/"
    },
    "id": "rqjB6z02-4Hj",
    "outputId": "49a31803-e33d-4554-b280-990e1150feac"
   },
   "outputs": [
    {
     "name": "stdout",
     "output_type": "stream",
     "text": [
      "A: B E\n",
      "B: A C D\n",
      "E: A D F\n",
      "C: B D F G\n",
      "D: B C E F\n",
      "F: C D E G\n",
      "G: C F I\n",
      "I: G\n",
      "-----------------------\n",
      "A: ('B', 3) ('E', 10)\n",
      "B: ('A', 3) ('C', 26) ('D', 12)\n",
      "E: ('A', 10) ('D', 7) ('F', 8)\n",
      "C: ('B', 26) ('D', 17) ('F', 13) ('G', 14)\n",
      "D: ('B', 12) ('C', 17) ('E', 7) ('F', 15)\n",
      "F: ('C', 13) ('D', 15) ('E', 8) ('G', 9)\n",
      "G: ('C', 14) ('F', 9) ('I', 11)\n",
      "I: ('G', 11)\n",
      "\n"
     ]
    }
   ],
   "source": [
    "wgraph.del_vertex('H')\n",
    "print(wgraph)"
   ]
  },
  {
   "cell_type": "code",
   "execution_count": 15,
   "metadata": {
    "colab": {
     "base_uri": "https://localhost:8080/"
    },
    "id": "_iVRRpiFL4Ji",
    "outputId": "978a518d-7074-4fca-e59d-29b2313d0319"
   },
   "outputs": [
    {
     "name": "stdout",
     "output_type": "stream",
     "text": [
      "Graph is not connected. Returned is a tree for some connected component.\n",
      "71\n",
      "A: B E\n",
      "B: A D\n",
      "E: A\n",
      "D: B F C\n",
      "F: D\n",
      "C: D G\n",
      "G: C\n",
      "-----------------------\n",
      "A: ('B', 3) ('E', 10)\n",
      "B: ('A', 3) ('D', 12)\n",
      "E: ('A', 10)\n",
      "D: ('B', 12) ('F', 15) ('C', 17)\n",
      "F: ('D', 15)\n",
      "C: ('D', 17) ('G', 14)\n",
      "G: ('C', 14)\n",
      "\n"
     ]
    }
   ],
   "source": [
    "w, wtree = wgraph.min_spanning_tree()\n",
    "print(w)\n",
    "print(wtree)"
   ]
  },
  {
   "cell_type": "markdown",
   "metadata": {
    "id": "XzD1OZWFnSvN"
   },
   "source": [
    "### Part 5 (Distances via BFS)"
   ]
  },
  {
   "cell_type": "code",
   "execution_count": null,
   "metadata": {
    "colab": {
     "base_uri": "https://localhost:8080/"
    },
    "id": "LkhbKOXtnays",
    "outputId": "97f808a3-71b3-4742-cadf-810216b2b43f"
   },
   "outputs": [
    {
     "name": "stdout",
     "output_type": "stream",
     "text": [
      "Writing edges.txt\n"
     ]
    }
   ],
   "source": [
    "%%writefile edges.txt\n",
    "1 2\n",
    "1 3\n",
    "1 6\n",
    "2 4\n",
    "2 5\n",
    "3 5\n",
    "3 6\n",
    "3 7\n",
    "4 5\n",
    "4 8\n",
    "5 7\n",
    "7 8"
   ]
  },
  {
   "cell_type": "code",
   "execution_count": null,
   "metadata": {
    "colab": {
     "base_uri": "https://localhost:8080/"
    },
    "id": "luGR6Vk_nztu",
    "outputId": "6bfba953-c6d0-44ce-e588-143a430e64e4"
   },
   "outputs": [
    {
     "name": "stdout",
     "output_type": "stream",
     "text": [
      "1: 2 3 6\n",
      "2: 1 4 5\n",
      "3: 1 5 6 7\n",
      "6: 1 3\n",
      "4: 2 5 8\n",
      "5: 2 3 4 7\n",
      "7: 3 5 8\n",
      "8: 4 7\n",
      "\n"
     ]
    }
   ],
   "source": [
    "graph1 = Graph.from_edges(\"edges.txt\")\n",
    "print(graph1)"
   ]
  },
  {
   "cell_type": "code",
   "execution_count": null,
   "metadata": {
    "colab": {
     "base_uri": "https://localhost:8080/"
    },
    "id": "USQkVScqoBlT",
    "outputId": "79fa96d1-22f1-4877-98d4-8466de88a9b0"
   },
   "outputs": [
    {
     "name": "stdout",
     "output_type": "stream",
     "text": [
      "{'1': 0, '2': 1, '3': 1, '6': 1, '4': 2, '5': 2, '7': 2, '8': 3}\n"
     ]
    }
   ],
   "source": [
    "dist = graph1.distance(\"1\")\n",
    "print(dist)"
   ]
  },
  {
   "cell_type": "markdown",
   "metadata": {
    "id": "bsvgJqGEodrr"
   },
   "source": [
    "#### Milgram's experiment &mdash; Small World Phenomenon\n",
    "\n",
    "We will use graph in $G(n,p)$ (namely $G(2000, 1/300)$) as an illustration."
   ]
  },
  {
   "cell_type": "code",
   "execution_count": 37,
   "metadata": {
    "colab": {
     "base_uri": "https://localhost:8080/"
    },
    "id": "jOOFWpIgoj4U",
    "outputId": "741af031-5f6f-4d0b-9873-62e9d462ad2e"
   },
   "outputs": [
    {
     "name": "stdout",
     "output_type": "stream",
     "text": [
      "1996\n"
     ]
    }
   ],
   "source": [
    "# to obey an issue with recursion depth (provided it happens - for Colab now it does not)\n",
    "import sys\n",
    "\n",
    "n = 2000\n",
    "p = 1/300\n",
    "sys.setrecursionlimit(n+5)\n",
    "\n",
    "rgraph = Graph.random_graph(n, p)\n",
    "graph = rgraph.connected_components_graphs()[0]\n",
    "print(len(graph.vertices()))"
   ]
  },
  {
   "cell_type": "code",
   "execution_count": 38,
   "metadata": {
    "colab": {
     "base_uri": "https://localhost:8080/"
    },
    "id": "cjF1NzzcONcC",
    "outputId": "99683fad-cefc-4031-f617-87137e4a26ec"
   },
   "outputs": [
    {
     "name": "stdout",
     "output_type": "stream",
     "text": [
      "2.59 ms ± 50.7 µs per loop (mean ± std. dev. of 7 runs, 100 loops each)\n"
     ]
    }
   ],
   "source": [
    "%timeit graph = rgraph.connected_components_graphs()[0]"
   ]
  },
  {
   "cell_type": "code",
   "execution_count": 39,
   "metadata": {
    "colab": {
     "base_uri": "https://localhost:8080/"
    },
    "id": "vddOnxpROSrc",
    "outputId": "98f01b71-2987-4c77-e074-4db3660da7e3"
   },
   "outputs": [
    {
     "name": "stdout",
     "output_type": "stream",
     "text": [
      "4.21 ms ± 964 µs per loop (mean ± std. dev. of 7 runs, 100 loops each)\n",
      "1996\n"
     ]
    }
   ],
   "source": [
    "%timeit graph = rgraph.ConnectedComponentsBFS()[0]\n",
    "print(len(graph.vertices()))"
   ]
  },
  {
   "cell_type": "code",
   "execution_count": 41,
   "metadata": {
    "colab": {
     "base_uri": "https://localhost:8080/"
    },
    "id": "_dDdmGRlOfFE",
    "outputId": "87fa51c0-b7ab-46b6-c51b-091e59e6ba81"
   },
   "outputs": [
    {
     "name": "stdout",
     "output_type": "stream",
     "text": [
      "2.98 ms ± 72.1 µs per loop (mean ± std. dev. of 7 runs, 100 loops each)\n",
      "1996\n"
     ]
    }
   ],
   "source": [
    "%timeit graph = rgraph.ConnectedComponentsGraphs()[0]\n",
    "print(len(graph.vertices()))"
   ]
  },
  {
   "cell_type": "code",
   "execution_count": null,
   "metadata": {
    "colab": {
     "base_uri": "https://localhost:8080/"
    },
    "id": "rsHnsv5IrFyN",
    "outputId": "3dc4c672-f945-4337-a40a-8ddb642ee97b"
   },
   "outputs": [
    {
     "name": "stdout",
     "output_type": "stream",
     "text": [
      "Radius:  5 Diameter:  8 Average:  4.243721082154009\n"
     ]
    }
   ],
   "source": [
    "md = {}\n",
    "ecc = {}\n",
    "for v in graph.vertices():\n",
    "  dist = graph.distance(v)\n",
    "  ecc[v] = max(dist.values())\n",
    "  md[v] = sum(dist.values())/len(dist.values())\n",
    "print(\"Radius: \", min(ecc.values()), \"Diameter: \", max(ecc.values()), \"Average: \", sum(md.values())/len(md.values()))"
   ]
  },
  {
   "cell_type": "markdown",
   "metadata": {
    "id": "9LtRwurFnrDe"
   },
   "source": [
    "### Part 4 (Connected components via DFS)"
   ]
  },
  {
   "cell_type": "code",
   "execution_count": 30,
   "metadata": {
    "colab": {
     "base_uri": "https://localhost:8080/"
    },
    "id": "XvUw7GUrnyzu",
    "outputId": "37afe173-818f-48d7-a1d4-db9397580850"
   },
   "outputs": [
    {
     "name": "stdout",
     "output_type": "stream",
     "text": [
      "1: 6\n",
      "2: 5 6 7 8 9 10\n",
      "3: 5 10\n",
      "4:\n",
      "5: 2 3 9 10\n",
      "6: 1 2\n",
      "7: 2 9\n",
      "8: 2\n",
      "9: 2 5 7\n",
      "10: 2 3 5\n",
      "\n"
     ]
    }
   ],
   "source": [
    "graph1 = Graph.random_graph(10, 1/5)\n",
    "print(graph1)"
   ]
  },
  {
   "cell_type": "code",
   "execution_count": 31,
   "metadata": {
    "colab": {
     "base_uri": "https://localhost:8080/"
    },
    "id": "JsEasHHsoEYP",
    "outputId": "a25ccdcd-a4aa-4aa4-ed9a-143816907d3e"
   },
   "outputs": [
    {
     "name": "stdout",
     "output_type": "stream",
     "text": [
      "3\n",
      "[{1, 2, 3, 4, 5, 6, 7, 8, 9, 10}, {1, 2, 3, 5, 6, 7, 8, 9, 10}, {4}]\n"
     ]
    }
   ],
   "source": [
    "print(len(graph1.connected_components()))\n",
    "print(graph1.connected_components())"
   ]
  },
  {
   "cell_type": "code",
   "execution_count": 32,
   "metadata": {
    "colab": {
     "base_uri": "https://localhost:8080/"
    },
    "id": "VaFih_d1joxb",
    "outputId": "28c42cb9-9700-4f1b-acb7-e94940824f0f"
   },
   "outputs": [
    {
     "name": "stdout",
     "output_type": "stream",
     "text": [
      "2\n"
     ]
    }
   ],
   "source": [
    "graphlist = graph1.connected_components_graphs()\n",
    "print(len(graphlist))"
   ]
  },
  {
   "cell_type": "code",
   "execution_count": 33,
   "metadata": {
    "colab": {
     "base_uri": "https://localhost:8080/"
    },
    "id": "0tlFcc9jjzgn",
    "outputId": "e03aadb9-1835-4e6a-fab7-7b6d7bf06516"
   },
   "outputs": [
    {
     "name": "stdout",
     "output_type": "stream",
     "text": [
      "1: 6\n",
      "2: 5 6 7 8 9 10\n",
      "3: 5 10\n",
      "5: 2 3 9 10\n",
      "6: 1 2\n",
      "7: 2 9\n",
      "8: 2\n",
      "9: 2 5 7\n",
      "10: 2 3 5\n",
      "\n"
     ]
    }
   ],
   "source": [
    "print(graphlist[0])"
   ]
  },
  {
   "cell_type": "code",
   "execution_count": 35,
   "metadata": {
    "colab": {
     "base_uri": "https://localhost:8080/"
    },
    "id": "b3DE41X_L3oV",
    "outputId": "380b0031-1a1d-46db-9d64-65ddbd89570a"
   },
   "outputs": [
    {
     "name": "stdout",
     "output_type": "stream",
     "text": [
      "2\n",
      "1: 6\n",
      "2: 5 6 7 8 9 10\n",
      "3: 5 10\n",
      "5: 2 3 9 10\n",
      "6: 1 2\n",
      "7: 2 9\n",
      "8: 2\n",
      "9: 2 5 7\n",
      "10: 2 3 5\n",
      "\n"
     ]
    }
   ],
   "source": [
    "print(len(graph1.ConnectedComponentsBFS()))\n",
    "print(graph1.ConnectedComponentsBFS()[0])"
   ]
  },
  {
   "cell_type": "code",
   "execution_count": 36,
   "metadata": {
    "colab": {
     "base_uri": "https://localhost:8080/"
    },
    "id": "KtaKxW9ZMZpA",
    "outputId": "c467448f-bf71-4201-9401-904b4116ff0d"
   },
   "outputs": [
    {
     "name": "stdout",
     "output_type": "stream",
     "text": [
      "1: 6\n",
      "6: 1 2\n",
      "2: 5 6 7 8 9 10\n",
      "10: 2 3 5\n",
      "5: 2 3 9 10\n",
      "9: 2 5 7\n",
      "7: 2 9\n",
      "3: 5 10\n",
      "8: 2\n",
      "\n"
     ]
    }
   ],
   "source": [
    "print(graph1.ConnectedComponentsGraphs()[0])"
   ]
  },
  {
   "cell_type": "markdown",
   "metadata": {
    "id": "_Li4OSBDrp7K"
   },
   "source": [
    "### Part 3 (Prufer codes)"
   ]
  },
  {
   "cell_type": "code",
   "execution_count": null,
   "metadata": {
    "colab": {
     "base_uri": "https://localhost:8080/"
    },
    "id": "RFG49rSWryaK",
    "outputId": "9136ba2f-28e1-4190-fba4-b6975fdb5c07"
   },
   "outputs": [
    {
     "name": "stdout",
     "output_type": "stream",
     "text": [
      "Writing tree1.txt\n"
     ]
    }
   ],
   "source": [
    "%%writefile tree1.txt\n",
    "1 3\n",
    "3 5\n",
    "2 5\n",
    "4 5\n",
    "6 5"
   ]
  },
  {
   "cell_type": "code",
   "execution_count": null,
   "metadata": {
    "id": "MxM8JOw9sR5_"
   },
   "outputs": [],
   "source": [
    "tree1 = Graph.from_edges(\"tree1.txt\")"
   ]
  },
  {
   "cell_type": "code",
   "execution_count": null,
   "metadata": {
    "colab": {
     "base_uri": "https://localhost:8080/"
    },
    "id": "uFVlsqDesWeX",
    "outputId": "664eb8df-9333-4403-b9de-1f926079ead0"
   },
   "outputs": [
    {
     "name": "stdout",
     "output_type": "stream",
     "text": [
      "1: 3\n",
      "3: 1 5\n",
      "5: 3 2 4 6\n",
      "2: 5\n",
      "4: 5\n",
      "6: 5\n",
      "\n"
     ]
    }
   ],
   "source": [
    "print(tree1)"
   ]
  },
  {
   "cell_type": "code",
   "execution_count": null,
   "metadata": {
    "colab": {
     "base_uri": "https://localhost:8080/"
    },
    "id": "hlcmteDpunm0",
    "outputId": "a10c3054-4cc3-4057-ad20-1a6fe45fa5db"
   },
   "outputs": [
    {
     "name": "stdout",
     "output_type": "stream",
     "text": [
      "3 5 5 5\n"
     ]
    }
   ],
   "source": [
    "print(tree1.Prufer())"
   ]
  },
  {
   "cell_type": "code",
   "execution_count": null,
   "metadata": {
    "colab": {
     "base_uri": "https://localhost:8080/"
    },
    "id": "W13ncK5-xiqO",
    "outputId": "466fcd23-08ae-4541-e3dd-7ec5738cb6d5"
   },
   "outputs": [
    {
     "name": "stdout",
     "output_type": "stream",
     "text": [
      "1: 3\n",
      "2: 5\n",
      "3: 1 5\n",
      "4: 5\n",
      "5: 2 3 4 6\n",
      "6: 5\n",
      "\n"
     ]
    }
   ],
   "source": [
    "print(Graph.tree_from_Prufer(\"3 5 5 5\"))"
   ]
  },
  {
   "cell_type": "code",
   "execution_count": null,
   "metadata": {
    "colab": {
     "base_uri": "https://localhost:8080/"
    },
    "id": "TGyO_yEcxpwm",
    "outputId": "497e0f9c-35c7-4592-ce86-758ea0fc4d33"
   },
   "outputs": [
    {
     "name": "stdout",
     "output_type": "stream",
     "text": [
      "1: 3 6\n",
      "2: 5\n",
      "3: 4 1\n",
      "4: 5 3\n",
      "5: 2 4\n",
      "6: 1\n",
      "\n"
     ]
    }
   ],
   "source": [
    "print(Graph.tree_from_Prufer(\"5 4 3 1\"))"
   ]
  },
  {
   "cell_type": "code",
   "execution_count": null,
   "metadata": {
    "colab": {
     "base_uri": "https://localhost:8080/"
    },
    "id": "kIMXlvKdxzRQ",
    "outputId": "33337376-6b98-43f8-8b73-cb728af140fb"
   },
   "outputs": [
    {
     "name": "stdout",
     "output_type": "stream",
     "text": [
      "1: 4 5 6 2\n",
      "2: 1 3\n",
      "3: 2 7\n",
      "4: 1\n",
      "5: 1\n",
      "6: 1\n",
      "7: 3\n",
      "\n"
     ]
    }
   ],
   "source": [
    "print(Graph.tree_from_Prufer(\"1 1 1 2 3\"))"
   ]
  },
  {
   "cell_type": "markdown",
   "metadata": {
    "id": "8zI4hhs8mnCH"
   },
   "source": [
    "### Part2"
   ]
  },
  {
   "cell_type": "code",
   "execution_count": null,
   "metadata": {
    "colab": {
     "base_uri": "https://localhost:8080/"
    },
    "id": "APWxQBCKmoxT",
    "outputId": "edafb1e5-49ba-4145-85d5-d063350dbb3d"
   },
   "outputs": [
    {
     "name": "stdout",
     "output_type": "stream",
     "text": [
      "Overwriting edges.txt\n"
     ]
    }
   ],
   "source": [
    "%%writefile edges.txt\n",
    "a b\n",
    "b c\n",
    "b d\n",
    "d\n",
    "d c\n",
    "e\n",
    "f\n"
   ]
  },
  {
   "cell_type": "code",
   "execution_count": null,
   "metadata": {
    "colab": {
     "base_uri": "https://localhost:8080/"
    },
    "id": "eR-LAgiBnAPC",
    "outputId": "9193ee15-e8ef-4838-bd40-e51ebfe068b2"
   },
   "outputs": [
    {
     "name": "stdout",
     "output_type": "stream",
     "text": [
      "a b\n",
      "b c\n",
      "b d\n",
      "d\n",
      "d c\n",
      "e\n",
      "f\n"
     ]
    }
   ],
   "source": [
    "%cat edges.txt"
   ]
  },
  {
   "cell_type": "code",
   "execution_count": null,
   "metadata": {
    "colab": {
     "base_uri": "https://localhost:8080/"
    },
    "id": "iMrisHgRnKuO",
    "outputId": "20c3fc4d-e28c-43dc-91bc-f00414dabf9a"
   },
   "outputs": [
    {
     "name": "stdout",
     "output_type": "stream",
     "text": [
      "a: b\n",
      "b: a c d\n",
      "c: b d\n",
      "d: b c\n",
      "e:\n",
      "f:\n",
      "\n"
     ]
    }
   ],
   "source": [
    "graph2 = Graph.from_edges(\"edges.txt\")\n",
    "print(graph2)"
   ]
  },
  {
   "cell_type": "code",
   "execution_count": null,
   "metadata": {
    "id": "r9NGeZi7p1GR"
   },
   "outputs": [],
   "source": [
    "graph2.to_neighbourlist(\"neighbourhood.txt\")"
   ]
  },
  {
   "cell_type": "code",
   "execution_count": null,
   "metadata": {
    "colab": {
     "base_uri": "https://localhost:8080/"
    },
    "id": "nWT3fLVpqHpo",
    "outputId": "93ba03a8-7ac6-40f9-ba40-330c8a625f35"
   },
   "outputs": [
    {
     "name": "stdout",
     "output_type": "stream",
     "text": [
      "a: b\n",
      "b: a c d\n",
      "c: b d\n",
      "d: b c\n",
      "e:\n",
      "f:\n"
     ]
    }
   ],
   "source": [
    "%cat \"neighbourhood.txt\""
   ]
  },
  {
   "cell_type": "code",
   "execution_count": null,
   "metadata": {
    "colab": {
     "base_uri": "https://localhost:8080/"
    },
    "id": "OtKrskF-r81d",
    "outputId": "3de2773f-dd24-4d3a-d087-708785283180"
   },
   "outputs": [
    {
     "name": "stdout",
     "output_type": "stream",
     "text": [
      "--2024-11-21 12:23:07--  https://github.com/pgordin/GraphsSN2024_1/raw/main/weighted0.txt\n",
      "Resolving github.com (github.com)... 140.82.113.4\n",
      "Connecting to github.com (github.com)|140.82.113.4|:443... connected.\n",
      "HTTP request sent, awaiting response... 302 Found\n",
      "Location: https://raw.githubusercontent.com/pgordin/GraphsSN2024_1/main/weighted0.txt [following]\n",
      "--2024-11-21 12:23:07--  https://raw.githubusercontent.com/pgordin/GraphsSN2024_1/main/weighted0.txt\n",
      "Resolving raw.githubusercontent.com (raw.githubusercontent.com)... 185.199.108.133, 185.199.109.133, 185.199.110.133, ...\n",
      "Connecting to raw.githubusercontent.com (raw.githubusercontent.com)|185.199.108.133|:443... connected.\n",
      "HTTP request sent, awaiting response... 200 OK\n",
      "Length: 99 [text/plain]\n",
      "Saving to: ‘weighted0.txt’\n",
      "\n",
      "weighted0.txt       100%[===================>]      99  --.-KB/s    in 0s      \n",
      "\n",
      "2024-11-21 12:23:07 (1.73 MB/s) - ‘weighted0.txt’ saved [99/99]\n",
      "\n"
     ]
    }
   ],
   "source": [
    "!wget https://github.com/pgordin/GraphsSN2024_1/raw/main/weighted0.txt"
   ]
  },
  {
   "cell_type": "code",
   "execution_count": null,
   "metadata": {
    "colab": {
     "base_uri": "https://localhost:8080/"
    },
    "id": "vdKnV3IJsg3U",
    "outputId": "771f8ae7-d315-4672-93dc-04f840dc7300"
   },
   "outputs": [
    {
     "name": "stdout",
     "output_type": "stream",
     "text": [
      "A: B E\n",
      "B: A C D\n",
      "E: A D F H\n",
      "C: B D F G\n",
      "D: B C E F\n",
      "F: C D E G H\n",
      "G: C F H I\n",
      "H: E F G\n",
      "I: G\n",
      "\n"
     ]
    }
   ],
   "source": [
    "graph3 = Graph.from_edges(\"weighted0.txt\")\n",
    "print(graph3)"
   ]
  },
  {
   "cell_type": "code",
   "execution_count": null,
   "metadata": {
    "colab": {
     "base_uri": "https://localhost:8080/"
    },
    "id": "zlrf9llrtDnL",
    "outputId": "5b4a5279-97ef-4aa9-89c1-b6e376741ac9"
   },
   "outputs": [
    {
     "name": "stdout",
     "output_type": "stream",
     "text": [
      "--2024-11-21 11:31:20--  https://raw.githubusercontent.com/pgordin/GraphsSN2024_1/refs/heads/main/weighted0.txt\n",
      "Resolving raw.githubusercontent.com (raw.githubusercontent.com)... 185.199.109.133, 185.199.110.133, 185.199.108.133, ...\n",
      "Connecting to raw.githubusercontent.com (raw.githubusercontent.com)|185.199.109.133|:443... connected.\n",
      "HTTP request sent, awaiting response... 200 OK\n",
      "Length: 99 [text/plain]\n",
      "Saving to: ‘weighted0.txt.1’\n",
      "\n",
      "weighted0.txt.1     100%[===================>]      99  --.-KB/s    in 0s      \n",
      "\n",
      "2024-11-21 11:31:20 (1.57 MB/s) - ‘weighted0.txt.1’ saved [99/99]\n",
      "\n"
     ]
    }
   ],
   "source": [
    "# it works as well\n",
    "!wget https://raw.githubusercontent.com/pgordin/GraphsSN2024_1/refs/heads/main/weighted0.txt"
   ]
  },
  {
   "cell_type": "code",
   "execution_count": null,
   "metadata": {
    "colab": {
     "base_uri": "https://localhost:8080/"
    },
    "id": "zBiLX0N80Lt-",
    "outputId": "3cddb70c-45d7-4c64-9dad-a6944fb4e3f4"
   },
   "outputs": [
    {
     "name": "stdout",
     "output_type": "stream",
     "text": [
      "1: 4 8 9\n",
      "2: 3 7 8 9\n",
      "3: 2 5\n",
      "4: 1 6 7 8 10\n",
      "5: 3 7 10\n",
      "6: 4 10\n",
      "7: 2 4 5 8\n",
      "8: 1 2 4 7 10\n",
      "9: 1 2\n",
      "10: 4 5 6 8\n",
      "\n"
     ]
    }
   ],
   "source": [
    "graph4 = Graph.random_graph(10, 1/3)\n",
    "print(graph4)"
   ]
  },
  {
   "cell_type": "code",
   "execution_count": null,
   "metadata": {
    "colab": {
     "base_uri": "https://localhost:8080/"
    },
    "id": "E_3Xuype0TRP",
    "outputId": "343becb6-3c74-4451-c4bc-c0f9c68d9c3b"
   },
   "outputs": [
    {
     "name": "stdout",
     "output_type": "stream",
     "text": [
      "1: 2 6\n",
      "2: 1 3\n",
      "3: 2 4\n",
      "4: 3 5\n",
      "5: 4 6\n",
      "6: 5 1\n",
      "\n"
     ]
    }
   ],
   "source": [
    "print(Graph.cycle(6))"
   ]
  },
  {
   "cell_type": "markdown",
   "metadata": {
    "id": "M0eanmo5mkjf"
   },
   "source": [
    "### Part1"
   ]
  },
  {
   "cell_type": "code",
   "execution_count": null,
   "metadata": {
    "colab": {
     "base_uri": "https://localhost:8080/"
    },
    "id": "fFt6k4_1MkaO",
    "outputId": "d57e6e2c-f7f8-4d41-8366-eeb4491489c8"
   },
   "outputs": [
    {
     "name": "stdout",
     "output_type": "stream",
     "text": [
      "['a', 'b', 'c', 'd']\n",
      "[[0 1 0 0]\n",
      " [1 0 1 0]\n",
      " [0 1 0 1]\n",
      " [0 0 0 1]]\n",
      "---------------------------\n",
      "a :  b\n",
      "b :  a  c\n",
      "c :  b  d\n",
      "d :  d\n",
      "---------------------------\n",
      "1 :  2\n",
      "2 :  1  3\n",
      "3 :  2  4\n",
      "4 :  4\n"
     ]
    }
   ],
   "source": [
    "vertices = [\"a\", \"b\", \"c\", \"d\"]\n",
    "matrix = np.array([[0,1,0,0],[1,0,1,0],[0,1,0,1],[0,0,0,1]])\n",
    "print(vertices)\n",
    "print(matrix)\n",
    "print(\"---------------------------\")\n",
    "print_matrix(vertices, matrix)\n",
    "print(\"---------------------------\")\n",
    "print_matrix(None,matrix)"
   ]
  },
  {
   "cell_type": "code",
   "execution_count": null,
   "metadata": {
    "colab": {
     "base_uri": "https://localhost:8080/"
    },
    "id": "-WN2GXWRO7a-",
    "outputId": "0c7fe679-fa07-4be4-9943-6a301bff1039"
   },
   "outputs": [
    {
     "name": "stdout",
     "output_type": "stream",
     "text": [
      "{'a': ['b'], 'b': ['a', 'c'], 'c': ['b', 'd'], 'd': ['c']}\n",
      "---------------------------\n",
      "a :  b\n",
      "b :  a  c\n",
      "c :  b  d\n",
      "d :  c\n"
     ]
    }
   ],
   "source": [
    "graph_dict = {\n",
    "  \"a\": [\"b\"],\n",
    "  \"b\": [\"a\", \"c\"],\n",
    "  \"c\": [\"b\", \"d\"],\n",
    "  \"d\": [\"c\"]\n",
    "}\n",
    "print(graph_dict)\n",
    "print(\"---------------------------\")\n",
    "print_dict(graph_dict)"
   ]
  },
  {
   "cell_type": "code",
   "execution_count": null,
   "metadata": {
    "colab": {
     "base_uri": "https://localhost:8080/"
    },
    "id": "X8U18KAaDJzn",
    "outputId": "d7272d9a-14d8-48a5-ee3a-f1085a10a91b"
   },
   "outputs": [
    {
     "name": "stdout",
     "output_type": "stream",
     "text": [
      "a: b\n",
      "b: a c\n",
      "c: b d\n",
      "d: d\n",
      "\n"
     ]
    }
   ],
   "source": [
    "graph1 = Graph.from_matrix(matrix, vertices)\n",
    "print(graph1)"
   ]
  },
  {
   "cell_type": "code",
   "execution_count": null,
   "metadata": {
    "colab": {
     "base_uri": "https://localhost:8080/"
    },
    "id": "Diez_R5gJAvq",
    "outputId": "ce7c6417-d89d-4963-ad5c-94fa9c5e1c3d"
   },
   "outputs": [
    {
     "name": "stdout",
     "output_type": "stream",
     "text": [
      "a: b\n",
      "b: a c\n",
      "c: b d\n",
      "d: c\n",
      "\n"
     ]
    }
   ],
   "source": [
    "print(Graph(graph_dict))  # the same result"
   ]
  },
  {
   "cell_type": "code",
   "execution_count": null,
   "metadata": {
    "colab": {
     "base_uri": "https://localhost:8080/"
    },
    "id": "HFejfq6hP4D6",
    "outputId": "c215818c-d321-4999-ea9e-d7dc1e90e55d"
   },
   "outputs": [
    {
     "name": "stdout",
     "output_type": "stream",
     "text": [
      "['a', 'b', 'c', 'd']\n"
     ]
    }
   ],
   "source": [
    "print(graph1.vertices())"
   ]
  },
  {
   "cell_type": "code",
   "execution_count": null,
   "metadata": {
    "colab": {
     "base_uri": "https://localhost:8080/"
    },
    "id": "f2Tgny4gQF4O",
    "outputId": "32faca36-c636-48f8-f9fd-8ee99ebe1249"
   },
   "outputs": [
    {
     "name": "stdout",
     "output_type": "stream",
     "text": [
      "[[0 1 0 0]\n",
      " [1 0 1 0]\n",
      " [0 1 0 1]\n",
      " [0 0 0 1]]\n"
     ]
    }
   ],
   "source": [
    "print(graph1.matrix())"
   ]
  },
  {
   "cell_type": "code",
   "execution_count": null,
   "metadata": {
    "colab": {
     "base_uri": "https://localhost:8080/"
    },
    "id": "eSNamb6BTulo",
    "outputId": "44aab9b6-d041-49bd-803f-e199b2941c96"
   },
   "outputs": [
    {
     "name": "stdout",
     "output_type": "stream",
     "text": [
      "a: b\n",
      "b: a c\n",
      "c: b d\n",
      "d: d\n",
      "e:\n",
      "\n"
     ]
    }
   ],
   "source": [
    "graph1.add_vertex(\"e\")\n",
    "print(graph1)"
   ]
  },
  {
   "cell_type": "code",
   "execution_count": null,
   "metadata": {
    "colab": {
     "base_uri": "https://localhost:8080/"
    },
    "id": "h20fs6XzT1v3",
    "outputId": "7b2f2c4d-70dc-4a75-b6fd-83954fafa2b9"
   },
   "outputs": [
    {
     "name": "stdout",
     "output_type": "stream",
     "text": [
      "a: b\n",
      "b: a c\n",
      "c: b d\n",
      "d: d\n",
      "e: f\n",
      "f: e\n",
      "\n"
     ]
    }
   ],
   "source": [
    "graph1.add_edge([\"e\", \"f\"])\n",
    "print(graph1)"
   ]
  },
  {
   "cell_type": "code",
   "execution_count": null,
   "metadata": {
    "colab": {
     "base_uri": "https://localhost:8080/"
    },
    "id": "NTRLKliDT9mR",
    "outputId": "c6488ba9-7379-4494-9a73-8e6015edc7d3"
   },
   "outputs": [
    {
     "name": "stdout",
     "output_type": "stream",
     "text": [
      "a: b\n",
      "b: a c\n",
      "c: b d\n",
      "d: d\n",
      "e: f a\n",
      "f: e\n",
      "\n"
     ]
    }
   ],
   "source": [
    "graph1.add_arc([\"e\", \"a\"])  # breaking the symmetry\n",
    "print(graph1)"
   ]
  },
  {
   "cell_type": "code",
   "execution_count": null,
   "metadata": {
    "colab": {
     "base_uri": "https://localhost:8080/"
    },
    "id": "qplimjtMUGPN",
    "outputId": "3549634d-59a3-48ef-b0ca-9795df93dd4c"
   },
   "outputs": [
    {
     "name": "stdout",
     "output_type": "stream",
     "text": [
      "a: b e\n",
      "b: a c\n",
      "c: b d\n",
      "d: d\n",
      "e: f a\n",
      "f: e\n",
      "\n"
     ]
    }
   ],
   "source": [
    "graph1.add_edge([\"e\", \"a\"])  # restoring the symmetry\n",
    "print(graph1)"
   ]
  },
  {
   "cell_type": "code",
   "execution_count": null,
   "metadata": {
    "colab": {
     "base_uri": "https://localhost:8080/"
    },
    "id": "GuEBCTrUUM1V",
    "outputId": "02841edc-3d94-4a17-fdc4-8fc0d6c216c7"
   },
   "outputs": [
    {
     "name": "stdout",
     "output_type": "stream",
     "text": [
      "a: b e\n",
      "b: a c\n",
      "c: b d\n",
      "d: d\n",
      "e: f a\n",
      "f: e\n",
      "\n"
     ]
    }
   ],
   "source": [
    "graph1.add_edge([\"e\", \"f\"]) # do nothing, an edge already exists\n",
    "print(graph1)"
   ]
  },
  {
   "cell_type": "code",
   "execution_count": null,
   "metadata": {
    "colab": {
     "base_uri": "https://localhost:8080/"
    },
    "id": "XLQ1qcCAu7ie",
    "outputId": "b24f43e6-6330-4b6f-b9ae-1af677141c5d"
   },
   "outputs": [
    {
     "name": "stdout",
     "output_type": "stream",
     "text": [
      "a: b e\n",
      "b: a c\n",
      "c: b d\n",
      "d: d\n",
      "e: a\n",
      "\n"
     ]
    }
   ],
   "source": [
    "graph1.del_vertex(\"f\")  # removing a vertex\n",
    "print(graph1)"
   ]
  },
  {
   "cell_type": "code",
   "execution_count": null,
   "metadata": {
    "colab": {
     "base_uri": "https://localhost:8080/",
     "height": 269
    },
    "id": "H16ojmt5UWKW",
    "outputId": "c5c7e19f-fa08-4056-d2f2-14efa854517f"
   },
   "outputs": [
    {
     "ename": "ValueError",
     "evalue": "Loops are not allowed!",
     "output_type": "error",
     "traceback": [
      "\u001b[0;31m---------------------------------------------------------------------------\u001b[0m",
      "\u001b[0;31mValueError\u001b[0m                                Traceback (most recent call last)",
      "\u001b[0;32m<ipython-input-42-3a6861681e28>\u001b[0m in \u001b[0;36m<cell line: 1>\u001b[0;34m()\u001b[0m\n\u001b[0;32m----> 1\u001b[0;31m \u001b[0mgraph1\u001b[0m\u001b[0;34m.\u001b[0m\u001b[0madd_edge\u001b[0m\u001b[0;34m(\u001b[0m\u001b[0;34m[\u001b[0m\u001b[0;34m\"e\"\u001b[0m\u001b[0;34m,\u001b[0m \u001b[0;34m\"e\"\u001b[0m\u001b[0;34m]\u001b[0m\u001b[0;34m)\u001b[0m \u001b[0;31m# an error\u001b[0m\u001b[0;34m\u001b[0m\u001b[0;34m\u001b[0m\u001b[0m\n\u001b[0m",
      "\u001b[0;32m<ipython-input-3-4868f59d073b>\u001b[0m in \u001b[0;36madd_edge\u001b[0;34m(self, edge)\u001b[0m\n\u001b[1;32m    110\u001b[0m         \u001b[0mu\u001b[0m\u001b[0;34m,\u001b[0m \u001b[0mv\u001b[0m \u001b[0;34m=\u001b[0m \u001b[0medge\u001b[0m\u001b[0;34m\u001b[0m\u001b[0;34m\u001b[0m\u001b[0m\n\u001b[1;32m    111\u001b[0m         \u001b[0;32mif\u001b[0m \u001b[0mu\u001b[0m \u001b[0;34m==\u001b[0m \u001b[0mv\u001b[0m\u001b[0;34m:\u001b[0m\u001b[0;34m\u001b[0m\u001b[0;34m\u001b[0m\u001b[0m\n\u001b[0;32m--> 112\u001b[0;31m             \u001b[0;32mraise\u001b[0m \u001b[0mValueError\u001b[0m\u001b[0;34m(\u001b[0m\u001b[0;34m\"Loops are not allowed!\"\u001b[0m\u001b[0;34m)\u001b[0m\u001b[0;34m\u001b[0m\u001b[0;34m\u001b[0m\u001b[0m\n\u001b[0m\u001b[1;32m    113\u001b[0m         \u001b[0mself\u001b[0m\u001b[0;34m.\u001b[0m\u001b[0madd_vertex\u001b[0m\u001b[0;34m(\u001b[0m\u001b[0mu\u001b[0m\u001b[0;34m)\u001b[0m\u001b[0;34m\u001b[0m\u001b[0;34m\u001b[0m\u001b[0m\n\u001b[1;32m    114\u001b[0m         \u001b[0mself\u001b[0m\u001b[0;34m.\u001b[0m\u001b[0madd_vertex\u001b[0m\u001b[0;34m(\u001b[0m\u001b[0mv\u001b[0m\u001b[0;34m)\u001b[0m\u001b[0;34m\u001b[0m\u001b[0;34m\u001b[0m\u001b[0m\n",
      "\u001b[0;31mValueError\u001b[0m: Loops are not allowed!"
     ]
    }
   ],
   "source": [
    "graph1.add_edge([\"e\", \"e\"]) # an error"
   ]
  },
  {
   "cell_type": "code",
   "execution_count": null,
   "metadata": {
    "id": "OJsBnowmUdQe"
   },
   "outputs": [],
   "source": [
    "graph1.add_arc([\"e\", \"e\"]) # OK - loops are allowed in digraphs\n",
    "print(graph1)"
   ]
  },
  {
   "cell_type": "code",
   "execution_count": null,
   "metadata": {
    "id": "sE1ahsXaDUsb"
   },
   "outputs": [],
   "source": [
    "print(Graph.cycle(6))"
   ]
  },
  {
   "cell_type": "code",
   "execution_count": null,
   "metadata": {
    "id": "JWwtyDG7ddQe"
   },
   "outputs": [],
   "source": [
    "#  1. preorder(v) and postorder(v) Functions\n",
    "\n",
    "# In[2]:\n",
    "\n",
    "\n",
    "# In preorder, we visit the current node first, then recursively visit each child node.\n",
    "\n",
    "def preorder(v, tree, visited=None):\n",
    "    if visited is None:\n",
    "        visited = set()\n",
    "    visited.add(v)\n",
    "    print(v, end=' ')\n",
    "    for neighbor in tree[v]:\n",
    "        if neighbor not in visited:\n",
    "            preorder(neighbor, tree, visited)\n",
    "\n",
    "#In postorder, we visit all child nodes before visiting the current node.\n",
    "def postorder(v, tree, visited=None):\n",
    "    if visited is None:\n",
    "        visited = set()\n",
    "    visited.add(v)\n",
    "    for neighbor in tree[v]:\n",
    "        if neighbor not in visited:\n",
    "            postorder(neighbor, tree, visited)\n",
    "    print(v, end=' ')\n",
    "\n",
    "tree = {\n",
    "    1: [2, 3],\n",
    "    2: [4, 5],\n",
    "    3: [],\n",
    "    4: [],\n",
    "    5: []\n",
    "}\n",
    "print(\"Preorder traversal:\")\n",
    "preorder(1, tree)\n",
    "print(\"\\n\")  # Adds a newline for readability\n",
    "\n",
    "print(\"Postorder traversal:\")\n",
    "postorder(1, tree)\n",
    "print(\"\\n\")\n"
   ]
  }
 ],
 "metadata": {
  "colab": {
   "authorship_tag": "ABX9TyM0wjtnGw0smdWRNhf1cBIt",
   "include_colab_link": true,
   "provenance": []
  },
  "kernelspec": {
   "display_name": "mda",
   "language": "python",
   "name": "python3"
  },
  "language_info": {
   "codemirror_mode": {
    "name": "ipython",
    "version": 3
   },
   "file_extension": ".py",
   "mimetype": "text/x-python",
   "name": "python",
   "nbconvert_exporter": "python",
   "pygments_lexer": "ipython3",
   "version": "3.13.0"
  }
 },
 "nbformat": 4,
 "nbformat_minor": 0
}

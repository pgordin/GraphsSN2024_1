{
  "nbformat": 4,
  "nbformat_minor": 0,
  "metadata": {
    "colab": {
      "provenance": [],
      "collapsed_sections": [
        "0xbfO2nckVtv"
      ],
      "include_colab_link": true
    },
    "kernelspec": {
      "name": "python3",
      "display_name": "Python 3"
    },
    "language_info": {
      "name": "python"
    }
  },
  "cells": [
    {
      "cell_type": "markdown",
      "metadata": {
        "id": "view-in-github",
        "colab_type": "text"
      },
      "source": [
        "<a href=\"https://colab.research.google.com/github/pgordin/GraphsSN2024_1/blob/main/Task1_graphs.ipynb\" target=\"_parent\"><img src=\"https://colab.research.google.com/assets/colab-badge.svg\" alt=\"Open In Colab\"/></a>"
      ]
    },
    {
      "cell_type": "code",
      "source": [
        "import numpy as np\n",
        "from random import random, seed"
      ],
      "metadata": {
        "id": "eich7uGsj-oP"
      },
      "execution_count": null,
      "outputs": []
    },
    {
      "cell_type": "markdown",
      "source": [
        "###Functions from classes\n"
      ],
      "metadata": {
        "id": "0xbfO2nckVtv"
      }
    },
    {
      "cell_type": "code",
      "source": [
        "def print_matrix(vertices, matrix):\n",
        "  \"\"\"\n",
        "  Printing a graph given by adjacency matrix\n",
        "  \"\"\"\n",
        "  n = len(matrix)\n",
        "  if (vertices is not None) and (len(vertices) == n):\n",
        "    vv = vertices\n",
        "  else:\n",
        "    vv = range(1, n+1)\n",
        "  for i in range(n):\n",
        "    print(vv[i], \":\", end=\"\")\n",
        "    for j in range(n):\n",
        "      if matrix[i, j]:\n",
        "        print(\" \", vv[j], end=\"\")\n",
        "    print(\"\")\n",
        "\n",
        "def print_graph(graph):\n",
        "  \"\"\"\n",
        "  Printing of a graph (given as a dictionary/neighbouring list)\n",
        "  \"\"\"\n",
        "  for v in graph:\n",
        "    print(v, \":\", end=\"\")\n",
        "    for u in graph[v]:\n",
        "      print(\" \", u, end=\"\")\n",
        "    print(\"\")\n",
        "\n",
        "def add_vertex(graph, vertex):\n",
        "  \"\"\"\n",
        "  Add a new vertex to an existing graph\n",
        "  \"\"\"\n",
        "  if vertex not in graph:\n",
        "    graph[vertex] = []\n",
        "\n",
        "def add_arc(graph, arc):\n",
        "  \"\"\"\n",
        "  Given pair of vertices (arc variable) add an arc to an existing graph\n",
        "  We consider simple, directed graphs.\n",
        "  \"\"\"\n",
        "  u, v = arc\n",
        "  add_vertex(graph, u)\n",
        "  add_vertex(graph, v)\n",
        "  if v not in graph[u]:\n",
        "    graph[u].append(v)\n",
        "\n",
        "def add_edge(graph, edge):\n",
        "  \"\"\"\n",
        "  Given pair of vertices (edge variable) add an edge to existing graph.\n",
        "  We consider simple, undirected graphs, as symmetric digraphs without loops.\n",
        "  \"\"\"\n",
        "  u, v = edge\n",
        "  add_vertex(graph, u)\n",
        "  add_vertex(graph, v)\n",
        "  if u == v:\n",
        "    raise ValueError(\"A loop created!\")\n",
        "  if v not in graph[u]:\n",
        "    graph[u].append(v)\n",
        "  if u not in graph[v]:\n",
        "    graph[v].append(u)"
      ],
      "metadata": {
        "id": "5wJKqwIukQmH"
      },
      "execution_count": null,
      "outputs": []
    },
    {
      "cell_type": "markdown",
      "source": [
        "#Task"
      ],
      "metadata": {
        "id": "qhxREZoykaA3"
      }
    },
    {
      "cell_type": "code",
      "source": [
        "seed(2024)"
      ],
      "metadata": {
        "id": "BOhsHoCdknVP"
      },
      "execution_count": null,
      "outputs": []
    },
    {
      "cell_type": "code",
      "execution_count": null,
      "metadata": {
        "colab": {
          "base_uri": "https://localhost:8080/"
        },
        "id": "GaSWJ2bjj6f8",
        "outputId": "8a5c2fb0-858e-475e-de6e-1f3ecf31392d"
      },
      "outputs": [
        {
          "output_type": "stream",
          "name": "stdout",
          "text": [
            "0 :  4  9\n",
            "1 :  2  4  8  9\n",
            "2 :  1  7\n",
            "3 :  5  6  7  9\n",
            "4 :  0  1  9\n",
            "5 :  3  7  9\n",
            "6 :  3  8  9\n",
            "7 :  2  3  5\n",
            "8 :  1  6\n",
            "9 :  0  1  3  4  5  6\n"
          ]
        }
      ],
      "source": [
        "def random_graph(n, p):\n",
        "    random_graph = {}\n",
        "    for i in range(0, n):\n",
        "        add_vertex(random_graph, i)\n",
        "        for j in range(0, i):\n",
        "            if random() < p:\n",
        "                add_edge(random_graph, [i, j])\n",
        "    return random_graph\n",
        "\n",
        "graph = random_graph(10, 1/3)\n",
        "print_graph(graph)"
      ]
    },
    {
      "cell_type": "code",
      "source": [
        "def adjacency_matrix_to_dict(adj_matrix):\n",
        "    \"\"\"\n",
        "    Converts an adjacency matrix to a dictionary representation of a graph.\n",
        "    \"\"\"\n",
        "    graph_dict = {}\n",
        "\n",
        "    for i, row in enumerate(adj_matrix):\n",
        "        graph_dict[i] = [j for j, val in enumerate(row) if val == 1]\n",
        "\n",
        "    return graph_dict"
      ],
      "metadata": {
        "id": "Ww5hzKzKkIM5"
      },
      "execution_count": null,
      "outputs": []
    },
    {
      "cell_type": "code",
      "source": [
        "def dict_to_adjacency_matrix(graph_dict):\n",
        "    \"\"\"\n",
        "    Converts a dictionary representation of a graph to an adjacency matrix.\n",
        "    Works for matrices numered from 0 to n-1.\n",
        "    \"\"\"\n",
        "    n = len(graph_dict)\n",
        "\n",
        "    adj_matrix = np.zeros((n, n), dtype=int)\n",
        "\n",
        "    # Populate the adjacency matrix\n",
        "    for node, neighbors in graph_dict.items():\n",
        "        for neighbor in neighbors:\n",
        "            adj_matrix[node][neighbor] = 1\n",
        "\n",
        "    return adj_matrix"
      ],
      "metadata": {
        "id": "NA_3eDfClx_Y"
      },
      "execution_count": null,
      "outputs": []
    },
    {
      "cell_type": "code",
      "source": [
        "graph_adj = dict_to_adjacency_matrix(graph)\n",
        "print(graph_adj)\n",
        "graph_dict = adjacency_matrix_to_dict(graph_adj)\n",
        "print(graph_dict)"
      ],
      "metadata": {
        "colab": {
          "base_uri": "https://localhost:8080/"
        },
        "id": "AH336fysl0JX",
        "outputId": "e7116005-ded1-479f-b2f3-331b8f06aef2"
      },
      "execution_count": null,
      "outputs": [
        {
          "output_type": "stream",
          "name": "stdout",
          "text": [
            "[[0 0 0 0 1 0 0 0 0 1]\n",
            " [0 0 1 0 1 0 0 0 1 1]\n",
            " [0 1 0 0 0 0 0 1 0 0]\n",
            " [0 0 0 0 0 1 1 1 0 1]\n",
            " [1 1 0 0 0 0 0 0 0 1]\n",
            " [0 0 0 1 0 0 0 1 0 1]\n",
            " [0 0 0 1 0 0 0 0 1 1]\n",
            " [0 0 1 1 0 1 0 0 0 0]\n",
            " [0 1 0 0 0 0 1 0 0 0]\n",
            " [1 1 0 1 1 1 1 0 0 0]]\n",
            "{0: [4, 9], 1: [2, 4, 8, 9], 2: [1, 7], 3: [5, 6, 7, 9], 4: [0, 1, 9], 5: [3, 7, 9], 6: [3, 8, 9], 7: [2, 3, 5], 8: [1, 6], 9: [0, 1, 3, 4, 5, 6]}\n"
          ]
        }
      ]
    },
    {
      "cell_type": "code",
      "source": [
        "def cycle(n):\n",
        "    \"\"\"\n",
        "    Creates an adjacency matrix for a cycle graph with n vertices.\n",
        "    \"\"\"\n",
        "\n",
        "    adj_matrix = np.zeros((n, n), dtype=int)\n",
        "\n",
        "    for i in range(n):\n",
        "        if i > 0:\n",
        "            adj_matrix[i][i - 1] = 1\n",
        "            adj_matrix[i - 1][i] = 1\n",
        "\n",
        "    adj_matrix[0][n - 1] = 1\n",
        "    adj_matrix[n - 1][0] = 1\n",
        "\n",
        "    return adj_matrix\n",
        "\n",
        "cycle_graph = cycle(4)\n",
        "print(cycle_graph)\n"
      ],
      "metadata": {
        "colab": {
          "base_uri": "https://localhost:8080/"
        },
        "id": "yuP-kgxFmRzn",
        "outputId": "81feb04f-40e0-4e7d-eee3-63dbfcc7543f"
      },
      "execution_count": null,
      "outputs": [
        {
          "output_type": "stream",
          "name": "stdout",
          "text": [
            "[[0 1 0 1]\n",
            " [1 0 1 0]\n",
            " [0 1 0 1]\n",
            " [1 0 1 0]]\n"
          ]
        }
      ]
    }
  ]
}